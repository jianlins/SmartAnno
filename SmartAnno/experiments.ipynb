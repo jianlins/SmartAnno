{
 "cells": [
  {
   "cell_type": "code",
   "execution_count": 38,
   "metadata": {
    "nbpresent": {
     "id": "ac20f70e-270b-4ebe-9da7-f10415cb9322"
    }
   },
   "outputs": [],
   "source": [
    "import ipywidgets as widgets\n",
    "\n",
    "def navigate(b):\n",
    "    b.run()\n",
    "    \n",
    "def run(*x):\n",
    "    print('dddd')\n",
    "    \n",
    "b=widgets.Button(description='d', layout=widgets.Layout(width='90px', left='100px')) \n",
    "b.run=run\n",
    "b.on_click(navigate)\n",
    "\n"
   ]
  },
  {
   "cell_type": "code",
   "execution_count": 39,
   "metadata": {},
   "outputs": [
    {
     "data": {
      "application/vnd.jupyter.widget-view+json": {
       "model_id": "2400c8435fcf4478be008e112d40e636",
       "version_major": 2,
       "version_minor": 0
      },
      "text/html": [
       "<p>Failed to display Jupyter Widget of type <code>Button</code>.</p>\n",
       "<p>\n",
       "  If you're reading this message in the Jupyter Notebook or JupyterLab Notebook, it may mean\n",
       "  that the widgets JavaScript is still loading. If this message persists, it\n",
       "  likely means that the widgets JavaScript library is either not installed or\n",
       "  not enabled. See the <a href=\"https://ipywidgets.readthedocs.io/en/stable/user_install.html\">Jupyter\n",
       "  Widgets Documentation</a> for setup instructions.\n",
       "</p>\n",
       "<p>\n",
       "  If you're reading this message in another frontend (for example, a static\n",
       "  rendering on GitHub or <a href=\"https://nbviewer.jupyter.org/\">NBViewer</a>),\n",
       "  it may mean that your frontend doesn't currently support widgets.\n",
       "</p>\n"
      ],
      "text/plain": [
       "Button(description='d', layout=Layout(left='100px', width='90px'), style=ButtonStyle())"
      ]
     },
     "metadata": {},
     "output_type": "display_data"
    },
    {
     "name": "stdout",
     "output_type": "stream",
     "text": [
      "dddd\n"
     ]
    }
   ],
   "source": [
    "b"
   ]
  },
  {
   "cell_type": "code",
   "execution_count": 2,
   "metadata": {},
   "outputs": [],
   "source": [
    "import xml.etree.ElementTree as ET\n",
    "textnodes=None\n",
    "with open('/home/brokenjade/Documents/N2C2/train/100.xml') as f:\n",
    "    text = f.read()\n",
    "    tree = ET.fromstring(text)\n",
    "    textnodes = tree.find(\"TAGS\")"
   ]
  },
  {
   "cell_type": "code",
   "execution_count": 8,
   "metadata": {},
   "outputs": [
    {
     "data": {
      "text/plain": [
       "'not met'"
      ]
     },
     "execution_count": 8,
     "metadata": {},
     "output_type": "execute_result"
    }
   ],
   "source": [
    "ele=textnodes.getchildren()[0]\n",
    "ele.tag\n",
    "ele.attrib['met']"
   ]
  },
  {
   "cell_type": "code",
   "execution_count": 12,
   "metadata": {},
   "outputs": [
    {
     "data": {
      "text/plain": [
       "['ABDOMINAL_NOT_MET',\n",
       " 'ADVANCED_CAD_MET',\n",
       " 'ALCOHOL_ABUSE_NOT_MET',\n",
       " 'ASP_FOR_MI_MET',\n",
       " 'CREATININE_NOT_MET',\n",
       " 'DIETSUPP_2MOS_MET',\n",
       " 'DRUG_ABUSE_NOT_MET',\n",
       " 'ENGLISH_MET',\n",
       " 'HBA1C_NOT_MET',\n",
       " 'KETO_1YR_NOT_MET',\n",
       " 'MAJOR_DIABETES_MET',\n",
       " 'MAKES_DECISIONS_MET',\n",
       " 'MI_6MOS_MET']"
      ]
     },
     "execution_count": 12,
     "metadata": {},
     "output_type": "execute_result"
    }
   ],
   "source": [
    "[ele.tag.replace('-','_').replace(' ','_')+'_'+ele.attrib['met'].upper().replace(' ','_') for ele in textnodes.getchildren()]"
   ]
  },
  {
   "cell_type": "code",
   "execution_count": 13,
   "metadata": {},
   "outputs": [
    {
     "name": "stdout",
     "output_type": "stream",
     "text": [
      "Sentence(0-136):\tIf you're reading this message in the Jupyter Notebook or JupyterLab Notebook, it may mean that the widgets JavaScript is still loading.\n",
      "Sentence(137-254):\tIf this message persists, it likely means that the widgets JavaScript library is either not installed or not enabled.\n",
      "Sentence(255-316):\tSee the Jupyter Widgets Documentation for setup instructions.\n"
     ]
    }
   ],
   "source": [
    "from textblob import TextBlob\n",
    "blob = TextBlob('''If you're reading this message in the Jupyter Notebook or JupyterLab Notebook, it may mean that the widgets JavaScript is still loading. If this message persists, it likely means that the widgets JavaScript library is either not installed or not enabled. See the Jupyter Widgets Documentation for setup instructions. ''')\n",
    "for s in blob.sentences:    \n",
    " print(\"Sentence({}-{}):\\t{}\".format(s.start, s.end,s))"
   ]
  },
  {
   "cell_type": "code",
   "execution_count": 16,
   "metadata": {},
   "outputs": [
    {
     "data": {
      "text/plain": [
       "\"If you're reading this message in the Jupyter Notebook or JupyterLab Notebook, it may mean that the widgets JavaScript is still loading.\""
      ]
     },
     "execution_count": 16,
     "metadata": {},
     "output_type": "execute_result"
    }
   ],
   "source": [
    "blob.sentences[0].string"
   ]
  },
  {
   "cell_type": "code",
   "execution_count": 33,
   "metadata": {},
   "outputs": [],
   "source": [
    "cond=Conditions(options=['step1','step2','step3','step4'],condition_steps=[workflow.steps[0],workflow.steps[1],workflow.steps[2],workflow.steps[3]])\n",
    "cond.start()"
   ]
  }
 ],
 "metadata": {
  "kernelspec": {
   "display_name": "Python [default]",
   "language": "python",
   "name": "python3"
  },
  "language_info": {
   "codemirror_mode": {
    "name": "ipython",
    "version": 3
   },
   "file_extension": ".py",
   "mimetype": "text/x-python",
   "name": "python",
   "nbconvert_exporter": "python",
   "pygments_lexer": "ipython3",
   "version": "3.6.3"
  }
 },
 "nbformat": 4,
 "nbformat_minor": 2
}
