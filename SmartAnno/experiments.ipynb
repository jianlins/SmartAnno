{
 "cells": [
  {
   "cell_type": "code",
   "execution_count": 38,
   "metadata": {
    "nbpresent": {
     "id": "ac20f70e-270b-4ebe-9da7-f10415cb9322"
    }
   },
   "outputs": [],
   "source": [
    "import ipywidgets as widgets\n",
    "\n",
    "def navigate(b):\n",
    "    b.run()\n",
    "    \n",
    "def run(*x):\n",
    "    print('dddd')\n",
    "    \n",
    "b=widgets.Button(description='d', layout=widgets.Layout(width='90px', left='100px')) \n",
    "b.run=run\n",
    "b.on_click(navigate)\n",
    "\n"
   ]
  },
  {
   "cell_type": "code",
   "execution_count": 19,
   "metadata": {},
   "outputs": [
    {
     "name": "stdout",
     "output_type": "stream",
     "text": [
      "122917\n"
     ]
    }
   ],
   "source": [
    "import sqlalchemy_dao\n",
    "from sqlalchemy_dao import Dao\n",
    "from sqlalchemy import or_, func\n",
    "from db.ORMs import Document\n",
    "all_contain_ids=[]\n",
    "dao = Dao('sqlite+pysqlite:///data/test.sqlite', sqlalchemy_dao.POOL_DISABLED)\n",
    "with dao.create_session() as session:\n",
    "        res = session.query(func.count(Document.DOC_NAME)).filter(Document.DATASET_ID == 'n2c2_sents') \\\n",
    "            .filter(Document.DOC_ID.notin_(all_contain_ids)).scalar()\n",
    "        print(res)"
   ]
  },
  {
   "cell_type": "code",
   "execution_count": 20,
   "metadata": {},
   "outputs": [
    {
     "data": {
      "text/plain": [
       "int"
      ]
     },
     "execution_count": 20,
     "metadata": {},
     "output_type": "execute_result"
    }
   ],
   "source": [
    "i=0\n",
    "type(i)"
   ]
  },
  {
   "cell_type": "code",
   "execution_count": null,
   "metadata": {},
   "outputs": [],
   "source": []
  }
 ],
 "metadata": {
  "kernelspec": {
   "display_name": "Python [default]",
   "language": "python",
   "name": "python3"
  },
  "language_info": {
   "codemirror_mode": {
    "name": "ipython",
    "version": 3
   },
   "file_extension": ".py",
   "mimetype": "text/x-python",
   "name": "python",
   "nbconvert_exporter": "python",
   "pygments_lexer": "ipython3",
   "version": "3.6.3"
  }
 },
 "nbformat": 4,
 "nbformat_minor": 2
}
