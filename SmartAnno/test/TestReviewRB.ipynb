{
 "cells": [
  {
   "cell_type": "code",
   "execution_count": 1,
   "metadata": {},
   "outputs": [
    {
     "data": {
      "application/vnd.jupyter.widget-view+json": {
       "model_id": "b0b747697bf841d1a9096ff4416795d2",
       "version_major": 2,
       "version_minor": 0
      },
      "text/html": [
       "<p>Failed to display Jupyter Widget of type <code>ToggleButtonsMultiSelectionInBox</code>.</p>\n",
       "<p>\n",
       "  If you're reading this message in the Jupyter Notebook or JupyterLab Notebook, it may mean\n",
       "  that the widgets JavaScript is still loading. If this message persists, it\n",
       "  likely means that the widgets JavaScript library is either not installed or\n",
       "  not enabled. See the <a href=\"https://ipywidgets.readthedocs.io/en/stable/user_install.html\">Jupyter\n",
       "  Widgets Documentation</a> for setup instructions.\n",
       "</p>\n",
       "<p>\n",
       "  If you're reading this message in another frontend (for example, a static\n",
       "  rendering on GitHub or <a href=\"https://nbviewer.jupyter.org/\">NBViewer</a>),\n",
       "  it may mean that your frontend doesn't currently support widgets.\n",
       "</p>\n"
      ],
      "text/plain": [
       "ToggleButtonsMultiSelectionInBox(children=(VBox(layout=Layout(display='flex')),), _dom_classes=('btn-group',))"
      ]
     },
     "metadata": {},
     "output_type": "display_data"
    }
   ],
   "source": [
    "from utils.ReviewRBInit import ReviewRBInit\n",
    "from utils.ReviewRBLoop import ReviewRBLoop\n",
    "from utils.ReviewMLInit import ReviewMLInit\n",
    "from utils.ReviewMLLoop import ReviewMLLoop\n",
    "from gui.Workflow import Workflow\n",
    "from sqlalchemy_dao import Dao\n",
    "from db.ORMs import Document\n",
    "from utils.IntroStep import IntroStep\n",
    "from gui.PreviousNextWidgets import PreviousNextHTML\n",
    "import sqlalchemy_dao\n",
    "import os\n",
    "from  conf.ConfigReader import ConfigReader\n",
    "from models.logistic.LogisticBOWClassifier import LogisticBOWClassifier\n",
    "\n",
    "import logging\n",
    "logging.getLogger().setLevel(logging.DEBUG)\n",
    "\n",
    "ConfigReader('../conf/smartanno_conf.json')\n",
    "wf=Workflow()\n",
    "rb=ReviewRBInit(name=\"rb_review_init\")\n",
    "wf.append(rb)\n",
    "rv = ReviewRBLoop(name='rb_review', rush_rule='../conf/rush_rules.tsv')\n",
    "wf.append(rv)\n",
    "wf.append(PreviousNextHTML('<h2>Congratuations!</h2><h4>You have finished the initial review on the rule-base preannotations. </h4>',\n",
    "                       name='intro'))\n",
    "wf.append(ReviewMLInit(name='ml_review_init'))\n",
    "wf.append(ReviewMLLoop(name='ml_review',ml_classifier_cls=LogisticBOWClassifier))\n",
    "\n",
    "wf.filters={'Eng':['heart'],'NotEng':['exam']}\n",
    "wf.types=['TypeA','TypeB']\n",
    "wf.task_id=1\n",
    "wf.umls_extended={}\n",
    "wf.we_extended={}\n",
    "wf.dao=Dao('sqlite+pysqlite:///../data/demo.sqlite', sqlalchemy_dao.POOL_DISABLED)"
   ]
  },
  {
   "cell_type": "code",
   "execution_count": 3,
   "metadata": {},
   "outputs": [
    {
     "data": {
      "application/vnd.jupyter.widget-view+json": {
       "model_id": "be4cc076123f47cf816690ce41baa170",
       "version_major": 2,
       "version_minor": 0
      },
      "text/html": [
       "<p>Failed to display Jupyter Widget of type <code>VBox</code>.</p>\n",
       "<p>\n",
       "  If you're reading this message in the Jupyter Notebook or JupyterLab Notebook, it may mean\n",
       "  that the widgets JavaScript is still loading. If this message persists, it\n",
       "  likely means that the widgets JavaScript library is either not installed or\n",
       "  not enabled. See the <a href=\"https://ipywidgets.readthedocs.io/en/stable/user_install.html\">Jupyter\n",
       "  Widgets Documentation</a> for setup instructions.\n",
       "</p>\n",
       "<p>\n",
       "  If you're reading this message in another frontend (for example, a static\n",
       "  rendering on GitHub or <a href=\"https://nbviewer.jupyter.org/\">NBViewer</a>),\n",
       "  it may mean that your frontend doesn't currently support widgets.\n",
       "</p>\n"
      ],
      "text/plain": [
       "VBox(children=(HTML(value='<h3>Configure your backend machine learning model</h3><p>If you are not sure what the parameters are, just leave them as they are.</p><p>There are <b>109</b> samples left unreviewed. The ML model will retrain at a pace of once per <b>5</b> samples.'), BoundedIntText(value=1, description='cv'), BoundedIntText(value=0, description='workers'), BoundedIntText(value=3, description='iterations'), BoundedFloatText(value=0.8, description='train_size'), BoundedIntText(value=100, description='random_state'), Label(value='', layout=Layout(height='10px')), IntProgress(value=1, layout=Layout(height='10px', left='1%', width='98%'), max=1, style=ProgressStyle(bar_color='GAINSBORO')), Label(value='', layout=Layout(height='1px')), Label(value='', layout=Layout(height='10px')), IntProgress(value=1, layout=Layout(height='10px', left='1%', width='98%'), max=1, style=ProgressStyle(bar_color='GAINSBORO')), Label(value='', layout=Layout(height='1px')), HBox(children=(Button(description='Previous', layout=Layout(width='90px'), style=ButtonStyle(button_color='SILVER')), Button(description='Next', layout=Layout(width='90px'), style=ButtonStyle(button_color='SANDYBROWN'))), layout=Layout(left='10%', width='80%'))))"
      ]
     },
     "metadata": {},
     "output_type": "display_data"
    }
   ],
   "source": [
    "wf.start()"
   ]
  },
  {
   "cell_type": "code",
   "execution_count": null,
   "metadata": {},
   "outputs": [],
   "source": []
  }
 ],
 "metadata": {
  "kernelspec": {
   "display_name": "Python [default]",
   "language": "python",
   "name": "python3"
  },
  "language_info": {
   "codemirror_mode": {
    "name": "ipython",
    "version": 3
   },
   "file_extension": ".py",
   "mimetype": "text/x-python",
   "name": "python",
   "nbconvert_exporter": "python",
   "pygments_lexer": "ipython3",
   "version": "3.6.3"
  }
 },
 "nbformat": 4,
 "nbformat_minor": 1
}
