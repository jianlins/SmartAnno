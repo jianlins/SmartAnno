{
 "cells": [
  {
   "cell_type": "code",
   "execution_count": 1,
   "metadata": {},
   "outputs": [
    {
     "data": {
      "application/vnd.jupyter.widget-view+json": {
       "model_id": "9308d958229544c1bde6819516f613fd",
       "version_major": 2,
       "version_minor": 0
      },
      "text/html": [
       "<p>Failed to display Jupyter Widget of type <code>ToggleButtonsMultiSelectionInBox</code>.</p>\n",
       "<p>\n",
       "  If you're reading this message in the Jupyter Notebook or JupyterLab Notebook, it may mean\n",
       "  that the widgets JavaScript is still loading. If this message persists, it\n",
       "  likely means that the widgets JavaScript library is either not installed or\n",
       "  not enabled. See the <a href=\"https://ipywidgets.readthedocs.io/en/stable/user_install.html\">Jupyter\n",
       "  Widgets Documentation</a> for setup instructions.\n",
       "</p>\n",
       "<p>\n",
       "  If you're reading this message in another frontend (for example, a static\n",
       "  rendering on GitHub or <a href=\"https://nbviewer.jupyter.org/\">NBViewer</a>),\n",
       "  it may mean that your frontend doesn't currently support widgets.\n",
       "</p>\n"
      ],
      "text/plain": [
       "ToggleButtonsMultiSelectionInBox(children=(VBox(layout=Layout(display='flex')),), _dom_classes=('btn-group',))"
      ]
     },
     "metadata": {},
     "output_type": "display_data"
    }
   ],
   "source": [
    "from utils.ReviewRBInit import ReviewRBInit\n",
    "from utils.ReviewRBLoop import ReviewRBLoop\n",
    "from utils.ReviewMLInit import ReviewMLInit\n",
    "from utils.ReviewMLLoop import ReviewMLLoop\n",
    "from gui.Workflow import Workflow\n",
    "from sqlalchemy_dao import Dao\n",
    "from db.ORMs import Document\n",
    "from utils.IntroStep import IntroStep\n",
    "from gui.PreviousNextWidgets import PreviousNextHTML\n",
    "import sqlalchemy_dao\n",
    "import os\n",
    "from  conf.ConfigReader import ConfigReader\n",
    "from models.logistic.LogisticBOWClassifier import LogisticBOWClassifier\n",
    "\n",
    "import logging\n",
    "logging.getLogger().setLevel(logging.DEBUG)\n",
    "\n",
    "ConfigReader('../conf/smartanno_conf.json')\n",
    "wf=Workflow()\n",
    "rb=ReviewRBInit(name=\"rb_review_init\")\n",
    "wf.append(rb)\n",
    "rv = ReviewRBLoop(name='rb_review', rush_rule='../conf/rush_rules.tsv')\n",
    "wf.append(rv)\n",
    "wf.append(PreviousNextHTML('<h2>Congratuations!</h2><h4>You have finished the initial review on the rule-base preannotations. </h4>',\n",
    "                       name='intro'))\n",
    "wf.append(ReviewMLInit(name='ml_review_init'))\n",
    "wf.append(ReviewMLLoop(name='ml_review',ml_classifier_cls=LogisticBOWClassifier))\n",
    "\n",
    "wf.filters={'TypeA':['heart'],'TypeB':['exam']}\n",
    "wf.types=['TypeA','TypeB']\n",
    "wf.task_id=1\n",
    "wf.umls_extended={}\n",
    "wf.we_extended={}\n",
    "wf.dao=Dao('sqlite+pysqlite:///../data/demo.sqlite', sqlalchemy_dao.POOL_DISABLED)"
   ]
  },
  {
   "cell_type": "code",
   "execution_count": 2,
   "metadata": {},
   "outputs": [
    {
     "data": {
      "application/vnd.jupyter.widget-view+json": {
       "model_id": "ab5c1bf97499427292476b33e30b93f2",
       "version_major": 2,
       "version_minor": 0
      },
      "text/html": [
       "<p>Failed to display Jupyter Widget of type <code>VBox</code>.</p>\n",
       "<p>\n",
       "  If you're reading this message in the Jupyter Notebook or JupyterLab Notebook, it may mean\n",
       "  that the widgets JavaScript is still loading. If this message persists, it\n",
       "  likely means that the widgets JavaScript library is either not installed or\n",
       "  not enabled. See the <a href=\"https://ipywidgets.readthedocs.io/en/stable/user_install.html\">Jupyter\n",
       "  Widgets Documentation</a> for setup instructions.\n",
       "</p>\n",
       "<p>\n",
       "  If you're reading this message in another frontend (for example, a static\n",
       "  rendering on GitHub or <a href=\"https://nbviewer.jupyter.org/\">NBViewer</a>),\n",
       "  it may mean that your frontend doesn't currently support widgets.\n",
       "</p>\n"
      ],
      "text/plain": [
       "VBox(children=(IntProgress(value=1, description='Progress: 1/2', layout=Layout(height='14px', width='90%'), max=2, min=1, style=ProgressStyle(description_width='initial')), HTML(value='<table style=\"width:100%\"><tr><th>DOC_ID</th><th>DATE</th><th>REF_DATE</th></tr><tr><td>15</td><td>2068-01-25</td><td>None</td></tr></table><div id=\"d1\" style=\"overflow-y: scroll; height:200px;border:1px solid;border-color:#e5e8e8; \">Record date: 2068-01-25<br/><br/>                     HUNTINGTON EMERGENCY DEPT VISIT<br/><br/> <br/><br/>THOMAS-YOSEF,JULIA   840-91-51-9<br/><br/>This patient was seen by the resident.  I confirm that I have <br/><br/>interviewed and examined the patient, reviewed the resident\\'s <br/><br/>documentation on the patient\\'s chart, and discussed the evaluation, <br/><br/>plan of care, and disposition with the patient. <br/><br/>HISTORY OF PRESENTING COMPLAINT:  The patient is a 52-year-old <br/><br/>female status post LAD stent placement in November of 2067.  She <br/><br/>presents to the emergency room with chest pain since last night.  <br/><br/>It has been midsternal going to her back.  She denies any knife or <br/><br/>crushing pain going down her back.  However, the chest pain has <br/><br/>been consistent since 9:00 to about 4:00 this morning.  No <br/><br/>shortness of breath, diaphoresis, light-headedness, or dizziness.  <br/><br/>She did not take any nitroglycerin.  She presented to the emergency <br/><br/>room today after she talked to her cardiologist, who wanted her to <br/><br/>come to the emergency room for evaluation.  The patient denies <br/><br/>taking any nitroglycerin and denies any chest pain episodes since <br/><br/>her stent was placed back in November 2067.<br/><br/>REVIEW OF SYSTEMS:  The patient had some midsternal chest pain.<br/><br/>PAST MEDICAL HISTORY:  Significant for oral hypoglycemic requiring <br/><br/>diabetes, hypertension, high cholesterol, coronary artery disease, <br/><br/>and hypothyroidism.  Past surgeries and procedures include stent <br/><br/>placement for an LAD lesion back in November 2067.<br/><br/>MEDICATIONS:  Glucophage, Ativan, Metoprolol, Zocor, and Plavix, <br/><br/>including aspirin.<br/><br/>ALLERGIES:  No known drug allergies. <br/><br/>SOCIAL HISTORY AND FAMILY HISTORY:  The patient has a past history <br/><br/>of tobacco use.  She denies any alcohol or IV drug use.<br/><br/>PHYSICAL EXAMINATION:  VITAL SIGNS:  Afebrile.  Normal vital signs. <br/><br/>Bilaterally equal blood pressures.  GENERAL APPEARANCE:  <br/><br/>Well-appearing female otherwise in no acute distress.  LUNGS:  <br/><br/>Clear to auscultation bilaterally.  CARDIAC:  S1, S2, regular rate <br/><br/>and rhythm without murmurs, gallops or rubs.  ABDOMEN:  Positive <br/><br/>bowel sounds.  Soft, nontender.  RECTAL:  Guaiac-negative.  <br/><br/>EXTREMITIES:  No lower extremity swelling or edema. <br/><br/>LABORATORY EVALUATION:  Glucose is 204.  Labs are other wise <br/><br/>negative.  Troponin is 0.04.  Normal CBC and coagulation studies.  <br/><br/>Chest x-ray shows mild cardiomegaly, mild congestion, otherwise <br/><br/>normal mediastinum, no pleural infiltrates or effusion.  EKG shows <br/><br/>pseudonormalization in aVL and V2 compared to an EKG in November <br/><br/>2067.<br/><br/>THERAPY RENDERED/COURSE IN ED:  Impression is a 52-year-old female <br/><br/>with a history of coronary artery disease presenting with chest <br/><br/>pain since her stent placement in November.  We will treat her for <br/><br/>an occluded stent.  We will start IV heparin, nitroglycerin for <br/><br/>pain, given aspirin, call cardiology as to further intervention and <br/><br/>management.  At this time the patient is clinically hemodynamically <br/><br/>stable, awaiting transfer to the cardiac floor.<br/><br/>DISPOSITION (including condition upon discharge):  Condition is <br/><br/>stable.<br/><br/>___________________________________                    NJ688/96614 <br/><br/>TONYA YOO, M.D.   TY822                             D:01/25/68 <br/><br/>                                                       T:01/25/68 <br/><br/>Dictated by:  TONYA YOO, M.D.   TY822 <br/><br/> ******** Not reviewed by Attending Physician ********</div>'), ClickResponsiveToggleButtons(button_style='success', index=1, layout=Layout(width='70%'), options=('TypeA', 'TypeB'), value='TypeB'), Label(value='', layout=Layout(height='10px')), IntProgress(value=1, layout=Layout(height='10px', left='1%', width='98%'), max=1, style=ProgressStyle(bar_color='GAINSBORO')), Label(value='', layout=Layout(height='1px')), HBox(children=(Button(description='Previous', layout=Layout(left='100px', width='90px'), style=ButtonStyle()), Button(description='Next', layout=Layout(left='100px', width='90px'), style=ButtonStyle()), Button(description='Complete', layout=Layout(left='100px', width='90px'), style=ButtonStyle())), layout=Layout(left='10%', width='80%'))))"
      ]
     },
     "metadata": {},
     "output_type": "display_data"
    }
   ],
   "source": [
    "wf.start()"
   ]
  },
  {
   "cell_type": "code",
   "execution_count": 3,
   "metadata": {},
   "outputs": [
    {
     "name": "stdout",
     "output_type": "stream",
     "text": [
      "2\n",
      "2\n"
     ]
    },
    {
     "ename": "KeyError",
     "evalue": "'annos'",
     "output_type": "error",
     "traceback": [
      "\u001b[0;31m---------------------------------------------------------------------------\u001b[0m",
      "\u001b[0;31mKeyError\u001b[0m                                  Traceback (most recent call last)",
      "\u001b[0;32m<ipython-input-3-2fed8fdbcfe6>\u001b[0m in \u001b[0;36m<module>\u001b[0;34m()\u001b[0m\n\u001b[1;32m      2\u001b[0m \u001b[0;34m\u001b[0m\u001b[0m\n\u001b[1;32m      3\u001b[0m \u001b[0mprint\u001b[0m\u001b[0;34m(\u001b[0m\u001b[0mlen\u001b[0m\u001b[0;34m(\u001b[0m\u001b[0mwf\u001b[0m\u001b[0;34m.\u001b[0m\u001b[0msteps\u001b[0m\u001b[0;34m[\u001b[0m\u001b[0;36m0\u001b[0m\u001b[0;34m]\u001b[0m\u001b[0;34m.\u001b[0m\u001b[0mdata\u001b[0m\u001b[0;34m[\u001b[0m\u001b[0;34m'docs'\u001b[0m\u001b[0;34m]\u001b[0m\u001b[0;34m)\u001b[0m\u001b[0;34m)\u001b[0m\u001b[0;34m\u001b[0m\u001b[0m\n\u001b[0;32m----> 4\u001b[0;31m \u001b[0mprint\u001b[0m\u001b[0;34m(\u001b[0m\u001b[0mlen\u001b[0m\u001b[0;34m(\u001b[0m\u001b[0mwf\u001b[0m\u001b[0;34m.\u001b[0m\u001b[0msteps\u001b[0m\u001b[0;34m[\u001b[0m\u001b[0;36m1\u001b[0m\u001b[0;34m]\u001b[0m\u001b[0;34m.\u001b[0m\u001b[0mdata\u001b[0m\u001b[0;34m[\u001b[0m\u001b[0;34m'annos'\u001b[0m\u001b[0;34m]\u001b[0m\u001b[0;34m)\u001b[0m\u001b[0;34m)\u001b[0m\u001b[0;34m\u001b[0m\u001b[0m\n\u001b[0m\u001b[1;32m      5\u001b[0m \u001b[0mprint\u001b[0m\u001b[0;34m(\u001b[0m\u001b[0mlen\u001b[0m\u001b[0;34m(\u001b[0m\u001b[0mwf\u001b[0m\u001b[0;34m.\u001b[0m\u001b[0msteps\u001b[0m\u001b[0;34m[\u001b[0m\u001b[0;36m1\u001b[0m\u001b[0;34m]\u001b[0m\u001b[0;34m.\u001b[0m\u001b[0mdata\u001b[0m\u001b[0;34m[\u001b[0m\u001b[0;34m'docs'\u001b[0m\u001b[0;34m]\u001b[0m\u001b[0;34m)\u001b[0m\u001b[0;34m)\u001b[0m\u001b[0;34m\u001b[0m\u001b[0m\n\u001b[1;32m      6\u001b[0m \u001b[0mprint\u001b[0m\u001b[0;34m(\u001b[0m\u001b[0mlen\u001b[0m\u001b[0;34m(\u001b[0m\u001b[0mwf\u001b[0m\u001b[0;34m.\u001b[0m\u001b[0msteps\u001b[0m\u001b[0;34m[\u001b[0m\u001b[0;36m1\u001b[0m\u001b[0;34m]\u001b[0m\u001b[0;34m.\u001b[0m\u001b[0mreviewed_docs\u001b[0m\u001b[0;34m)\u001b[0m\u001b[0;34m)\u001b[0m\u001b[0;34m\u001b[0m\u001b[0m\n",
      "\u001b[0;31mKeyError\u001b[0m: 'annos'"
     ]
    }
   ],
   "source": [
    "print(len(wf.steps[0].data['annos']))\n",
    "\n",
    "print(len(wf.steps[0].data['docs']))\n",
    "print(len(wf.steps[1].data['annos']))\n",
    "print(len(wf.steps[1].data['docs']))\n",
    "print(len(wf.steps[1].reviewed_docs))\n",
    "print(len(wf.steps[1].loop_workflow.steps))"
   ]
  },
  {
   "cell_type": "code",
   "execution_count": null,
   "metadata": {},
   "outputs": [],
   "source": [
    "[doc.DOC_ID for doc in wf.steps[0].data['docs']]"
   ]
  },
  {
   "cell_type": "code",
   "execution_count": null,
   "metadata": {},
   "outputs": [],
   "source": [
    "list(wf.steps[0].data['annos'].keys())"
   ]
  },
  {
   "cell_type": "code",
   "execution_count": null,
   "metadata": {},
   "outputs": [],
   "source": []
  }
 ],
 "metadata": {
  "kernelspec": {
   "display_name": "Python [default]",
   "language": "python",
   "name": "python3"
  },
  "language_info": {
   "codemirror_mode": {
    "name": "ipython",
    "version": 3
   },
   "file_extension": ".py",
   "mimetype": "text/x-python",
   "name": "python",
   "nbconvert_exporter": "python",
   "pygments_lexer": "ipython3",
   "version": "3.6.3"
  }
 },
 "nbformat": 4,
 "nbformat_minor": 1
}
