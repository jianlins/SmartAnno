{
 "cells": [
  {
   "cell_type": "code",
   "execution_count": 12,
   "metadata": {},
   "outputs": [],
   "source": [
    "from utils.ReviewRBInit import ReviewRBInit\n",
    "from utils.ReviewRBLoop import ReviewRBLoop\n",
    "from utils.ReviewMLInit import ReviewMLInit\n",
    "from utils.ReviewMLLoop import ReviewMLLoop\n",
    "from gui.Workflow import Workflow\n",
    "from sqlalchemy_dao import Dao\n",
    "from db.ORMs import Document\n",
    "from utils.IntroStep import IntroStep\n",
    "from gui.PreviousNextWidgets import PreviousNextHTML\n",
    "import sqlalchemy_dao\n",
    "import os\n",
    "from  conf.ConfigReader import ConfigReader\n",
    "from models.logistic.LogisticBOWClassifier import LogisticBOWClassifier\n",
    "\n",
    "import logging\n",
    "logging.getLogger().setLevel(logging.DEBUG)\n",
    "\n",
    "ConfigReader('../conf/smartanno_conf.json')\n",
    "wf=Workflow()\n",
    "rb=ReviewRBInit(name=\"rb_review_init\")\n",
    "wf.append(rb)\n",
    "rv = ReviewRBLoop(name='rb_review', rush_rule='../conf/rush_rules.tsv')\n",
    "wf.append(rv)\n",
    "wf.append(PreviousNextHTML('<h2>Congratuations!</h2><h4>You have finished the initial review on the rule-base preannotations. </h4>',\n",
    "                       name='intro'))\n",
    "wf.append(ReviewMLInit(name='ml_review_init'))\n",
    "wf.append(ReviewMLLoop(name='ml_review',ml_classifier_cls=LogisticBOWClassifier))\n",
    "\n",
    "wf.filters={'TypeA':['heart'],'TypeB':['exam']}\n",
    "wf.types=['TypeA','TypeB']\n",
    "wf.task_id=1\n",
    "wf.umls_extended={}\n",
    "wf.we_extended={}\n",
    "wf.dao=Dao('sqlite+pysqlite:///../data/demo.sqlite', sqlalchemy_dao.POOL_DISABLED)"
   ]
  },
  {
   "cell_type": "code",
   "execution_count": 13,
   "metadata": {},
   "outputs": [
    {
     "data": {
      "application/vnd.jupyter.widget-view+json": {
       "model_id": "ce0c90aef5674356bb985c0252115050",
       "version_major": 2,
       "version_minor": 0
      },
      "text/html": [
       "<p>Failed to display Jupyter Widget of type <code>VBox</code>.</p>\n",
       "<p>\n",
       "  If you're reading this message in the Jupyter Notebook or JupyterLab Notebook, it may mean\n",
       "  that the widgets JavaScript is still loading. If this message persists, it\n",
       "  likely means that the widgets JavaScript library is either not installed or\n",
       "  not enabled. See the <a href=\"https://ipywidgets.readthedocs.io/en/stable/user_install.html\">Jupyter\n",
       "  Widgets Documentation</a> for setup instructions.\n",
       "</p>\n",
       "<p>\n",
       "  If you're reading this message in another frontend (for example, a static\n",
       "  rendering on GitHub or <a href=\"https://nbviewer.jupyter.org/\">NBViewer</a>),\n",
       "  it may mean that your frontend doesn't currently support widgets.\n",
       "</p>\n"
      ],
      "text/plain": [
       "VBox(children=(IntProgress(value=3, description='Progress: 3/7', layout=Layout(height='14px', width='90%'), max=7, min=1, style=ProgressStyle(description_width='initial')), HTML(value='<table style=\"width:100%\"><tr><th>DOC_ID</th><th>DATE</th><th>REF_DATE</th></tr><tr><td>12</td><td>2126-11-07</td><td>None</td></tr></table><div id=\"d1\" style=\"overflow-y: scroll; height:200px;border:1px solid;border-color:#e5e8e8; \">Record date: 2126-11-07<br/><br/><br/><br/>\\tCARDIOLOGY<br/><br/>\\t<br/><br/>\\tFAMILY HEALTH CLINIC<br/><br/>\\t<br/><br/><br/><br/>\\tInterval History:<br/><br/>   Dr. Devan Chandler<br/><br/>100 CRP<br/><br/><br/><br/>RE:  Bruce Corona<br/><br/>FHC Unit #:  795-76-17<br/><br/><br/><br/>Dear Dunham:<br/><br/><br/><br/>I had the pleasure of seeing  Bruce Corona in the Cardiology Department office for a f/u visit.  Since I last saw him, he continues to complain of dyspnea.  An ETT was negative for ischemia.  PFTs were not really useful.  CT of the chest showed scarring/fibrosis.  His NT-proBNP has been on the marginal side, though he is without evidence for overt CHF.<br/><br/><br/><br/>Medications:  Aspirin 325 mg qd, Flomax 0.4 mg qd, Lopressor 25 mg bid, Lipitor 10 mg qd, Lisinopril 20 mg qd, Colace 100 mg tid.<br/><br/><br/><br/>Physical examination:  Reveals him to be well appearing. His BP is 120/70 and his <span class=\"highlighter\" style=\"background-color:  None \">heart</span> rate is 60 and regular. He is 170 pounds.  There is no jugular venous distention and carotid pulses are 2+ bilaterally without bruits.  His lungs are clear throughout, and notably demonstrate only very slight dullness at the left base.  His sternotomy is healing well and is stable.  His apical impulse is non-displaced with a slightly irregular rate and rhythm, a normal S1 and S2.  He has an S3 gallop.  No murmur.  His abdomen is benign without hepatosplenomegaly, bruits, or a dilated aorta.  There is no pedal edema and posterior tibial pulses are 2+ bilaterally.<br/><br/><br/><br/>EKG:  NSR with a 1st degree AV block.  He has a LBBB, which is chronic.<br/><br/><br/><br/>Impression:<br/><br/><br/><br/>1.CAD, s/p MI: currently stable.<br/><br/><br/><br/>2. Hypertension: under good control.<br/><br/><br/><br/>3.Hypercholesterolemia: controlled<br/><br/><br/><br/>4. Dyspnea: I suspect he has an element of diastolic dysfunction.  I will restart low-dose lasix.<br/><br/><br/><br/>Thank you very much for the opportunity to participate in his care.<br/><br/><br/><br/>With best regards,<br/><br/><br/><br/>Bruce D. Brian, Jr., M.D.<br/><br/><br/><br/>\\tSigned electronically by   Bruce D Brian MD  on  Nov 7, 2126</div>'), ClickResponsiveToggleButtons(button_style='success', layout=Layout(width='70%'), options=('TypeA', 'TypeB'), value='TypeA'), Label(value='', layout=Layout(height='10px')), IntProgress(value=1, layout=Layout(height='10px', left='1%', width='98%'), max=1, style=ProgressStyle(bar_color='GAINSBORO')), Label(value='', layout=Layout(height='1px')), HBox(children=(Button(description='Previous', layout=Layout(left='100px', width='90px'), style=ButtonStyle()), Button(description='Next', layout=Layout(left='100px', width='90px'), style=ButtonStyle()), Button(description='Complete', layout=Layout(left='100px', width='90px'), style=ButtonStyle())), layout=Layout(left='10%', width='80%'))))"
      ]
     },
     "metadata": {},
     "output_type": "display_data"
    }
   ],
   "source": [
    "wf.start()"
   ]
  },
  {
   "cell_type": "code",
   "execution_count": null,
   "metadata": {},
   "outputs": [],
   "source": []
  }
 ],
 "metadata": {
  "kernelspec": {
   "display_name": "Python [default]",
   "language": "python",
   "name": "python3"
  },
  "language_info": {
   "codemirror_mode": {
    "name": "ipython",
    "version": 3
   },
   "file_extension": ".py",
   "mimetype": "text/x-python",
   "name": "python",
   "nbconvert_exporter": "python",
   "pygments_lexer": "ipython3",
   "version": "3.6.3"
  }
 },
 "nbformat": 4,
 "nbformat_minor": 1
}
