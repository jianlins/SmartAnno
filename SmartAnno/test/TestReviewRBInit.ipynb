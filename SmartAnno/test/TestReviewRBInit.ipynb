{
 "cells": [
  {
   "cell_type": "code",
   "execution_count": 1,
   "metadata": {},
   "outputs": [
    {
     "data": {
      "application/vnd.jupyter.widget-view+json": {
       "model_id": "5ea97079331b4de886e2cce4b0b67239",
       "version_major": 2,
       "version_minor": 0
      },
      "text/html": [
       "<p>Failed to display Jupyter Widget of type <code>ToggleButtonsMultiSelectionInBox</code>.</p>\n",
       "<p>\n",
       "  If you're reading this message in the Jupyter Notebook or JupyterLab Notebook, it may mean\n",
       "  that the widgets JavaScript is still loading. If this message persists, it\n",
       "  likely means that the widgets JavaScript library is either not installed or\n",
       "  not enabled. See the <a href=\"https://ipywidgets.readthedocs.io/en/stable/user_install.html\">Jupyter\n",
       "  Widgets Documentation</a> for setup instructions.\n",
       "</p>\n",
       "<p>\n",
       "  If you're reading this message in another frontend (for example, a static\n",
       "  rendering on GitHub or <a href=\"https://nbviewer.jupyter.org/\">NBViewer</a>),\n",
       "  it may mean that your frontend doesn't currently support widgets.\n",
       "</p>\n"
      ],
      "text/plain": [
       "ToggleButtonsMultiSelectionInBox(children=(VBox(layout=Layout(display='flex')),), _dom_classes=('btn-group',))"
      ]
     },
     "metadata": {},
     "output_type": "display_data"
    }
   ],
   "source": [
    "from utils.ReviewRBInit import ReviewRBInit\n",
    "from utils.ReviewRBLoop import ReviewRBLoop\n",
    "from utils.ReviewMLInit import ReviewMLInit\n",
    "from utils.ReviewMLLoop import ReviewMLLoop\n",
    "from gui.Workflow import Workflow\n",
    "from sqlalchemy_dao import Dao\n",
    "from db.ORMs import Document\n",
    "from utils.IntroStep import IntroStep\n",
    "from gui.PreviousNextWidgets import PreviousNextHTML\n",
    "import sqlalchemy_dao\n",
    "import os\n",
    "from  conf.ConfigReader import ConfigReader\n",
    "from models.logistic.LogisticBOWClassifier import LogisticBOWClassifier\n",
    "\n",
    "import logging\n",
    "logging.getLogger().setLevel(logging.DEBUG)\n",
    "\n",
    "ConfigReader('../conf/smartanno_conf.json')\n",
    "wf=Workflow()\n",
    "rb=ReviewRBInit(name=\"rb_review_init\")\n",
    "wf.append(rb)\n",
    "rv=ReviewRBLoop(name='rb_review')\n",
    "wf.append(rv)\n",
    "wf.append(PreviousNextHTML('<h2>Congratuations!</h2><h4>You have finished the initial review on the rule-base preannotations. </h4>',\n",
    "                       name='intro'))\n",
    "wf.append(ReviewMLInit(name='ml_review_init'))\n",
    "wf.append(ReviewMLLoop(name='ml_review',ml_classifier_cls=LogisticBOWClassifier))\n",
    "\n",
    "wf.filters={'TypeA':['heart'],'TypeB':['exam']}\n",
    "wf.types=['TypeA','TypeB']\n",
    "wf.task_id=1\n",
    "wf.umls_extended={}\n",
    "wf.we_extended={}\n",
    "wf.dao=Dao('sqlite+pysqlite:///../data/demo.sqlite', sqlalchemy_dao.POOL_DISABLED)"
   ]
  },
  {
   "cell_type": "code",
   "execution_count": 2,
   "metadata": {},
   "outputs": [
    {
     "data": {
      "application/vnd.jupyter.widget-view+json": {
       "model_id": "7b62737ad6514b79a4aeebfd9390c6f9",
       "version_major": 2,
       "version_minor": 0
      },
      "text/html": [
       "<p>Failed to display Jupyter Widget of type <code>VBox</code>.</p>\n",
       "<p>\n",
       "  If you're reading this message in the Jupyter Notebook or JupyterLab Notebook, it may mean\n",
       "  that the widgets JavaScript is still loading. If this message persists, it\n",
       "  likely means that the widgets JavaScript library is either not installed or\n",
       "  not enabled. See the <a href=\"https://ipywidgets.readthedocs.io/en/stable/user_install.html\">Jupyter\n",
       "  Widgets Documentation</a> for setup instructions.\n",
       "</p>\n",
       "<p>\n",
       "  If you're reading this message in another frontend (for example, a static\n",
       "  rendering on GitHub or <a href=\"https://nbviewer.jupyter.org/\">NBViewer</a>),\n",
       "  it may mean that your frontend doesn't currently support widgets.\n",
       "</p>\n"
      ],
      "text/plain": [
       "VBox(children=(IntProgress(value=15, description='Progress: 15/19', layout=Layout(height='14px', width='90%'), max=19, min=1, style=ProgressStyle(description_width='initial')), HTML(value='<table style=\"width:100%\"><tr><th>DOC_ID</th><th>DATE</th><th>REF_DATE</th></tr><tr><td>34</td><td>2072-01-01</td><td>None</td></tr></table><div id=\"d1\" style=\"overflow-y: scroll; height:200px;border:1px solid;border-color:#e5e8e8; \">Record date: 2072-01-01<br/><br/>EDVISIT^84091519^THOMAS-YOSEF, JULIA^01/01/72^HOFFMAN, VICTOR<br/><br/>Seen by me along with Dr. Ickes on 01/01/2072.  History as<br/><br/>documented by Dr. Ickes was reviewed by me with the patient and<br/><br/>found to be accurate and complete.  The physical <span class=\"highlighter\" style=\"background-color:  None \">exam</span> was<br/><br/>confirmed by my examination.  Evaluation and management was also<br/><br/>concurred with.<br/><br/>HISTORY OF PRESENT ILLNESS:  In brief, this is a 51-year-old<br/><br/>woman with history of coronary artery disease status post MI<br/><br/>stenting in 2068, presents with 3-day history of substernal chest<br/><br/>pain radiating to her back, and also complaining of mild pain of<br/><br/>inner medial aspect of her right arm, feels like her anginal<br/><br/>symptoms that she had in 2068 with some very mild shortness of<br/><br/>breath and even though she is quite sedentary and she noted that<br/><br/>there is an increase in pain with exertion, position, as well as<br/><br/>eating.  She took many Tums with no relief and says takes Zantac<br/><br/>chronically, but ran out of it.  She says that the pain is<br/><br/>burning epigastric at times, and the thing that is concerning was<br/><br/>her back pain that was reminiscent of the pain that she had when<br/><br/>she had her MI.<br/><br/>PAST MEDICAL HISTORY:  She has a history of hypertension,<br/><br/>diabetes, MI, and breast cancer status post lumpectomy and<br/><br/>radiation.  Last stress test was may be in October, which was<br/><br/>normal.<br/><br/>FAMILY HISTORY:  Positive for breast cancer and diabetes<br/><br/>mellitus.<br/><br/>SOCIAL HISTORY:  She does not drink.  She smoked in the past,<br/><br/>quit 15 years ago.<br/><br/>REVIEW OF SYSTEMS:  As documented in the chart.  Please see notes<br/><br/>for details.<br/><br/>ALLERGIES:  As documented in the chart.  Please see notes for<br/><br/>details.<br/><br/>MEDICATIONS:  As documented in the chart.  Please see notes for<br/><br/>details.<br/><br/>PHYSICAL EXAMINATION:  Awake, alert, well-developed,<br/><br/>well-nourished woman, and in no apparent distress.  Afebrile,<br/><br/>slightly 96.7, pulse 72, respirations 16, blood pressure 124/72,<br/><br/>and O2 saturation 98%.  Anicteric sclerae.  Mucous membranes are<br/><br/>moist.  Neck is supple.  Lungs are clear of rales, wheezes, or<br/><br/>rhonchi.  Cardiovascular:  Regular rate and rhythm.  Abdomen is<br/><br/>obese.  Bowel sounds normoactive, nontender, and no guarding,<br/><br/>rebound, or rigidity.  The skin is intact, warm, and dry.  She<br/><br/>has point tenderness over the upper thoracic cage and trace pedal<br/><br/>edema.<br/><br/>LABORATORY DATA:  The patient has a normal CBC and normal<br/><br/>electrolytes.  D-dimer was less than 200.  Troponin and CK were<br/><br/>normal.<br/><br/>IMAGING STUDIES:  EKG sinus rhythm with unchanged from previous. <br/><br/>Chest CT was negative PE.<br/><br/>EMERGENCY DEPARTMENT COURSE:  As such, she was admitted to the<br/><br/>Observation Unit for a second set of enzymes which if normal will<br/><br/>be discharged home, after walking to see if she has any<br/><br/>exertional component, as such, she was subsequently discharged to<br/><br/>home in stable and satisfactory condition.  She was admitted to<br/><br/>the Observation Unit 01/01/2072 with diagnosis of chest pain.<br/><br/>______________________________<br/><br/>HOFFMAN, VICTOR M.D.<br/><br/>D: 01/01/72<br/><br/>T: 01/02/72<br/><br/>Dictated By: HOFFMAN, VICTOR<br/><br/>eScription document:0-5469816 BFFocus<br/><br/> ******** Not reviewed by Attending Physician ********</div>'), ClickResponsiveToggleButtons(button_style='success', index=1, layout=Layout(width='70%'), options=('TypeA', 'TypeB'), value='TypeB'), Label(value='', layout=Layout(height='10px')), IntProgress(value=1, layout=Layout(height='10px', left='1%', width='98%'), max=1, style=ProgressStyle(bar_color='GAINSBORO')), Label(value='', layout=Layout(height='1px')), HBox(children=(Button(description='Previous', layout=Layout(left='100px', width='90px'), style=ButtonStyle()), Button(description='Next', layout=Layout(left='100px', width='90px'), style=ButtonStyle()), Button(description='Complete', layout=Layout(left='100px', width='90px'), style=ButtonStyle())), layout=Layout(left='10%', width='80%'))))"
      ]
     },
     "metadata": {},
     "output_type": "display_data"
    }
   ],
   "source": [
    "wf.start()"
   ]
  },
  {
   "cell_type": "code",
   "execution_count": 3,
   "metadata": {},
   "outputs": [
    {
     "data": {
      "text/plain": [
       "[]"
      ]
     },
     "execution_count": 3,
     "metadata": {},
     "output_type": "execute_result"
    }
   ],
   "source": [
    "[step.doc.DOC_ID for step in wf.steps[4].loop_workflow.steps if hasattr(step, \"doc\")]"
   ]
  },
  {
   "cell_type": "code",
   "execution_count": 4,
   "metadata": {},
   "outputs": [
    {
     "data": {
      "text/plain": [
       "[]"
      ]
     },
     "execution_count": 4,
     "metadata": {},
     "output_type": "execute_result"
    }
   ],
   "source": [
    "[(doc.DOC_ID,doc.DOC_NAME) for doc in wf.steps[4].docs]"
   ]
  },
  {
   "cell_type": "code",
   "execution_count": 5,
   "metadata": {},
   "outputs": [
    {
     "data": {
      "text/plain": [
       "[]"
      ]
     },
     "execution_count": 5,
     "metadata": {},
     "output_type": "execute_result"
    }
   ],
   "source": [
    "[step.reviewed for step in wf.steps[4].loop_workflow.steps]"
   ]
  },
  {
   "cell_type": "code",
   "execution_count": 6,
   "metadata": {},
   "outputs": [
    {
     "data": {
      "text/plain": [
       "0"
      ]
     },
     "execution_count": 6,
     "metadata": {},
     "output_type": "execute_result"
    }
   ],
   "source": [
    "from models.logistic.LogisticBOWClassifier import LogisticBOWClassifier\n",
    "LogisticBOWClassifier.status"
   ]
  },
  {
   "cell_type": "code",
   "execution_count": 7,
   "metadata": {},
   "outputs": [
    {
     "ename": "KeyError",
     "evalue": "'annos'",
     "output_type": "error",
     "traceback": [
      "\u001b[0;31m---------------------------------------------------------------------------\u001b[0m",
      "\u001b[0;31mKeyError\u001b[0m                                  Traceback (most recent call last)",
      "\u001b[0;32m<ipython-input-7-551a67626864>\u001b[0m in \u001b[0;36m<module>\u001b[0;34m()\u001b[0m\n\u001b[0;32m----> 1\u001b[0;31m \u001b[0mreviewed\u001b[0m \u001b[0;34m=\u001b[0m \u001b[0;34m{\u001b[0m\u001b[0mdoc_id\u001b[0m\u001b[0;34m:\u001b[0m \u001b[0manno\u001b[0m\u001b[0;34m.\u001b[0m\u001b[0mREVIEWED_TYPE\u001b[0m \u001b[0;32mfor\u001b[0m \u001b[0mdoc_id\u001b[0m\u001b[0;34m,\u001b[0m \u001b[0manno\u001b[0m \u001b[0;32min\u001b[0m \u001b[0mwf\u001b[0m\u001b[0;34m.\u001b[0m\u001b[0msteps\u001b[0m\u001b[0;34m[\u001b[0m\u001b[0;36m4\u001b[0m\u001b[0;34m]\u001b[0m\u001b[0;34m.\u001b[0m\u001b[0mdata\u001b[0m\u001b[0;34m[\u001b[0m\u001b[0;34m'annos'\u001b[0m\u001b[0;34m]\u001b[0m\u001b[0;34m.\u001b[0m\u001b[0mitems\u001b[0m\u001b[0;34m(\u001b[0m\u001b[0;34m)\u001b[0m \u001b[0;32mif\u001b[0m \u001b[0manno\u001b[0m\u001b[0;34m.\u001b[0m\u001b[0mREVIEWED_TYPE\u001b[0m \u001b[0;32mis\u001b[0m \u001b[0;32mnot\u001b[0m \u001b[0;32mNone\u001b[0m\u001b[0;34m}\u001b[0m\u001b[0;34m\u001b[0m\u001b[0m\n\u001b[0m",
      "\u001b[0;31mKeyError\u001b[0m: 'annos'"
     ]
    }
   ],
   "source": [
    "reviewed = {doc_id: anno.REVIEWED_TYPE for doc_id, anno in wf.steps[4].data['annos'].items() if anno.REVIEWED_TYPE is not None}"
   ]
  },
  {
   "cell_type": "code",
   "execution_count": null,
   "metadata": {},
   "outputs": [],
   "source": [
    "[doc.DOC_ID for doc in wf.steps[4].docs]"
   ]
  },
  {
   "cell_type": "code",
   "execution_count": null,
   "metadata": {},
   "outputs": [],
   "source": [
    "[doc.TEXT for doc in wf.steps[4].docs if doc.DOC_ID in wf.steps[4].reviewed]"
   ]
  },
  {
   "cell_type": "code",
   "execution_count": null,
   "metadata": {},
   "outputs": [],
   "source": [
    "x = [doc.TEXT for doc in wf.steps[4].docs[:len(wf.steps[4].reviewed)]]\n",
    "y = list(wf.steps[4].reviewed.values())"
   ]
  },
  {
   "cell_type": "code",
   "execution_count": null,
   "metadata": {},
   "outputs": [],
   "source": [
    "wf.steps[4].reviewed"
   ]
  },
  {
   "cell_type": "code",
   "execution_count": null,
   "metadata": {},
   "outputs": [],
   "source": [
    "LogisticBOWClassifier.instance.train(x,y)"
   ]
  },
  {
   "cell_type": "code",
   "execution_count": null,
   "metadata": {},
   "outputs": [],
   "source": [
    "ml.model.train"
   ]
  }
 ],
 "metadata": {
  "kernelspec": {
   "display_name": "Python [default]",
   "language": "python",
   "name": "python3"
  },
  "language_info": {
   "codemirror_mode": {
    "name": "ipython",
    "version": 3
   },
   "file_extension": ".py",
   "mimetype": "text/x-python",
   "name": "python",
   "nbconvert_exporter": "python",
   "pygments_lexer": "ipython3",
   "version": "3.6.3"
  }
 },
 "nbformat": 4,
 "nbformat_minor": 1
}
