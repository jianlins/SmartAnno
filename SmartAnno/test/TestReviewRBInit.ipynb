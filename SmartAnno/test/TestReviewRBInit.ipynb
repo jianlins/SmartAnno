{
 "cells": [
  {
   "cell_type": "code",
   "execution_count": 1,
   "metadata": {},
   "outputs": [
    {
     "data": {
      "application/vnd.jupyter.widget-view+json": {
       "model_id": "d04a0b3d75cb4050ba3fe8178aaa250d",
       "version_major": 2,
       "version_minor": 0
      },
      "text/html": [
       "<p>Failed to display Jupyter Widget of type <code>VBox</code>.</p>\n",
       "<p>\n",
       "  If you're reading this message in the Jupyter Notebook or JupyterLab Notebook, it may mean\n",
       "  that the widgets JavaScript is still loading. If this message persists, it\n",
       "  likely means that the widgets JavaScript library is either not installed or\n",
       "  not enabled. See the <a href=\"https://ipywidgets.readthedocs.io/en/stable/user_install.html\">Jupyter\n",
       "  Widgets Documentation</a> for setup instructions.\n",
       "</p>\n",
       "<p>\n",
       "  If you're reading this message in another frontend (for example, a static\n",
       "  rendering on GitHub or <a href=\"https://nbviewer.jupyter.org/\">NBViewer</a>),\n",
       "  it may mean that your frontend doesn't currently support widgets.\n",
       "</p>\n"
      ],
      "text/plain": [
       "VBox(children=(IntProgress(value=5, description='Progress: 5/100', layout=Layout(height='14px', width='90%'), min=1, style=ProgressStyle(description_width='initial')), HTML(value='<table style=\"width:100%\"><tr><th>DOC_ID</th><th>DATE</th><th>REF_DATE</th></tr><tr><td>4399</td><td>2141-08-31</td><td>2141-08-31</td></tr></table><div id=\"d1\" style=\"overflow-y: scroll; height:200px;border:1px solid;border-color:#e5e8e8; \">Will <span class=\"highlighter\" style=\"background-color:  None \">discuss</span> risks/benefits of coumadin w/ patient and PCP.<br/><br/><br/><br/>#) Troponin leak: In the absence of chest pain/angina or concerning EKG changes, this likely represents heart strain in the context of chronic kidney disease.</div>'), ClickResponsiveToggleButtons(button_style='success', index=3, layout=Layout(width='70%'), options=('Eng', 'PossibleEng', 'NotEng', 'Irrelevant'), value='Irrelevant'), Label(value='', layout=Layout(height='10px')), IntProgress(value=1, layout=Layout(height='10px', left='1%', width='98%'), max=1, style=ProgressStyle(bar_color='GAINSBORO')), Label(value='', layout=Layout(height='1px')), HBox(children=(Button(description='Previous', layout=Layout(left='100px', width='90px'), style=ButtonStyle()), Button(description='Next', layout=Layout(left='100px', width='90px'), style=ButtonStyle()), Button(description='Complete', layout=Layout(left='100px', width='90px'), style=ButtonStyle())), layout=Layout(left='10%', width='80%'))))"
      ]
     },
     "metadata": {},
     "output_type": "display_data"
    }
   ],
   "source": [
    "from gui.Main import Main\n",
    "main=Main()\n",
    "import logging\n",
    "\n",
    "import sqlalchemy_dao\n",
    "from sqlalchemy_dao import Dao\n",
    "\n",
    "from conf.ConfigReader import ConfigReader\n",
    "from db.ORMs import Filter\n",
    "from gui.Workflow import Workflow\n",
    "from utils.AnnotationTypeDef import AnnotationTypeDef\n",
    "from utils.IntroStep import IntroStep\n",
    "from utils.KeywordsFiltering import KeywordsFiltering\n",
    "from utils.KeywordsUMLSExtender import KeywordsUMLSExtender\n",
    "from utils.KeywordsUMLSExtenderSetup import KeywordsUMLSExtenderSetup\n",
    "from gui.PreviousNextWidgets import PreviousNextHTML\n",
    "from utils.ReviewRBInit import ReviewRBInit\n",
    "from utils.ReviewRBLoop import ReviewRBLoop\n",
    "from utils.ReviewMLInit import ReviewMLInit\n",
    "from utils.ReviewMLLoop import ReviewMLLoop\n",
    "from models.logistic.LogisticBOWClassifier import LogisticBOWClassifier\n",
    "from utils.DataSetChooser import DataSetChooser\n",
    "\n",
    "logging.getLogger().setLevel(logging.DEBUG)\n",
    "\n",
    "ConfigReader('../conf/smartanno_conf.json')\n",
    "\n",
    "wf = Workflow(config_file=ConfigReader.config_file)\n",
    "wf.api_key = ConfigReader.getValue(\"api_key\")\n",
    "wf.dao = Dao('sqlite+pysqlite:///../data/test.sqlite', sqlalchemy_dao.POOL_DISABLED)\n",
    "wf.task_name = 'language'\n",
    "wf.append(AnnotationTypeDef(\n",
    "    '<h3>Annotation types:</h3><p>List all the types you want to identify below. Each type per line.<br/>If you'\n",
    "    'have too many types, try set up them separately, so that you won&apos;t need to choose from a long list '\n",
    "    'for each sample. </p>', name='types'))\n",
    "wf.append(KeywordsFiltering(\n",
    "    name='keywords'))\n",
    "wf.append(DataSetChooser(name='dataset_chooser',description='<h4>Choose which dateaset you want to use: </h4>'))\n",
    "rb=ReviewRBInit(name=\"rb_review_init\")\n",
    "wf.append(rb)\n",
    "rv = ReviewRBLoop(name='rb_review', rush_rule='../conf/rush_rules.tsv')\n",
    "wf.append(rv)\n",
    "wf.append(PreviousNextHTML('<h2>Congratuations!</h2><h4>You have finished the initial review on the rule-base preannotations. </h4>',\n",
    "                       name='intro'))\n",
    "wf.append(ReviewMLInit(name='ml_review_init'))\n",
    "wf.append(ReviewMLLoop(name='ml_review',ml_classifier_cls=LogisticBOWClassifier))\n",
    "\n",
    "wf.start()\n",
    "wf.steps[0].complete()\n",
    "wf.steps[1].complete()\n",
    "wf.steps[2].toggle.value='n2c2_sents'\n",
    "wf.steps[2].complete()"
   ]
  },
  {
   "cell_type": "code",
   "execution_count": 2,
   "metadata": {},
   "outputs": [
    {
     "data": {
      "application/vnd.jupyter.widget-view+json": {
       "model_id": "7538cf9c8cba497190b9e1ac4d5893af",
       "version_major": 2,
       "version_minor": 0
      },
      "text/html": [
       "<p>Failed to display Jupyter Widget of type <code>VBox</code>.</p>\n",
       "<p>\n",
       "  If you're reading this message in the Jupyter Notebook or JupyterLab Notebook, it may mean\n",
       "  that the widgets JavaScript is still loading. If this message persists, it\n",
       "  likely means that the widgets JavaScript library is either not installed or\n",
       "  not enabled. See the <a href=\"https://ipywidgets.readthedocs.io/en/stable/user_install.html\">Jupyter\n",
       "  Widgets Documentation</a> for setup instructions.\n",
       "</p>\n",
       "<p>\n",
       "  If you're reading this message in another frontend (for example, a static\n",
       "  rendering on GitHub or <a href=\"https://nbviewer.jupyter.org/\">NBViewer</a>),\n",
       "  it may mean that your frontend doesn't currently support widgets.\n",
       "</p>\n"
      ],
      "text/plain": [
       "VBox(children=(HTML(value='<h3>Start sampling for reviewing</h3>'), HTML(value='<h4>Previously Sampled Data:</h4><p>We found <b>200</b> previously sampled documents of this task in the database.</p>'), ToggleButtons(description='What to do with previously sampled data? ', index=1, options=('Remove them', 'Keep them'), style=ToggleButtonsStyle(description_width='initial'), value='Keep them'), HTML(value='<p>If you choose <span style=\"background-color:  #E8E8E8\">\"Keep them\"</span>, then sample size you set below will be the amount of extra documents to be added.'), Label(value='', layout=Layout(height='10px')), IntProgress(value=1, layout=Layout(height='10px', left='1%', width='98%'), max=1, style=ProgressStyle(bar_color='GAINSBORO')), Label(value='', layout=Layout(height='1px')), HTML(value='<h4>Sample size:</h4>'), BoundedIntText(value=0, description='Total documents you want to sample:', max=122717, style=DescriptionStyle(description_width='initial')), Label(value='', layout=Layout(height='10px')), IntProgress(value=1, layout=Layout(height='10px', left='1%', width='98%'), max=1, style=ProgressStyle(bar_color='GAINSBORO')), Label(value='', layout=Layout(height='1px')), HTML(value='<h4>Percentage to Filter: </h4><p>Choose how many percent of the documents you want to contain the filter keywords. The rest percentage will be sampled randomly from the documents that do not have any filter keywords.</p>'), IntSlider(value=70, continuous_update=False, step=5), Label(value='', layout=Layout(height='10px')), IntProgress(value=1, layout=Layout(height='10px', left='1%', width='98%'), max=1, style=ProgressStyle(bar_color='GAINSBORO')), Label(value='', layout=Layout(height='1px')), HTML(value=\"<h4>Summary:</h4><table  class='table table-striped table-bordered table-hover '><thead><tr><th>Possible document types based on keywords</th><th>Total # of documents</th><th># of documents haven&apos;t been sampled</th><th># of documents will be sampled</th></tr></thead><tbody><tr><td>Eng</td><td>22</td><td>1</td><td><b>0</b></td> </tr><tr><td>PossibleEng</td><td>172</td><td>136</td><td><b>0</b></td> </tr><tr><td>NotEng</td><td>36</td><td>18</td><td><b>0</b></td> </tr><tr><td>Irrelevant</td><td>902</td><td>877</td><td><b>0</b></td> </tr><tr><td>not_contain</td><td>121785</td><td>121685</td><td><b>0</b></td> </tr><tr><td><b>Total</b></td><td>122917</td><td>122717</td><td><b>0</b></td> </tr></tbody></table><sup>Note: This summary is simply based on keywords search (does not take prevously reviewed true types into consideration). <br/>Each document is counted once. If one document has keywords in multiple types, this document will be counted only in the top type.</sup>\"), Label(value='', layout=Layout(height='10px')), IntProgress(value=1, layout=Layout(height='10px', left='1%', width='98%'), max=1, style=ProgressStyle(bar_color='GAINSBORO')), Label(value='', layout=Layout(height='1px')), HBox(children=(Button(description='Previous', layout=Layout(width='90px'), style=ButtonStyle(button_color='SILVER')), Button(description='Next', layout=Layout(left='100px', width='90px'), style=ButtonStyle(button_color='SANDYBROWN'))), layout=Layout(left='10%', width='80%'))))"
      ]
     },
     "metadata": {},
     "output_type": "display_data"
    }
   ],
   "source": [
    "wf.steps[2].complete()"
   ]
  },
  {
   "cell_type": "code",
   "execution_count": 3,
   "metadata": {},
   "outputs": [
    {
     "data": {
      "text/plain": [
       "115"
      ]
     },
     "execution_count": 3,
     "metadata": {},
     "output_type": "execute_result"
    }
   ],
   "source": [
    "wf.steps[3].un_reviewed"
   ]
  },
  {
   "cell_type": "code",
   "execution_count": 4,
   "metadata": {},
   "outputs": [],
   "source": [
    "sampler=wf.steps[3].sampler"
   ]
  },
  {
   "cell_type": "code",
   "execution_count": 5,
   "metadata": {},
   "outputs": [
    {
     "data": {
      "text/plain": [
       "[1132, 200, 121785]"
      ]
     },
     "execution_count": 5,
     "metadata": {},
     "output_type": "execute_result"
    }
   ],
   "source": [
    "list=[len(sampler.all_contain_ids), \n",
    "      len(sampler.previous_sampled_ids),\n",
    "     sampler.available_not_contain,\n",
    "     ]\n",
    "list"
   ]
  },
  {
   "cell_type": "code",
   "execution_count": 6,
   "metadata": {},
   "outputs": [
    {
     "data": {
      "text/plain": [
       "{'Eng': 1, 'Irrelevant': 877, 'NotEng': 18, 'PossibleEng': 136}"
      ]
     },
     "execution_count": 6,
     "metadata": {},
     "output_type": "execute_result"
    }
   ],
   "source": [
    "{type_name:len(ids) for type_name,ids in sampler.new_ids.items()}"
   ]
  },
  {
   "cell_type": "code",
   "execution_count": 7,
   "metadata": {},
   "outputs": [
    {
     "data": {
      "text/plain": [
       "{'Eng': 21, 'Irrelevant': 25, 'NotEng': 18, 'PossibleEng': 36}"
      ]
     },
     "execution_count": 7,
     "metadata": {},
     "output_type": "execute_result"
    }
   ],
   "source": [
    "{type_name:len(ids)-len(sampler.new_ids[type_name]) for type_name,ids in sampler.grouped_ids.items()}"
   ]
  },
  {
   "cell_type": "code",
   "execution_count": 8,
   "metadata": {},
   "outputs": [
    {
     "data": {
      "text/plain": [
       "100"
      ]
     },
     "execution_count": 8,
     "metadata": {},
     "output_type": "execute_result"
    }
   ],
   "source": [
    "len(sampler.all_contain_ids.intersection(sampler.previous_sampled_ids))"
   ]
  },
  {
   "cell_type": "code",
   "execution_count": null,
   "metadata": {},
   "outputs": [],
   "source": []
  }
 ],
 "metadata": {
  "kernelspec": {
   "display_name": "Python [default]",
   "language": "python",
   "name": "python3"
  },
  "language_info": {
   "codemirror_mode": {
    "name": "ipython",
    "version": 3
   },
   "file_extension": ".py",
   "mimetype": "text/x-python",
   "name": "python",
   "nbconvert_exporter": "python",
   "pygments_lexer": "ipython3",
   "version": "3.6.3"
  }
 },
 "nbformat": 4,
 "nbformat_minor": 1
}
