{
 "cells": [
  {
   "cell_type": "code",
   "execution_count": 1,
   "metadata": {},
   "outputs": [
    {
     "data": {
      "text/html": [
       "<p>Failed to display Jupyter Widget of type <code>ToggleButtonsMultiSelectionInBox</code>.</p>\n",
       "<p>\n",
       "  If you're reading this message in the Jupyter Notebook or JupyterLab Notebook, it may mean\n",
       "  that the widgets JavaScript is still loading. If this message persists, it\n",
       "  likely means that the widgets JavaScript library is either not installed or\n",
       "  not enabled. See the <a href=\"https://ipywidgets.readthedocs.io/en/stable/user_install.html\">Jupyter\n",
       "  Widgets Documentation</a> for setup instructions.\n",
       "</p>\n",
       "<p>\n",
       "  If you're reading this message in another frontend (for example, a static\n",
       "  rendering on GitHub or <a href=\"https://nbviewer.jupyter.org/\">NBViewer</a>),\n",
       "  it may mean that your frontend doesn't currently support widgets.\n",
       "</p>\n"
      ],
      "text/plain": [
       "ToggleButtonsMultiSelectionInBox(children=(VBox(layout=Layout(display='flex')),), _dom_classes=('btn-group',))"
      ]
     },
     "metadata": {},
     "output_type": "execute_result"
    }
   ],
   "source": [
    "from utils.ReviewRBInit import ReviewRBInit\n",
    "from utils.ReviewRBLoop import ReviewRBLoop\n",
    "from utils.ReviewMLInit import ReviewMLInit\n",
    "from utils.ReviewMLLoop import ReviewMLLoop\n",
    "from gui.Workflow import Workflow\n",
    "from sqlalchemy_dao import Dao\n",
    "from db.ORMs import Document\n",
    "from utils.IntroStep import IntroStep\n",
    "from gui.PreviousNextWidgets import PreviousNextHTML\n",
    "import sqlalchemy_dao\n",
    "import os\n",
    "from  conf.ConfigReader import ConfigReader\n",
    "from models.logistic.LogisticBOWClassifier import LogisticBOWClassifier\n",
    "\n",
    "import logging\n",
    "logging.getLogger().setLevel(logging.DEBUG)\n",
    "\n",
    "ConfigReader('../conf/smartanno_conf.json')\n",
    "wf=Workflow()\n",
    "rb=ReviewRBInit(name=\"rb_review_init\")\n",
    "wf.append(rb)\n",
    "rv = ReviewRBLoop(name='rb_review', rush_rule='../conf/rush_rules.tsv')\n",
    "wf.append(rv)\n",
    "wf.append(PreviousNextHTML('<h2>Congratuations!</h2><h4>You have finished the initial review on the rule-base preannotations. </h4>',\n",
    "                       name='intro'))\n",
    "wf.append(ReviewMLInit(name='ml_review_init'))\n",
    "wf.append(ReviewMLLoop(name='ml_review',ml_classifier_cls=LogisticBOWClassifier))\n",
    "\n",
    "wf.filters={'TypeA':['heart'],'TypeB':['exam']}\n",
    "wf.types=['TypeA','TypeB']\n",
    "wf.task_id=1\n",
    "wf.umls_extended={}\n",
    "wf.we_extended={}\n",
    "wf.dao=Dao('sqlite+pysqlite:///../data/demo.sqlite', sqlalchemy_dao.POOL_DISABLED)"
   ]
  },
  {
   "cell_type": "code",
   "execution_count": 2,
   "metadata": {},
   "outputs": [
    {
     "data": {
      "text/html": [
       "<p>Failed to display Jupyter Widget of type <code>VBox</code>.</p>\n",
       "<p>\n",
       "  If you're reading this message in the Jupyter Notebook or JupyterLab Notebook, it may mean\n",
       "  that the widgets JavaScript is still loading. If this message persists, it\n",
       "  likely means that the widgets JavaScript library is either not installed or\n",
       "  not enabled. See the <a href=\"https://ipywidgets.readthedocs.io/en/stable/user_install.html\">Jupyter\n",
       "  Widgets Documentation</a> for setup instructions.\n",
       "</p>\n",
       "<p>\n",
       "  If you're reading this message in another frontend (for example, a static\n",
       "  rendering on GitHub or <a href=\"https://nbviewer.jupyter.org/\">NBViewer</a>),\n",
       "  it may mean that your frontend doesn't currently support widgets.\n",
       "</p>\n"
      ],
      "text/plain": [
       "VBox(children=(IntProgress(value=13, description='Progress: 13/16', layout=Layout(height='14px', width='90%'), max=16, min=1, style=ProgressStyle(description_width='initial')), HTML(value='<table style=\"width:100%\"><tr><th>DOC_ID</th><th>DATE</th><th>REF_DATE</th></tr><tr><td>14</td><td>2067-11-24</td><td>None</td></tr></table><div id=\"d1\" style=\"overflow-y: scroll; height:200px;border:1px solid;border-color:#e5e8e8; \">Record date: 2067-11-24<br/><br/>                     HUNTINGTON EMERGENCY DEPT VISIT<br/><br/> <br/><br/>THOMAS-YOSEF,JULIA   840-91-51-9            VISIT DATE: 11/24/67<br/><br/>This patient was seen with Dr. Earley.  The patient was interviewed <br/><br/>and examined by me.  Resident\\'s note reviewed and confirmed.  The <br/><br/>plan of care was discussed with the patient.   Please see chart for <br/><br/>details. <br/><br/>HISTORY OF PRESENTING COMPLAINT:  Briefly, this is a 47-year-old <br/><br/>woman with a history of asthma and non-insulin-dependent diabetes <br/><br/>mellitus who has had three weeks of progressive substernal chest <br/><br/>pain radiating to the back with associated nausea, vomiting, <br/><br/>shortness of breath, and diaphoresis.  The episodes of pain last <br/><br/>10-15 minutes with exertion and at rest.  <br/><br/>PAST MEDICAL HISTORY:  Asthma, hypothyroidism, and recently <br/><br/>diagnosed diabetes mellitus.<br/><br/>MEDICATIONS:  Levoxyl, Albuterol, Protonix, Tums, Flovent.<br/><br/>SOCIAL HISTORY AND FAMILY HISTORY:  Remote history of smoking.  <br/><br/>Family history:  Coronary artery disease in father.<br/><br/>PHYSICAL EXAMINATION:  GENERAL APPEARANCE:  No acute distress, <br/><br/>pain-free.  VITAL SIGNS:  Afebrile.  Pulse 105.  Respirations 15. <br/><br/>Blood pressure 143/96.  Pulse oximetry is 95% on room air.  <br/><br/>CARDIAC:  Regular rate and rhythm.  Normal S1 and S2.  No murmurs, <br/><br/>gallops, or rubs.  NECK:  JVP 5 cm.  LUNGS:  Clear.  Breathing is <br/><br/>unlabored.  ABDOMEN:  Soft, nontender, and nondistended with active <br/><br/>bowel sounds.  EXTREMITIES:  No clubbing, cyanosis, or edema.  <br/><br/>LABORATORY EVALUATION:  The EKG shows a normal sinus rhythm with <br/><br/>lateral T-wave inversions and question of old septal myocardial <br/><br/>infarction.  Chest x-ray shows no acute cardiopulmonary disease.<br/><br/>FINAL DIAGNOSIS:  Chest pain, multiple cardiac risk factors, <br/><br/>abnormal electrocardiogram, currently pain-free without evidence of <br/><br/>congestive <span class=\"highlighter\" style=\"background-color:  None \">heart</span> failure.<br/><br/>DISPOSITION (including condition upon discharge):  The plan is <br/><br/>aspirin, Lopressor, and admission to telemetry.  The patient was <br/><br/>admitted to the hospital in stable condition.<br/><br/>___________________________________                    VA271/37942 <br/><br/>MARVIN UTECHT, M.D.   MU830                          D:11/24/67 <br/><br/>                                                       T:11/24/67 <br/><br/>Dictated by:  MARVIN UTECHT, M.D.   MU830 <br/><br/> ******** Not reviewed by Attending Physician ********</div>'), ClickResponsiveToggleButtons(button_style='success', index=1, layout=Layout(width='70%'), options=('TypeA', 'TypeB'), value='TypeB'), Label(value='', layout=Layout(height='10px')), IntProgress(value=1, layout=Layout(height='10px', left='1%', width='98%'), max=1, style=ProgressStyle(bar_color='GAINSBORO')), Label(value='', layout=Layout(height='1px')), HBox(children=(Button(description='Previous', layout=Layout(left='100px', width='90px'), style=ButtonStyle()), Button(description='Next', layout=Layout(left='100px', width='90px'), style=ButtonStyle()), Button(description='Complete', layout=Layout(left='100px', width='90px'), style=ButtonStyle())), layout=Layout(left='10%', width='80%'))))"
      ]
     },
     "metadata": {},
     "output_type": "execute_result"
    },
    {
     "name": "stderr",
     "output_type": "stream",
     "text": [
      "/home/brokenjade/software/anaconda3/envs/tensorflow/lib/python3.6/site-packages/sklearn/model_selection/_split.py:2026: FutureWarning: From version 0.21, test_size will always complement train_size unless both are specified.\n",
      "  FutureWarning)\n",
      "/home/brokenjade/software/anaconda3/envs/tensorflow/lib/python3.6/site-packages/sklearn/model_selection/_split.py:605: Warning: The least populated class in y has only 3 members, which is too few. The minimum number of members in any class cannot be less than n_splits=4.\n",
      "  % (min_groups, self.n_splits)), Warning)\n",
      "/home/brokenjade/software/anaconda3/envs/tensorflow/lib/python3.6/site-packages/sklearn/externals/joblib/parallel.py:547: UserWarning: Multiprocessing-backed parallel loops cannot be nested below threads, setting n_jobs=1\n",
      "  **self._backend_args)\n"
     ]
    },
    {
     "name": "stdout",
     "output_type": "stream",
     "text": [
      "Train minority class instance count : 3.  Test minority class instance count : 3\n"
     ]
    },
    {
     "name": "stderr",
     "output_type": "stream",
     "text": [
      "/home/brokenjade/software/anaconda3/envs/tensorflow/lib/python3.6/site-packages/sklearn/metrics/classification.py:1428: UserWarning: labels size, 2, does not match size of target_names, 12\n",
      "  .format(len(labels), len(target_names))\n",
      "/home/brokenjade/software/anaconda3/envs/tensorflow/lib/python3.6/site-packages/sklearn/metrics/classification.py:1135: UndefinedMetricWarning: Precision and F-score are ill-defined and being set to 0.0 in labels with no predicted samples.\n",
      "  'precision', 'predicted', average, warn_for)\n"
     ]
    }
   ],
   "source": [
    "wf.start()"
   ]
  },
  {
   "cell_type": "code",
   "execution_count": 4,
   "metadata": {},
   "outputs": [
    {
     "data": {
      "text/plain": [
       "14"
      ]
     },
     "execution_count": 4,
     "metadata": {},
     "output_type": "execute_result"
    }
   ],
   "source": [
    "len([doc.DOC_ID for doc in wf.steps[0].data['docs']])"
   ]
  },
  {
   "cell_type": "code",
   "execution_count": 7,
   "metadata": {},
   "outputs": [
    {
     "data": {
      "text/plain": [
       "[4, 7, 8, 9, 3, 10, 13, 17]"
      ]
     },
     "execution_count": 7,
     "metadata": {},
     "output_type": "execute_result"
    }
   ],
   "source": [
    "([doc for doc in wf.steps[4].reviewed_docs])"
   ]
  },
  {
   "cell_type": "code",
   "execution_count": 5,
   "metadata": {},
   "outputs": [
    {
     "data": {
      "text/plain": [
       "{2: 'TypeA',\n",
       " 3: 'TypeA',\n",
       " 4: 'TypeB',\n",
       " 5: 'TypeB',\n",
       " 6: 'TypeA',\n",
       " 7: 'TypeA',\n",
       " 8: 'TypeB',\n",
       " 9: 'TypeA',\n",
       " 10: 'TypeB',\n",
       " 11: 'TypeA',\n",
       " 12: 'TypeA',\n",
       " 13: 'TypeA',\n",
       " 14: 'TypeB',\n",
       " 15: 'TypeB',\n",
       " 16: 'TypeB',\n",
       " 17: 'TypeB'}"
      ]
     },
     "execution_count": 5,
     "metadata": {},
     "output_type": "execute_result"
    }
   ],
   "source": [
    "{doc_id: anno.REVIEWED_TYPE for doc_id, anno in wf.steps[1].annos.items() if\n",
    "                              anno.REVIEWED_TYPE is not None}"
   ]
  },
  {
   "cell_type": "code",
   "execution_count": 5,
   "metadata": {},
   "outputs": [
    {
     "data": {
      "text/plain": [
       "14"
      ]
     },
     "execution_count": 5,
     "metadata": {},
     "output_type": "execute_result"
    }
   ],
   "source": [
    "len(rv.reviewed_docs)"
   ]
  },
  {
   "cell_type": "code",
   "execution_count": 9,
   "metadata": {},
   "outputs": [
    {
     "data": {
      "text/plain": [
       "['TypeB', 'TypeA', None, None, None, None, None]"
      ]
     },
     "execution_count": 9,
     "metadata": {},
     "output_type": "execute_result"
    }
   ],
   "source": [
    "[anno.REVIEWED_TYPE for anno in wf.steps[0].data['annos'].values()]"
   ]
  },
  {
   "cell_type": "code",
   "execution_count": 5,
   "metadata": {},
   "outputs": [
    {
     "data": {
      "text/plain": [
       "{'cv': BoundedIntText(value=2, description='cv'),\n",
       " 'iterations': BoundedIntText(value=1, description='iterations'),\n",
       " 'random_state': BoundedIntText(value=100, description='random_state'),\n",
       " 'train_size': BoundedFloatText(value=0.8, description='train_size'),\n",
       " 'workers': BoundedIntText(value=0, description='workers')}"
      ]
     },
     "execution_count": 5,
     "metadata": {},
     "output_type": "execute_result"
    }
   ],
   "source": [
    "wf.steps[3].parameter_inputs"
   ]
  },
  {
   "cell_type": "code",
   "execution_count": null,
   "metadata": {},
   "outputs": [],
   "source": [
    "[(doc.DOC_ID,doc.DOC_NAME) for doc in wf.steps[4].docs]"
   ]
  },
  {
   "cell_type": "code",
   "execution_count": null,
   "metadata": {},
   "outputs": [],
   "source": [
    "[step.reviewed for step in wf.steps[4].loop_workflow.steps]"
   ]
  },
  {
   "cell_type": "code",
   "execution_count": 4,
   "metadata": {},
   "outputs": [
    {
     "data": {
      "text/plain": [
       "1"
      ]
     },
     "execution_count": 4,
     "metadata": {},
     "output_type": "execute_result"
    }
   ],
   "source": [
    "from models.logistic.LogisticBOWClassifier import LogisticBOWClassifier\n",
    "LogisticBOWClassifier.status"
   ]
  },
  {
   "cell_type": "code",
   "execution_count": 4,
   "metadata": {},
   "outputs": [
    {
     "data": {
      "text/plain": [
       "4"
      ]
     },
     "execution_count": 4,
     "metadata": {},
     "output_type": "execute_result"
    }
   ],
   "source": [
    "LogisticBOWClassifier.cv"
   ]
  },
  {
   "cell_type": "code",
   "execution_count": 4,
   "metadata": {},
   "outputs": [
    {
     "data": {
      "text/plain": [
       "[4, 7, 8, 9, 11, 13, 17, 3, 2, 15, 16, 12, 14, 5, 6, 10]"
      ]
     },
     "execution_count": 4,
     "metadata": {},
     "output_type": "execute_result"
    }
   ],
   "source": [
    "[doc.DOC_ID for doc in data['docs']]"
   ]
  },
  {
   "cell_type": "code",
   "execution_count": 42,
   "metadata": {},
   "outputs": [
    {
     "data": {
      "text/plain": [
       "['TypeB', 'TypeA', None, None, None, None, None]"
      ]
     },
     "execution_count": 42,
     "metadata": {},
     "output_type": "execute_result"
    }
   ],
   "source": [
    "[anno.REVIEWED_TYPE for anno in data['annos'].values()]"
   ]
  },
  {
   "cell_type": "code",
   "execution_count": null,
   "metadata": {},
   "outputs": [],
   "source": [
    "[doc.TEXT for doc in wf.steps[4].docs if doc.DOC_ID in wf.steps[4].reviewed]"
   ]
  },
  {
   "cell_type": "code",
   "execution_count": 10,
   "metadata": {},
   "outputs": [],
   "source": [
    "x = [doc.TEXT for doc in wf.steps[4].docs[:len(wf.steps[4].reviewed_docs)]]\n",
    "y = list(wf.steps[4].reviewed_docs.values())"
   ]
  },
  {
   "cell_type": "code",
   "execution_count": 12,
   "metadata": {},
   "outputs": [
    {
     "data": {
      "text/plain": [
       "{2: 'TypeA',\n",
       " 3: 'TypeA',\n",
       " 4: 'TypeB',\n",
       " 5: 'TypeB',\n",
       " 6: 'TypeA',\n",
       " 7: 'TypeA',\n",
       " 8: 'TypeB',\n",
       " 9: 'TypeA',\n",
       " 10: 'TypeB',\n",
       " 11: 'TypeA',\n",
       " 12: 'TypeA',\n",
       " 14: 'TypeB',\n",
       " 15: 'TypeB',\n",
       " 16: 'TypeB',\n",
       " 17: 'TypeB'}"
      ]
     },
     "execution_count": 12,
     "metadata": {},
     "output_type": "execute_result"
    }
   ],
   "source": [
    "wf.steps[4].reviewed_docs"
   ]
  },
  {
   "cell_type": "code",
   "execution_count": 14,
   "metadata": {},
   "outputs": [
    {
     "name": "stdout",
     "output_type": "stream",
     "text": [
      "Train minority class instance count : 6.  Test minority class instance count : 6\n"
     ]
    },
    {
     "name": "stderr",
     "output_type": "stream",
     "text": [
      "/home/brokenjade/software/anaconda3/envs/tensorflow/lib/python3.6/site-packages/sklearn/model_selection/_split.py:2026: FutureWarning: From version 0.21, test_size will always complement train_size unless both are specified.\n",
      "  FutureWarning)\n",
      "/home/brokenjade/software/anaconda3/envs/tensorflow/lib/python3.6/site-packages/sklearn/metrics/classification.py:1428: UserWarning: labels size, 2, does not match size of target_names, 12\n",
      "  .format(len(labels), len(target_names))\n"
     ]
    }
   ],
   "source": [
    "LogisticBOWClassifier.instance.train(x,y)"
   ]
  },
  {
   "cell_type": "code",
   "execution_count": null,
   "metadata": {},
   "outputs": [],
   "source": []
  }
 ],
 "metadata": {
  "kernelspec": {
   "display_name": "Python [default]",
   "language": "python",
   "name": "python3"
  },
  "language_info": {
   "codemirror_mode": {
    "name": "ipython",
    "version": 3
   },
   "file_extension": ".py",
   "mimetype": "text/x-python",
   "name": "python",
   "nbconvert_exporter": "python",
   "pygments_lexer": "ipython3",
   "version": "3.6.3"
  }
 },
 "nbformat": 4,
 "nbformat_minor": 1
}
