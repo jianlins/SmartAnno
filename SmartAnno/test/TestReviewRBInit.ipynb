{
 "cells": [
  {
   "cell_type": "code",
   "execution_count": 1,
   "metadata": {},
   "outputs": [
    {
     "data": {
      "application/vnd.jupyter.widget-view+json": {
       "model_id": "5ea97079331b4de886e2cce4b0b67239",
       "version_major": 2,
       "version_minor": 0
      },
      "text/html": [
       "<p>Failed to display Jupyter Widget of type <code>ToggleButtonsMultiSelectionInBox</code>.</p>\n",
       "<p>\n",
       "  If you're reading this message in the Jupyter Notebook or JupyterLab Notebook, it may mean\n",
       "  that the widgets JavaScript is still loading. If this message persists, it\n",
       "  likely means that the widgets JavaScript library is either not installed or\n",
       "  not enabled. See the <a href=\"https://ipywidgets.readthedocs.io/en/stable/user_install.html\">Jupyter\n",
       "  Widgets Documentation</a> for setup instructions.\n",
       "</p>\n",
       "<p>\n",
       "  If you're reading this message in another frontend (for example, a static\n",
       "  rendering on GitHub or <a href=\"https://nbviewer.jupyter.org/\">NBViewer</a>),\n",
       "  it may mean that your frontend doesn't currently support widgets.\n",
       "</p>\n"
      ],
      "text/plain": [
       "ToggleButtonsMultiSelectionInBox(children=(VBox(layout=Layout(display='flex')),), _dom_classes=('btn-group',))"
      ]
     },
     "metadata": {},
     "output_type": "display_data"
    }
   ],
   "source": [
    "from utils.ReviewRBInit import ReviewRBInit\n",
    "from utils.ReviewRBLoop import ReviewRBLoop\n",
    "from utils.ReviewMLInit import ReviewMLInit\n",
    "from utils.ReviewMLLoop import ReviewMLLoop\n",
    "from gui.Workflow import Workflow\n",
    "from sqlalchemy_dao import Dao\n",
    "from db.ORMs import Document\n",
    "from utils.IntroStep import IntroStep\n",
    "from gui.PreviousNextWidgets import PreviousNextHTML\n",
    "import sqlalchemy_dao\n",
    "import os\n",
    "from  conf.ConfigReader import ConfigReader\n",
    "from models.logistic.LogisticBOWClassifier import LogisticBOWClassifier\n",
    "\n",
    "import logging\n",
    "logging.getLogger().setLevel(logging.DEBUG)\n",
    "\n",
    "ConfigReader('../conf/smartanno_conf.json')\n",
    "wf=Workflow()\n",
    "rb=ReviewRBInit(name=\"rb_review_init\")\n",
    "wf.append(rb)\n",
    "rv=ReviewRBLoop(name='rb_review')\n",
    "wf.append(rv)\n",
    "wf.append(PreviousNextHTML('<h2>Congratuations!</h2><h4>You have finished the initial review on the rule-base preannotations. </h4>',\n",
    "                       name='intro'))\n",
    "wf.append(ReviewMLInit(name='ml_review_init'))\n",
    "wf.append(ReviewMLLoop(name='ml_review',ml_classifier_cls=LogisticBOWClassifier))\n",
    "\n",
    "wf.filters={'TypeA':['heart'],'TypeB':['exam']}\n",
    "wf.types=['TypeA','TypeB']\n",
    "wf.task_id=1\n",
    "wf.umls_extended={}\n",
    "wf.we_extended={}\n",
    "wf.dao=Dao('sqlite+pysqlite:///../data/demo.sqlite', sqlalchemy_dao.POOL_DISABLED)"
   ]
  },
  {
   "cell_type": "code",
   "execution_count": 2,
   "metadata": {},
   "outputs": [
    {
     "name": "stdout",
     "output_type": "stream",
     "text": [
      "next step hasn't been set.\n"
     ]
    }
   ],
   "source": [
    "wf.start()"
   ]
  },
  {
   "cell_type": "code",
   "execution_count": 3,
   "metadata": {},
   "outputs": [
    {
     "data": {
      "text/plain": [
       "[]"
      ]
     },
     "execution_count": 3,
     "metadata": {},
     "output_type": "execute_result"
    }
   ],
   "source": [
    "[step.doc.DOC_ID for step in wf.steps[4].loop_workflow.steps if hasattr(step, \"doc\")]"
   ]
  },
  {
   "cell_type": "code",
   "execution_count": 4,
   "metadata": {},
   "outputs": [
    {
     "data": {
      "text/plain": [
       "[]"
      ]
     },
     "execution_count": 4,
     "metadata": {},
     "output_type": "execute_result"
    }
   ],
   "source": [
    "[(doc.DOC_ID,doc.DOC_NAME) for doc in wf.steps[4].docs]"
   ]
  },
  {
   "cell_type": "code",
   "execution_count": 5,
   "metadata": {},
   "outputs": [
    {
     "data": {
      "text/plain": [
       "[]"
      ]
     },
     "execution_count": 5,
     "metadata": {},
     "output_type": "execute_result"
    }
   ],
   "source": [
    "[step.reviewed for step in wf.steps[4].loop_workflow.steps]"
   ]
  },
  {
   "cell_type": "code",
   "execution_count": 6,
   "metadata": {},
   "outputs": [
    {
     "data": {
      "text/plain": [
       "0"
      ]
     },
     "execution_count": 6,
     "metadata": {},
     "output_type": "execute_result"
    }
   ],
   "source": [
    "from models.logistic.LogisticBOWClassifier import LogisticBOWClassifier\n",
    "LogisticBOWClassifier.status"
   ]
  },
  {
   "cell_type": "code",
   "execution_count": 7,
   "metadata": {},
   "outputs": [
    {
     "ename": "KeyError",
     "evalue": "'annos'",
     "output_type": "error",
     "traceback": [
      "\u001b[0;31m---------------------------------------------------------------------------\u001b[0m",
      "\u001b[0;31mKeyError\u001b[0m                                  Traceback (most recent call last)",
      "\u001b[0;32m<ipython-input-7-551a67626864>\u001b[0m in \u001b[0;36m<module>\u001b[0;34m()\u001b[0m\n\u001b[0;32m----> 1\u001b[0;31m \u001b[0mreviewed\u001b[0m \u001b[0;34m=\u001b[0m \u001b[0;34m{\u001b[0m\u001b[0mdoc_id\u001b[0m\u001b[0;34m:\u001b[0m \u001b[0manno\u001b[0m\u001b[0;34m.\u001b[0m\u001b[0mREVIEWED_TYPE\u001b[0m \u001b[0;32mfor\u001b[0m \u001b[0mdoc_id\u001b[0m\u001b[0;34m,\u001b[0m \u001b[0manno\u001b[0m \u001b[0;32min\u001b[0m \u001b[0mwf\u001b[0m\u001b[0;34m.\u001b[0m\u001b[0msteps\u001b[0m\u001b[0;34m[\u001b[0m\u001b[0;36m4\u001b[0m\u001b[0;34m]\u001b[0m\u001b[0;34m.\u001b[0m\u001b[0mdata\u001b[0m\u001b[0;34m[\u001b[0m\u001b[0;34m'annos'\u001b[0m\u001b[0;34m]\u001b[0m\u001b[0;34m.\u001b[0m\u001b[0mitems\u001b[0m\u001b[0;34m(\u001b[0m\u001b[0;34m)\u001b[0m \u001b[0;32mif\u001b[0m \u001b[0manno\u001b[0m\u001b[0;34m.\u001b[0m\u001b[0mREVIEWED_TYPE\u001b[0m \u001b[0;32mis\u001b[0m \u001b[0;32mnot\u001b[0m \u001b[0;32mNone\u001b[0m\u001b[0;34m}\u001b[0m\u001b[0;34m\u001b[0m\u001b[0m\n\u001b[0m",
      "\u001b[0;31mKeyError\u001b[0m: 'annos'"
     ]
    }
   ],
   "source": [
    "reviewed = {doc_id: anno.REVIEWED_TYPE for doc_id, anno in wf.steps[4].data['annos'].items() if anno.REVIEWED_TYPE is not None}"
   ]
  },
  {
   "cell_type": "code",
   "execution_count": null,
   "metadata": {},
   "outputs": [],
   "source": [
    "[doc.DOC_ID for doc in wf.steps[4].docs]"
   ]
  },
  {
   "cell_type": "code",
   "execution_count": null,
   "metadata": {},
   "outputs": [],
   "source": [
    "[doc.TEXT for doc in wf.steps[4].docs if doc.DOC_ID in wf.steps[4].reviewed]"
   ]
  },
  {
   "cell_type": "code",
   "execution_count": null,
   "metadata": {},
   "outputs": [],
   "source": [
    "x = [doc.TEXT for doc in wf.steps[4].docs[:len(wf.steps[4].reviewed)]]\n",
    "y = list(wf.steps[4].reviewed.values())"
   ]
  },
  {
   "cell_type": "code",
   "execution_count": null,
   "metadata": {},
   "outputs": [],
   "source": [
    "wf.steps[4].reviewed"
   ]
  },
  {
   "cell_type": "code",
   "execution_count": null,
   "metadata": {},
   "outputs": [],
   "source": [
    "LogisticBOWClassifier.instance.train(x,y)"
   ]
  },
  {
   "cell_type": "code",
   "execution_count": null,
   "metadata": {},
   "outputs": [],
   "source": [
    "ml.model.train"
   ]
  }
 ],
 "metadata": {
  "kernelspec": {
   "display_name": "Python [default]",
   "language": "python",
   "name": "python3"
  },
  "language_info": {
   "codemirror_mode": {
    "name": "ipython",
    "version": 3
   },
   "file_extension": ".py",
   "mimetype": "text/x-python",
   "name": "python",
   "nbconvert_exporter": "python",
   "pygments_lexer": "ipython3",
   "version": "3.6.3"
  }
 },
 "nbformat": 4,
 "nbformat_minor": 1
}
