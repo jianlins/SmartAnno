{
 "cells": [
  {
   "cell_type": "code",
   "execution_count": 1,
   "metadata": {},
   "outputs": [
    {
     "data": {
      "text/html": [
       "<p>Failed to display Jupyter Widget of type <code>VBox</code>.</p>\n",
       "<p>\n",
       "  If you're reading this message in the Jupyter Notebook or JupyterLab Notebook, it may mean\n",
       "  that the widgets JavaScript is still loading. If this message persists, it\n",
       "  likely means that the widgets JavaScript library is either not installed or\n",
       "  not enabled. See the <a href=\"https://ipywidgets.readthedocs.io/en/stable/user_install.html\">Jupyter\n",
       "  Widgets Documentation</a> for setup instructions.\n",
       "</p>\n",
       "<p>\n",
       "  If you're reading this message in another frontend (for example, a static\n",
       "  rendering on GitHub or <a href=\"https://nbviewer.jupyter.org/\">NBViewer</a>),\n",
       "  it may mean that your frontend doesn't currently support widgets.\n",
       "</p>\n"
      ],
      "text/plain": [
       "VBox(children=(IntProgress(value=55, description='Progress: 55/110', layout=Layout(height='14px', width='90%'), max=110, min=1, style=ProgressStyle(description_width='initial')), HTML(value='<table style=\"width:100%\"><tr><th>DOC_ID</th><th>DATE</th><th>REF_DATE</th></tr><tr><td>22772</td><td>2089-09-20</td><td>2094-05-24</td></tr></table><div id=\"d1\" style=\"overflow-y: scroll; height:200px;border:1px solid;border-color:#e5e8e8; \">PLEASANT GENTLEMAN OF <span class=\"highlighter\" style=\"background-color:  PaleGreen \">GERMAN</span> EXTRACTION, SITTING IN A WHEECHAIR.</div>'), ClickResponsiveToggleButtons(button_style='success', index=2, layout=Layout(width='70%'), options=('Eng', 'NotEng', 'Irrelevant'), value='Irrelevant'), Label(value='', layout=Layout(height='10px')), IntProgress(value=1, layout=Layout(height='10px', left='1%', width='98%'), max=1, style=ProgressStyle(bar_color='GAINSBORO')), Label(value='', layout=Layout(height='1px')), HBox(children=(Button(description='Previous', layout=Layout(left='100px', width='90px'), style=ButtonStyle()), Button(description='Next', layout=Layout(left='100px', width='90px'), style=ButtonStyle()), Button(description='Complete', layout=Layout(left='100px', width='90px'), style=ButtonStyle())), layout=Layout(left='10%', width='80%'))))"
      ]
     },
     "metadata": {},
     "output_type": "execute_result"
    }
   ],
   "source": [
    "from SmartAnno.gui.Main import Main\n",
    "main=Main()\n",
    "import logging\n",
    "\n",
    "import sqlalchemy_dao\n",
    "from sqlalchemy_dao import Dao\n",
    "\n",
    "from SmartAnno.utils.ConfigReader import ConfigReader\n",
    "from SmartAnno.db.ORMs import Filter\n",
    "from SmartAnno.gui.Workflow import Workflow\n",
    "from SmartAnno.utils.AnnotationTypeDef import AnnotationTypeDef\n",
    "from SmartAnno.utils.IntroStep import IntroStep\n",
    "from SmartAnno.utils.KeywordsFiltering import KeywordsFiltering\n",
    "from SmartAnno.utils.KeywordsUMLSExtender import KeywordsUMLSExtender\n",
    "from SmartAnno.utils.KeywordsUMLSExtenderSetup import KeywordsUMLSExtenderSetup\n",
    "from SmartAnno.gui.PreviousNextWidgets import PreviousNextHTML\n",
    "from SmartAnno.utils.ReviewRBInit import ReviewRBInit\n",
    "from SmartAnno.utils.ReviewRBLoop import ReviewRBLoop\n",
    "from SmartAnno.utils.ReviewMLInit import ReviewMLInit\n",
    "from SmartAnno.utils.ReviewMLLoop import ReviewMLLoop\n",
    "from SmartAnno.models.logistic.LogisticBOWClassifier import LogisticBOWClassifier\n",
    "from SmartAnno.utils.DataSetChooser import DataSetChooser\n",
    "\n",
    "logging.getLogger().setLevel(logging.DEBUG)\n",
    "\n",
    "ConfigReader('../conf/smartanno_conf.json')\n",
    "\n",
    "wf = Workflow(config_file=ConfigReader.config_file)\n",
    "wf.api_key = ConfigReader.getValue(\"api_key\")\n",
    "wf.dao = Dao('sqlite+pysqlite:///../data/test.sqlite', sqlalchemy_dao.POOL_DISABLED)\n",
    "wf.task_name = 'language'\n",
    "wf.append(DataSetChooser(name='dataset_chooser',description='<h4>Choose which dateaset you want to use: </h4>'))\n",
    "wf.append(AnnotationTypeDef(\n",
    "    '<h3>Annotation types:</h3><p>List all the types you want to identify below. Each type per line.<br/>If you'\n",
    "    'have too many types, try set up them separately, so that you won&apos;t need to choose from a long list '\n",
    "    'for each sample. </p>', name='types'))\n",
    "wf.append(KeywordsFiltering(\n",
    "    name='keywords'))\n",
    "\n",
    "rb=ReviewRBInit(name=\"rb_review_init\")\n",
    "wf.append(rb)\n",
    "rv = ReviewRBLoop(name='rb_review', rush_rule='../conf/rush_rules.tsv')\n",
    "wf.append(rv)\n",
    "wf.append(PreviousNextHTML('<h2>Congratuations!</h2><h4>You have finished the initial review on the rule-base preannotations. </h4>',\n",
    "                       name='intro'))\n",
    "wf.append(ReviewMLInit(name='ml_review_init'))\n",
    "wf.append(ReviewMLLoop(name='ml_review',ml_classifier_cls=LogisticBOWClassifier))\n",
    "\n",
    "wf.start()\n",
    "wf.steps[0].complete()\n",
    "wf.steps[1].complete()\n",
    "wf.steps[2].complete()\n",
    "wf.steps[3].complete()\n",
    "wf.steps[4].complete()\n",
    "wf.steps[5].complete()"
   ]
  },
  {
   "cell_type": "code",
   "execution_count": 3,
   "metadata": {},
   "outputs": [
    {
     "name": "stdout",
     "output_type": "stream",
     "text": [
      "None\n"
     ]
    }
   ],
   "source": [
    "print(wf.steps[7].loop_workflow.steps[0].next_step)"
   ]
  },
  {
   "cell_type": "code",
   "execution_count": 15,
   "metadata": {},
   "outputs": [
    {
     "data": {
      "text/plain": [
       "34"
      ]
     },
     "execution_count": 15,
     "metadata": {},
     "output_type": "execute_result"
    }
   ],
   "source": [
    "wf.steps[7].loop_workflow.steps[32].pos_id"
   ]
  },
  {
   "cell_type": "code",
   "execution_count": 18,
   "metadata": {},
   "outputs": [
    {
     "data": {
      "text/plain": [
       "<Annotation(ID='2633', BUNCH_ID='None',DOC_ID='24067', RUN_ID='None',TYPE='NotEng',REVIEWED_TYPE='Irrelevant',BEGIN='None', END='None',SNIPPET_BEGIN='None', TEXT='None',SNIPPET='None',FEATURES='None',COMMENTS='None',CREATE_DTM='2018-04-19 03:28:27.103233')>"
      ]
     },
     "execution_count": 18,
     "metadata": {},
     "output_type": "execute_result"
    }
   ],
   "source": [
    "wf.steps[7].annos[24067]"
   ]
  },
  {
   "cell_type": "code",
   "execution_count": 2,
   "metadata": {},
   "outputs": [],
   "source": [
    "logging.getLogger().setLevel(logging.DEBUG)"
   ]
  },
  {
   "cell_type": "code",
   "execution_count": null,
   "metadata": {},
   "outputs": [],
   "source": []
  }
 ],
 "metadata": {
  "kernelspec": {
   "display_name": "Python [default]",
   "language": "python",
   "name": "python3"
  },
  "language_info": {
   "codemirror_mode": {
    "name": "ipython",
    "version": 3
   },
   "file_extension": ".py",
   "mimetype": "text/x-python",
   "name": "python",
   "nbconvert_exporter": "python",
   "pygments_lexer": "ipython3",
   "version": "3.6.3"
  }
 },
 "nbformat": 4,
 "nbformat_minor": 1
}
