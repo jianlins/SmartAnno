{
 "cells": [
  {
   "cell_type": "code",
   "execution_count": 1,
   "metadata": {},
   "outputs": [
    {
     "data": {
      "application/vnd.jupyter.widget-view+json": {
       "model_id": "80a0becede4946fa869891ed1195bd57",
       "version_major": 2,
       "version_minor": 0
      },
      "text/html": [
       "<p>Failed to display Jupyter Widget of type <code>ToggleButtonsMultiSelectionInBox</code>.</p>\n",
       "<p>\n",
       "  If you're reading this message in the Jupyter Notebook or JupyterLab Notebook, it may mean\n",
       "  that the widgets JavaScript is still loading. If this message persists, it\n",
       "  likely means that the widgets JavaScript library is either not installed or\n",
       "  not enabled. See the <a href=\"https://ipywidgets.readthedocs.io/en/stable/user_install.html\">Jupyter\n",
       "  Widgets Documentation</a> for setup instructions.\n",
       "</p>\n",
       "<p>\n",
       "  If you're reading this message in another frontend (for example, a static\n",
       "  rendering on GitHub or <a href=\"https://nbviewer.jupyter.org/\">NBViewer</a>),\n",
       "  it may mean that your frontend doesn't currently support widgets.\n",
       "</p>\n"
      ],
      "text/plain": [
       "ToggleButtonsMultiSelectionInBox(children=(VBox(layout=Layout(display='flex')),), _dom_classes=('btn-group',))"
      ]
     },
     "metadata": {},
     "output_type": "display_data"
    }
   ],
   "source": [
    "\n",
    "from utils.ReviewRBInit import ReviewRBInit\n",
    "from utils.ReviewRBLoop import ReviewRBLoop\n",
    "from gui.Workflow import Workflow\n",
    "from sqlalchemy_dao import Dao\n",
    "from db.ORMs import Document\n",
    "from utils.IntroStep import IntroStep\n",
    "from gui.PreviousNextWidgets import PreviousNextHTML\n",
    "import sqlalchemy_dao\n",
    "import os\n",
    "from  conf.ConfigReader import ConfigReader\n",
    "\n",
    "import logging\n",
    "logging.getLogger().setLevel(logging.DEBUG)\n",
    "\n",
    "ConfigReader('../conf/smartanno_conf.json')\n",
    "wf=Workflow()\n",
    "rb=ReviewRBInit(name=\"rb_review_init\")\n",
    "wf.append(rb)\n",
    "rv=ReviewRBLoop(name='rb_review')\n",
    "wf.append(rv)\n",
    "wf.append(PreviousNextHTML('<h2>Welcome to SmartAnno!</h2><h4>First, let&apos;s import txt data from a directory. </h4>',\n",
    "                       name='intro'))\n",
    "\n",
    "wf.filters={'TypeA':['heart'],'TypeB':['exam']}\n",
    "wf.types=['TypeA','TypeB']\n",
    "wf.task_id=1\n",
    "wf.umls_extended={}\n",
    "wf.we_extended={}\n",
    "wf.dao=Dao('sqlite+pysqlite:///../data/demo.sqlite', sqlalchemy_dao.POOL_DISABLED)"
   ]
  },
  {
   "cell_type": "code",
   "execution_count": 2,
   "metadata": {},
   "outputs": [
    {
     "data": {
      "application/vnd.jupyter.widget-view+json": {
       "model_id": "05bfa19f7e6945089f578e89624c0e31",
       "version_major": 2,
       "version_minor": 0
      },
      "text/html": [
       "<p>Failed to display Jupyter Widget of type <code>VBox</code>.</p>\n",
       "<p>\n",
       "  If you're reading this message in the Jupyter Notebook or JupyterLab Notebook, it may mean\n",
       "  that the widgets JavaScript is still loading. If this message persists, it\n",
       "  likely means that the widgets JavaScript library is either not installed or\n",
       "  not enabled. See the <a href=\"https://ipywidgets.readthedocs.io/en/stable/user_install.html\">Jupyter\n",
       "  Widgets Documentation</a> for setup instructions.\n",
       "</p>\n",
       "<p>\n",
       "  If you're reading this message in another frontend (for example, a static\n",
       "  rendering on GitHub or <a href=\"https://nbviewer.jupyter.org/\">NBViewer</a>),\n",
       "  it may mean that your frontend doesn't currently support widgets.\n",
       "</p>\n"
      ],
      "text/plain": [
       "VBox(children=(IntProgress(value=1, description='Progress: 1/19', layout=Layout(height='14px', width='90%'), max=19, min=1, style=ProgressStyle(description_width='initial')), HTML(value='<table style=\"width:100%\"><tr><th>DOC_ID</th><th>DATE</th><th>REF_DATE</th></tr><tr><td>2</td><td>2108-03-14</td><td>None</td></tr></table><div id=\"d1\" style=\"overflow-y: scroll; height:200px;border:1px solid;border-color:#e5e8e8; \">Record date: 2108-03-14<br/><br/>                     CAMPBELL EMERGENCY DEPT VISIT<br/><br/> <br/><br/>VALDEZ,HARLAN,JR.   845-41-54-4                VISIT DATE: 03/14/08<br/><br/>The patient was seen and examined in the emergency department.  The <br/><br/>patient was seen by the Emergency Medicine resident.  I have <br/><br/>discussed the management with the resident.  I have also seen the <br/><br/>patient primarily and reviewed the medical record.  This is a brief <br/><br/>addendum to the medical record.<br/><br/>HISTORY OF PRESENTING COMPLAINT:  Briefly, this is a 45-year-old <br/><br/>male who complains of several days of nausea, vomiting, and left <br/><br/>lower quadrant discomfort.  He also describes intermittent chest <br/><br/>pain, which he has had for a number of months without significant <br/><br/>change.  He was sent in from his primary care doctor today with <br/><br/>this pain and was also noted to have some EKG changes.  The patient <br/><br/>has no chest pain at the time of evaluation in the emergency <br/><br/>department and no shortness of breath.<br/><br/>REVIEW OF SYSTEMS:  As indicated and otherwise negative.<br/><br/>PAST MEDICAL HISTORY:  As indicated in the chart.<br/><br/>SOCIAL HISTORY AND FAMILY HISTORY:  As indicated in the chart.<br/><br/>PHYSICAL EXAMINATION:  On physical examination, the patient is very <br/><br/>well-appearing, a smiling, very pleasant gentleman in no acute <br/><br/>distress.  The blood pressure is 119/90, the pulse 82, and the <br/><br/>temperature 97.9 degrees.  Normocephalic and atraumatic.  The chest <br/><br/>is clear to auscultation.  The <span class=\"highlighter\" style=\"background-color:  None \">heart</span> has a regular rate and rhythm. <br/><br/>The abdomen is soft.  He has left lower quadrant tenderness.  He <br/><br/>also, of note on cardiovascular examination, has a soft murmur <br/><br/>which he says he has had since childhood.  The extremities are <br/><br/>normal.  The neurologic examination is non-focal. <br/><br/>THERAPY RENDERED/COURSE IN ED:  This is a gentleman with abdominal <br/><br/>pain who will receive a CAT scan to rule out diverticulitis.  He <br/><br/>has also had some non-specific ST changes on his EKG.  He is <br/><br/>pain-free at this time.  He does not describe a classic exertional <br/><br/>pattern for his chest pain, but given that he is a diabetic and <br/><br/>with EKG changes, he will also be admitted for rule out MI.  A CT <br/><br/>is pending at the time of this dictation.<br/><br/>DISPOSITION (including condition upon discharge):  As above.  The <br/><br/>patient\\'s condition is currently stable. <br/><br/>___________________________________                    CK498/89095 <br/><br/>JAY CARROLL, M.D.  JC72                                 D:03/14/08 <br/><br/>                                                       T:03/14/08 <br/><br/>Dictated by:  JAY CARROLL, M.D.  JC72 <br/><br/> ******** Not reviewed by Attending Physician ********</div>'), ClickResponsiveToggleButtons(button_style='success', layout=Layout(width='70%'), options=('TypeA', 'TypeB'), value='TypeA'), Label(value='', layout=Layout(height='10px')), IntProgress(value=1, layout=Layout(height='10px', left='1%', width='98%'), max=1, style=ProgressStyle(bar_color='GAINSBORO')), Label(value='', layout=Layout(height='1px')), HBox(children=(Button(description='Previous', layout=Layout(left='100px', width='90px'), style=ButtonStyle()), Button(description='Next', layout=Layout(left='100px', width='90px'), style=ButtonStyle()), Button(description='Complete', layout=Layout(left='100px', width='90px'), style=ButtonStyle())), layout=Layout(left='10%', width='80%'))))"
      ]
     },
     "metadata": {},
     "output_type": "display_data"
    }
   ],
   "source": [
    "wf.start()"
   ]
  },
  {
   "cell_type": "code",
   "execution_count": 3,
   "metadata": {},
   "outputs": [
    {
     "ename": "IndexError",
     "evalue": "list index out of range",
     "output_type": "error",
     "traceback": [
      "\u001b[0;31m---------------------------------------------------------------------------\u001b[0m",
      "\u001b[0;31mIndexError\u001b[0m                                Traceback (most recent call last)",
      "\u001b[0;32m<ipython-input-3-fe628dc6c85e>\u001b[0m in \u001b[0;36m<module>\u001b[0;34m()\u001b[0m\n\u001b[0;32m----> 1\u001b[0;31m \u001b[0mwf\u001b[0m\u001b[0;34m.\u001b[0m\u001b[0msteps\u001b[0m\u001b[0;34m[\u001b[0m\u001b[0;36m1\u001b[0m\u001b[0;34m]\u001b[0m\u001b[0;34m.\u001b[0m\u001b[0mloop_workflow\u001b[0m\u001b[0;34m.\u001b[0m\u001b[0msteps\u001b[0m\u001b[0;34m[\u001b[0m\u001b[0;36m2\u001b[0m\u001b[0;34m]\u001b[0m\u001b[0;34m.\u001b[0m\u001b[0mnext_step\u001b[0m\u001b[0;34m\u001b[0m\u001b[0m\n\u001b[0m",
      "\u001b[0;31mIndexError\u001b[0m: list index out of range"
     ]
    }
   ],
   "source": [
    "wf.steps[1].loop_workflow.steps[2].next_step"
   ]
  },
  {
   "cell_type": "code",
   "execution_count": null,
   "metadata": {},
   "outputs": [],
   "source": [
    "wf.steps[1].reviewed"
   ]
  },
  {
   "cell_type": "code",
   "execution_count": null,
   "metadata": {},
   "outputs": [],
   "source": [
    "[doc.DOC_ID for doc in wf.steps[1].docs]"
   ]
  },
  {
   "cell_type": "code",
   "execution_count": null,
   "metadata": {},
   "outputs": [],
   "source": [
    "wf.steps[1].docs"
   ]
  },
  {
   "cell_type": "code",
   "execution_count": null,
   "metadata": {},
   "outputs": [],
   "source": []
  }
 ],
 "metadata": {
  "kernelspec": {
   "display_name": "Python [default]",
   "language": "python",
   "name": "python3"
  },
  "language_info": {
   "codemirror_mode": {
    "name": "ipython",
    "version": 3
   },
   "file_extension": ".py",
   "mimetype": "text/x-python",
   "name": "python",
   "nbconvert_exporter": "python",
   "pygments_lexer": "ipython3",
   "version": "3.6.3"
  }
 },
 "nbformat": 4,
 "nbformat_minor": 1
}
