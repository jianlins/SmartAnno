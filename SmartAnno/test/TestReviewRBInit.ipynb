{
 "cells": [
  {
   "cell_type": "code",
   "execution_count": 1,
   "metadata": {},
   "outputs": [
    {
     "data": {
      "application/vnd.jupyter.widget-view+json": {
       "model_id": "da64e43114984bc698e4b4c9962da0eb",
       "version_major": 2,
       "version_minor": 0
      },
      "text/html": [
       "<p>Failed to display Jupyter Widget of type <code>VBox</code>.</p>\n",
       "<p>\n",
       "  If you're reading this message in the Jupyter Notebook or JupyterLab Notebook, it may mean\n",
       "  that the widgets JavaScript is still loading. If this message persists, it\n",
       "  likely means that the widgets JavaScript library is either not installed or\n",
       "  not enabled. See the <a href=\"https://ipywidgets.readthedocs.io/en/stable/user_install.html\">Jupyter\n",
       "  Widgets Documentation</a> for setup instructions.\n",
       "</p>\n",
       "<p>\n",
       "  If you're reading this message in another frontend (for example, a static\n",
       "  rendering on GitHub or <a href=\"https://nbviewer.jupyter.org/\">NBViewer</a>),\n",
       "  it may mean that your frontend doesn't currently support widgets.\n",
       "</p>\n"
      ],
      "text/plain": [
       "VBox(children=(IntProgress(value=10, description='Progress: 10/200', layout=Layout(height='14px', width='90%'), max=200, min=1, style=ProgressStyle(description_width='initial')), HTML(value='<table style=\"width:100%\"><tr><th>DOC_ID</th><th>DATE</th><th>REF_DATE</th></tr><tr><td>9075</td><td>2094-09-28</td><td>2097-08-18</td></tr></table><div id=\"d1\" style=\"overflow-y: scroll; height:200px;border:1px solid;border-color:#e5e8e8; \">DJD  on MRI 12/93 and <span class=\"highlighter\" style=\"background-color:  PaleGreen \">told</span>  of sciatica.</div>'), ClickResponsiveToggleButtons(button_style='success', index=3, layout=Layout(width='70%'), options=('Eng', 'PossibleEng', 'NotEng', 'Irrelevant'), value='Irrelevant'), Label(value='', layout=Layout(height='10px')), IntProgress(value=1, layout=Layout(height='10px', left='1%', width='98%'), max=1, style=ProgressStyle(bar_color='GAINSBORO')), Label(value='', layout=Layout(height='1px')), HBox(children=(Button(description='Previous', layout=Layout(left='100px', width='90px'), style=ButtonStyle()), Button(description='Next', layout=Layout(left='100px', width='90px'), style=ButtonStyle()), Button(description='Complete', layout=Layout(left='100px', width='90px'), style=ButtonStyle())), layout=Layout(left='10%', width='80%'))))"
      ]
     },
     "metadata": {},
     "output_type": "display_data"
    }
   ],
   "source": [
    "from gui.Main import Main\n",
    "main=Main()\n",
    "import logging\n",
    "\n",
    "import sqlalchemy_dao\n",
    "from sqlalchemy_dao import Dao\n",
    "\n",
    "from conf.ConfigReader import ConfigReader\n",
    "from db.ORMs import Filter\n",
    "from gui.Workflow import Workflow\n",
    "from utils.AnnotationTypeDef import AnnotationTypeDef\n",
    "from utils.IntroStep import IntroStep\n",
    "from utils.KeywordsFiltering import KeywordsFiltering\n",
    "from utils.KeywordsUMLSExtender import KeywordsUMLSExtender\n",
    "from utils.KeywordsUMLSExtenderSetup import KeywordsUMLSExtenderSetup\n",
    "from gui.PreviousNextWidgets import PreviousNextHTML\n",
    "from utils.ReviewRBInit import ReviewRBInit\n",
    "from utils.ReviewRBLoop import ReviewRBLoop\n",
    "from utils.ReviewMLInit import ReviewMLInit\n",
    "from utils.ReviewMLLoop import ReviewMLLoop\n",
    "from models.logistic.LogisticBOWClassifier import LogisticBOWClassifier\n",
    "from utils.DataSetChooser import DataSetChooser\n",
    "\n",
    "logging.getLogger().setLevel(logging.DEBUG)\n",
    "\n",
    "ConfigReader('../conf/smartanno_conf.json')\n",
    "\n",
    "wf = Workflow(config_file=ConfigReader.config_file)\n",
    "wf.api_key = ConfigReader.getValue(\"api_key\")\n",
    "wf.dao = Dao('sqlite+pysqlite:///../data/test.sqlite', sqlalchemy_dao.POOL_DISABLED)\n",
    "wf.task_name = 'language'\n",
    "wf.append(AnnotationTypeDef(\n",
    "    '<h3>Annotation types:</h3><p>List all the types you want to identify below. Each type per line.<br/>If you'\n",
    "    'have too many types, try set up them separately, so that you won&apos;t need to choose from a long list '\n",
    "    'for each sample. </p>', name='types'))\n",
    "wf.append(KeywordsFiltering(\n",
    "    name='keywords'))\n",
    "wf.append(DataSetChooser(name='dataset_chooser',description='<h4>Choose which dateaset you want to use: </h4>'))\n",
    "rb=ReviewRBInit(name=\"rb_review_init\")\n",
    "wf.append(rb)\n",
    "rv = ReviewRBLoop(name='rb_review', rush_rule='../conf/rush_rules.tsv')\n",
    "wf.append(rv)\n",
    "wf.append(PreviousNextHTML('<h2>Congratuations!</h2><h4>You have finished the initial review on the rule-base preannotations. </h4>',\n",
    "                       name='intro'))\n",
    "wf.append(ReviewMLInit(name='ml_review_init'))\n",
    "wf.append(ReviewMLLoop(name='ml_review',ml_classifier_cls=LogisticBOWClassifier))\n",
    "\n",
    "wf.start()\n",
    "wf.steps[0].complete()\n",
    "wf.steps[1].complete()\n",
    "wf.steps[2].toggle.value='n2c2_sents'\n",
    "wf.steps[2].complete()"
   ]
  },
  {
   "cell_type": "code",
   "execution_count": 2,
   "metadata": {},
   "outputs": [
    {
     "ename": "SyntaxError",
     "evalue": "invalid syntax (<ipython-input-2-5618d95111a7>, line 1)",
     "output_type": "error",
     "traceback": [
      "\u001b[0;36m  File \u001b[0;32m\"<ipython-input-2-5618d95111a7>\"\u001b[0;36m, line \u001b[0;32m1\u001b[0m\n\u001b[0;31m    widget.\u001b[0m\n\u001b[0m           ^\u001b[0m\n\u001b[0;31mSyntaxError\u001b[0m\u001b[0;31m:\u001b[0m invalid syntax\n"
     ]
    }
   ],
   "source": [
    "widget."
   ]
  },
  {
   "cell_type": "code",
   "execution_count": null,
   "metadata": {},
   "outputs": [],
   "source": [
    "wf.steps[3].un_reviewed"
   ]
  },
  {
   "cell_type": "code",
   "execution_count": null,
   "metadata": {},
   "outputs": [],
   "source": [
    "sampler=wf.steps[3].sampler"
   ]
  },
  {
   "cell_type": "code",
   "execution_count": null,
   "metadata": {},
   "outputs": [],
   "source": [
    "list=[len(sampler.all_contain_ids), \n",
    "      len(sampler.previous_sampled_ids),\n",
    "     sampler.available_not_contain,\n",
    "     ]\n",
    "list"
   ]
  },
  {
   "cell_type": "code",
   "execution_count": null,
   "metadata": {},
   "outputs": [],
   "source": [
    "{type_name:len(ids) for type_name,ids in sampler.new_ids.items()}"
   ]
  },
  {
   "cell_type": "code",
   "execution_count": null,
   "metadata": {},
   "outputs": [],
   "source": [
    "{type_name:len(ids)-len(sampler.new_ids[type_name]) for type_name,ids in sampler.grouped_ids.items()}"
   ]
  },
  {
   "cell_type": "code",
   "execution_count": null,
   "metadata": {},
   "outputs": [],
   "source": [
    "len(sampler.all_contain_ids.intersection(sampler.previous_sampled_ids))"
   ]
  },
  {
   "cell_type": "code",
   "execution_count": null,
   "metadata": {},
   "outputs": [],
   "source": [
    "import ipywidgets as widget"
   ]
  },
  {
   "cell_type": "code",
   "execution_count": null,
   "metadata": {},
   "outputs": [],
   "source": [
    "widget.HTML(value='''<table style=\"width:100%\"><tr><th>DOC_ID</th><th>DATE</th><th>REF_DATE</th></tr><tr><td>4610</td><td>2065-09-20</td><td>2066-05-23</td></tr></table><div id=\"d1\" style=\"overflow-y: scroll; height:200px;border:1px solid;border-color:#e5e8e8; \">(5)\tReturn to clinic in three months to Dr. <span class=\"highlighter\" style=\"background-color:  None \">Eng</span> .</div>''')"
   ]
  },
  {
   "cell_type": "code",
   "execution_count": null,
   "metadata": {},
   "outputs": [],
   "source": []
  }
 ],
 "metadata": {
  "kernelspec": {
   "display_name": "Python [default]",
   "language": "python",
   "name": "python3"
  },
  "language_info": {
   "codemirror_mode": {
    "name": "ipython",
    "version": 3
   },
   "file_extension": ".py",
   "mimetype": "text/x-python",
   "name": "python",
   "nbconvert_exporter": "python",
   "pygments_lexer": "ipython3",
   "version": "3.6.3"
  }
 },
 "nbformat": 4,
 "nbformat_minor": 1
}
