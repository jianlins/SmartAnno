{
 "cells": [
  {
   "cell_type": "code",
   "execution_count": 1,
   "metadata": {},
   "outputs": [
    {
     "data": {
      "application/vnd.jupyter.widget-view+json": {
       "model_id": "f9a582ea2c9b4feeaa7d29c17601df5c",
       "version_major": 2,
       "version_minor": 0
      },
      "text/html": [
       "<p>Failed to display Jupyter Widget of type <code>ToggleButtonsMultiSelectionInBox</code>.</p>\n",
       "<p>\n",
       "  If you're reading this message in the Jupyter Notebook or JupyterLab Notebook, it may mean\n",
       "  that the widgets JavaScript is still loading. If this message persists, it\n",
       "  likely means that the widgets JavaScript library is either not installed or\n",
       "  not enabled. See the <a href=\"https://ipywidgets.readthedocs.io/en/stable/user_install.html\">Jupyter\n",
       "  Widgets Documentation</a> for setup instructions.\n",
       "</p>\n",
       "<p>\n",
       "  If you're reading this message in another frontend (for example, a static\n",
       "  rendering on GitHub or <a href=\"https://nbviewer.jupyter.org/\">NBViewer</a>),\n",
       "  it may mean that your frontend doesn't currently support widgets.\n",
       "</p>\n"
      ],
      "text/plain": [
       "ToggleButtonsMultiSelectionInBox(children=(VBox(layout=Layout(display='flex')),), _dom_classes=('btn-group',))"
      ]
     },
     "metadata": {},
     "output_type": "display_data"
    }
   ],
   "source": [
    "\n",
    "from utils.ReviewRBInit import ReviewRBInit\n",
    "from utils.ReviewRBLoop import ReviewRBLoop\n",
    "from gui.Workflow import Workflow\n",
    "from sqlalchemy_dao import Dao\n",
    "from db.ORMs import Document\n",
    "from utils.IntroStep import IntroStep\n",
    "from gui.PreviousNextWidgets import PreviousNextHTML\n",
    "import sqlalchemy_dao\n",
    "import os\n",
    "from  conf.ConfigReader import ConfigReader\n",
    "\n",
    "import logging\n",
    "logging.getLogger().setLevel(logging.DEBUG)\n",
    "\n",
    "ConfigReader('../conf/smartanno_conf.json')\n",
    "wf=Workflow()\n",
    "rb=ReviewRBInit(name=\"rb_review_init\")\n",
    "wf.append(rb)\n",
    "rv=ReviewRBLoop(name='rb_review')\n",
    "wf.append(rv)\n",
    "wf.append(PreviousNextHTML('<h2>Welcome to SmartAnno!</h2><h4>First, let&apos;s import txt data from a directory. </h4>',\n",
    "                       name='intro'))\n",
    "\n",
    "wf.filters={'TypeA':['heart'],'TypeB':['exam']}\n",
    "wf.types=['TypeA','TypeB']\n",
    "wf.task_id=1\n",
    "wf.umls_extended={}\n",
    "wf.we_extended={}\n",
    "wf.dao=Dao('sqlite+pysqlite:///../data/demo.sqlite', sqlalchemy_dao.POOL_DISABLED)"
   ]
  },
  {
   "cell_type": "code",
   "execution_count": 2,
   "metadata": {},
   "outputs": [
    {
     "data": {
      "application/vnd.jupyter.widget-view+json": {
       "model_id": "5b5a553ce4604270ba5e50855857cda3",
       "version_major": 2,
       "version_minor": 0
      },
      "text/html": [
       "<p>Failed to display Jupyter Widget of type <code>VBox</code>.</p>\n",
       "<p>\n",
       "  If you're reading this message in the Jupyter Notebook or JupyterLab Notebook, it may mean\n",
       "  that the widgets JavaScript is still loading. If this message persists, it\n",
       "  likely means that the widgets JavaScript library is either not installed or\n",
       "  not enabled. See the <a href=\"https://ipywidgets.readthedocs.io/en/stable/user_install.html\">Jupyter\n",
       "  Widgets Documentation</a> for setup instructions.\n",
       "</p>\n",
       "<p>\n",
       "  If you're reading this message in another frontend (for example, a static\n",
       "  rendering on GitHub or <a href=\"https://nbviewer.jupyter.org/\">NBViewer</a>),\n",
       "  it may mean that your frontend doesn't currently support widgets.\n",
       "</p>\n"
      ],
      "text/plain": [
       "VBox(children=(IntProgress(value=2, description='Progress: 2/5', layout=Layout(height='14px', width='90%'), max=5, style=ProgressStyle(description_width='initial')), HTML(value='<table style=\"width:100%\"><tr><th>DOC_ID</th><th>DATE</th><th>REF_DATE</th></tr><tr><td>22</td><td>2111-12-14</td><td>None</td></tr></table><div id=\"d1\" style=\"overflow-y: scroll; height:400px;border:1px solid;border-color:#e5e8e8; \">Record date: 2111-12-14<br/><br/> <br/><br/><br/><br/>NEUROLOGY CMF ADMISSION NOTE<br/><br/><br/><br/>Name: \\tVALDEZ, Harlan<br/><br/>DOB:\\t11-9-2062<br/><br/>MR#: \\t7672624<br/><br/>Date:\\t12/13/11, 9:30pm<br/><br/><br/><br/>FOR DETAILS, PLEASE SEE AALIYAH IRAHETA\\'S NOTE<br/><br/><br/><br/>ID/CC: 49yoRHM w/ PMH signif for CAD, Afib, DM, Bipolar, who presents w/ RLE weakness/decreased sensation x 24hrs<br/><br/><br/><br/>HPI: 49yoRHM w/ PMH signif for CAD, Afib, DM, Bipolar, who was in USOH until 10d ago, when had weakness in his L arm.  Thought this was 2/2 sleeping on it.  Involved whole arm from shoulder down.  Was still doing his ADL\\'s but felt like the arm was slightly weaker, took 4-5 days to get back to normal.  <br/><br/><br/><br/>Then, 12/12/11, was eating dinner w/ a friend, got up to go to BR, found he had RLE weakness/stiffness.  Noticed it was hard to climb stairs.  Went to sleep    woke up at 2am    nearly fell 2/2 weakness in his leg.  In addition, has sensory loss in RLE, esp foot - felt    cold and dead.     The sensory loss was worst distally, but extended up to his thigh.  Never had trouble speaking or understanding others, did not have a facial droop, no problems w/ his RUE.  Stayed in bed until am, when he called his PCP, who told him to come to ED.  <br/><br/><br/><br/>Of note, in Oct-Nov 2111, had cardiac cath x 2.  Had NSTEMI on Oct 8, 2111    taken to cardiac cath    cath showed significant RCA disease and 40% prox LCx    c/b Vfib needing defib    stent placed for stenotic RCA lesion, c/b dissection needing 2nd stent placed.  Post cath had Afib requiring amiodarone.  Then had subsequent cath Nov 1 after an episode of CP, stents patent, other vessels stable.  After his inpt cardiac hospitalization, was admitted to psych for 1 wk for suicidality/depression.  <br/><br/><br/><br/>Previously, in spring 2110, had L eye visual disturbance    nearly blind    went to GHIC where was dx\\'ed w/ retinal venous occlusion, treated w/ cortisone and laser surgery, w/ mild improvement in vision (now blurred in that eye).<br/><br/><br/><br/>No HA, no tinnitus, no vertigo.  No blurry vision except in L eye from venous occlusion, no diplopia.  No problems w/ speech.<br/><br/><br/><br/>PMH: <br/><br/>DM - insulin x years <br/><br/>CAD s/p NSTEMI as above<br/><br/>Bipolar disorder - on lithium and depakote, has required inpt hospitalization and ECT in past<br/><br/>Afib as above<br/><br/>Hyperchol<br/><br/><br/><br/>MEDS: <br/><br/>Insulin 70/30  22 units bid<br/><br/>Asa 81<br/><br/>Plavix 75<br/><br/>Lithium ? dose (600 bid on prior note)<br/><br/>Norvasc ? dose (5 on prior note)<br/><br/>Mirtazapine ? dose (45 on prior note)<br/><br/>Naltrexone <br/><br/>Nexium (20 on prior note)<br/><br/>Lipitor (40 on prior note)<br/><br/>Cozaar ? dose<br/><br/>Depakote ? dose (500 bid on prior note)<br/><br/>(Lopressor 75 po q8 per prior notes)<br/><br/>Folate<br/><br/>\\t    <br/><br/>ALL: Lisinopril    cough<br/><br/><br/><br/>SH:  \\tTob:\\toccas cigar\\tEtOH: 0 (used to have EtOH problems)       IVDA:      0<br/><br/>\\tLives w/ 17yo son.  Has 13yo daughter who lives w/ his sister.  Widower x 3yrs.  <br/><br/><br/><br/>FH:\\tMom w/ PM at age 50, died of MI at 71.  Father w/ EtOH, HTN.  Sister w/ 4 miscarriages.  <br/><br/><br/><br/>VS:  \\t129/80\\t\\t89\\t20\\t97% on RA<br/><br/>General:\\tWNWD, NAD<br/><br/>HEENT:\\tNC/AT.  No scleral icterus.  MMM.  OP benign.  <br/><br/>Neck:\\tSupple, no carotid bruits.  <br/><br/>CV:\\t\\tRRR S1, S2.  II-III/VI sys murmur best at RUSB rad to clav and neck. ? second murmur at axilla systolic as well vs. Galiverdin\\'s sign.<br/><br/>Resp:\\tCTAB.  No r/w/r<br/><br/>Abd:\\t\\t+BS.    Soft/NT/ND.<br/><br/>Ext:\\t\\tNo C/C/E, DP 2+ bilat.  <br/><br/>Skin:\\t\\tNo rashes, intact.  <br/><br/><br/><br/>Neuro:<br/><br/>MS:\\tConversationally intact.<br/><br/><br/><br/>CN: \\tII,III- Pupils 5mm, round , reactive to light to 3mm; visual field full to confrontation; optic discs sharp<br/><br/>III,IV,VI-extraocular movements full, w/o nystagmus, L eyelid is slightly weaker longstanding since L eye problem<br/><br/>V--sensation to LT and pin-prick intact bilaterally<br/><br/>VII-facial expression muscles symmetric without weakness<br/><br/>IX,X--palate elevates symmetrically<br/><br/>XI--SCMs 5/5<br/><br/>XII--tongue protrudes midline<br/><br/><br/><br/>Motor:\\tnormal bulk and tone; no tremor. No pronator drift. <br/><br/><br/><br/>\\tDelt\\tElF\\tElE\\tWrE\\tFE\\tIO\\tHpF\\tKnE\\tKnF\\tDors\\tPlan\\tEHL\\t<br/><br/>L\\t5\\t5\\t5\\t5\\t5\\t5\\t5\\t5\\t5\\t5\\t5\\t5\\t<br/><br/>R\\t5\\t5\\t5\\t5\\t5\\t5\\t5\\t5\\t5\\t4+\\t5\\t5\\t<br/><br/><br/><br/>Sensory: \\tendorses a difference in sensation to LT and temp RLE vs. LLE.  Zone of difference (feels colder) is most pronounced R lateral calf area, not a particular dermatomal distribution, also w/ toe position sense mildly decreased R great toe.  Mild vibratory loss to ankles bilat symmetrical.   <br/><br/>Reflex:\\t<br/><br/>\\tBic\\tTric\\tBra\\tHoff\\tPat\\tAnk\\tToes\\t<br/><br/>L\\t2\\t2\\t2\\tNeg\\t2\\t2\\tDown\\t<br/><br/>R\\t2+\\t2\\t2+\\tNeg\\t3\\t2\\tUp?\\t<br/><br/><br/><br/>Coord:\\tno dysmetria on finger-nose-finger or heel-knee-shin<br/><br/>Gait:\\tfavors L leg slightly when walking<br/><br/><br/><br/>Romberg:  normal <br/><br/><br/><br/>LABS/STUDIES:<br/><br/>Chemistry<br/><br/>  Lytes/Renal/Glucose<br/><br/>    Sodium                 136   135-145 mmol/L     12/13/11 18:35     133(L) 12/13/11 09:43<br/><br/>    Potassium              3.6   3.4-4.8 mmol/L     12/13/11 18:35     4.9(H) 10/31/11 12:55<br/><br/>    Chloride               109H  100-108 mmol/L     12/13/11 18:35     109(H) 12/13/11 18:35<br/><br/>    Carbon Dioxide        27.0   23.0-31.9 mmol/L   12/13/11 18:35    22.9(L) 12/10/11 20:33<br/><br/>    BUN                     11   8-25 mg/dl         12/13/11 18:35<br/><br/>    Creatinine             1.0   0.6-1.5 mg/dl      12/13/11 18:35<br/><br/>    Glucose                216H  70-110 mg/dl       12/13/11 18:35     216(H) 12/13/11 18:35<br/><br/>  General Chemistries<br/><br/>    Calcium                9.4   8.5-10.5 mg/dl     12/13/11 10:40     8.3(L) 10/10/11 06:15<br/><br/>    Phosphorus             3.2   2.6-4.5 mg/dl      12/13/11 10:40     2.4(L) 11/02/11 15:10<br/><br/>    Magnesium              1.6   1.4-2.0 meq/L      12/13/11 10:40<br/><br/>  Lipid Tests<br/><br/>    Cholesterol            173   mg/dl              12/10/11 20:33     228(H) 09/03/07 10:46<br/><br/>    Triglycerides          547H  40-150 mg/dl       12/10/11 20:33     547(H) 12/10/11 20:33<br/><br/>    HDL Cholesterol         25L  35-100 mg/dl       12/10/11 20:33      25(L) 12/10/11 20:33<br/><br/>    LDL Cholesterol         --   mg/dl              12/10/11 20:33<br/><br/>    Chol/HDL Ratio         6.9                      12/10/11 20:33<br/><br/>  Chemistry Miscellaneous<br/><br/>    Calc Mean Bld...       254   mg%                12/12/11 10:34<br/><br/>    Chemistry Com...  see detail                    05/09/08 21:58<br/><br/>    Hemoglobin A1C       10.20H  3.80-6.40 %        12/12/11 10:34   10.20(H) 12/12/11 10:34<br/><br/>Hematology<br/><br/>  Complete Blood Count<br/><br/>    WBC                    6.1   4.5-11.0 th/cmm    12/13/11 09:51    11.1(H) 10/08/11 20:16<br/><br/>    RBC                   4.51   4.50-5.90 mil/cm   12/13/11 09:51    4.37(L) 11/03/11 11:15<br/><br/>    Hgb                   13.7   13.5-17.5 gm/dl    12/13/11 09:51    13.1(L) 11/01/11 04:52<br/><br/>    HCT                   39.4L  41.0-53.0 %        12/13/11 09:51    39.4(L) 12/13/11 09:51<br/><br/>    MCV                     87   80-100 fl          12/13/11 09:51<br/><br/>    MCH                   30.4   26.0-34.0 pg/rbc   12/13/11 09:51<br/><br/>    MCHC                  34.9   31.0-37.0 g/dl     12/13/11 09:51<br/><br/>    PLT                    210   150-350 th/cumm    12/13/11 09:51<br/><br/>    RDW                   13.5   11.5-14.5 %        12/13/11 09:51<br/><br/>  Other Hematology<br/><br/>    ESR                     14   0-17 mm/hr         12/13/11 19:51<br/><br/>Urinalysis\\tNegative<br/><br/>Therapeutic Drugs<br/><br/>  Therapeutic Drug Monitoring<br/><br/>    Lithium              <0.10L  0.50-1.50 mmol/L   12/13/11 20:40   <0.10(L) 12/13/11 20:40<br/><br/><br/><br/>MRI brain: Acute/subacute infarcts (DWI bright/ADC dark/FLAIR bright) in L cerebellum (punctate) and R precentral gyrus (small elliptical area).  <br/><br/><br/><br/>CT-A head/neck: has aberrant origin of R vert from CCA, both ACA\\'s come off of L carotid, also w/ bilateral fetal PCA\\'s and likely congenitally small vertebrobasilar vessels.  No significant focal stenoses or atheromatous calcifications.  <br/><br/><br/><br/>EKG: pending<br/><br/><br/><br/>MRI L/S spine: negative<br/><br/><br/><br/>IMPRESSION:<br/><br/>49yoRHM w/ PMH signif for CAD, DM, Bipolar disorder, afib, s/p recent cardiac cath who presents w/ LUE weakness 10d prior to admission resolving after 4-5 days, and RLE weakness?/sensory deficit? Imaging reveals R precentral gyrus small infarct, L cerebellar infarct, no significant vessel stenoses.  Neuro <span class=\"highlighter\" style=\"background-color:  None \">exam</span> w/ brisker reflexes on R, equivocal RLE weakness, R sensory sx, ? R upgoing toe.  Clinical picture and imaging are not consistent.  Unclear if pt is a poor historian and current sx are non-objective sensory findings and meaningful event was LUE weakness 4-5d ago.<br/><br/>NEURO: stroke w/u including TTE/Holter, lipids/lipoprotein/homocysteine.  <br/><br/>--Will also send hypercoag w/u (including hypercoag panel, PT20210, Factor V Leiden, APLA, lupus anticoagulant) given hx of retinal venous thrombus and young age.<br/><br/>--Will also send BCx2 given recent cardiac cath, although ESR wnl reassuring re ? of endocarditis.<br/><br/>--Will check A1c re ? of adequate DM control.<br/><br/>--Given psych hx, will check tox screen and LFT\\'s.<br/><br/>--Unclear if afib was only in context of post-cath, post Vfib.  Will look for LAE, holter abnl.  Could make a case to anti-coagulate regardless as has had documented afib.  <br/><br/>CV: hold anti-htn meds now.  Continue lipitor at outpt dose.  Allow SBP up to 180.<br/><br/>PSYCH: continue w/ depakote and lithium.  Mood is ok now, but will need to be monitored.<br/><br/>FEN: no IVF, ada 1800 low chol/low fat diet.  <br/><br/>ENDO: NPH 20 bid for now, titrate up as needed, RISS.  Checking A1c.<br/><br/>PPX: put on sc fragmin, nexium.  Pneumoboots.  <br/><br/><br/><br/>Anna V. Wendy-Bird, MD<br/><br/>HPC Neuro Resident #48600<br/><br/>Case discussed w/ Vern Snow, senior resident.</div>'), ClickResponsiveToggleButtons(button_style='success', index=1, layout=Layout(width='70%'), options=('TypeA', 'TypeB'), value='TypeB'), Label(value='', layout=Layout(height='10px')), IntProgress(value=1, layout=Layout(height='10px', left='1%', width='98%'), max=1, style=ProgressStyle(bar_color='GAINSBORO')), Label(value='', layout=Layout(height='1px')), HBox(children=(Button(description='Previous', layout=Layout(left='100px', width='90px'), style=ButtonStyle()), Button(description='Next', layout=Layout(left='100px', width='90px'), style=ButtonStyle()), Button(description='Complete', layout=Layout(left='100px', width='90px'), style=ButtonStyle())), layout=Layout(left='10%', width='80%'))))"
      ]
     },
     "metadata": {},
     "output_type": "display_data"
    }
   ],
   "source": [
    "wf.start()"
   ]
  },
  {
   "cell_type": "code",
   "execution_count": 3,
   "metadata": {},
   "outputs": [
    {
     "ename": "IndexError",
     "evalue": "list index out of range",
     "output_type": "error",
     "traceback": [
      "\u001b[0;31m---------------------------------------------------------------------------\u001b[0m",
      "\u001b[0;31mIndexError\u001b[0m                                Traceback (most recent call last)",
      "\u001b[0;32m<ipython-input-3-ab353114cef8>\u001b[0m in \u001b[0;36m<module>\u001b[0;34m()\u001b[0m\n\u001b[0;32m----> 1\u001b[0;31m \u001b[0mwf\u001b[0m\u001b[0;34m.\u001b[0m\u001b[0msteps\u001b[0m\u001b[0;34m[\u001b[0m\u001b[0;36m1\u001b[0m\u001b[0;34m]\u001b[0m\u001b[0;34m.\u001b[0m\u001b[0mloop_workflow\u001b[0m\u001b[0;34m.\u001b[0m\u001b[0msteps\u001b[0m\u001b[0;34m[\u001b[0m\u001b[0;36m0\u001b[0m\u001b[0;34m]\u001b[0m\u001b[0;34m.\u001b[0m\u001b[0mstart\u001b[0m\u001b[0;34m(\u001b[0m\u001b[0;34m)\u001b[0m\u001b[0;34m\u001b[0m\u001b[0m\n\u001b[0m",
      "\u001b[0;31mIndexError\u001b[0m: list index out of range"
     ]
    }
   ],
   "source": [
    "wf.steps[1].loop_workflow.steps[0].start()"
   ]
  },
  {
   "cell_type": "code",
   "execution_count": null,
   "metadata": {},
   "outputs": [],
   "source": [
    "wf.steps[1].annos"
   ]
  },
  {
   "cell_type": "code",
   "execution_count": null,
   "metadata": {},
   "outputs": [],
   "source": [
    "from ipywidgets import Button, Layout"
   ]
  },
  {
   "cell_type": "code",
   "execution_count": null,
   "metadata": {},
   "outputs": [],
   "source": [
    "wf.steps[1].loop_workflow.steps[0].toggle"
   ]
  },
  {
   "cell_type": "code",
   "execution_count": null,
   "metadata": {},
   "outputs": [],
   "source": []
  }
 ],
 "metadata": {
  "kernelspec": {
   "display_name": "Python [default]",
   "language": "python",
   "name": "python3"
  },
  "language_info": {
   "codemirror_mode": {
    "name": "ipython",
    "version": 3
   },
   "file_extension": ".py",
   "mimetype": "text/x-python",
   "name": "python",
   "nbconvert_exporter": "python",
   "pygments_lexer": "ipython3",
   "version": "3.6.3"
  }
 },
 "nbformat": 4,
 "nbformat_minor": 1
}
