{
 "cells": [
  {
   "cell_type": "code",
   "execution_count": 1,
   "metadata": {},
   "outputs": [
    {
     "data": {
      "application/vnd.jupyter.widget-view+json": {
       "model_id": "fed45b46af8f4c688ed9b15d1ab32e7a",
       "version_major": 2,
       "version_minor": 0
      },
      "text/html": [
       "<p>Failed to display Jupyter Widget of type <code>ToggleButtonsMultiSelectionInBox</code>.</p>\n",
       "<p>\n",
       "  If you're reading this message in the Jupyter Notebook or JupyterLab Notebook, it may mean\n",
       "  that the widgets JavaScript is still loading. If this message persists, it\n",
       "  likely means that the widgets JavaScript library is either not installed or\n",
       "  not enabled. See the <a href=\"https://ipywidgets.readthedocs.io/en/stable/user_install.html\">Jupyter\n",
       "  Widgets Documentation</a> for setup instructions.\n",
       "</p>\n",
       "<p>\n",
       "  If you're reading this message in another frontend (for example, a static\n",
       "  rendering on GitHub or <a href=\"https://nbviewer.jupyter.org/\">NBViewer</a>),\n",
       "  it may mean that your frontend doesn't currently support widgets.\n",
       "</p>\n"
      ],
      "text/plain": [
       "ToggleButtonsMultiSelectionInBox(children=(VBox(layout=Layout(display='flex')),), _dom_classes=('btn-group',))"
      ]
     },
     "metadata": {},
     "output_type": "display_data"
    },
    {
     "name": "stdout",
     "output_type": "stream",
     "text": [
      "Load glove model in the backend...\n"
     ]
    },
    {
     "data": {
      "application/vnd.jupyter.widget-view+json": {
       "model_id": "4262807ed81244beb06f38cd53a5d47d",
       "version_major": 2,
       "version_minor": 0
      },
      "text/html": [
       "<p>Failed to display Jupyter Widget of type <code>VBox</code>.</p>\n",
       "<p>\n",
       "  If you're reading this message in the Jupyter Notebook or JupyterLab Notebook, it may mean\n",
       "  that the widgets JavaScript is still loading. If this message persists, it\n",
       "  likely means that the widgets JavaScript library is either not installed or\n",
       "  not enabled. See the <a href=\"https://ipywidgets.readthedocs.io/en/stable/user_install.html\">Jupyter\n",
       "  Widgets Documentation</a> for setup instructions.\n",
       "</p>\n",
       "<p>\n",
       "  If you're reading this message in another frontend (for example, a static\n",
       "  rendering on GitHub or <a href=\"https://nbviewer.jupyter.org/\">NBViewer</a>),\n",
       "  it may mean that your frontend doesn't currently support widgets.\n",
       "</p>\n"
      ],
      "text/plain": [
       "VBox(children=(HTML(value='<h4>Extend keywords through Word Embedding</h4><p>Please select which keywords you want to check the synonyms from the word embedding (currently only single word works for the word embedding model):'), Label(value='TypeA:'), ToggleButtonsMultiSelection(children=(ToggleButton(value=False, description='English', layout=Layout(margin='2')),), _dom_classes=('btn-group',)), Label(value='', layout=Layout(height='5px')), IntProgress(value=1, layout=Layout(height='10px', left='1%', width='98%'), max=1, style=ProgressStyle(bar_color='GAINSBORO')), Label(value='', layout=Layout(height='1px')), Label(value='TypeB:'), ToggleButtonsMultiSelection(children=(ToggleButton(value=False, description='Spanish', layout=Layout(margin='2')),), _dom_classes=('btn-group',)), Label(value='', layout=Layout(height='5px')), IntProgress(value=1, layout=Layout(height='10px', left='1%', width='98%'), max=1, style=ProgressStyle(bar_color='GAINSBORO')), Label(value='', layout=Layout(height='1px')), HBox(children=(Button(description='Previous', layout=Layout(width='90px'), style=ButtonStyle(button_color='SILVER')), Button(description='Next', layout=Layout(left='100px', width='90px'), style=ButtonStyle(button_color='SANDYBROWN'))), layout=Layout(left='10%', width='80%'))), layout=Layout(display='flex'))"
      ]
     },
     "metadata": {},
     "output_type": "display_data"
    }
   ],
   "source": [
    "from SmartAnno.utils.ReviewRBInit import ReviewRBInit\n",
    "from SmartAnno.utils.ReviewRBLoop import ReviewRBLoop\n",
    "from SmartAnno.utils.ReviewMLInit import ReviewMLInit\n",
    "from SmartAnno.utils.ReviewMLLoop import ReviewMLLoop\n",
    "from SmartAnno.gui.Workflow import Workflow\n",
    "from sqlalchemy_dao import Dao\n",
    "from SmartAnno.db.ORMs import Document\n",
    "from SmartAnno.utils.IntroStep import IntroStep\n",
    "from SmartAnno.gui.PreviousNextWidgets import PreviousNextHTML\n",
    "import sqlalchemy_dao\n",
    "import os\n",
    "from  conf.ConfigReader import ConfigReader\n",
    "from SmartAnno.utils.KeywordsEmbeddingExtender import KeywordsEmbeddingExtender\n",
    "from SmartAnno.utils.KeywordsEmbeddingExtenderSetup import KeywordsEmbeddingExtenderSetup\n",
    "from SmartAnno.utils.TreeSet import TreeSet\n",
    "import logging\n",
    "logging.getLogger().setLevel(logging.DEBUG)\n",
    "ConfigReader('../conf/smartanno_conf.json')\n",
    "\n",
    "from SmartAnno.models.GloveModel import GloveModel\n",
    "from  conf.ConfigReader import ConfigReader\n",
    "from threading import Thread\n",
    "\n",
    "def prepareGloveModel():\n",
    "    ConfigReader('../conf/smartanno_conf.json')\n",
    "    glove_path = ConfigReader.getValue('glove/model_path')\n",
    "    glove_vocab = ConfigReader.getValue('glove/vocab')\n",
    "    glove_vector = ConfigReader.getValue('glove/vector')\n",
    "    GloveModel(word2vec_file=glove_path, vocab=glove_vocab, vect=glove_vector)\n",
    "    gm=GloveModel.glove_model\n",
    "    \n",
    "\n",
    "thread_gm = Thread(target=prepareGloveModel)\n",
    "thread_gm.start()    \n",
    "\n",
    "\n",
    "\n",
    "wf=Workflow()\n",
    "wf.filters={'TypeA':TreeSet(['English']),'TypeB':TreeSet(['Spanish'])}\n",
    "wf.append(KeywordsEmbeddingExtenderSetup(name='w_e_extender_setup'))\n",
    "wf.append(KeywordsEmbeddingExtender(name='w_e_extender', max_query=40))\n",
    "wf.append(KeywordsEmbeddingExtenderSetup(name='w_e_extender_setup'))\n",
    "wf.start()"
   ]
  },
  {
   "cell_type": "code",
   "execution_count": 11,
   "metadata": {},
   "outputs": [
    {
     "data": {
      "text/plain": [
       "{'TypeA': ['English', 'language', 'languages', 'speaking'],\n",
       " 'TypeB': ['Spanish', 'catalan', 'dutch', 'french', 'german', 'italian', 'mexican', 'portuguese', 'spain']}"
      ]
     },
     "execution_count": 11,
     "metadata": {},
     "output_type": "execute_result"
    }
   ],
   "source": [
    "wf.filters"
   ]
  },
  {
   "cell_type": "code",
   "execution_count": null,
   "metadata": {},
   "outputs": [],
   "source": [
    "type(extending[0])"
   ]
  },
  {
   "cell_type": "code",
   "execution_count": 1,
   "metadata": {},
   "outputs": [
    {
     "data": {
      "application/vnd.jupyter.widget-view+json": {
       "model_id": "6f8f2a26fcc64c449dd775097f3e8007",
       "version_major": 2,
       "version_minor": 0
      },
      "text/html": [
       "<p>Failed to display Jupyter Widget of type <code>VBox</code>.</p>\n",
       "<p>\n",
       "  If you're reading this message in the Jupyter Notebook or JupyterLab Notebook, it may mean\n",
       "  that the widgets JavaScript is still loading. If this message persists, it\n",
       "  likely means that the widgets JavaScript library is either not installed or\n",
       "  not enabled. See the <a href=\"https://ipywidgets.readthedocs.io/en/stable/user_install.html\">Jupyter\n",
       "  Widgets Documentation</a> for setup instructions.\n",
       "</p>\n",
       "<p>\n",
       "  If you're reading this message in another frontend (for example, a static\n",
       "  rendering on GitHub or <a href=\"https://nbviewer.jupyter.org/\">NBViewer</a>),\n",
       "  it may mean that your frontend doesn't currently support widgets.\n",
       "</p>\n"
      ],
      "text/plain": [
       "VBox(children=(HTML(value='<h4>Extend keywords through Word Embedding</h4><p>Please select which keywords you want to check the synonyms from the word embedding (currently only single word works for the word embedding model):'), Label(value='Eng:'), ToggleButtonsMultiSelectionInBox(children=(VBox(children=(HBox(children=(ToggleButton(value=False, description='Eng', layout=Layout(margin='1', min_width='160px', width='100%'), tooltip='Eng'), ToggleButton(value=False, description='English', layout=Layout(margin='1', min_width='160px', width='100%'), tooltip='English'))),), layout=Layout(display='flex')),), _dom_classes=('btn-group',)), Label(value='', layout=Layout(height='5px')), IntProgress(value=1, layout=Layout(height='10px', left='1%', width='98%'), max=1, style=ProgressStyle(bar_color='GAINSBORO')), Label(value='', layout=Layout(height='1px')), Label(value='PossibleEng:'), ToggleButtonsMultiSelectionInBox(children=(VBox(children=(HBox(children=(ToggleButton(value=False, description='administrator', layout=Layout(margin='1', min_width='160px', width='100%'), tooltip='administrator'), ToggleButton(value=False, description='assistant', layout=Layout(margin='1', min_width='160px', width='100%'), tooltip='assistant'), ToggleButton(value=False, description='consultant', layout=Layout(margin='1', min_width='160px', width='100%'), tooltip='consultant'), ToggleButton(value=False, description='coordinator', layout=Layout(margin='1', min_width='160px', width='100%'), tooltip='coordinator'), ToggleButton(value=False, description='designer', layout=Layout(margin='1', min_width='160px', width='100%'), tooltip='designer'), ToggleButton(value=False, description='designers', layout=Layout(margin='1', min_width='160px', width='100%'), tooltip='designers'))), HBox(children=(ToggleButton(value=False, description='director', layout=Layout(margin='1', min_width='160px', width='100%'), tooltip='director'), ToggleButton(value=False, description='executive', layout=Layout(margin='1', min_width='160px', width='100%'), tooltip='executive'), ToggleButton(value=False, description='fluency', layout=Layout(margin='1', min_width='160px', width='100%'), tooltip='fluency'), ToggleButton(value=False, description='fluent', layout=Layout(margin='1', min_width='160px', width='100%'), tooltip='fluent'), ToggleButton(value=False, description='fluently', layout=Layout(margin='1', min_width='160px', width='100%'), tooltip='fluently'), ToggleButton(value=False, description='manager', layout=Layout(margin='1', min_width='160px', width='100%'), tooltip='manager'))), HBox(children=(ToggleButton(value=False, description='managers', layout=Layout(margin='1', min_width='160px', width='100%'), tooltip='managers'), ToggleButton(value=False, description='proficient', layout=Layout(margin='1', min_width='160px', width='100%'), tooltip='proficient'), ToggleButton(value=False, description='supervisor', layout=Layout(margin='1', min_width='160px', width='100%'), tooltip='supervisor')))), layout=Layout(display='flex')),), _dom_classes=('btn-group',)), Label(value='', layout=Layout(height='5px')), IntProgress(value=1, layout=Layout(height='10px', left='1%', width='98%'), max=1, style=ProgressStyle(bar_color='GAINSBORO')), Label(value='', layout=Layout(height='1px')), Label(value='NotEng:'), ToggleButtonsMultiSelectionInBox(children=(VBox(children=(HBox(children=(ToggleButton(value=False, description='Chinese', layout=Layout(margin='1', min_width='160px', width='100%'), tooltip='Chinese'), ToggleButton(value=False, description='German', layout=Layout(margin='1', min_width='160px', width='100%'), tooltip='German'), ToggleButton(value=False, description='Italian', layout=Layout(margin='1', min_width='160px', width='100%'), tooltip='Italian'), ToggleButton(value=False, description='Japanese', layout=Layout(margin='1', min_width='160px', width='100%'), tooltip='Japanese'), ToggleButton(value=False, description='Korean', layout=Layout(margin='1', min_width='160px', width='100%'), tooltip='Korean'), ToggleButton(value=False, description='Spanish', layout=Layout(margin='1', min_width='160px', width='100%'), tooltip='Spanish'))), HBox(children=(ToggleButton(value=False, description='asian', layout=Layout(margin='1', min_width='160px', width='100%'), tooltip='asian'), ToggleButton(value=False, description='austrian', layout=Layout(margin='1', min_width='160px', width='100%'), tooltip='austrian'), ToggleButton(value=False, description='cantonese', layout=Layout(margin='1', min_width='160px', width='100%'), tooltip='cantonese'), ToggleButton(value=False, description='dutch', layout=Layout(margin='1', min_width='160px', width='100%'), tooltip='dutch'), ToggleButton(value=False, description='english', layout=Layout(margin='1', min_width='160px', width='100%'), tooltip='english'), ToggleButton(value=False, description='filipino', layout=Layout(margin='1', min_width='160px', width='100%'), tooltip='filipino'))), HBox(children=(ToggleButton(value=False, description='finnish', layout=Layout(margin='1', min_width='160px', width='100%'), tooltip='finnish'), ToggleButton(value=False, description='french', layout=Layout(margin='1', min_width='160px', width='100%'), tooltip='french'), ToggleButton(value=False, description='germany', layout=Layout(margin='1', min_width='160px', width='100%'), tooltip='germany'), ToggleButton(value=False, description='greek', layout=Layout(margin='1', min_width='160px', width='100%'), tooltip='greek'), ToggleButton(value=False, description='hungarian', layout=Layout(margin='1', min_width='160px', width='100%'), tooltip='hungarian'), ToggleButton(value=False, description='indonesian', layout=Layout(margin='1', min_width='160px', width='100%'), tooltip='indonesian'))), HBox(children=(ToggleButton(value=False, description='italians', layout=Layout(margin='1', min_width='160px', width='100%'), tooltip='italians'), ToggleButton(value=False, description='japanese', layout=Layout(margin='1', min_width='160px', width='100%'), tooltip='japanese'), ToggleButton(value=False, description='korean', layout=Layout(margin='1', min_width='160px', width='100%'), tooltip='korean'), ToggleButton(value=False, description='portuguese', layout=Layout(margin='1', min_width='160px', width='100%'), tooltip='portuguese'), ToggleButton(value=False, description='romanian', layout=Layout(margin='1', min_width='160px', width='100%'), tooltip='romanian'), ToggleButton(value=False, description='russian', layout=Layout(margin='1', min_width='160px', width='100%'), tooltip='russian'))), HBox(children=(ToggleButton(value=False, description='spanish', layout=Layout(margin='1', min_width='160px', width='100%'), tooltip='spanish'), ToggleButton(value=False, description='swedish', layout=Layout(margin='1', min_width='160px', width='100%'), tooltip='swedish'), ToggleButton(value=False, description='taiwanese', layout=Layout(margin='1', min_width='160px', width='100%'), tooltip='taiwanese'), ToggleButton(value=False, description='thai', layout=Layout(margin='1', min_width='160px', width='100%'), tooltip='thai'), ToggleButton(value=False, description='vietnamese', layout=Layout(margin='1', min_width='160px', width='100%'), tooltip='vietnamese')))), layout=Layout(display='flex')),), _dom_classes=('btn-group',)), Label(value='', layout=Layout(height='5px')), IntProgress(value=1, layout=Layout(height='10px', left='1%', width='98%'), max=1, style=ProgressStyle(bar_color='GAINSBORO')), Label(value='', layout=Layout(height='1px')), Label(value='Irrelevant:'), ToggleButtonsMultiSelectionInBox(children=(VBox(children=(HBox(children=(ToggleButton(value=False, description='discuss', layout=Layout(margin='1', min_width='160px', width='100%'), tooltip='discuss'), ToggleButton(value=False, description='discussed', layout=Layout(margin='1', min_width='160px', width='100%'), tooltip='discussed'), ToggleButton(value=False, description='talk', layout=Layout(margin='1', min_width='160px', width='100%'), tooltip='talk'), ToggleButton(value=False, description='talked', layout=Layout(margin='1', min_width='160px', width='100%'), tooltip='talked'), ToggleButton(value=False, description='told', layout=Layout(margin='1', min_width='160px', width='100%'), tooltip='told'), ToggleButton(value=False, description='understand', layout=Layout(margin='1', min_width='160px', width='100%'), tooltip='understand'))), HBox(children=(ToggleButton(value=False, description='understood', layout=Layout(margin='1', min_width='160px', width='100%'), tooltip='understood'),))), layout=Layout(display='flex')),), _dom_classes=('btn-group',)), Label(value='', layout=Layout(height='5px')), IntProgress(value=1, layout=Layout(height='10px', left='1%', width='98%'), max=1, style=ProgressStyle(bar_color='GAINSBORO')), Label(value='', layout=Layout(height='1px')), Label(value='Irrelevant':'), ToggleButtonsMultiSelectionInBox(children=(VBox(children=(HBox(children=(ToggleButton(value=False, description='grammar', layout=Layout(margin='1', min_width='160px', width='100%'), tooltip='grammar'), ToggleButton(value=False, description='language', layout=Layout(margin='1', min_width='160px', width='100%'), tooltip='language'), ToggleButton(value=False, description='languages', layout=Layout(margin='1', min_width='160px', width='100%'), tooltip='languages'), ToggleButton(value=False, description='speach', layout=Layout(margin='1', min_width='160px', width='100%'), tooltip='speach'), ToggleButton(value=False, description='speak', layout=Layout(margin='1', min_width='160px', width='100%'), tooltip='speak'), ToggleButton(value=False, description='speaking', layout=Layout(margin='1', min_width='160px', width='100%'), tooltip='speaking'))), HBox(children=(ToggleButton(value=False, description='speaks', layout=Layout(margin='1', min_width='160px', width='100%'), tooltip='speaks'), ToggleButton(value=False, description='speech', layout=Layout(margin='1', min_width='160px', width='100%'), tooltip='speech'), ToggleButton(value=False, description='speeches', layout=Layout(margin='1', min_width='160px', width='100%'), tooltip='speeches'), ToggleButton(value=False, description='spoke', layout=Layout(margin='1', min_width='160px', width='100%'), tooltip='spoke'), ToggleButton(value=False, description='spoken', layout=Layout(margin='1', min_width='160px', width='100%'), tooltip='spoken'), ToggleButton(value=False, description='vocabulary', layout=Layout(margin='1', min_width='160px', width='100%'), tooltip='vocabulary')))), layout=Layout(display='flex')),), _dom_classes=('btn-group',)), Label(value='', layout=Layout(height='5px')), IntProgress(value=1, layout=Layout(height='10px', left='1%', width='98%'), max=1, style=ProgressStyle(bar_color='GAINSBORO')), Label(value='', layout=Layout(height='1px')), HBox(children=(Button(description='Previous', layout=Layout(width='90px'), style=ButtonStyle(button_color='SILVER')), Button(description='Next', layout=Layout(left='100px', width='90px'), style=ButtonStyle(button_color='SANDYBROWN'))), layout=Layout(left='10%', width='80%'))), layout=Layout(display='flex'))"
      ]
     },
     "metadata": {},
     "output_type": "display_data"
    }
   ],
   "source": [
    "import logging\n",
    "\n",
    "import sqlalchemy_dao\n",
    "from sqlalchemy_dao import Dao\n",
    "\n",
    "from SmartAnno.utils.ConfigReader import ConfigReader\n",
    "from SmartAnno.db.ORMs import Filter\n",
    "from SmartAnno.gui.Workflow import Workflow\n",
    "from SmartAnno.utils.AnnotationTypeDef import AnnotationTypeDef\n",
    "from SmartAnno.utils.IntroStep import IntroStep\n",
    "from SmartAnno.utils.KeywordsFiltering import KeywordsFiltering\n",
    "from SmartAnno.utils.KeywordsEmbeddingExtender import KeywordsEmbeddingExtender\n",
    "from SmartAnno.utils.KeywordsEmbeddingExtenderSetup import KeywordsEmbeddingExtenderSetup\n",
    "\n",
    "logging.getLogger().setLevel(logging.DEBUG)\n",
    "\n",
    "ConfigReader('../conf/smartanno_conf.json')\n",
    "\n",
    "from SmartAnno.models.GloveModel import GloveModel\n",
    "from threading import Thread\n",
    "\n",
    "def prepareGloveModel():\n",
    "    ConfigReader('../conf/smartanno_conf.json')\n",
    "    glove_path = ConfigReader.getValue('glove/model_path')\n",
    "    glove_vocab = ConfigReader.getValue('glove/vocab')\n",
    "    glove_vector = ConfigReader.getValue('glove/vector')\n",
    "    GloveModel(word2vec_file=glove_path, vocab=glove_vocab, vect=glove_vector)\n",
    "    gm=GloveModel.glove_model\n",
    "    \n",
    "\n",
    "thread_gm = Thread(target=prepareGloveModel)\n",
    "thread_gm.start()  \n",
    "\n",
    "wf = Workflow(config_file=ConfigReader.config_file)\n",
    "wf.api_key = ConfigReader.getValue(\"api_key\")\n",
    "wf.dao = Dao('sqlite+pysqlite:///../data/test.sqlite', sqlalchemy_dao.POOL_DISABLED)\n",
    "wf.task_name = 'language'\n",
    "wf.append(AnnotationTypeDef(\n",
    "    '<h3>Annotation types:</h3><p>List all the types you want to identify below. Each type per line.<br/>If you'\n",
    "    'have too many types, try set up them separately, so that you won&apos;t need to choose from a long list '\n",
    "    'for each sample. </p>', name='types'))\n",
    "wf.append(KeywordsFiltering(\n",
    "    name='keywords'))\n",
    "wf.append(KeywordsEmbeddingExtenderSetup(name='w_e_extender_setup'))\n",
    "wf.append(KeywordsEmbeddingExtender(name='w_e_extender', max_query=40))\n",
    "\n",
    "wf.start()\n",
    "\n",
    "wf.steps[0].complete()\n",
    "\n",
    "with wf.dao.create_session() as session:\n",
    "    records = session.query(Filter).filter(Filter.task_id == wf.task_id) \\\n",
    "        .filter(Filter.type_name == 'Eng')\n",
    "    record = records.first()\n",
    "    record.keyword = 'Eng\\nEnglish'\n",
    "wf.steps[1].complete()    "
   ]
  },
  {
   "cell_type": "code",
   "execution_count": null,
   "metadata": {},
   "outputs": [],
   "source": []
  }
 ],
 "metadata": {
  "kernelspec": {
   "display_name": "Python [default]",
   "language": "python",
   "name": "python3"
  },
  "language_info": {
   "codemirror_mode": {
    "name": "ipython",
    "version": 3
   },
   "file_extension": ".py",
   "mimetype": "text/x-python",
   "name": "python",
   "nbconvert_exporter": "python",
   "pygments_lexer": "ipython3",
   "version": "3.6.3"
  }
 },
 "nbformat": 4,
 "nbformat_minor": 2
}
