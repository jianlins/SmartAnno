{
 "cells": [
  {
   "cell_type": "code",
   "execution_count": 1,
   "metadata": {},
   "outputs": [
    {
     "data": {
      "application/vnd.jupyter.widget-view+json": {
       "model_id": "a99189fa5671484f9d658a13f3bea0a7",
       "version_major": 2,
       "version_minor": 0
      },
      "text/html": [
       "<p>Failed to display Jupyter Widget of type <code>ToggleButtonsMultiSelectionInBox</code>.</p>\n",
       "<p>\n",
       "  If you're reading this message in the Jupyter Notebook or JupyterLab Notebook, it may mean\n",
       "  that the widgets JavaScript is still loading. If this message persists, it\n",
       "  likely means that the widgets JavaScript library is either not installed or\n",
       "  not enabled. See the <a href=\"https://ipywidgets.readthedocs.io/en/stable/user_install.html\">Jupyter\n",
       "  Widgets Documentation</a> for setup instructions.\n",
       "</p>\n",
       "<p>\n",
       "  If you're reading this message in another frontend (for example, a static\n",
       "  rendering on GitHub or <a href=\"https://nbviewer.jupyter.org/\">NBViewer</a>),\n",
       "  it may mean that your frontend doesn't currently support widgets.\n",
       "</p>\n"
      ],
      "text/plain": [
       "ToggleButtonsMultiSelectionInBox(children=(VBox(layout=Layout(display='flex')),), _dom_classes=('btn-group',))"
      ]
     },
     "metadata": {},
     "output_type": "display_data"
    },
    {
     "data": {
      "application/vnd.jupyter.widget-view+json": {
       "model_id": "f1a7fa62d5414a13b6e10bc0cc130bdb",
       "version_major": 2,
       "version_minor": 0
      },
      "text/html": [
       "<p>Failed to display Jupyter Widget of type <code>VBox</code>.</p>\n",
       "<p>\n",
       "  If you're reading this message in the Jupyter Notebook or JupyterLab Notebook, it may mean\n",
       "  that the widgets JavaScript is still loading. If this message persists, it\n",
       "  likely means that the widgets JavaScript library is either not installed or\n",
       "  not enabled. See the <a href=\"https://ipywidgets.readthedocs.io/en/stable/user_install.html\">Jupyter\n",
       "  Widgets Documentation</a> for setup instructions.\n",
       "</p>\n",
       "<p>\n",
       "  If you're reading this message in another frontend (for example, a static\n",
       "  rendering on GitHub or <a href=\"https://nbviewer.jupyter.org/\">NBViewer</a>),\n",
       "  it may mean that your frontend doesn't currently support widgets.\n",
       "</p>\n"
      ],
      "text/plain": [
       "VBox(children=(HTML(value='<h4>Extend keywords through Word Embedding</h4><p>Please select which keywords you want to check the synonyms from the word embedding (currently only single word works for the word embedding model):'), Label(value='TypeA:'), ToggleButtonsMultiSelection(children=(ToggleButton(value=False, description='English', layout=Layout(margin='2')), ToggleButton(value=False, description='Spanish', layout=Layout(margin='2'))), _dom_classes=('btn-group',)), Label(value='', layout=Layout(height='5px')), IntProgress(value=1, layout=Layout(height='10px', left='1%', width='98%'), max=1, style=ProgressStyle(bar_color='GAINSBORO')), Label(value='', layout=Layout(height='1px')), HBox(children=(Button(description='Previous', layout=Layout(width='90px'), style=ButtonStyle(button_color='SILVER')), Button(description='Next', layout=Layout(left='100px', width='90px'), style=ButtonStyle(button_color='SANDYBROWN'))), layout=Layout(left='10%', width='80%'))), layout=Layout(display='flex'))"
      ]
     },
     "metadata": {},
     "output_type": "display_data"
    }
   ],
   "source": [
    "from SmartAnno.utils.ReviewRBInit import ReviewRBInit\n",
    "from SmartAnno.utils.ReviewRBLoop import ReviewRBLoop\n",
    "from SmartAnno.utils.ReviewMLInit import ReviewMLInit\n",
    "from SmartAnno.utils.ReviewMLLoop import ReviewMLLoop\n",
    "from SmartAnno.gui.Workflow import Workflow\n",
    "from sqlalchemy_dao import Dao\n",
    "from SmartAnno.db.ORMs import Document\n",
    "from SmartAnno.utils.IntroStep import IntroStep\n",
    "from SmartAnno.gui.PreviousNextWidgets import PreviousNextHTML\n",
    "import sqlalchemy_dao\n",
    "import os\n",
    "from  conf.ConfigReader import ConfigReader\n",
    "from SmartAnno.utils.KeywordsEmbeddingExtender import KeywordsEmbeddingExtender\n",
    "from SmartAnno.utils.KeywordsEmbeddingExtenderSetup import KeywordsEmbeddingExtenderSetup\n",
    "from SmartAnno.utils.TreeSet import TreeSet\n",
    "import logging\n",
    "logging.getLogger().setLevel(logging.DEBUG)\n",
    "ConfigReader('../conf/smartanno_conf.json')\n",
    "\n",
    "from SmartAnno.models.GloveModel import GloveModel\n",
    "from  conf.ConfigReader import ConfigReader\n",
    "from threading import Thread\n",
    "\n",
    "def prepareGloveModel():\n",
    "    ConfigReader('../conf/smartanno_conf.json')\n",
    "    glove_path = ConfigReader.getValue('glove/model_path')\n",
    "    glove_vocab = ConfigReader.getValue('glove/vocab')\n",
    "    glove_vector = ConfigReader.getValue('glove/vector')\n",
    "    GloveModel(word2vec_file=glove_path, vocab=glove_vocab, vect=glove_vector)\n",
    "    gm=GloveModel.glove_model\n",
    "    \n",
    "\n",
    "thread_gm = Thread(target=prepareGloveModel)\n",
    "thread_gm.start()    \n",
    "\n",
    "\n",
    "\n",
    "wf=Workflow()\n",
    "wf.filters={'TypeA':TreeSet(['English','Spanish'])}\n",
    "wf.append(KeywordsEmbeddingExtenderSetup(name='w_e_extender_setup'))\n",
    "wf.append(KeywordsEmbeddingExtender(name='w_e_extender', max_query=40))\n",
    "wf.append(KeywordsEmbeddingExtenderSetup(name='w_e_extender_setup'))\n",
    "wf.start()"
   ]
  },
  {
   "cell_type": "code",
   "execution_count": null,
   "metadata": {},
   "outputs": [],
   "source": []
  }
 ],
 "metadata": {
  "kernelspec": {
   "display_name": "Python [default]",
   "language": "python",
   "name": "python3"
  },
  "language_info": {
   "codemirror_mode": {
    "name": "ipython",
    "version": 3
   },
   "file_extension": ".py",
   "mimetype": "text/x-python",
   "name": "python",
   "nbconvert_exporter": "python",
   "pygments_lexer": "ipython3",
   "version": "3.6.3"
  }
 },
 "nbformat": 4,
 "nbformat_minor": 2
}
