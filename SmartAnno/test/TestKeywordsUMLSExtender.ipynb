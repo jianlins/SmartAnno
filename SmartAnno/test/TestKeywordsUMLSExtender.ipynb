{
 "cells": [
  {
   "cell_type": "code",
   "execution_count": 1,
   "metadata": {},
   "outputs": [
    {
     "data": {
      "application/vnd.jupyter.widget-view+json": {
       "model_id": "a53714b182f64a7e9349c5527b257ae0",
       "version_major": 2,
       "version_minor": 0
      },
      "text/html": [
       "<p>Failed to display Jupyter Widget of type <code>VBox</code>.</p>\n",
       "<p>\n",
       "  If you're reading this message in the Jupyter Notebook or JupyterLab Notebook, it may mean\n",
       "  that the widgets JavaScript is still loading. If this message persists, it\n",
       "  likely means that the widgets JavaScript library is either not installed or\n",
       "  not enabled. See the <a href=\"https://ipywidgets.readthedocs.io/en/stable/user_install.html\">Jupyter\n",
       "  Widgets Documentation</a> for setup instructions.\n",
       "</p>\n",
       "<p>\n",
       "  If you're reading this message in another frontend (for example, a static\n",
       "  rendering on GitHub or <a href=\"https://nbviewer.jupyter.org/\">NBViewer</a>),\n",
       "  it may mean that your frontend doesn't currently support widgets.\n",
       "</p>\n"
      ],
      "text/plain": [
       "VBox(children=(HTML(value=\"<h4>Synonyms of keyword '<b>English</b>'</h4><p>Choose the ones that you want to include in keyword filters:</p>\"), Label(value='', layout=Layout(height='5px')), IntProgress(value=1, layout=Layout(height='10px', left='1%', width='98%'), max=1, style=ProgressStyle(bar_color='GAINSBORO')), Label(value='', layout=Layout(height='1px')), ToggleButtonsMultiSelectionInBox(children=(VBox(children=(HBox(children=(ToggleButton(value=False, description='Walnut Nut', layout=Layout(margin='2', min_width='160px', width='100%'), tooltip='Walnut Nut'), ToggleButton(value=False, description='Plantago lanceolata', layout=Layout(margin='2', min_width='160px', width='100%'), tooltip='Plantago lanceolata'), ToggleButton(value=False, description='Quercus robur', layout=Layout(margin='2', min_width='160px', width='100%'), tooltip='Quercus robur'))), HBox(children=(ToggleButton(value=False, description='Plantago lanceolata specific IgE antibody measurement', layout=Layout(margin='2', min_width='160px', width='100%'), tooltip='Plantago lanceolata specific IgE antibody measurement'), ToggleButton(value=False, description='Taxus baccata', layout=Layout(margin='2', min_width='160px', width='100%'), tooltip='Taxus baccata'), ToggleButton(value=False, description='Taxus baccata poisoning', layout=Layout(margin='2', min_width='160px', width='100%'), tooltip='Taxus baccata poisoning'))), HBox(children=(ToggleButton(value=False, description='Parophrys vetulus', layout=Layout(margin='2', min_width='160px', width='100%'), tooltip='Parophrys vetulus'), ToggleButton(value=False, description='Plantago lanceolata specific immunoglobulin E', layout=Layout(margin='2', min_width='160px', width='100%'), tooltip='Plantago lanceolata specific immunoglobulin E'), ToggleButton(value=False, description='Hedera helix', layout=Layout(margin='2', min_width='160px', width='100%'), tooltip='Hedera helix')))), layout=Layout(display='flex')),), _dom_classes=('btn-group',)), Label(value='', layout=Layout(height='10px')), IntProgress(value=1, layout=Layout(height='10px', left='1%', width='98%'), max=1, style=ProgressStyle(bar_color='GAINSBORO')), Label(value='', layout=Layout(height='1px')), HBox(children=(Button(description='Previous', layout=Layout(left='100px', width='90px'), style=ButtonStyle()), Button(description='Next', layout=Layout(left='100px', width='90px'), style=ButtonStyle()), Button(description='Complete', layout=Layout(left='100px', width='90px'), style=ButtonStyle())), layout=Layout(left='10%', width='80%'))), layout=Layout(width='100%'))"
      ]
     },
     "metadata": {},
     "output_type": "display_data"
    }
   ],
   "source": [
    "import logging\n",
    "\n",
    "import sqlalchemy_dao\n",
    "from sqlalchemy_dao import Dao\n",
    "\n",
    "from SmartAnno.utils.ConfigReader import ConfigReader\n",
    "from SmartAnno.db.ORMs import Filter\n",
    "from SmartAnno.gui.Workflow import Workflow\n",
    "from SmartAnno.utils.AnnotationTypeDef import AnnotationTypeDef\n",
    "from SmartAnno.utils.IntroStep import IntroStep\n",
    "from SmartAnno.utils.KeywordsFiltering import KeywordsFiltering\n",
    "from SmartAnno.utils.KeywordsUMLSExtender import KeywordsUMLSExtender\n",
    "from SmartAnno.utils.KeywordsUMLSExtenderSetup import KeywordsUMLSExtenderSetup\n",
    "\n",
    "logging.getLogger().setLevel(logging.DEBUG)\n",
    "\n",
    "ConfigReader('../conf/smartanno_conf.json')\n",
    "\n",
    "wf = Workflow(config_file=ConfigReader.config_file)\n",
    "wf.api_key = ConfigReader.getValue(\"api_key\")\n",
    "wf.dao = Dao('sqlite+pysqlite:///../data/test.sqlite', sqlalchemy_dao.POOL_DISABLED)\n",
    "wf.task_name = 'language'\n",
    "wf.append(AnnotationTypeDef(\n",
    "    '<h3>Annotation types:</h3><p>List all the types you want to identify below. Each type per line.<br/>If you'\n",
    "    'have too many types, try set up them separately, so that you won&apos;t need to choose from a long list '\n",
    "    'for each sample. </p>', name='types'))\n",
    "wf.append(KeywordsFiltering(\n",
    "    name='keywords'))\n",
    "wf.append(KeywordsUMLSExtenderSetup(name='umls_extender_setup'))\n",
    "wf.append(KeywordsUMLSExtender(name='umls_extender', sources=ConfigReader.getValue(\"umls/sources\"),\n",
    "                               filter_by_length=ConfigReader.getValue(\"umls/filter_by_length\"),\n",
    "                               filter_by_contains=ConfigReader.getValue(\"umls/filter_by_contains\"),\n",
    "                               max_query=ConfigReader.getValue(\"umls/max_query\")))\n",
    "wf.append(\n",
    "    IntroStep('<h2>Welcome to SmartAnno!</h2><h4>First, let&apos;s import txt data from a directory. </h4>',\n",
    "              name='intro'))\n",
    "wf.start()\n",
    "\n",
    "wf.steps[0].complete()\n",
    "\n",
    "with wf.dao.create_session() as session:\n",
    "    records = session.query(Filter).filter(Filter.task_id == wf.task_id) \\\n",
    "        .filter(Filter.type_name == 'Eng')\n",
    "    record = records.first()\n",
    "    record.keyword = 'Eng\\nEnglish'\n",
    "\n",
    "wf.steps[1].complete()\n",
    "wf.steps[2].to_umls_ext_filters['Eng'].value = ('English',)\n",
    "wf.steps[2].complete()"
   ]
  },
  {
   "cell_type": "code",
   "execution_count": null,
   "metadata": {},
   "outputs": [],
   "source": []
  }
 ],
 "metadata": {
  "kernelspec": {
   "display_name": "Python [default]",
   "language": "python",
   "name": "python3"
  },
  "language_info": {
   "codemirror_mode": {
    "name": "ipython",
    "version": 3
   },
   "file_extension": ".py",
   "mimetype": "text/x-python",
   "name": "python",
   "nbconvert_exporter": "python",
   "pygments_lexer": "ipython3",
   "version": "3.6.3"
  }
 },
 "nbformat": 4,
 "nbformat_minor": 2
}
