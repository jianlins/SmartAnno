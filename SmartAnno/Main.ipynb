{
 "cells": [
  {
   "cell_type": "code",
   "execution_count": 1,
   "metadata": {},
   "outputs": [
    {
     "data": {
      "application/vnd.jupyter.widget-view+json": {
       "model_id": "4189256196aa48ad939b7adfb6325a93",
       "version_major": 2,
       "version_minor": 0
      },
      "text/html": [
       "<p>Failed to display Jupyter Widget of type <code>ToggleButtonsMultiSelectionInBox</code>.</p>\n",
       "<p>\n",
       "  If you're reading this message in the Jupyter Notebook or JupyterLab Notebook, it may mean\n",
       "  that the widgets JavaScript is still loading. If this message persists, it\n",
       "  likely means that the widgets JavaScript library is either not installed or\n",
       "  not enabled. See the <a href=\"https://ipywidgets.readthedocs.io/en/stable/user_install.html\">Jupyter\n",
       "  Widgets Documentation</a> for setup instructions.\n",
       "</p>\n",
       "<p>\n",
       "  If you're reading this message in another frontend (for example, a static\n",
       "  rendering on GitHub or <a href=\"https://nbviewer.jupyter.org/\">NBViewer</a>),\n",
       "  it may mean that your frontend doesn't currently support widgets.\n",
       "</p>\n"
      ],
      "text/plain": [
       "ToggleButtonsMultiSelectionInBox(children=(VBox(layout=Layout(display='flex')),), _dom_classes=('btn-group',))"
      ]
     },
     "metadata": {},
     "output_type": "display_data"
    },
    {
     "data": {
      "application/vnd.jupyter.widget-view+json": {
       "model_id": "caa2c1b2dc6f4f1881f2bb22d758d601",
       "version_major": 2,
       "version_minor": 0
      },
      "text/html": [
       "<p>Failed to display Jupyter Widget of type <code>HTML</code>.</p>\n",
       "<p>\n",
       "  If you're reading this message in the Jupyter Notebook or JupyterLab Notebook, it may mean\n",
       "  that the widgets JavaScript is still loading. If this message persists, it\n",
       "  likely means that the widgets JavaScript library is either not installed or\n",
       "  not enabled. See the <a href=\"https://ipywidgets.readthedocs.io/en/stable/user_install.html\">Jupyter\n",
       "  Widgets Documentation</a> for setup instructions.\n",
       "</p>\n",
       "<p>\n",
       "  If you're reading this message in another frontend (for example, a static\n",
       "  rendering on GitHub or <a href=\"https://nbviewer.jupyter.org/\">NBViewer</a>),\n",
       "  it may mean that your frontend doesn't currently support widgets.\n",
       "</p>\n"
      ],
      "text/plain": [
       "HTML(value='<style>.output_wrapper, .output {\\n                    height:auto !important;\\n                    max-height:1000px;  /* your desired max-height here */\\n                }\\n                .output_scroll {\\n                    box-shadow:none !important;\\n                    webkit-box-shadow:none !important;\\n                }\\n                </style>')"
      ]
     },
     "metadata": {},
     "output_type": "display_data"
    }
   ],
   "source": [
    "import logging\n",
    "logging.getLogger().setLevel(logging.DEBUG)\n",
    "\n",
    "from gui.Main import Main\n",
    "main=Main()"
   ]
  },
  {
   "cell_type": "code",
   "execution_count": 2,
   "metadata": {
    "scrolled": false
   },
   "outputs": [
    {
     "data": {
      "application/vnd.jupyter.widget-view+json": {
       "model_id": "882abb099ed04bc08f9d2c5a91eb4041",
       "version_major": 2,
       "version_minor": 0
      },
      "text/html": [
       "<p>Failed to display Jupyter Widget of type <code>VBox</code>.</p>\n",
       "<p>\n",
       "  If you're reading this message in the Jupyter Notebook or JupyterLab Notebook, it may mean\n",
       "  that the widgets JavaScript is still loading. If this message persists, it\n",
       "  likely means that the widgets JavaScript library is either not installed or\n",
       "  not enabled. See the <a href=\"https://ipywidgets.readthedocs.io/en/stable/user_install.html\">Jupyter\n",
       "  Widgets Documentation</a> for setup instructions.\n",
       "</p>\n",
       "<p>\n",
       "  If you're reading this message in another frontend (for example, a static\n",
       "  rendering on GitHub or <a href=\"https://nbviewer.jupyter.org/\">NBViewer</a>),\n",
       "  it may mean that your frontend doesn't currently support widgets.\n",
       "</p>\n"
      ],
      "text/plain": [
       "VBox(children=(IntProgress(value=56, description='Progress: 56/140', layout=Layout(height='14px', width='90%'), max=140, min=1, style=ProgressStyle(description_width='initial')), HTML(value='<table style=\"width:100%\"><tr><th>DOC_ID</th><th>DATE</th><th>REF_DATE</th></tr><tr><td>215</td><td>2098-06-11</td><td>None</td></tr></table><div id=\"d1\" style=\"overflow-y: scroll; height:200px;border:1px solid;border-color:#e5e8e8; \">Record date: 2098-06-11<br/><br/> <br/><br/><br/>Cardiovascular Medicine Consult Service Consult Note<br/>X. R. Xi, MD, PhD<br/>Vascular Medicine Fellow, #45811<br/><br/>Date of Consultation: June 11, 2098<br/><br/>ID: 70 year old male from Missouri<br/>Reason for Consult: Perioperative consultation prior to aorto-bifemoral bypass surgery<br/><br/>History of Present Illness:<br/>\\tThis 70 year old gentleman was diagnosed with an occluded distal aorta in mid-2097 after an attempt at cardiac catheterization via the femoral artery.  <br/>\\tOver the last several months, he has had exercise limiting lower extremity pain     he describes primarily left leg burning (thigh, calf) when he walks, coming on over about 150 yards.  If he pushes further, he will also get right leg burning in a similar distribution. <br/>\\tHe also has had a marked increase in CR over the past 8 monts (1.1 -> >4).  Based on non-invasive imaging, this has been attributed to renal artery stenosis.  His ACE-I (?ramipril) has  been held, without improvement.  A referral was recently made to rule out bilateral RAS, and he had an invasive aortogram yesterday.  There was an 85% proximal right RA stenosis, and a 40% left RA stenosis, perhaps only partially explaining the elevated Cr.  The angiogram also confirmed the occluded distal aorta (below the renal arteries, the SMA is patent).  An aortobifem plus right RA revascularization is planned.<br/>\\tHe has had reduced functional capacity for some time.  He gets claudication within 150 yards, but he also has been limited by exertional dyspnea.  He complains also of orthopnea (3 pillows), PND, as well as bilateral LE edema.  He also has noticed his weight continuing to creep up which he attributes to fluid retention.  He is avoiding salt, but not fluid restricting.  His lasix dose has not changed.  He has been angina free since his CABG surgery.  He has not had palpitations or AF since the immediate post-op period.  A ROS is otherwise unremarkable.<br/><br/>Past Medical History:<br/>Coronary artery disease<br/>MI 2084<br/>Developed limiting angina in late 2096, early 2097<br/>CABGx4 on November 05, 2097 (Dr. Ehlers)<br/>CABG x 4 (LIMA - LAD/ Sequential graft: SVG1 connects Aorta to D1 then OM1/ SVG2 - LVB2<br/>Incidental anomalous circumflex off the right coronary artery<br/>Pre-op EF 50-55% with infero-posterior hypokineses (?post-op)<br/>Bicuspid aortic valve (not replaced with CABG according to notes)<br/>Mild AS, Mild AI only on pre-CABG echo 2097<br/>Hypertension<br/>Dyslipidemia<br/>Diabetes Type II<br/>Perioperative hyperglycemia post CABG<br/>Exsmoker<br/>Quit 2097, >50 pack years<br/>Peripheral arterial disease<br/>Occluded distal aorta (diagnosed after cardiac catheterization attempt in 2097)<br/>Small infrarenal abdominal aortic aneurysm 3.6cm<br/>Paroxysmal atrial fibrillation (x2 years at least)<br/>On coumadin for stroke prevention and amiodarone from maintenance of NSR<br/>Currently in NSR<br/>BPH<br/>Chronic back pain<br/>Renal insufficiency (Creatinine 4.1) non-oliguric - ?cause<br/>Cr normal November 2097<br/>Gradually increased over November from 1.1-1.6, ang then was ~4 when recently checked<br/>Attributed to Renal artery stenosis based on non-invasive imaging (duplex, MRI), though <br/>Right inguinal hernia repair<br/><br/>Denies VTE, denies pulmonary problems.<br/><br/>Current Medications:<br/>ECASA 81 mg daily<br/>Amiodarone 200 mg daily<br/>atenolol 75 mg bid<br/>colace 100 mg bid<br/>heparin 5000 units sc q8h<br/>insulin sliding scale q4h<br/>simvastatin 40 mg at HS<br/>ezetimibe 10 mg daily<br/>albuterol/ipratropium 3/0.5 mg via neb q4h<br/><br/>Medications at Home:<br/>Amiodarone 200mg daily<br/>Atenolol 100mg BID<br/>Metformin HCL 500mg daily<br/>ASA 81mg daily <br/>Lasix 40mg daily,<br/>lipitor 40mg daily prn<br/>Zetia 10mg daily prn<br/>Coumadin 5mg qd\\t<br/><br/>Allergies:<br/>Flecainide (arrhythmia).<br/><br/>Family History:<br/>Noncontributory.<br/><br/>Social History:<br/>Married, lives at home with his wife.  Exsmoker.  Minimal alcohol, no other substance abuse.<br/><br/>Review of Systems:<br/>Noncontributary.<br/><br/>Physical Examination:<br/>Mildly tachypnic RR 24.  BP 160/90 right arm.  HR 60 reg.  Afebrile.<br/>Head and neck examination unremarkable.  No bruits heard.<br/>JVP markedly elevated at the angle of the jaw.  The CP is delayed in upstroke, and mildly reduced in volume.  There is S1 S2 and a II/VI SEM that is high pitched and peaks in mid to late systole.  The Apex is hard to feel, but slight diffuse and sustained.  The abdomen is obese, distended, nontender, and there is no organomegaly or masses.  The patent   s distal pulses are difficult to feel, and despite the bilateral TEDS there is bilateral lower extremity edema.<br/><br/><br/>Investigations:<br/><br/>EKG: Normal sinus rhythm<br/>Note: Aortogram report is not on LMR<br/><br/>Na 140\\t\\tWBC 6.59<br/>K 4.3\\t\\tHgB 8.0<br/>Cl 104\\t\\tPlt 165<br/>CO2 25\\t\\tHct 25.8<br/>BUN 80\\t\\tINR 1.2 (coumadin held)<br/>Cr 4.45\\t\\tPTT 30.8<br/>EGFR 13<br/>Glu 74<br/>Ca 8.3<br/>Mg 2.4<br/><br/>Impression and Plan:<br/><br/>This gentleman is currently mild fluid overloaded (CHF) and hypertensive; this should be improved prior to any proposed surgery.  The issues include:<br/>Congestive heart failure     I suspect there is worsening fluid retention primarily due to his worsening renal function.  I would consider:<br/>increasing his diuretic (eg. Lasix 80 mg iv bid) to improve diuresis and get him euvolemic.  Hopefully this will work; if not, he should have ultrafiltration so that he is not in heart failure for his operation.  He will be at high risk of CHF post-op, and likely will need an ICU bed<br/>consider starting hydralazine/nitroglycerin combination in lieu of ACE-inhibitor for afterload reduction<br/>consider a pre-op echo     we probably should check his EF and bicuspid aortic valve to exclude severe AI and severe AS<br/>Prevention of periperative MI<br/>He should continue his ASA, atenolol, statins/zetia peri-operatively<br/>No further testing for ischemia necessary unless is LV function on echo is markedly reduced (recent CABG, no angina)<br/>Even with best medical care, for his proposed surgery and his comorbidities he carries a substantial risk for perioperative cardiac complications (roughly 5-10%)<br/>Prevention of perioperative AF<br/>Continue his atenolol and amiodarone perioperatively<br/>Restart coumadin post-op for stroke prevention long term<br/>Endocarditis prophylaxis<br/>He will need perioperative antibiotics given his bicuspid aortic valve<br/><br/>We will follow with you     he may need a couple of days to treat his heart failure/fluid overload prior to surgery.<br/><br/><br/>XIN Xi, MD, PhD<br/><br/><br/>Staff Notes:</div>'), ClickResponsiveToggleButtons(button_style='success', layout=Layout(width='70%'), options=('NotEng', 'Eng'), value='NotEng'), Label(value='', layout=Layout(height='10px')), IntProgress(value=1, layout=Layout(height='10px', left='1%', width='98%'), max=1, style=ProgressStyle(bar_color='GAINSBORO')), Label(value='', layout=Layout(height='1px')), HBox(children=(Button(description='Previous', layout=Layout(left='100px', width='90px'), style=ButtonStyle()), Button(description='Next', layout=Layout(left='100px', width='90px'), style=ButtonStyle()), Button(description='Complete', layout=Layout(left='100px', width='90px'), style=ButtonStyle())), layout=Layout(left='10%', width='80%'))))"
      ]
     },
     "metadata": {},
     "output_type": "display_data"
    }
   ],
   "source": [
    "main.start()"
   ]
  },
  {
   "cell_type": "code",
   "execution_count": 3,
   "metadata": {},
   "outputs": [],
   "source": [
    "logging.getLogger().setLevel(logging.DEBUG)"
   ]
  },
  {
   "cell_type": "code",
   "execution_count": 4,
   "metadata": {},
   "outputs": [],
   "source": [
    "main.workflow.steps[16].ml_classifier.saveModel()"
   ]
  },
  {
   "cell_type": "code",
   "execution_count": null,
   "metadata": {},
   "outputs": [],
   "source": []
  },
  {
   "cell_type": "code",
   "execution_count": null,
   "metadata": {},
   "outputs": [],
   "source": []
  },
  {
   "cell_type": "code",
   "execution_count": null,
   "metadata": {},
   "outputs": [],
   "source": []
  },
  {
   "cell_type": "code",
   "execution_count": null,
   "metadata": {},
   "outputs": [],
   "source": []
  },
  {
   "cell_type": "code",
   "execution_count": null,
   "metadata": {},
   "outputs": [],
   "source": []
  },
  {
   "cell_type": "code",
   "execution_count": null,
   "metadata": {},
   "outputs": [],
   "source": []
  },
  {
   "cell_type": "code",
   "execution_count": null,
   "metadata": {},
   "outputs": [],
   "source": []
  },
  {
   "cell_type": "code",
   "execution_count": null,
   "metadata": {},
   "outputs": [],
   "source": []
  },
  {
   "cell_type": "code",
   "execution_count": null,
   "metadata": {},
   "outputs": [],
   "source": []
  },
  {
   "cell_type": "code",
   "execution_count": null,
   "metadata": {},
   "outputs": [],
   "source": []
  },
  {
   "cell_type": "code",
   "execution_count": null,
   "metadata": {},
   "outputs": [],
   "source": []
  },
  {
   "cell_type": "code",
   "execution_count": null,
   "metadata": {},
   "outputs": [],
   "source": []
  },
  {
   "cell_type": "code",
   "execution_count": null,
   "metadata": {},
   "outputs": [],
   "source": []
  },
  {
   "cell_type": "code",
   "execution_count": null,
   "metadata": {},
   "outputs": [],
   "source": []
  },
  {
   "cell_type": "code",
   "execution_count": null,
   "metadata": {},
   "outputs": [],
   "source": []
  },
  {
   "cell_type": "code",
   "execution_count": null,
   "metadata": {},
   "outputs": [],
   "source": []
  },
  {
   "cell_type": "code",
   "execution_count": null,
   "metadata": {},
   "outputs": [],
   "source": []
  },
  {
   "cell_type": "code",
   "execution_count": null,
   "metadata": {},
   "outputs": [],
   "source": []
  },
  {
   "cell_type": "code",
   "execution_count": null,
   "metadata": {},
   "outputs": [],
   "source": []
  },
  {
   "cell_type": "code",
   "execution_count": 8,
   "metadata": {},
   "outputs": [
    {
     "name": "stdout",
     "output_type": "stream",
     "text": [
      "0\n",
      ".............."
     ]
    }
   ],
   "source": [
    "a='\\n\\n\\n'\n",
    "print(len(a.strip()))"
   ]
  },
  {
   "cell_type": "code",
   "execution_count": 10,
   "metadata": {},
   "outputs": [
    {
     "name": "stdout",
     "output_type": "stream",
     "text": [
      "Train minority class instance count : 46.  Test minority class instance count : 46\n"
     ]
    },
    {
     "name": "stderr",
     "output_type": "stream",
     "text": [
      "/home/brokenjade/software/anaconda3/envs/tensorflow/lib/python3.6/site-packages/sklearn/model_selection/_split.py:2026: FutureWarning: From version 0.21, test_size will always complement train_size unless both are specified.\n",
      "  FutureWarning)\n"
     ]
    }
   ],
   "source": [
    "main.workflow.steps[16].initTraining()"
   ]
  },
  {
   "cell_type": "code",
   "execution_count": 12,
   "metadata": {},
   "outputs": [
    {
     "data": {
      "text/plain": [
       "1"
      ]
     },
     "execution_count": 12,
     "metadata": {},
     "output_type": "execute_result"
    }
   ],
   "source": [
    "main.workflow.steps[16].ml_classifier_cls.status"
   ]
  },
  {
   "cell_type": "code",
   "execution_count": 15,
   "metadata": {},
   "outputs": [],
   "source": [
    "x = [doc.TEXT for doc in main.workflow.steps[16].docs[:len(main.workflow.steps[16].reviewed_docs)]]\n",
    "y = list(main.workflow.steps[16].reviewed_docs.values())"
   ]
  },
  {
   "cell_type": "code",
   "execution_count": 16,
   "metadata": {},
   "outputs": [
    {
     "name": "stdout",
     "output_type": "stream",
     "text": [
      "Train minority class instance count : 46.  Test minority class instance count : 46\n"
     ]
    },
    {
     "name": "stderr",
     "output_type": "stream",
     "text": [
      "/home/brokenjade/software/anaconda3/envs/tensorflow/lib/python3.6/site-packages/sklearn/model_selection/_split.py:2026: FutureWarning: From version 0.21, test_size will always complement train_size unless both are specified.\n",
      "  FutureWarning)\n"
     ]
    }
   ],
   "source": [
    "main.workflow.steps[16].ml_classifier.train(x,y)"
   ]
  },
  {
   "cell_type": "code",
   "execution_count": null,
   "metadata": {},
   "outputs": [],
   "source": []
  },
  {
   "cell_type": "code",
   "execution_count": null,
   "metadata": {},
   "outputs": [],
   "source": []
  },
  {
   "cell_type": "code",
   "execution_count": null,
   "metadata": {},
   "outputs": [],
   "source": []
  },
  {
   "cell_type": "code",
   "execution_count": null,
   "metadata": {},
   "outputs": [],
   "source": []
  },
  {
   "cell_type": "code",
   "execution_count": null,
   "metadata": {},
   "outputs": [],
   "source": []
  },
  {
   "cell_type": "code",
   "execution_count": null,
   "metadata": {},
   "outputs": [],
   "source": []
  },
  {
   "cell_type": "code",
   "execution_count": null,
   "metadata": {},
   "outputs": [],
   "source": []
  },
  {
   "cell_type": "code",
   "execution_count": null,
   "metadata": {},
   "outputs": [],
   "source": []
  },
  {
   "cell_type": "code",
   "execution_count": null,
   "metadata": {},
   "outputs": [],
   "source": []
  },
  {
   "cell_type": "code",
   "execution_count": null,
   "metadata": {},
   "outputs": [],
   "source": []
  },
  {
   "cell_type": "code",
   "execution_count": null,
   "metadata": {},
   "outputs": [],
   "source": []
  },
  {
   "cell_type": "code",
   "execution_count": null,
   "metadata": {},
   "outputs": [],
   "source": []
  },
  {
   "cell_type": "code",
   "execution_count": null,
   "metadata": {},
   "outputs": [],
   "source": []
  },
  {
   "cell_type": "code",
   "execution_count": 3,
   "metadata": {},
   "outputs": [
    {
     "data": {
      "text/plain": [
       "'/uufs/chpc.utah.edu/common/home/u0876964/Documents/PycharmProjects/SmartAnno/SmartAnno/c:\\\\glove/glove.42B.300d.bin'"
      ]
     },
     "execution_count": 3,
     "metadata": {},
     "output_type": "execute_result"
    }
   ],
   "source": [
    "from conf.ConfigReader import ConfigReader\n",
    "ConfigReader.getValue('glove/path')"
   ]
  },
  {
   "cell_type": "code",
   "execution_count": 3,
   "metadata": {},
   "outputs": [
    {
     "data": {
      "text/plain": [
       "1"
      ]
     },
     "execution_count": 3,
     "metadata": {},
     "output_type": "execute_result"
    }
   ],
   "source": [
    "from models.GloveModel import GloveModel\n",
    "GloveModel.status"
   ]
  },
  {
   "cell_type": "code",
   "execution_count": null,
   "metadata": {},
   "outputs": [],
   "source": [
    "type(gui.self)"
   ]
  },
  {
   "cell_type": "code",
   "execution_count": null,
   "metadata": {},
   "outputs": [],
   "source": []
  },
  {
   "cell_type": "code",
   "execution_count": null,
   "metadata": {},
   "outputs": [],
   "source": [
    "class T:\n",
    "    \n",
    "    a='a'\n",
    "    b='b'\n",
    "    def __init__(self, **kwargs):\n",
    "        for name, value in kwargs.items():\n",
    "            setattr(self, name, value)\n",
    "    \n",
    "class U(T):\n",
    "    pass\n"
   ]
  },
  {
   "cell_type": "code",
   "execution_count": 3,
   "metadata": {},
   "outputs": [
    {
     "data": {
      "application/vnd.jupyter.widget-view+json": {
       "model_id": "0f0b417eb3804456921a3a274baceca4",
       "version_major": 2,
       "version_minor": 0
      },
      "text/html": [
       "<p>Failed to display Jupyter Widget of type <code>VBox</code>.</p>\n",
       "<p>\n",
       "  If you're reading this message in the Jupyter Notebook or JupyterLab Notebook, it may mean\n",
       "  that the widgets JavaScript is still loading. If this message persists, it\n",
       "  likely means that the widgets JavaScript library is either not installed or\n",
       "  not enabled. See the <a href=\"https://ipywidgets.readthedocs.io/en/stable/user_install.html\">Jupyter\n",
       "  Widgets Documentation</a> for setup instructions.\n",
       "</p>\n",
       "<p>\n",
       "  If you're reading this message in another frontend (for example, a static\n",
       "  rendering on GitHub or <a href=\"https://nbviewer.jupyter.org/\">NBViewer</a>),\n",
       "  it may mean that your frontend doesn't currently support widgets.\n",
       "</p>\n"
      ],
      "text/plain": [
       "VBox(children=(HTML(value='<h3>Sqlite database \"/home/brokenjade/Documents/PycharmProjects/SmartAnno/SmartAnno/data/demo.sqlite\" exists, do you want to overwrite?</h3><h4>choose <b>yes</b> will <span style=\"color:red\"><b>clear all the data</b></span> in that database file</h4>'), ToggleButtons(index=1, layout=Layout(width='70%'), options=('Yes', 'No'), tooltips=['Replace the old database', 'Append data to the old database'], value='No'), Label(value='', layout=Layout(height='10px')), IntProgress(value=1, layout=Layout(height='10px', left='1%', width='98%'), max=1, style=ProgressStyle(bar_color='GAINSBORO')), Label(value='', layout=Layout(height='1px')), HBox(children=(Button(description='Previous', layout=Layout(width='90px'), style=ButtonStyle(button_color='SILVER')), Button(description='Next', layout=Layout(left='100px', width='90px'), style=ButtonStyle(button_color='SANDYBROWN'))), layout=Layout(left='10%', width='80%'))))"
      ]
     },
     "metadata": {},
     "output_type": "display_data"
    }
   ],
   "source": [
    "from utils.IntroStep import IntroStep\n",
    "from utils.DBInitiater import DBInitiater\n",
    "from gui.Workflow import Workflow\n",
    "from conf.ConfigReader import ConfigReader\n",
    "cr = ConfigReader()\n",
    "wf = Workflow([IntroStep('<h2>Welcome to SmartAnno!</h2><h4>First, let&apos;s import txt data from a directory. </h4>',\n",
    "                       name='intro'),\n",
    "             DBInitiater(name='db_initiater')])\n",
    "wf.start()"
   ]
  },
  {
   "cell_type": "code",
   "execution_count": null,
   "metadata": {},
   "outputs": [],
   "source": []
  },
  {
   "cell_type": "code",
   "execution_count": null,
   "metadata": {},
   "outputs": [],
   "source": []
  },
  {
   "cell_type": "code",
   "execution_count": null,
   "metadata": {},
   "outputs": [],
   "source": []
  },
  {
   "cell_type": "code",
   "execution_count": null,
   "metadata": {},
   "outputs": [],
   "source": []
  },
  {
   "cell_type": "code",
   "execution_count": null,
   "metadata": {},
   "outputs": [],
   "source": []
  },
  {
   "cell_type": "code",
   "execution_count": null,
   "metadata": {},
   "outputs": [],
   "source": []
  },
  {
   "cell_type": "code",
   "execution_count": null,
   "metadata": {},
   "outputs": [],
   "source": []
  },
  {
   "cell_type": "code",
   "execution_count": null,
   "metadata": {},
   "outputs": [],
   "source": []
  },
  {
   "cell_type": "code",
   "execution_count": null,
   "metadata": {},
   "outputs": [],
   "source": []
  },
  {
   "cell_type": "code",
   "execution_count": null,
   "metadata": {},
   "outputs": [],
   "source": []
  },
  {
   "cell_type": "code",
   "execution_count": null,
   "metadata": {},
   "outputs": [],
   "source": []
  },
  {
   "cell_type": "code",
   "execution_count": null,
   "metadata": {},
   "outputs": [],
   "source": []
  },
  {
   "cell_type": "code",
   "execution_count": null,
   "metadata": {},
   "outputs": [],
   "source": []
  },
  {
   "cell_type": "code",
   "execution_count": null,
   "metadata": {},
   "outputs": [],
   "source": []
  },
  {
   "cell_type": "code",
   "execution_count": null,
   "metadata": {},
   "outputs": [],
   "source": []
  },
  {
   "cell_type": "code",
   "execution_count": null,
   "metadata": {},
   "outputs": [],
   "source": []
  },
  {
   "cell_type": "code",
   "execution_count": null,
   "metadata": {},
   "outputs": [],
   "source": []
  },
  {
   "cell_type": "code",
   "execution_count": null,
   "metadata": {},
   "outputs": [],
   "source": []
  },
  {
   "cell_type": "code",
   "execution_count": null,
   "metadata": {},
   "outputs": [],
   "source": []
  },
  {
   "cell_type": "code",
   "execution_count": null,
   "metadata": {},
   "outputs": [],
   "source": []
  },
  {
   "cell_type": "code",
   "execution_count": null,
   "metadata": {},
   "outputs": [],
   "source": []
  }
 ],
 "metadata": {
  "kernelspec": {
   "display_name": "Python 3",
   "language": "python",
   "name": "python3"
  },
  "language_info": {
   "codemirror_mode": {
    "name": "ipython",
    "version": 3
   },
   "file_extension": ".py",
   "mimetype": "text/x-python",
   "name": "python",
   "nbconvert_exporter": "python",
   "pygments_lexer": "ipython3",
   "version": "3.6.3"
  }
 },
 "nbformat": 4,
 "nbformat_minor": 2
}
