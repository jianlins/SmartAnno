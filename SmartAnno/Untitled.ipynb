{
 "cells": [
  {
   "cell_type": "code",
   "execution_count": 3,
   "metadata": {},
   "outputs": [
    {
     "data": {
      "application/vnd.jupyter.widget-view+json": {
       "model_id": "5b8ec97bc78e40c58cbce4a58fe5ddd9",
       "version_major": 2,
       "version_minor": 0
      },
      "text/html": [
       "<p>Failed to display Jupyter Widget of type <code>HTML</code>.</p>\n",
       "<p>\n",
       "  If you're reading this message in the Jupyter Notebook or JupyterLab Notebook, it may mean\n",
       "  that the widgets JavaScript is still loading. If this message persists, it\n",
       "  likely means that the widgets JavaScript library is either not installed or\n",
       "  not enabled. See the <a href=\"https://ipywidgets.readthedocs.io/en/stable/user_install.html\">Jupyter\n",
       "  Widgets Documentation</a> for setup instructions.\n",
       "</p>\n",
       "<p>\n",
       "  If you're reading this message in another frontend (for example, a static\n",
       "  rendering on GitHub or <a href=\"https://nbviewer.jupyter.org/\">NBViewer</a>),\n",
       "  it may mean that your frontend doesn't currently support widgets.\n",
       "</p>\n"
      ],
      "text/plain": [
       "HTML(value='<style>.output_wrapper, .output {\\n                    height:auto !important;\\n                    max-height:1000px;  /* your desired max-height here */\\n                }\\n                .output_scroll {\\n                    box-shadow:none !important;\\n                    webkit-box-shadow:none !important;\\n                }\\n                </style>')"
      ]
     },
     "metadata": {},
     "output_type": "display_data"
    }
   ],
   "source": [
    "from gui.GUI import GUI\n",
    "gui=GUI()"
   ]
  },
  {
   "cell_type": "code",
   "execution_count": 4,
   "metadata": {
    "scrolled": false
   },
   "outputs": [
    {
     "name": "stdout",
     "output_type": "stream",
     "text": [
      "Button(description='Next', layout=Layout(left='100px', width='90px'), style=ButtonStyle()) the 'linked_step' is not set, neither is the 'next_step'.\n"
     ]
    }
   ],
   "source": [
    "gui.start()"
   ]
  },
  {
   "cell_type": "code",
   "execution_count": null,
   "metadata": {},
   "outputs": [],
   "source": [
    "gui.workflow.steps"
   ]
  },
  {
   "cell_type": "code",
   "execution_count": null,
   "metadata": {},
   "outputs": [],
   "source": [
    "gui.workflow.to_we_ext_words"
   ]
  },
  {
   "cell_type": "code",
   "execution_count": null,
   "metadata": {},
   "outputs": [],
   "source": []
  },
  {
   "cell_type": "code",
   "execution_count": null,
   "metadata": {},
   "outputs": [],
   "source": []
  },
  {
   "cell_type": "code",
   "execution_count": null,
   "metadata": {},
   "outputs": [],
   "source": []
  },
  {
   "cell_type": "code",
   "execution_count": null,
   "metadata": {},
   "outputs": [],
   "source": []
  },
  {
   "cell_type": "code",
   "execution_count": null,
   "metadata": {},
   "outputs": [],
   "source": []
  },
  {
   "cell_type": "code",
   "execution_count": null,
   "metadata": {
    "scrolled": true
   },
   "outputs": [],
   "source": [
    "[step.pos_id for step in gui.workflow.steps]"
   ]
  },
  {
   "cell_type": "code",
   "execution_count": null,
   "metadata": {},
   "outputs": [],
   "source": [
    "gui.workflow.steps"
   ]
  },
  {
   "cell_type": "code",
   "execution_count": null,
   "metadata": {},
   "outputs": [],
   "source": [
    "from utils.GloveModel import GloveModel\n",
    "gm=GloveModel.glove_model\n",
    "gm.similar_by_word('pneumonia',40)"
   ]
  },
  {
   "cell_type": "code",
   "execution_count": null,
   "metadata": {},
   "outputs": [],
   "source": [
    "gui.workflow.status"
   ]
  },
  {
   "cell_type": "code",
   "execution_count": null,
   "metadata": {},
   "outputs": [],
   "source": [
    "from ipywidgets import widgets\n",
    "widgets.HTML(value='<h5>Set up your API key</h5><p>In order to use UMLS service, you will need '\n",
    "                                           'to use a API key. Please type your API key below: (Here is <a href=\"https://documentation.uts.nlm.nih.gov/rest/authentication.html\">how to'\n",
    "                                           'get a UMLS API key</a>)</p>')"
   ]
  },
  {
   "cell_type": "code",
   "execution_count": null,
   "metadata": {},
   "outputs": [],
   "source": [
    "[item.strip() for item in gui.workflow.steps[6].text_area.value.split(\"\\n\") if len(item.strip()) > 0]"
   ]
  },
  {
   "cell_type": "code",
   "execution_count": null,
   "metadata": {},
   "outputs": [],
   "source": [
    "from utils.KeywordsUMLSExtender import KeywordsUMLSExtender\n",
    "from gui.Workflow import Workflow\n",
    "from conf.ConfigReader import ConfigReader\n",
    "from gui.BranchingWidgets import IntroStep\n",
    "\n",
    "cr = ConfigReader()\n",
    "kue = KeywordsUMLSExtender(name='umls_extender', sources=cr.getValue(\"umls/sources\"),\n",
    "                          filter_by_length=cr.getValue(\"umls/filter_by_length\"),\n",
    "                          filter_by_contains=cr.getValue(\"umls/filter_by_contains\"),\n",
    "                          max_query=cr.getValue(\"umls/max_query\"))\n",
    "kue.setWorkflow(Workflow())\n",
    "kue.workflow.to_ext_words = {'a': ['tumor', 'negated']}\n",
    "kue.workflow.filters = {'a': ['tumor', 'negated']}\n",
    "kue.workflow.api_key = ConfigReader().getValue('api_key')\n",
    "kue.setNextStep(IntroStep('<p><b>Welcome to SmartAnno!<br/>First let&apos;s import txt data from a directory. </p>'\n",
    "                       '<br/>', name='intro'))\n",
    "kue.start()\n"
   ]
  },
  {
   "cell_type": "code",
   "execution_count": 2,
   "metadata": {},
   "outputs": [
    {
     "data": {
      "application/vnd.jupyter.widget-view+json": {
       "model_id": "b6f176a07f1b436ea9d2b04398df9b09",
       "version_major": 2,
       "version_minor": 0
      },
      "text/html": [
       "<p>Failed to display Jupyter Widget of type <code>VBox</code>.</p>\n",
       "<p>\n",
       "  If you're reading this message in the Jupyter Notebook or JupyterLab Notebook, it may mean\n",
       "  that the widgets JavaScript is still loading. If this message persists, it\n",
       "  likely means that the widgets JavaScript library is either not installed or\n",
       "  not enabled. See the <a href=\"https://ipywidgets.readthedocs.io/en/stable/user_install.html\">Jupyter\n",
       "  Widgets Documentation</a> for setup instructions.\n",
       "</p>\n",
       "<p>\n",
       "  If you're reading this message in another frontend (for example, a static\n",
       "  rendering on GitHub or <a href=\"https://nbviewer.jupyter.org/\">NBViewer</a>),\n",
       "  it may mean that your frontend doesn't currently support widgets.\n",
       "</p>\n"
      ],
      "text/plain": [
       "VBox(children=(HTML(value=\"<h4>Closely related words to the keyword: '<b>negated</b>'</h4><p>Choose the ones that you want to include in keyword filters:</p>\"), Label(value='', layout=Layout(height='5px')), IntProgress(value=1, layout=Layout(height='10px', left='1%', width='98%'), max=1, style=ProgressStyle(bar_color='GAINSBORO')), Label(value='', layout=Layout(height='1px')), ToggleButtonsMultiSelectionInBox(children=(VBox(children=(HBox(children=(ToggleButton(value=False, description='outweigh', layout=Layout(margin='2', min_width='160px', width='100%'), tooltip='outweigh'), ToggleButton(value=False, description='trumped', layout=Layout(margin='2', min_width='160px', width='100%'), tooltip='trumped'), ToggleButton(value=False, description='outweighed', layout=Layout(margin='2', min_width='160px', width='100%'), tooltip='outweighed'), ToggleButton(value=False, description='negates', layout=Layout(margin='2', min_width='160px', width='100%'), tooltip='negates'), ToggleButton(value=False, description='nullifying', layout=Layout(margin='2', min_width='160px', width='100%'), tooltip='nullifying'))), HBox(children=(ToggleButton(value=False, description='subverted', layout=Layout(margin='2', min_width='160px', width='100%'), tooltip='subverted'), ToggleButton(value=False, description='neutralized', layout=Layout(margin='2', min_width='160px', width='100%'), tooltip='neutralized'), ToggleButton(value=False, description='invalidated', layout=Layout(margin='2', min_width='160px', width='100%'), tooltip='invalidated'), ToggleButton(value=False, description='misinterpreted', layout=Layout(margin='2', min_width='160px', width='100%'), tooltip='misinterpreted'), ToggleButton(value=False, description='minimised', layout=Layout(margin='2', min_width='160px', width='100%'), tooltip='minimised'))), HBox(children=(ToggleButton(value=False, description='outweighing', layout=Layout(margin='2', min_width='160px', width='100%'), tooltip='outweighing'), ToggleButton(value=False, description='mitigated', layout=Layout(margin='2', min_width='160px', width='100%'), tooltip='mitigated'), ToggleButton(value=False, description='obviated', layout=Layout(margin='2', min_width='160px', width='100%'), tooltip='obviated'), ToggleButton(value=False, description='nullifies', layout=Layout(margin='2', min_width='160px', width='100%'), tooltip='nullifies'), ToggleButton(value=False, description='overruled', layout=Layout(margin='2', min_width='160px', width='100%'), tooltip='overruled'))), HBox(children=(ToggleButton(value=False, description='implicitly', layout=Layout(margin='2', min_width='160px', width='100%'), tooltip='implicitly'), ToggleButton(value=False, description='neutralised', layout=Layout(margin='2', min_width='160px', width='100%'), tooltip='neutralised'), ToggleButton(value=False, description='minimized', layout=Layout(margin='2', min_width='160px', width='100%'), tooltip='minimized'), ToggleButton(value=False, description='counteracted', layout=Layout(margin='2', min_width='160px', width='100%'), tooltip='counteracted'), ToggleButton(value=False, description='lessened', layout=Layout(margin='2', min_width='160px', width='100%'), tooltip='lessened'))), HBox(children=(ToggleButton(value=False, description='contradicted', layout=Layout(margin='2', min_width='160px', width='100%'), tooltip='contradicted'), ToggleButton(value=False, description='abrogated', layout=Layout(margin='2', min_width='160px', width='100%'), tooltip='abrogated'), ToggleButton(value=False, description='subsumed', layout=Layout(margin='2', min_width='160px', width='100%'), tooltip='subsumed'), ToggleButton(value=False, description='hindered', layout=Layout(margin='2', min_width='160px', width='100%'), tooltip='hindered'), ToggleButton(value=False, description='nullified', layout=Layout(margin='2', min_width='160px', width='100%'), tooltip='nullified'))), HBox(children=(ToggleButton(value=False, description='negating', layout=Layout(margin='2', min_width='160px', width='100%'), tooltip='negating'), ToggleButton(value=False, description='predicated', layout=Layout(margin='2', min_width='160px', width='100%'), tooltip='predicated'), ToggleButton(value=False, description='disregarding', layout=Layout(margin='2', min_width='160px', width='100%'), tooltip='disregarding'), ToggleButton(value=False, description='downplayed', layout=Layout(margin='2', min_width='160px', width='100%'), tooltip='downplayed'), ToggleButton(value=False, description='outweighs', layout=Layout(margin='2', min_width='160px', width='100%'), tooltip='outweighs'))), HBox(children=(ToggleButton(value=False, description='reversed', layout=Layout(margin='2', min_width='160px', width='100%'), tooltip='reversed'), ToggleButton(value=False, description='diminished', layout=Layout(margin='2', min_width='160px', width='100%'), tooltip='diminished'), ToggleButton(value=False, description='curtailed', layout=Layout(margin='2', min_width='160px', width='100%'), tooltip='curtailed'), ToggleButton(value=False, description='impeded', layout=Layout(margin='2', min_width='160px', width='100%'), tooltip='impeded'), ToggleButton(value=False, description='disallowed', layout=Layout(margin='2', min_width='160px', width='100%'), tooltip='disallowed'))), HBox(children=(ToggleButton(value=False, description='fumble', layout=Layout(margin='2', min_width='160px', width='100%'), tooltip='fumble'), ToggleButton(value=False, description='nullify', layout=Layout(margin='2', min_width='160px', width='100%'), tooltip='nullify'), ToggleButton(value=False, description='ignored', layout=Layout(margin='2', min_width='160px', width='100%'), tooltip='ignored'), ToggleButton(value=False, description='underestimated', layout=Layout(margin='2', min_width='160px', width='100%'), tooltip='underestimated'), ToggleButton(value=False, description='stymied', layout=Layout(margin='2', min_width='160px', width='100%'), tooltip='stymied'))), HBox(children=(ToggleButton(value=False, description='undermined', layout=Layout(margin='2', min_width='160px', width='100%'), tooltip='undermined'), ToggleButton(value=False, description='countered', layout=Layout(margin='2', min_width='160px', width='100%'), tooltip='countered'), ToggleButton(value=False, description='dispelled', layout=Layout(margin='2', min_width='160px', width='100%'), tooltip='dispelled'), ToggleButton(value=False, description='negligible', layout=Layout(margin='2', min_width='160px', width='100%'), tooltip='negligible'), ToggleButton(value=False, description='subtracted', layout=Layout(margin='2', min_width='160px', width='100%'), tooltip='subtracted'))), HBox(children=(ToggleButton(value=False, description='misconstrued', layout=Layout(margin='2', min_width='160px', width='100%'), tooltip='misconstrued'), ToggleButton(value=False, description='negate', layout=Layout(margin='2', min_width='160px', width='100%'), tooltip='negate'), ToggleButton(value=False, description='deterred', layout=Layout(margin='2', min_width='160px', width='100%'), tooltip='deterred'), ToggleButton(value=False, description='penalty', layout=Layout(margin='2', min_width='160px', width='100%'), tooltip='penalty'), ToggleButton(value=False, description='disregarded', layout=Layout(margin='2', min_width='160px', width='100%'), tooltip='disregarded')))), layout=Layout(display='flex')),), _dom_classes=('btn-group',)), Label(value='', layout=Layout(height='10px')), IntProgress(value=1, layout=Layout(height='10px', left='1%', width='98%'), max=1, style=ProgressStyle(bar_color='GAINSBORO')), Label(value='', layout=Layout(height='1px')), HBox(children=(Button(description='Previous', layout=Layout(left='100px', width='90px'), style=ButtonStyle()), Button(description='Next', layout=Layout(left='100px', width='90px'), style=ButtonStyle()), Button(description='Complete', layout=Layout(left='100px', width='90px'), style=ButtonStyle())), layout=Layout(left='10%', width='80%'))), layout=Layout(width='100%'))"
      ]
     },
     "metadata": {},
     "output_type": "display_data"
    }
   ],
   "source": [
    "from utils.KeywordsEmbeddingExtender import KeywordsEmbeddingExtender\n",
    "from gui.Workflow import Workflow\n",
    "from conf.ConfigReader import ConfigReader\n",
    "from gui.BranchingWidgets import IntroStep\n",
    "\n",
    "cr = ConfigReader()\n",
    "kwe = KeywordsEmbeddingExtender(name='we_extender', \n",
    "                          max_query=cr.getValue(\"umls/max_query\"))\n",
    "kwe.setWorkflow(Workflow())\n",
    "kwe.workflow.to_we_ext_words = {'a': ['filaria', 'negated']}\n",
    "kwe.workflow.filters = {'a': ['filaria', 'negated']}\n",
    "kwe.setNextStep(IntroStep('<p><b>Welcome to SmartAnno!<br/>First let&apos;s import txt data from a directory. </p>'\n",
    "                       '<br/>', name='intro'))\n",
    "kwe.start()"
   ]
  },
  {
   "cell_type": "code",
   "execution_count": 1,
   "metadata": {},
   "outputs": [
    {
     "name": "stdout",
     "output_type": "stream",
     "text": [
      "CPU times: user 16 s, sys: 1.82 s, total: 17.8 s\n",
      "Wall time: 20.4 s\n"
     ]
    }
   ],
   "source": [
    "%%time\n",
    "from utils.GloveModel import GloveModel\n",
    "GloveModel()"
   ]
  },
  {
   "cell_type": "code",
   "execution_count": null,
   "metadata": {},
   "outputs": [],
   "source": [
    "list=gm.similar_by_word('scheduled',40)\n",
    "for i in list:\n",
    "    print(i[0])"
   ]
  },
  {
   "cell_type": "code",
   "execution_count": null,
   "metadata": {},
   "outputs": [],
   "source": []
  },
  {
   "cell_type": "code",
   "execution_count": null,
   "metadata": {},
   "outputs": [],
   "source": []
  },
  {
   "cell_type": "code",
   "execution_count": null,
   "metadata": {},
   "outputs": [],
   "source": []
  },
  {
   "cell_type": "code",
   "execution_count": null,
   "metadata": {},
   "outputs": [],
   "source": []
  },
  {
   "cell_type": "code",
   "execution_count": null,
   "metadata": {},
   "outputs": [],
   "source": []
  },
  {
   "cell_type": "code",
   "execution_count": null,
   "metadata": {},
   "outputs": [],
   "source": []
  },
  {
   "cell_type": "code",
   "execution_count": null,
   "metadata": {},
   "outputs": [],
   "source": []
  },
  {
   "cell_type": "code",
   "execution_count": null,
   "metadata": {},
   "outputs": [],
   "source": []
  },
  {
   "cell_type": "code",
   "execution_count": null,
   "metadata": {},
   "outputs": [],
   "source": []
  },
  {
   "cell_type": "code",
   "execution_count": null,
   "metadata": {},
   "outputs": [],
   "source": []
  },
  {
   "cell_type": "code",
   "execution_count": null,
   "metadata": {},
   "outputs": [],
   "source": []
  },
  {
   "cell_type": "code",
   "execution_count": null,
   "metadata": {},
   "outputs": [],
   "source": []
  },
  {
   "cell_type": "code",
   "execution_count": null,
   "metadata": {},
   "outputs": [],
   "source": []
  },
  {
   "cell_type": "code",
   "execution_count": null,
   "metadata": {},
   "outputs": [],
   "source": []
  },
  {
   "cell_type": "code",
   "execution_count": null,
   "metadata": {},
   "outputs": [],
   "source": []
  },
  {
   "cell_type": "code",
   "execution_count": null,
   "metadata": {},
   "outputs": [],
   "source": []
  },
  {
   "cell_type": "code",
   "execution_count": null,
   "metadata": {},
   "outputs": [],
   "source": []
  },
  {
   "cell_type": "code",
   "execution_count": null,
   "metadata": {},
   "outputs": [],
   "source": []
  },
  {
   "cell_type": "code",
   "execution_count": null,
   "metadata": {},
   "outputs": [],
   "source": []
  },
  {
   "cell_type": "code",
   "execution_count": null,
   "metadata": {},
   "outputs": [],
   "source": []
  },
  {
   "cell_type": "code",
   "execution_count": null,
   "metadata": {},
   "outputs": [],
   "source": []
  },
  {
   "cell_type": "code",
   "execution_count": null,
   "metadata": {},
   "outputs": [],
   "source": []
  },
  {
   "cell_type": "code",
   "execution_count": null,
   "metadata": {},
   "outputs": [],
   "source": []
  },
  {
   "cell_type": "code",
   "execution_count": null,
   "metadata": {},
   "outputs": [],
   "source": []
  },
  {
   "cell_type": "code",
   "execution_count": null,
   "metadata": {},
   "outputs": [],
   "source": []
  },
  {
   "cell_type": "code",
   "execution_count": null,
   "metadata": {},
   "outputs": [],
   "source": []
  },
  {
   "cell_type": "code",
   "execution_count": null,
   "metadata": {},
   "outputs": [],
   "source": []
  },
  {
   "cell_type": "code",
   "execution_count": null,
   "metadata": {},
   "outputs": [],
   "source": []
  },
  {
   "cell_type": "code",
   "execution_count": null,
   "metadata": {},
   "outputs": [],
   "source": []
  },
  {
   "cell_type": "code",
   "execution_count": null,
   "metadata": {},
   "outputs": [],
   "source": []
  },
  {
   "cell_type": "code",
   "execution_count": null,
   "metadata": {},
   "outputs": [],
   "source": []
  },
  {
   "cell_type": "code",
   "execution_count": null,
   "metadata": {},
   "outputs": [],
   "source": []
  },
  {
   "cell_type": "code",
   "execution_count": null,
   "metadata": {},
   "outputs": [],
   "source": []
  },
  {
   "cell_type": "code",
   "execution_count": null,
   "metadata": {},
   "outputs": [],
   "source": []
  },
  {
   "cell_type": "code",
   "execution_count": null,
   "metadata": {},
   "outputs": [],
   "source": []
  },
  {
   "cell_type": "code",
   "execution_count": null,
   "metadata": {},
   "outputs": [],
   "source": []
  },
  {
   "cell_type": "code",
   "execution_count": null,
   "metadata": {},
   "outputs": [],
   "source": []
  },
  {
   "cell_type": "code",
   "execution_count": null,
   "metadata": {},
   "outputs": [],
   "source": []
  },
  {
   "cell_type": "code",
   "execution_count": null,
   "metadata": {},
   "outputs": [],
   "source": []
  },
  {
   "cell_type": "code",
   "execution_count": null,
   "metadata": {},
   "outputs": [],
   "source": []
  },
  {
   "cell_type": "code",
   "execution_count": null,
   "metadata": {},
   "outputs": [],
   "source": []
  },
  {
   "cell_type": "code",
   "execution_count": null,
   "metadata": {},
   "outputs": [],
   "source": []
  },
  {
   "cell_type": "code",
   "execution_count": null,
   "metadata": {},
   "outputs": [],
   "source": []
  },
  {
   "cell_type": "code",
   "execution_count": null,
   "metadata": {},
   "outputs": [],
   "source": []
  },
  {
   "cell_type": "code",
   "execution_count": null,
   "metadata": {},
   "outputs": [],
   "source": []
  },
  {
   "cell_type": "code",
   "execution_count": null,
   "metadata": {},
   "outputs": [],
   "source": []
  },
  {
   "cell_type": "code",
   "execution_count": null,
   "metadata": {},
   "outputs": [],
   "source": []
  },
  {
   "cell_type": "code",
   "execution_count": null,
   "metadata": {},
   "outputs": [],
   "source": []
  },
  {
   "cell_type": "code",
   "execution_count": null,
   "metadata": {},
   "outputs": [],
   "source": []
  },
  {
   "cell_type": "code",
   "execution_count": null,
   "metadata": {},
   "outputs": [],
   "source": []
  },
  {
   "cell_type": "code",
   "execution_count": null,
   "metadata": {},
   "outputs": [],
   "source": []
  },
  {
   "cell_type": "code",
   "execution_count": null,
   "metadata": {},
   "outputs": [],
   "source": []
  },
  {
   "cell_type": "code",
   "execution_count": null,
   "metadata": {},
   "outputs": [],
   "source": []
  },
  {
   "cell_type": "code",
   "execution_count": null,
   "metadata": {},
   "outputs": [],
   "source": []
  },
  {
   "cell_type": "code",
   "execution_count": null,
   "metadata": {},
   "outputs": [],
   "source": []
  },
  {
   "cell_type": "code",
   "execution_count": null,
   "metadata": {},
   "outputs": [],
   "source": []
  },
  {
   "cell_type": "code",
   "execution_count": null,
   "metadata": {},
   "outputs": [],
   "source": []
  },
  {
   "cell_type": "code",
   "execution_count": null,
   "metadata": {},
   "outputs": [],
   "source": []
  },
  {
   "cell_type": "code",
   "execution_count": null,
   "metadata": {},
   "outputs": [],
   "source": []
  },
  {
   "cell_type": "code",
   "execution_count": null,
   "metadata": {},
   "outputs": [],
   "source": []
  },
  {
   "cell_type": "code",
   "execution_count": null,
   "metadata": {},
   "outputs": [],
   "source": []
  },
  {
   "cell_type": "code",
   "execution_count": null,
   "metadata": {},
   "outputs": [],
   "source": []
  },
  {
   "cell_type": "code",
   "execution_count": null,
   "metadata": {},
   "outputs": [],
   "source": []
  },
  {
   "cell_type": "code",
   "execution_count": null,
   "metadata": {},
   "outputs": [],
   "source": []
  },
  {
   "cell_type": "code",
   "execution_count": null,
   "metadata": {},
   "outputs": [],
   "source": []
  },
  {
   "cell_type": "code",
   "execution_count": null,
   "metadata": {},
   "outputs": [],
   "source": []
  },
  {
   "cell_type": "code",
   "execution_count": null,
   "metadata": {},
   "outputs": [],
   "source": []
  },
  {
   "cell_type": "code",
   "execution_count": null,
   "metadata": {},
   "outputs": [],
   "source": [
    "gui.workflow.task_name='kdodda'"
   ]
  },
  {
   "cell_type": "code",
   "execution_count": null,
   "metadata": {},
   "outputs": [],
   "source": [
    "with gui.workflow.dao.create_session() as session:\n",
    "    gui.workflow.task_id = session.query(Task).filter(Task.task_name == gui.workflow.task_name).first()\n",
    "    if gui.workflow.task_id is None:\n",
    "        i=session.add(Task(task_name=gui.workflow.task_name))\n",
    "        print(i)\n",
    "        gui.workflow.task_id = session.query(Task).filter(Task.task_name == gui.workflow.task_name).first()\n",
    "        print(gui.workflow.task_id )\n",
    "    else:\n",
    "        print(gui.workflow.task_id)\n",
    "        \n",
    "        "
   ]
  },
  {
   "cell_type": "code",
   "execution_count": null,
   "metadata": {},
   "outputs": [],
   "source": []
  },
  {
   "cell_type": "code",
   "execution_count": null,
   "metadata": {},
   "outputs": [],
   "source": [
    "gui.workflow.steps[2].data"
   ]
  },
  {
   "cell_type": "code",
   "execution_count": null,
   "metadata": {},
   "outputs": [],
   "source": []
  },
  {
   "cell_type": "code",
   "execution_count": null,
   "metadata": {},
   "outputs": [],
   "source": []
  },
  {
   "cell_type": "code",
   "execution_count": null,
   "metadata": {},
   "outputs": [],
   "source": []
  },
  {
   "cell_type": "code",
   "execution_count": null,
   "metadata": {},
   "outputs": [],
   "source": [
    "\n",
    "[step.name for step in gui.workflow.steps]"
   ]
  },
  {
   "cell_type": "code",
   "execution_count": null,
   "metadata": {},
   "outputs": [],
   "source": [
    "import os\n",
    "from sqlalchemy_dao import Dao\n",
    "from db.ORMs import Document,Annotation\n",
    "from sqlalchemy_dao import Model\n",
    "from conf.ConfigReader import ConfigReader\n",
    "import sqlalchemy_dao\n",
    "import os.path\n",
    "dbfile=ConfigReader().getValue('db')\n",
    "if os.path.isfile(dbfile):\n",
    "    os.remove(dbfile)\n",
    "dao = Dao(dbfile,sqlalchemy_dao.POOL_DISABLED)\n",
    "Model.metadata.create_all(bind=dao._engine)"
   ]
  },
  {
   "cell_type": "code",
   "execution_count": null,
   "metadata": {},
   "outputs": [],
   "source": [
    "import os\n",
    "from sqlalchemy_dao import Dao\n",
    "from db.ORMs import Document,Annotation,Task\n",
    "from sqlalchemy_dao import Model\n",
    "from conf.ConfigReader import ConfigReader\n",
    "import sqlalchemy_dao\n",
    "from sqlalchemy.sql import select\n",
    "dbfile=ConfigReader().getValue('db')\n",
    "dao = Dao(dbfile,sqlalchemy_dao.POOL_DISABLED)\n"
   ]
  },
  {
   "cell_type": "code",
   "execution_count": null,
   "metadata": {},
   "outputs": [],
   "source": [
    "with dao.create_session() as session:\n",
    "    res = session.query(Task)"
   ]
  },
  {
   "cell_type": "code",
   "execution_count": null,
   "metadata": {},
   "outputs": [],
   "source": [
    "print(res.first())"
   ]
  },
  {
   "cell_type": "code",
   "execution_count": null,
   "metadata": {},
   "outputs": [],
   "source": [
    "from db.ORMs import Annotation, Document\n",
    "s = select([Document]).where(Document.doc_id>5)"
   ]
  },
  {
   "cell_type": "code",
   "execution_count": null,
   "metadata": {},
   "outputs": [],
   "source": [
    "import pandas  as pd\n",
    "df=pd.read_sql(s,dao._engine)"
   ]
  },
  {
   "cell_type": "code",
   "execution_count": null,
   "metadata": {},
   "outputs": [],
   "source": [
    "from sqlalchemy import join\n",
    "s=join(Annotation, Document).select().where(Annotation.task_id==1)\n",
    "fd=pd.read_sql(s,dao._engine)\n",
    "fd"
   ]
  },
  {
   "cell_type": "code",
   "execution_count": null,
   "metadata": {},
   "outputs": [],
   "source": [
    "from db.ORMs import Annotation, Document,Filter,Typedef\n",
    "import pandas as pd\n",
    "s = select([Filter]).where(Filter.task_id==1)\n",
    "fd=pd.read_sql(s,dao._engine)\n",
    "fd"
   ]
  },
  {
   "cell_type": "code",
   "execution_count": null,
   "metadata": {},
   "outputs": [],
   "source": [
    "from sqlalchemy import func\n",
    "with dao.create_session() as session:\n",
    "    num_docs = session.query(func.count(Document.doc_id)).first()\n",
    "    print(num_docs[0])\n",
    "    print(type(num_docs))"
   ]
  },
  {
   "cell_type": "code",
   "execution_count": null,
   "metadata": {},
   "outputs": [],
   "source": [
    "from decorated.base.context import ctx\n",
    "with dao.create_session() as session:\n",
    "    fs = session.query(Typedef)\n",
    "    print(type(fs))\n",
    "    for f in fs:\n",
    "        print(f)"
   ]
  },
  {
   "cell_type": "code",
   "execution_count": null,
   "metadata": {},
   "outputs": [],
   "source": [
    "\n",
    "\n",
    "import spacy\n",
    "from spacy.matcher import Matcher\n",
    "\n",
    "nlp = spacy.load('en')\n",
    "matcher = Matcher(nlp.vocab)\n",
    "# add match ID \"HelloWorld\" with no callback and one pattern\n",
    "pattern = [{'LOWER': 'hello'}, {'IS_PUNCT': True}, {'LOWER': 'world'}]\n",
    "matcher.add('HelloWorld', None, pattern)\n",
    "\n",
    "doc = nlp(u'Hello, world! Hello world!')\n",
    "matches = matcher(doc)\n"
   ]
  },
  {
   "cell_type": "code",
   "execution_count": null,
   "metadata": {},
   "outputs": [],
   "source": [
    "matches"
   ]
  },
  {
   "cell_type": "code",
   "execution_count": null,
   "metadata": {},
   "outputs": [],
   "source": [
    "doc."
   ]
  },
  {
   "cell_type": "code",
   "execution_count": null,
   "metadata": {},
   "outputs": [],
   "source": [
    "import spacy\n",
    "from spacy import displacy\n",
    "\n",
    "nlp = spacy.load('en')\n",
    "doc = nlp(u'This is a sentence.')\n",
    "displacy.serve(doc, style='dep')\n"
   ]
  },
  {
   "cell_type": "code",
   "execution_count": null,
   "metadata": {},
   "outputs": [],
   "source": [
    "from gui.MyWidgets import ToggleButtonsMultiSelection,monitor\n",
    "import ipywidgets as widgets\n",
    "\n",
    "ToggleButtonsMultiSelection(options=['adddddddd','b','c','gddddddddddddd','gdddddddddddd','f','gdddddddddddd','H'],layout=widgets.Layout(display='flex', flex_grown='row'))"
   ]
  },
  {
   "cell_type": "code",
   "execution_count": null,
   "metadata": {},
   "outputs": [],
   "source": [
    "import ipywidgets as widgets\n",
    "options=['a','b','c','d','e','f','g','H']\n",
    "ws=[widgets.ToggleButton(description=label,layout=widgets.Layout(margin='2', icon='check'))\n",
    "                            for label in options]"
   ]
  },
  {
   "cell_type": "code",
   "execution_count": null,
   "metadata": {},
   "outputs": [],
   "source": [
    "from gui.MyWidgets import ToggleButtonsMultiSelectionInBox,monitor2\n",
    "a=ToggleButtonsMultiSelectionInBox(options=['adddddddd','b','c','gddddddddddddd','gdddddddddddd','f','gdddddddddddd','H'])"
   ]
  },
  {
   "cell_type": "code",
   "execution_count": null,
   "metadata": {},
   "outputs": [],
   "source": [
    "a"
   ]
  },
  {
   "cell_type": "code",
   "execution_count": null,
   "metadata": {},
   "outputs": [],
   "source": [
    "a.value"
   ]
  },
  {
   "cell_type": "code",
   "execution_count": null,
   "metadata": {},
   "outputs": [],
   "source": []
  }
 ],
 "metadata": {
  "kernelspec": {
   "display_name": "Python [default]",
   "language": "python",
   "name": "python3"
  },
  "language_info": {
   "codemirror_mode": {
    "name": "ipython",
    "version": 3
   },
   "file_extension": ".py",
   "mimetype": "text/x-python",
   "name": "python",
   "nbconvert_exporter": "python",
   "pygments_lexer": "ipython3",
   "version": "3.6.3"
  }
 },
 "nbformat": 4,
 "nbformat_minor": 2
}
