{
 "cells": [
  {
   "cell_type": "code",
   "execution_count": 3,
   "metadata": {},
   "outputs": [
    {
     "data": {
      "application/vnd.jupyter.widget-view+json": {
       "model_id": "7847696c14bf4546bc463b68d5ef1c0a",
       "version_major": 2,
       "version_minor": 0
      },
      "text/html": [
       "<p>Failed to display Jupyter Widget of type <code>HTML</code>.</p>\n",
       "<p>\n",
       "  If you're reading this message in the Jupyter Notebook or JupyterLab Notebook, it may mean\n",
       "  that the widgets JavaScript is still loading. If this message persists, it\n",
       "  likely means that the widgets JavaScript library is either not installed or\n",
       "  not enabled. See the <a href=\"https://ipywidgets.readthedocs.io/en/stable/user_install.html\">Jupyter\n",
       "  Widgets Documentation</a> for setup instructions.\n",
       "</p>\n",
       "<p>\n",
       "  If you're reading this message in another frontend (for example, a static\n",
       "  rendering on GitHub or <a href=\"https://nbviewer.jupyter.org/\">NBViewer</a>),\n",
       "  it may mean that your frontend doesn't currently support widgets.\n",
       "</p>\n"
      ],
      "text/plain": [
       "HTML(value='<style>.output_wrapper, .output {\\n                    height:auto !important;\\n                    max-height:1000px;  /* your desired max-height here */\\n                }\\n                .output_scroll {\\n                    box-shadow:none !important;\\n                    webkit-box-shadow:none !important;\\n                }\\n                </style>')"
      ]
     },
     "metadata": {},
     "output_type": "display_data"
    }
   ],
   "source": [
    "from gui.GUI import GUI\n",
    "gui=GUI()"
   ]
  },
  {
   "cell_type": "code",
   "execution_count": 4,
   "metadata": {
    "scrolled": false
   },
   "outputs": [
    {
     "data": {
      "application/vnd.jupyter.widget-view+json": {
       "model_id": "b5bfa30ee149465d89741e8021a4be98",
       "version_major": 2,
       "version_minor": 0
      },
      "text/html": [
       "<p>Failed to display Jupyter Widget of type <code>VBox</code>.</p>\n",
       "<p>\n",
       "  If you're reading this message in the Jupyter Notebook or JupyterLab Notebook, it may mean\n",
       "  that the widgets JavaScript is still loading. If this message persists, it\n",
       "  likely means that the widgets JavaScript library is either not installed or\n",
       "  not enabled. See the <a href=\"https://ipywidgets.readthedocs.io/en/stable/user_install.html\">Jupyter\n",
       "  Widgets Documentation</a> for setup instructions.\n",
       "</p>\n",
       "<p>\n",
       "  If you're reading this message in another frontend (for example, a static\n",
       "  rendering on GitHub or <a href=\"https://nbviewer.jupyter.org/\">NBViewer</a>),\n",
       "  it may mean that your frontend doesn't currently support widgets.\n",
       "</p>\n"
      ],
      "text/plain": [
       "VBox(children=(HTML(value=\"Extended from keyword 'wound':\"), Label(value='', layout=Layout(height='5px')), IntProgress(value=1, layout=Layout(height='10px', left='1%', width='98%'), max=1, style=ProgressStyle(bar_color='GAINSBORO')), Label(value='', layout=Layout(height='1px')), ToggleButtonsMultiSelection(children=(ToggleButton(value=False, description='Injury wounds', layout=Layout(margin='2')), ToggleButton(value=False, description='Incised wound', layout=Layout(margin='2')), ToggleButton(value=False, description='Puncture wound', layout=Layout(margin='2')), ToggleButton(value=False, description='Surgical Wound Dehiscence', layout=Layout(margin='2')), ToggleButton(value=False, description='Wound Healing', layout=Layout(margin='2')), ToggleButton(value=False, description='Wound Infection', layout=Layout(margin='2')), ToggleButton(value=False, description='Laceration', layout=Layout(margin='2')), ToggleButton(value=False, description='Gunshot wound', layout=Layout(margin='2')), ToggleButton(value=False, description='Wounds Penetrating', layout=Layout(margin='2')), ToggleButton(value=False, description='Wounds Stab', layout=Layout(margin='2')), ToggleButton(value=False, description='Dressing change', layout=Layout(margin='2')), ToggleButton(value=False, description='Irrigation of wound', layout=Layout(margin='2')), ToggleButton(value=False, description='Dressing of wound procedure', layout=Layout(margin='2')), ToggleButton(value=False, description='Wound drain', layout=Layout(margin='2')), ToggleButton(value=False, description='Wound shield', layout=Layout(margin='2')), ToggleButton(value=False, description='Debridement of wound of skin', layout=Layout(margin='2')), ToggleButton(value=False, description='Wound hemorrhage', layout=Layout(margin='2')), ToggleButton(value=False, description='Wound pain', layout=Layout(margin='2')), ToggleButton(value=False, description='Wound dehiscence', layout=Layout(margin='2')), ToggleButton(value=False, description='Avulsed wound', layout=Layout(margin='2')), ToggleButton(value=False, description='Wound hematoma', layout=Layout(margin='2')), ToggleButton(value=False, description='Open wound', layout=Layout(margin='2')), ToggleButton(value=False, description='Draining wound', layout=Layout(margin='2')), ToggleButton(value=False, description='Surgical wound', layout=Layout(margin='2')), ToggleButton(value=False, description='Superficial wound', layout=Layout(margin='2')), ToggleButton(value=False, description='Deep wound injury', layout=Layout(margin='2')), ToggleButton(value=False, description='Antemortem wound', layout=Layout(margin='2')), ToggleButton(value=False, description='Postmortem wound', layout=Layout(margin='2')), ToggleButton(value=False, description='Mutilating wound', layout=Layout(margin='2')), ToggleButton(value=False, description='Conjunctival wound', layout=Layout(margin='2')), ToggleButton(value=False, description='Wound myiasis', layout=Layout(margin='2')), ToggleButton(value=False, description='Wound infiltration', layout=Layout(margin='2')), ToggleButton(value=False, description='Wound abscess', layout=Layout(margin='2')), ToggleButton(value=False, description='Wound sinus', layout=Layout(margin='2')), ToggleButton(value=False, description='Wound seroma', layout=Layout(margin='2')), ToggleButton(value=False, description='Wound cellulitis', layout=Layout(margin='2')), ToggleButton(value=False, description='Wound erythema', layout=Layout(margin='2')), ToggleButton(value=False, description='Wound discharge finding', layout=Layout(margin='2')), ToggleButton(value=False, description='Wound granuloma', layout=Layout(margin='2')), ToggleButton(value=False, description='Curettage of wound', layout=Layout(margin='2')), ToggleButton(value=False, description='Removal of slough from skin', layout=Layout(margin='2')), ToggleButton(value=False, description='Packing of wound', layout=Layout(margin='2')), ToggleButton(value=False, description='Change of wound pack', layout=Layout(margin='2')), ToggleButton(value=False, description='Accidental wound', layout=Layout(margin='2')), ToggleButton(value=False, description='Pellet wound', layout=Layout(margin='2')), ToggleButton(value=False, description='Bullet wound', layout=Layout(margin='2')), ToggleButton(value=False, description='Wound swab specimen', layout=Layout(margin='2')), ToggleButton(value=False, description='Communication with wound', layout=Layout(margin='2')), ToggleButton(value=False, description='Method of wound closure', layout=Layout(margin='2')), ToggleButton(value=False, description='Repadding wound', layout=Layout(margin='2')), ToggleButton(value=False, description='Padding wound', layout=Layout(margin='2')), ToggleButton(value=False, description='wound care', layout=Layout(margin='2')), ToggleButton(value=False, description='Location of wound', layout=Layout(margin='2')), ToggleButton(value=False, description='Open wound of cochlea', layout=Layout(margin='2')), ToggleButton(value=False, description='Open wound of larynx', layout=Layout(margin='2')), ToggleButton(value=False, description='Open wound of lower limb', layout=Layout(margin='2')), ToggleButton(value=False, description='Delayed closure of abdominal wall', layout=Layout(margin='2')), ToggleButton(value=False, description='Open wound of groin with complication', layout=Layout(margin='2')), ToggleButton(value=False, description='Corneal Perforation', layout=Layout(margin='2')), ToggleButton(value=False, description='Open wound of abdominal wall', layout=Layout(margin='2')), ToggleButton(value=False, description='Skin wound swab taken', layout=Layout(margin='2')), ToggleButton(value=False, description='Human bite  wound', layout=Layout(margin='2')), ToggleButton(value=False, description='Infection of obstetric surgical wound', layout=Layout(margin='2')), ToggleButton(value=False, description='Open wound of tongue', layout=Layout(margin='2')), ToggleButton(value=False, description='Stab wound of wrist', layout=Layout(margin='2')), ToggleButton(value=False, description='Stab wound of toe', layout=Layout(margin='2')), ToggleButton(value=False, description='Puncture wound of hand', layout=Layout(margin='2')), ToggleButton(value=False, description='Puncture wound of dorsum of foot', layout=Layout(margin='2')), ToggleButton(value=False, description='Pellet wound of palm of hand', layout=Layout(margin='2')), ToggleButton(value=False, description='Pellet wound of sole of foot', layout=Layout(margin='2')), ToggleButton(value=False, description='Nail wound of ankle', layout=Layout(margin='2')), ToggleButton(value=False, description='Wound repair skinplasty', layout=Layout(margin='2')), ToggleButton(value=False, description='Open wound of chin', layout=Layout(margin='2')), ToggleButton(value=False, description='Foreign body in wound', layout=Layout(margin='2')), ToggleButton(value=False, description='Wound drainage bag', layout=Layout(margin='2')), ToggleButton(value=False, description='Honey based wound dressing', layout=Layout(margin='2')), ToggleButton(value=False, description='Open wound of muscle of forearm', layout=Layout(margin='2')), ToggleButton(value=False, description='Clock position of wound tunneling', layout=Layout(margin='2')), ToggleButton(value=False, description='Open wound of trunk with abscess', layout=Layout(margin='2')), ToggleButton(value=False, description='Scalp wound clip', layout=Layout(margin='2')), ToggleButton(value=False, description='Wound therapy ultrasound system', layout=Layout(margin='2')), ToggleButton(value=False, description='Open wound of nasal cavity with complication', layout=Layout(margin='2')), ToggleButton(value=False, description='Brain injury with open intracranial wound', layout=Layout(margin='2')), ToggleButton(value=False, description='Open wound of alveolar process with complication', layout=Layout(margin='2')), ToggleButton(value=False, description='Open wound of pubic region with complication', layout=Layout(margin='2')), ToggleButton(value=False, description='Open wound of toes with tendon involvement', layout=Layout(margin='2')), ToggleButton(value=False, description='Sequelae of open wound of upper limb', layout=Layout(margin='2')), ToggleButton(value=False, description='Open wound of face with foreign body', layout=Layout(margin='2')), ToggleButton(value=False, description='Woundnonadherent dressing permeable antimicrobial', layout=Layout(margin='2')), ToggleButton(value=False, description='Injury of liver with open wound into abdominal cavity', layout=Layout(margin='2')), ToggleButton(value=False, description='Brain injury with open intracranial wound AND no loss of consciousness', layout=Layout(margin='2')), ToggleButton(value=False, description='Brain stem laceration without open intracranial wound', layout=Layout(margin='2')), ToggleButton(value=False, description='Injury of colon with open wound into abdominal cavity', layout=Layout(margin='2')), ToggleButton(value=False, description='Open wound of external ear without complication', layout=Layout(margin='2')), ToggleButton(value=False, description='Open wound of external genital organs without complication', layout=Layout(margin='2')), ToggleButton(value=False, description='Open wound of shoulder region and upper limb', layout=Layout(margin='2')), ToggleButton(value=False, description='Splinter of chest wall without major open wound', layout=Layout(margin='2')), ToggleButton(value=False, description='Splinter of scapular region without major open wound', layout=Layout(margin='2')), ToggleButton(value=False, description='Splinter of foot without major open wound infected', layout=Layout(margin='2')), ToggleButton(value=False, description='Puncture wound of lower leg with foreign body', layout=Layout(margin='2')), ToggleButton(value=False, description='Negativepressure wound therapy system drape', layout=Layout(margin='2')), ToggleButton(value=False, description='Open wound of multiple sites of shoulder ANDOR upper arm with complication', layout=Layout(margin='2')), ToggleButton(value=False, description='Intracranial hemorrhage following injury without open intracranial wound', layout=Layout(margin='2')), ToggleButton(value=False, description='Severe crushing injury of abdominal organs without open wound into cavity', layout=Layout(margin='2')), ToggleButton(value=False, description='Hematoma of kidney without rupture of capsule AND without open wound into abdominal cavity', layout=Layout(margin='2')), ToggleButton(value=False, description='Superficial foreign body of ear without major open wound but with infection', layout=Layout(margin='2')), ToggleButton(value=False, description='Superficial foreign body of groin without major open wound AND without infection', layout=Layout(margin='2')), ToggleButton(value=False, description='Superficial foreign body of wrist without major open wound AND without infection', layout=Layout(margin='2')), ToggleButton(value=False, description='Splinter of chest wall without major open wound infected', layout=Layout(margin='2')), ToggleButton(value=False, description='Negativepressure wound therapy system batterypowered reusable', layout=Layout(margin='2')), ToggleButton(value=False, description='Brain stem contusion with open intracranial wound AND moderate loss of consciousness 124 hours', layout=Layout(margin='2')), ToggleButton(value=False, description='Superficial foreign body of upper arm without major open wound AND without infection', layout=Layout(margin='2')), ToggleButton(value=False, description='Subarachnoid hemorrhage following injury with open intracranial wound AND prolonged loss of consciousness more than 24 hours AND return to preexisting conscious level', layout=Layout(margin='2')), ToggleButton(value=False, description='Brain stem laceration without open intracranial wound AND with prolonged loss of consciousness more than 24 hours without return to preexisting conscious level', layout=Layout(margin='2')), ToggleButton(value=False, description='NO RESULTS', layout=Layout(margin='2'))), _dom_classes=('btn-group',)), Label(value='', layout=Layout(height='10px')), IntProgress(value=1, layout=Layout(height='10px', left='1%', width='98%'), max=1, style=ProgressStyle(bar_color='GAINSBORO')), Label(value='', layout=Layout(height='1px')), HBox(children=(Button(description='Previous', layout=Layout(left='100px', width='90px'), style=ButtonStyle()), Button(description='Next', layout=Layout(left='100px', width='90px'), style=ButtonStyle()), Button(description='Complete', layout=Layout(left='100px', width='90px'), style=ButtonStyle())), layout=Layout(left='10%', width='80%'))))"
      ]
     },
     "metadata": {},
     "output_type": "display_data"
    },
    {
     "ename": "AttributeError",
     "evalue": "'Button' object has no attribute 'linked_step'",
     "output_type": "error",
     "traceback": [
      "\u001b[0;31m---------------------------------------------------------------------------\u001b[0m",
      "\u001b[0;31mAttributeError\u001b[0m                            Traceback (most recent call last)",
      "\u001b[0;32m~/Documents/PycharmProjects/SmartAnno/SmartAnno/utils/KeywordsUMLSExtender.py\u001b[0m in \u001b[0;36mnavigate\u001b[0;34m(self, b)\u001b[0m\n\u001b[1;32m     79\u001b[0m         \u001b[0;31m# print(b)\u001b[0m\u001b[0;34m\u001b[0m\u001b[0;34m\u001b[0m\u001b[0m\n\u001b[1;32m     80\u001b[0m         \u001b[0mself\u001b[0m\u001b[0;34m.\u001b[0m\u001b[0mdata\u001b[0m \u001b[0;34m=\u001b[0m \u001b[0mself\u001b[0m\u001b[0;34m.\u001b[0m\u001b[0mselections\u001b[0m\u001b[0;34m.\u001b[0m\u001b[0mvalue\u001b[0m\u001b[0;34m\u001b[0m\u001b[0m\n\u001b[0;32m---> 81\u001b[0;31m         \u001b[0mb\u001b[0m\u001b[0;34m.\u001b[0m\u001b[0mlinked_step\u001b[0m\u001b[0;34m.\u001b[0m\u001b[0mstart\u001b[0m\u001b[0;34m(\u001b[0m\u001b[0;34m)\u001b[0m\u001b[0;34m\u001b[0m\u001b[0m\n\u001b[0m\u001b[1;32m     82\u001b[0m         \u001b[0;32mpass\u001b[0m\u001b[0;34m\u001b[0m\u001b[0m\n",
      "\u001b[0;31mAttributeError\u001b[0m: 'Button' object has no attribute 'linked_step'"
     ]
    },
    {
     "ename": "AttributeError",
     "evalue": "'Button' object has no attribute 'linked_step'",
     "output_type": "error",
     "traceback": [
      "\u001b[0;31m---------------------------------------------------------------------------\u001b[0m",
      "\u001b[0;31mAttributeError\u001b[0m                            Traceback (most recent call last)",
      "\u001b[0;32m~/Documents/PycharmProjects/SmartAnno/SmartAnno/utils/KeywordsUMLSExtender.py\u001b[0m in \u001b[0;36mnavigate\u001b[0;34m(self, b)\u001b[0m\n\u001b[1;32m     79\u001b[0m         \u001b[0;31m# print(b)\u001b[0m\u001b[0;34m\u001b[0m\u001b[0;34m\u001b[0m\u001b[0m\n\u001b[1;32m     80\u001b[0m         \u001b[0mself\u001b[0m\u001b[0;34m.\u001b[0m\u001b[0mdata\u001b[0m \u001b[0;34m=\u001b[0m \u001b[0mself\u001b[0m\u001b[0;34m.\u001b[0m\u001b[0mselections\u001b[0m\u001b[0;34m.\u001b[0m\u001b[0mvalue\u001b[0m\u001b[0;34m\u001b[0m\u001b[0m\n\u001b[0;32m---> 81\u001b[0;31m         \u001b[0mb\u001b[0m\u001b[0;34m.\u001b[0m\u001b[0mlinked_step\u001b[0m\u001b[0;34m.\u001b[0m\u001b[0mstart\u001b[0m\u001b[0;34m(\u001b[0m\u001b[0;34m)\u001b[0m\u001b[0;34m\u001b[0m\u001b[0m\n\u001b[0m\u001b[1;32m     82\u001b[0m         \u001b[0;32mpass\u001b[0m\u001b[0;34m\u001b[0m\u001b[0m\n",
      "\u001b[0;31mAttributeError\u001b[0m: 'Button' object has no attribute 'linked_step'"
     ]
    }
   ],
   "source": [
    "gui.start()"
   ]
  },
  {
   "cell_type": "code",
   "execution_count": 6,
   "metadata": {
    "scrolled": true
   },
   "outputs": [
    {
     "name": "stdout",
     "output_type": "stream",
     "text": [
      "ta\n",
      "tb\n",
      "neutral\n"
     ]
    }
   ],
   "source": [
    "for type_name, words in gui.workflow.to_ext_words.items():\n",
    "    print(type_name)"
   ]
  },
  {
   "cell_type": "code",
   "execution_count": 14,
   "metadata": {},
   "outputs": [
    {
     "data": {
      "text/plain": [
       "('Wound Healing', 'Laceration')"
      ]
     },
     "execution_count": 14,
     "metadata": {},
     "output_type": "execute_result"
    }
   ],
   "source": [
    "gui.workflow.steps[10].loop_workflow.steps[3].data\n"
   ]
  },
  {
   "cell_type": "code",
   "execution_count": 5,
   "metadata": {},
   "outputs": [
    {
     "data": {
      "text/plain": [
       "0"
      ]
     },
     "execution_count": 5,
     "metadata": {},
     "output_type": "execute_result"
    }
   ],
   "source": [
    "gui.workflow.steps[10].loop_workflow.status\n"
   ]
  },
  {
   "cell_type": "code",
   "execution_count": 15,
   "metadata": {},
   "outputs": [
    {
     "data": {
      "text/plain": [
       "10"
      ]
     },
     "execution_count": 15,
     "metadata": {},
     "output_type": "execute_result"
    }
   ],
   "source": [
    "gui.workflow.status"
   ]
  },
  {
   "cell_type": "code",
   "execution_count": 6,
   "metadata": {},
   "outputs": [
    {
     "data": {
      "application/vnd.jupyter.widget-view+json": {
       "model_id": "348a1a2d48c8415d9efc3de648b27c2c",
       "version_major": 2,
       "version_minor": 0
      },
      "text/html": [
       "<p>Failed to display Jupyter Widget of type <code>HTML</code>.</p>\n",
       "<p>\n",
       "  If you're reading this message in the Jupyter Notebook or JupyterLab Notebook, it may mean\n",
       "  that the widgets JavaScript is still loading. If this message persists, it\n",
       "  likely means that the widgets JavaScript library is either not installed or\n",
       "  not enabled. See the <a href=\"https://ipywidgets.readthedocs.io/en/stable/user_install.html\">Jupyter\n",
       "  Widgets Documentation</a> for setup instructions.\n",
       "</p>\n",
       "<p>\n",
       "  If you're reading this message in another frontend (for example, a static\n",
       "  rendering on GitHub or <a href=\"https://nbviewer.jupyter.org/\">NBViewer</a>),\n",
       "  it may mean that your frontend doesn't currently support widgets.\n",
       "</p>\n"
      ],
      "text/plain": [
       "HTML(value='<h5>Set up your API key</h5><p>In order to use UMLS service, you will need to use a API key. Please type your API key below: (Here is <a href=\"https://documentation.uts.nlm.nih.gov/rest/authentication.html\">how toget a UMLS API key</a>)</p>')"
      ]
     },
     "metadata": {},
     "output_type": "display_data"
    }
   ],
   "source": [
    "from ipywidgets import widgets\n",
    "widgets.HTML(value='<h5>Set up your API key</h5><p>In order to use UMLS service, you will need '\n",
    "                                           'to use a API key. Please type your API key below: (Here is <a href=\"https://documentation.uts.nlm.nih.gov/rest/authentication.html\">how to'\n",
    "                                           'get a UMLS API key</a>)</p>')"
   ]
  },
  {
   "cell_type": "code",
   "execution_count": 14,
   "metadata": {},
   "outputs": [
    {
     "data": {
      "text/plain": [
       "['ta', 'tb']"
      ]
     },
     "execution_count": 14,
     "metadata": {},
     "output_type": "execute_result"
    }
   ],
   "source": [
    "[item.strip() for item in gui.workflow.steps[6].text_area.value.split(\"\\n\") if len(item.strip()) > 0]"
   ]
  },
  {
   "cell_type": "code",
   "execution_count": 1,
   "metadata": {},
   "outputs": [
    {
     "data": {
      "application/vnd.jupyter.widget-view+json": {
       "model_id": "da0701d53f3d40f4b22b8b659aa98400",
       "version_major": 2,
       "version_minor": 0
      },
      "text/html": [
       "<p>Failed to display Jupyter Widget of type <code>VBox</code>.</p>\n",
       "<p>\n",
       "  If you're reading this message in the Jupyter Notebook or JupyterLab Notebook, it may mean\n",
       "  that the widgets JavaScript is still loading. If this message persists, it\n",
       "  likely means that the widgets JavaScript library is either not installed or\n",
       "  not enabled. See the <a href=\"https://ipywidgets.readthedocs.io/en/stable/user_install.html\">Jupyter\n",
       "  Widgets Documentation</a> for setup instructions.\n",
       "</p>\n",
       "<p>\n",
       "  If you're reading this message in another frontend (for example, a static\n",
       "  rendering on GitHub or <a href=\"https://nbviewer.jupyter.org/\">NBViewer</a>),\n",
       "  it may mean that your frontend doesn't currently support widgets.\n",
       "</p>\n"
      ],
      "text/plain": [
       "VBox(children=(HTML(value=\"<h4>Synonyms of keyword '<b>sodium</b>'</h4><p>Choose the ones that you want to include in keyword filters:</p>\"), Label(value='', layout=Layout(height='5px')), IntProgress(value=1, layout=Layout(height='10px', left='1%', width='98%'), max=1, style=ProgressStyle(bar_color='GAINSBORO')), Label(value='', layout=Layout(height='1px')), ToggleButtonsMultiSelectionInBox(children=(VBox(children=(HBox(children=(ToggleButton(value=False, description='levothyroxine  liothyronine', layout=Layout(margin='2', width='100%'), tooltip='levothyroxine  liothyronine'), ToggleButton(value=False, description='NaKExchanging ATPase', layout=Layout(margin='2', width='100%'), tooltip='NaKExchanging ATPase'), ToggleButton(value=False, description='Hypernatremia', layout=Layout(margin='2', width='100%'), tooltip='Hypernatremia'), ToggleButton(value=False, description='Indigo Carmine', layout=Layout(margin='2', width='100%'), tooltip='Indigo Carmine'), ToggleButton(value=False, description='chloramineT', layout=Layout(margin='2', width='100%'), tooltip='chloramineT'))), HBox(children=(ToggleButton(value=False, description='iodoalphionic acid', layout=Layout(margin='2', width='100%'), tooltip='iodoalphionic acid'), ToggleButton(value=False, description='Water soluble eosin stain', layout=Layout(margin='2', width='100%'), tooltip='Water soluble eosin stain'), ToggleButton(value=False, description='sesone', layout=Layout(margin='2', width='100%'), tooltip='sesone'), ToggleButton(value=False, description='Erythrosine', layout=Layout(margin='2', width='100%'), tooltip='Erythrosine'), ToggleButton(value=False, description='Eosine I Bluish', layout=Layout(margin='2', width='100%'), tooltip='Eosine I Bluish'))), HBox(children=(ToggleButton(value=False, description='Saline Solution', layout=Layout(margin='2', width='100%'), tooltip='Saline Solution'), ToggleButton(value=False, description='Saline Solution Hypertonic', layout=Layout(margin='2', width='100%'), tooltip='Saline Solution Hypertonic'), ToggleButton(value=False, description='Normokalemic Periodic Paralysis', layout=Layout(margin='2', width='100%'), tooltip='Normokalemic Periodic Paralysis'), ToggleButton(value=False, description='Salt overload', layout=Layout(margin='2', width='100%'), tooltip='Salt overload'), ToggleButton(value=False, description='Low salt food', layout=Layout(margin='2', width='100%'), tooltip='Low salt food'))), HBox(children=(ToggleButton(value=False, description='Hypovolemia', layout=Layout(margin='2', width='100%'), tooltip='Hypovolemia'), ToggleButton(value=False, description='Fusidate 002 MGMG Topical Ointment', layout=Layout(margin='2', width='100%'), tooltip='Fusidate 002 MGMG Topical Ointment'), ToggleButton(value=False, description='Nafcillin 1000 MG Injection', layout=Layout(margin='2', width='100%'), tooltip='Nafcillin 1000 MG Injection'), ToggleButton(value=False, description='pantoprazole 40 MG Injection', layout=Layout(margin='2', width='100%'), tooltip='pantoprazole 40 MG Injection'), ToggleButton(value=False, description='Naproxen  Pseudoephedrine', layout=Layout(margin='2', width='100%'), tooltip='Naproxen  Pseudoephedrine'))), HBox(children=(ToggleButton(value=True, button_style='info', description='Ceftizoxime 270 MGML Injectable Solution', layout=Layout(margin='2', width='100%'), tooltip='Ceftizoxime 270 MGML Injectable Solution'), ToggleButton(value=False, description='Ceftriaxone 100 MGML Injectable Solution', layout=Layout(margin='2', width='100%'), tooltip='Ceftriaxone 100 MGML Injectable Solution'), ToggleButton(value=False, description='Nafcillin 2000 MG Injection', layout=Layout(margin='2', width='100%'), tooltip='Nafcillin 2000 MG Injection'), ToggleButton(value=False, description='Oxacillin 1000 MG Injection', layout=Layout(margin='2', width='100%'), tooltip='Oxacillin 1000 MG Injection'), ToggleButton(value=False, description='penciclovir 10 MGML Topical Cream', layout=Layout(margin='2', width='100%'), tooltip='penciclovir 10 MGML Topical Cream'))), HBox(children=(ToggleButton(value=False, description='Ceftizoxime 286 MGML Injectable Solution', layout=Layout(margin='2', width='100%'), tooltip='Ceftizoxime 286 MGML Injectable Solution'), ToggleButton(value=False, description='Iothalamate meglumine 668 injection solution vial', layout=Layout(margin='2', width='100%'), tooltip='Iothalamate meglumine 668 injection solution vial'), ToggleButton(value=False, description='Potassium aggravated myotonia', layout=Layout(margin='2', width='100%'), tooltip='Potassium aggravated myotonia'), ToggleButton(value=False, description='Dipyrone adverse reaction', layout=Layout(margin='2', width='100%'), tooltip='Dipyrone adverse reaction'), ToggleButton(value=False, description='Dipyrone allergy', layout=Layout(margin='2', width='100%'), tooltip='Dipyrone allergy'))), HBox(children=(ToggleButton(value=False, description='Carboxymethylcellulose 0166 MGMG Oral Paste', layout=Layout(margin='2', width='100%'), tooltip='Carboxymethylcellulose 0166 MGMG Oral Paste'), ToggleButton(value=False, description='Carbenoxolone 10 MGML Mouthwash', layout=Layout(margin='2', width='100%'), tooltip='Carbenoxolone 10 MGML Mouthwash'), ToggleButton(value=False, description='Cefmetazole 40 MGML Injectable Solution', layout=Layout(margin='2', width='100%'), tooltip='Cefmetazole 40 MGML Injectable Solution'), ToggleButton(value=False, description='Ceftriaxone 500 MG Injection', layout=Layout(margin='2', width='100%'), tooltip='Ceftriaxone 500 MG Injection'), ToggleButton(value=False, description='Cefoperazone 100 MGML Injectable Solution', layout=Layout(margin='2', width='100%'), tooltip='Cefoperazone 100 MGML Injectable Solution'))), HBox(children=(ToggleButton(value=False, description='Methylprednisolone 40 MG Injection', layout=Layout(margin='2', width='100%'), tooltip='Methylprednisolone 40 MG Injection'), ToggleButton(value=False, description='Epoprostenol 05 MG Injection', layout=Layout(margin='2', width='100%'), tooltip='Epoprostenol 05 MG Injection'), ToggleButton(value=False, description='Valproic Acid 50 MGML Oral Solution', layout=Layout(margin='2', width='100%'), tooltip='Valproic Acid 50 MGML Oral Solution'), ToggleButton(value=False, description='Ampicillin 2000 MG Injection', layout=Layout(margin='2', width='100%'), tooltip='Ampicillin 2000 MG Injection'), ToggleButton(value=False, description='Albuterol 01 MGACTUAT  Cromolyn 1 MGACTUAT Inhalant Solution', layout=Layout(margin='2', width='100%'), tooltip='Albuterol 01 MGACTUAT  Cromolyn 1 MGACTUAT Inhalant Solution'))), HBox(children=(ToggleButton(value=False, description='Valproic Acid 200 MG Delayed Release Oral Tablet', layout=Layout(margin='2', width='100%'), tooltip='Valproic Acid 200 MG Delayed Release Oral Tablet'), ToggleButton(value=False, description='Tolmetin 200 MG Oral Tablet', layout=Layout(margin='2', width='100%'), tooltip='Tolmetin 200 MG Oral Tablet'), ToggleButton(value=False, description='Hydrocortisone 100 MG Injection', layout=Layout(margin='2', width='100%'), tooltip='Hydrocortisone 100 MG Injection'), ToggleButton(value=False, description='Carbenicillin 382 MG Oral Tablet', layout=Layout(margin='2', width='100%'), tooltip='Carbenicillin 382 MG Oral Tablet'), ToggleButton(value=False, description='Mezlocillin 250 MGML Injectable Solution', layout=Layout(margin='2', width='100%'), tooltip='Mezlocillin 250 MGML Injectable Solution'))), HBox(children=(ToggleButton(value=False, description='Methylprednisolone 625 MGML Injectable Solution', layout=Layout(margin='2', width='100%'), tooltip='Methylprednisolone 625 MGML Injectable Solution'), ToggleButton(value=False, description='montelukast 4 MG Oral Tablet', layout=Layout(margin='2', width='100%'), tooltip='montelukast 4 MG Oral Tablet'), ToggleButton(value=False, description='24 HR Naproxen 500 MG Extended Release Oral Tablet', layout=Layout(margin='2', width='100%'), tooltip='24 HR Naproxen 500 MG Extended Release Oral Tablet'), ToggleButton(value=False, description='3 ML ibandronic acid 1 MGML Prefilled Syringe', layout=Layout(margin='2', width='100%'), tooltip='3 ML ibandronic acid 1 MGML Prefilled Syringe'), ToggleButton(value=False, description='Methylprednisolone 500 MG Injection', layout=Layout(margin='2', width='100%'), tooltip='Methylprednisolone 500 MG Injection'))), HBox(children=(ToggleButton(value=False, description='Methylprednisolone 1000 MG Injection', layout=Layout(margin='2', width='100%'), tooltip='Methylprednisolone 1000 MG Injection'), ToggleButton(value=False, description='Oxacillin 250 MG Oral Capsule', layout=Layout(margin='2', width='100%'), tooltip='Oxacillin 250 MG Oral Capsule'), ToggleButton(value=False, description='Dicloxacillin 125 MG Oral Capsule', layout=Layout(margin='2', width='100%'), tooltip='Dicloxacillin 125 MG Oral Capsule'), ToggleButton(value=False, description='Cefoperazone 20 MGML Injectable Solution', layout=Layout(margin='2', width='100%'), tooltip='Cefoperazone 20 MGML Injectable Solution'), ToggleButton(value=False, description='Alendronic acid 70 MG  Cholecalciferol 2800 UNT Oral Tablet', layout=Layout(margin='2', width='100%'), tooltip='Alendronic acid 70 MG  Cholecalciferol 2800 UNT Oral Tablet'))), HBox(children=(ToggleButton(value=False, description='Alendronic acid 70 MG  Cholecalciferol 5600 UNT Oral Tablet', layout=Layout(margin='2', width='100%'), tooltip='Alendronic acid 70 MG  Cholecalciferol 5600 UNT Oral Tablet'),))), layout=Layout(display='flex')),), _dom_classes=('btn-group',)), Label(value='', layout=Layout(height='10px')), IntProgress(value=1, layout=Layout(height='10px', left='1%', width='98%'), max=1, style=ProgressStyle(bar_color='GAINSBORO')), Label(value='', layout=Layout(height='1px')), HBox(children=(Button(description='Previous', layout=Layout(left='100px', width='90px'), style=ButtonStyle()), Button(description='Next', layout=Layout(left='100px', width='90px'), style=ButtonStyle()), Button(description='Complete', layout=Layout(left='100px', width='90px'), style=ButtonStyle())), layout=Layout(left='10%', width='80%'))))"
      ]
     },
     "metadata": {},
     "output_type": "display_data"
    }
   ],
   "source": [
    "from utils.KeywordsUMLSExtender import KeywordsUMLSExtender\n",
    "from gui.Workflow import Workflow\n",
    "from conf.ConfigReader import ConfigReader\n",
    "ke=KeywordsUMLSExtender(name='umls_extender')\n",
    "ke.setWorkflow(Workflow())\n",
    "ke.workflow.to_ext_words={'a':['filaria','sodium']}\n",
    "ke.workflow.filters={'a':['filaria','sodium']}\n",
    "ke.workflow.api_key=ConfigReader().getValue('api_key')\n",
    "ke.start()\n"
   ]
  },
  {
   "cell_type": "code",
   "execution_count": 7,
   "metadata": {},
   "outputs": [
    {
     "data": {
      "text/plain": [
       "{}"
      ]
     },
     "execution_count": 7,
     "metadata": {},
     "output_type": "execute_result"
    }
   ],
   "source": [
    "ke.data"
   ]
  },
  {
   "cell_type": "code",
   "execution_count": 24,
   "metadata": {},
   "outputs": [
    {
     "name": "stdout",
     "output_type": "stream",
     "text": [
      "{'option': 'a', 'but': 'd'}\n"
     ]
    }
   ],
   "source": [
    "def bar(**kwargs):\n",
    "    print(kwargs)\n",
    "    \n",
    "bar(option='a',but='d')"
   ]
  },
  {
   "cell_type": "code",
   "execution_count": null,
   "metadata": {},
   "outputs": [],
   "source": []
  },
  {
   "cell_type": "code",
   "execution_count": null,
   "metadata": {},
   "outputs": [],
   "source": []
  },
  {
   "cell_type": "code",
   "execution_count": null,
   "metadata": {},
   "outputs": [],
   "source": []
  },
  {
   "cell_type": "code",
   "execution_count": null,
   "metadata": {},
   "outputs": [],
   "source": []
  },
  {
   "cell_type": "code",
   "execution_count": null,
   "metadata": {},
   "outputs": [],
   "source": []
  },
  {
   "cell_type": "code",
   "execution_count": null,
   "metadata": {},
   "outputs": [],
   "source": []
  },
  {
   "cell_type": "code",
   "execution_count": null,
   "metadata": {},
   "outputs": [],
   "source": []
  },
  {
   "cell_type": "code",
   "execution_count": null,
   "metadata": {},
   "outputs": [],
   "source": []
  },
  {
   "cell_type": "code",
   "execution_count": null,
   "metadata": {},
   "outputs": [],
   "source": []
  },
  {
   "cell_type": "code",
   "execution_count": null,
   "metadata": {},
   "outputs": [],
   "source": []
  },
  {
   "cell_type": "code",
   "execution_count": null,
   "metadata": {},
   "outputs": [],
   "source": []
  },
  {
   "cell_type": "code",
   "execution_count": null,
   "metadata": {},
   "outputs": [],
   "source": []
  },
  {
   "cell_type": "code",
   "execution_count": null,
   "metadata": {},
   "outputs": [],
   "source": []
  },
  {
   "cell_type": "code",
   "execution_count": null,
   "metadata": {},
   "outputs": [],
   "source": []
  },
  {
   "cell_type": "code",
   "execution_count": null,
   "metadata": {},
   "outputs": [],
   "source": []
  },
  {
   "cell_type": "code",
   "execution_count": null,
   "metadata": {},
   "outputs": [],
   "source": []
  },
  {
   "cell_type": "code",
   "execution_count": null,
   "metadata": {},
   "outputs": [],
   "source": []
  },
  {
   "cell_type": "code",
   "execution_count": null,
   "metadata": {},
   "outputs": [],
   "source": []
  },
  {
   "cell_type": "code",
   "execution_count": null,
   "metadata": {},
   "outputs": [],
   "source": []
  },
  {
   "cell_type": "code",
   "execution_count": null,
   "metadata": {},
   "outputs": [],
   "source": []
  },
  {
   "cell_type": "code",
   "execution_count": null,
   "metadata": {},
   "outputs": [],
   "source": []
  },
  {
   "cell_type": "code",
   "execution_count": null,
   "metadata": {},
   "outputs": [],
   "source": []
  },
  {
   "cell_type": "code",
   "execution_count": null,
   "metadata": {},
   "outputs": [],
   "source": []
  },
  {
   "cell_type": "code",
   "execution_count": null,
   "metadata": {},
   "outputs": [],
   "source": []
  },
  {
   "cell_type": "code",
   "execution_count": null,
   "metadata": {},
   "outputs": [],
   "source": []
  },
  {
   "cell_type": "code",
   "execution_count": null,
   "metadata": {},
   "outputs": [],
   "source": []
  },
  {
   "cell_type": "code",
   "execution_count": null,
   "metadata": {},
   "outputs": [],
   "source": []
  },
  {
   "cell_type": "code",
   "execution_count": null,
   "metadata": {},
   "outputs": [],
   "source": []
  },
  {
   "cell_type": "code",
   "execution_count": null,
   "metadata": {},
   "outputs": [],
   "source": []
  },
  {
   "cell_type": "code",
   "execution_count": null,
   "metadata": {},
   "outputs": [],
   "source": []
  },
  {
   "cell_type": "code",
   "execution_count": null,
   "metadata": {},
   "outputs": [],
   "source": []
  },
  {
   "cell_type": "code",
   "execution_count": null,
   "metadata": {},
   "outputs": [],
   "source": []
  },
  {
   "cell_type": "code",
   "execution_count": null,
   "metadata": {},
   "outputs": [],
   "source": []
  },
  {
   "cell_type": "code",
   "execution_count": null,
   "metadata": {},
   "outputs": [],
   "source": []
  },
  {
   "cell_type": "code",
   "execution_count": null,
   "metadata": {},
   "outputs": [],
   "source": []
  },
  {
   "cell_type": "code",
   "execution_count": null,
   "metadata": {},
   "outputs": [],
   "source": []
  },
  {
   "cell_type": "code",
   "execution_count": null,
   "metadata": {},
   "outputs": [],
   "source": []
  },
  {
   "cell_type": "code",
   "execution_count": null,
   "metadata": {},
   "outputs": [],
   "source": []
  },
  {
   "cell_type": "code",
   "execution_count": null,
   "metadata": {},
   "outputs": [],
   "source": []
  },
  {
   "cell_type": "code",
   "execution_count": null,
   "metadata": {},
   "outputs": [],
   "source": []
  },
  {
   "cell_type": "code",
   "execution_count": null,
   "metadata": {},
   "outputs": [],
   "source": []
  },
  {
   "cell_type": "code",
   "execution_count": null,
   "metadata": {},
   "outputs": [],
   "source": []
  },
  {
   "cell_type": "code",
   "execution_count": null,
   "metadata": {},
   "outputs": [],
   "source": []
  },
  {
   "cell_type": "code",
   "execution_count": null,
   "metadata": {},
   "outputs": [],
   "source": []
  },
  {
   "cell_type": "code",
   "execution_count": null,
   "metadata": {},
   "outputs": [],
   "source": []
  },
  {
   "cell_type": "code",
   "execution_count": null,
   "metadata": {},
   "outputs": [],
   "source": []
  },
  {
   "cell_type": "code",
   "execution_count": null,
   "metadata": {},
   "outputs": [],
   "source": []
  },
  {
   "cell_type": "code",
   "execution_count": null,
   "metadata": {},
   "outputs": [],
   "source": []
  },
  {
   "cell_type": "code",
   "execution_count": null,
   "metadata": {},
   "outputs": [],
   "source": []
  },
  {
   "cell_type": "code",
   "execution_count": null,
   "metadata": {},
   "outputs": [],
   "source": []
  },
  {
   "cell_type": "code",
   "execution_count": null,
   "metadata": {},
   "outputs": [],
   "source": []
  },
  {
   "cell_type": "code",
   "execution_count": null,
   "metadata": {},
   "outputs": [],
   "source": []
  },
  {
   "cell_type": "code",
   "execution_count": null,
   "metadata": {},
   "outputs": [],
   "source": []
  },
  {
   "cell_type": "code",
   "execution_count": null,
   "metadata": {},
   "outputs": [],
   "source": []
  },
  {
   "cell_type": "code",
   "execution_count": null,
   "metadata": {},
   "outputs": [],
   "source": []
  },
  {
   "cell_type": "code",
   "execution_count": null,
   "metadata": {},
   "outputs": [],
   "source": []
  },
  {
   "cell_type": "code",
   "execution_count": null,
   "metadata": {},
   "outputs": [],
   "source": []
  },
  {
   "cell_type": "code",
   "execution_count": null,
   "metadata": {},
   "outputs": [],
   "source": []
  },
  {
   "cell_type": "code",
   "execution_count": null,
   "metadata": {},
   "outputs": [],
   "source": []
  },
  {
   "cell_type": "code",
   "execution_count": null,
   "metadata": {},
   "outputs": [],
   "source": []
  },
  {
   "cell_type": "code",
   "execution_count": null,
   "metadata": {},
   "outputs": [],
   "source": []
  },
  {
   "cell_type": "code",
   "execution_count": null,
   "metadata": {},
   "outputs": [],
   "source": []
  },
  {
   "cell_type": "code",
   "execution_count": null,
   "metadata": {},
   "outputs": [],
   "source": []
  },
  {
   "cell_type": "code",
   "execution_count": null,
   "metadata": {},
   "outputs": [],
   "source": []
  },
  {
   "cell_type": "code",
   "execution_count": null,
   "metadata": {},
   "outputs": [],
   "source": []
  },
  {
   "cell_type": "code",
   "execution_count": null,
   "metadata": {},
   "outputs": [],
   "source": []
  },
  {
   "cell_type": "code",
   "execution_count": null,
   "metadata": {},
   "outputs": [],
   "source": []
  },
  {
   "cell_type": "code",
   "execution_count": null,
   "metadata": {},
   "outputs": [],
   "source": []
  },
  {
   "cell_type": "code",
   "execution_count": null,
   "metadata": {},
   "outputs": [],
   "source": []
  },
  {
   "cell_type": "code",
   "execution_count": null,
   "metadata": {},
   "outputs": [],
   "source": [
    "gui.workflow.task_name='kdodda'"
   ]
  },
  {
   "cell_type": "code",
   "execution_count": null,
   "metadata": {},
   "outputs": [],
   "source": [
    "with gui.workflow.dao.create_session() as session:\n",
    "    gui.workflow.task_id = session.query(Task).filter(Task.task_name == gui.workflow.task_name).first()\n",
    "    if gui.workflow.task_id is None:\n",
    "        i=session.add(Task(task_name=gui.workflow.task_name))\n",
    "        print(i)\n",
    "        gui.workflow.task_id = session.query(Task).filter(Task.task_name == gui.workflow.task_name).first()\n",
    "        print(gui.workflow.task_id )\n",
    "    else:\n",
    "        print(gui.workflow.task_id)\n",
    "        \n",
    "        "
   ]
  },
  {
   "cell_type": "code",
   "execution_count": null,
   "metadata": {},
   "outputs": [],
   "source": []
  },
  {
   "cell_type": "code",
   "execution_count": null,
   "metadata": {},
   "outputs": [],
   "source": [
    "gui.workflow.steps[2].data"
   ]
  },
  {
   "cell_type": "code",
   "execution_count": null,
   "metadata": {},
   "outputs": [],
   "source": []
  },
  {
   "cell_type": "code",
   "execution_count": null,
   "metadata": {},
   "outputs": [],
   "source": []
  },
  {
   "cell_type": "code",
   "execution_count": null,
   "metadata": {},
   "outputs": [],
   "source": []
  },
  {
   "cell_type": "code",
   "execution_count": null,
   "metadata": {},
   "outputs": [],
   "source": [
    "\n",
    "[step.name for step in gui.workflow.steps]"
   ]
  },
  {
   "cell_type": "code",
   "execution_count": null,
   "metadata": {},
   "outputs": [],
   "source": [
    "import os\n",
    "from sqlalchemy_dao import Dao\n",
    "from db.ORMs import Document,Annotation\n",
    "from sqlalchemy_dao import Model\n",
    "from conf.ConfigReader import ConfigReader\n",
    "import sqlalchemy_dao\n",
    "import os.path\n",
    "dbfile=ConfigReader().getValue('db')\n",
    "if os.path.isfile(dbfile):\n",
    "    os.remove(dbfile)\n",
    "dao = Dao(dbfile,sqlalchemy_dao.POOL_DISABLED)\n",
    "Model.metadata.create_all(bind=dao._engine)"
   ]
  },
  {
   "cell_type": "code",
   "execution_count": 3,
   "metadata": {},
   "outputs": [],
   "source": [
    "import os\n",
    "from sqlalchemy_dao import Dao\n",
    "from db.ORMs import Document,Annotation,Task\n",
    "from sqlalchemy_dao import Model\n",
    "from conf.ConfigReader import ConfigReader\n",
    "import sqlalchemy_dao\n",
    "from sqlalchemy.sql import select\n",
    "dbfile=ConfigReader().getValue('db')\n",
    "dao = Dao(dbfile,sqlalchemy_dao.POOL_DISABLED)\n"
   ]
  },
  {
   "cell_type": "code",
   "execution_count": null,
   "metadata": {},
   "outputs": [],
   "source": [
    "with dao.create_session() as session:\n",
    "    res = session.query(Task)"
   ]
  },
  {
   "cell_type": "code",
   "execution_count": null,
   "metadata": {},
   "outputs": [],
   "source": [
    "print(res.first())"
   ]
  },
  {
   "cell_type": "code",
   "execution_count": null,
   "metadata": {},
   "outputs": [],
   "source": [
    "from db.ORMs import Annotation, Document\n",
    "s = select([Document]).where(Document.doc_id>5)"
   ]
  },
  {
   "cell_type": "code",
   "execution_count": null,
   "metadata": {},
   "outputs": [],
   "source": [
    "import pandas  as pd\n",
    "df=pd.read_sql(s,dao._engine)"
   ]
  },
  {
   "cell_type": "code",
   "execution_count": 10,
   "metadata": {},
   "outputs": [
    {
     "data": {
      "text/html": [
       "<div>\n",
       "<style scoped>\n",
       "    .dataframe tbody tr th:only-of-type {\n",
       "        vertical-align: middle;\n",
       "    }\n",
       "\n",
       "    .dataframe tbody tr th {\n",
       "        vertical-align: top;\n",
       "    }\n",
       "\n",
       "    .dataframe thead th {\n",
       "        text-align: right;\n",
       "    }\n",
       "</style>\n",
       "<table border=\"1\" class=\"dataframe\">\n",
       "  <thead>\n",
       "    <tr style=\"text-align: right;\">\n",
       "      <th></th>\n",
       "      <th>id</th>\n",
       "      <th>doc_id</th>\n",
       "      <th>task_id</th>\n",
       "      <th>run_id</th>\n",
       "      <th>type</th>\n",
       "      <th>reviewed_type</th>\n",
       "      <th>begin</th>\n",
       "      <th>end</th>\n",
       "      <th>snippet_begin</th>\n",
       "      <th>text</th>\n",
       "      <th>...</th>\n",
       "      <th>features</th>\n",
       "      <th>comments</th>\n",
       "      <th>create_dtm</th>\n",
       "      <th>doc_id</th>\n",
       "      <th>dataset_id</th>\n",
       "      <th>bunch_id</th>\n",
       "      <th>doc_name</th>\n",
       "      <th>text</th>\n",
       "      <th>date</th>\n",
       "      <th>meta_data</th>\n",
       "    </tr>\n",
       "  </thead>\n",
       "  <tbody>\n",
       "  </tbody>\n",
       "</table>\n",
       "<p>0 rows × 21 columns</p>\n",
       "</div>"
      ],
      "text/plain": [
       "Empty DataFrame\n",
       "Columns: [id, doc_id, task_id, run_id, type, reviewed_type, begin, end, snippet_begin, text, snippet, features, comments, create_dtm, doc_id, dataset_id, bunch_id, doc_name, text, date, meta_data]\n",
       "Index: []\n",
       "\n",
       "[0 rows x 21 columns]"
      ]
     },
     "execution_count": 10,
     "metadata": {},
     "output_type": "execute_result"
    }
   ],
   "source": [
    "from sqlalchemy import join\n",
    "s=join(Annotation, Document).select().where(Annotation.task_id==1)\n",
    "fd=pd.read_sql(s,dao._engine)\n",
    "fd"
   ]
  },
  {
   "cell_type": "code",
   "execution_count": 24,
   "metadata": {},
   "outputs": [
    {
     "data": {
      "text/html": [
       "<div>\n",
       "<style scoped>\n",
       "    .dataframe tbody tr th:only-of-type {\n",
       "        vertical-align: middle;\n",
       "    }\n",
       "\n",
       "    .dataframe tbody tr th {\n",
       "        vertical-align: top;\n",
       "    }\n",
       "\n",
       "    .dataframe thead th {\n",
       "        text-align: right;\n",
       "    }\n",
       "</style>\n",
       "<table border=\"1\" class=\"dataframe\">\n",
       "  <thead>\n",
       "    <tr style=\"text-align: right;\">\n",
       "      <th></th>\n",
       "      <th>id</th>\n",
       "      <th>task_id</th>\n",
       "      <th>keyword</th>\n",
       "      <th>type_name</th>\n",
       "    </tr>\n",
       "  </thead>\n",
       "  <tbody>\n",
       "    <tr>\n",
       "      <th>0</th>\n",
       "      <td>1</td>\n",
       "      <td>1</td>\n",
       "      <td>KW1</td>\n",
       "      <td>T1</td>\n",
       "    </tr>\n",
       "  </tbody>\n",
       "</table>\n",
       "</div>"
      ],
      "text/plain": [
       "   id task_id keyword type_name\n",
       "0   1       1     KW1        T1"
      ]
     },
     "execution_count": 24,
     "metadata": {},
     "output_type": "execute_result"
    }
   ],
   "source": [
    "from db.ORMs import Annotation, Document,Filter,Typedef\n",
    "import pandas as pd\n",
    "s = select([Filter]).where(Filter.task_id==1)\n",
    "fd=pd.read_sql(s,dao._engine)\n",
    "fd"
   ]
  },
  {
   "cell_type": "code",
   "execution_count": 10,
   "metadata": {},
   "outputs": [
    {
     "name": "stdout",
     "output_type": "stream",
     "text": [
      "0\n",
      "<class 'sqlalchemy.util._collections.result'>\n"
     ]
    }
   ],
   "source": [
    "from sqlalchemy import func\n",
    "with dao.create_session() as session:\n",
    "    num_docs = session.query(func.count(Document.doc_id)).first()\n",
    "    print(num_docs[0])\n",
    "    print(type(num_docs))"
   ]
  },
  {
   "cell_type": "code",
   "execution_count": 26,
   "metadata": {},
   "outputs": [
    {
     "name": "stdout",
     "output_type": "stream",
     "text": [
      "<class 'sqlalchemy.orm.query.Query'>\n",
      "<TypeDef (id='1', type_name='t1',type_group_id='None')>\n",
      "<TypeDef (id='2', type_name='t2',type_group_id='None')>\n",
      "<TypeDef (id='3', type_name='t3',type_group_id='None')>\n",
      "<TypeDef (id='4', type_name='a1',type_group_id='9')>\n",
      "<TypeDef (id='5', type_name='a2',type_group_id='9')>\n",
      "<TypeDef (id='6', type_name='a3',type_group_id='9')>\n",
      "<TypeDef (id='7', type_name='',type_group_id='9')>\n",
      "<TypeDef (id='8', type_name='b1',type_group_id='2')>\n",
      "<TypeDef (id='9', type_name='b2',type_group_id='2')>\n",
      "<TypeDef (id='10', type_name='b3',type_group_id='2')>\n",
      "<TypeDef (id='11', type_name='b4',type_group_id='2')>\n",
      "<TypeDef (id='12', type_name='c1',type_group_id='10')>\n",
      "<TypeDef (id='13', type_name='c2',type_group_id='10')>\n",
      "<TypeDef (id='14', type_name='c3',type_group_id='10')>\n",
      "<TypeDef (id='15', type_name='c4',type_group_id='10')>\n",
      "<TypeDef (id='16', type_name='k1',type_group_id='11')>\n",
      "<TypeDef (id='17', type_name='k2',type_group_id='11')>\n",
      "<TypeDef (id='18', type_name='k3',type_group_id='11')>\n"
     ]
    }
   ],
   "source": [
    "from decorated.base.context import ctx\n",
    "with dao.create_session() as session:\n",
    "    fs = session.query(Typedef)\n",
    "    print(type(fs))\n",
    "    for f in fs:\n",
    "        print(f)"
   ]
  },
  {
   "cell_type": "code",
   "execution_count": null,
   "metadata": {},
   "outputs": [],
   "source": [
    "\n",
    "\n",
    "import spacy\n",
    "from spacy.matcher import Matcher\n",
    "\n",
    "nlp = spacy.load('en')\n",
    "matcher = Matcher(nlp.vocab)\n",
    "# add match ID \"HelloWorld\" with no callback and one pattern\n",
    "pattern = [{'LOWER': 'hello'}, {'IS_PUNCT': True}, {'LOWER': 'world'}]\n",
    "matcher.add('HelloWorld', None, pattern)\n",
    "\n",
    "doc = nlp(u'Hello, world! Hello world!')\n",
    "matches = matcher(doc)\n"
   ]
  },
  {
   "cell_type": "code",
   "execution_count": null,
   "metadata": {},
   "outputs": [],
   "source": [
    "matches"
   ]
  },
  {
   "cell_type": "code",
   "execution_count": null,
   "metadata": {},
   "outputs": [],
   "source": [
    "doc."
   ]
  },
  {
   "cell_type": "code",
   "execution_count": null,
   "metadata": {},
   "outputs": [],
   "source": [
    "import spacy\n",
    "from spacy import displacy\n",
    "\n",
    "nlp = spacy.load('en')\n",
    "doc = nlp(u'This is a sentence.')\n",
    "displacy.serve(doc, style='dep')\n"
   ]
  },
  {
   "cell_type": "code",
   "execution_count": 6,
   "metadata": {},
   "outputs": [
    {
     "data": {
      "application/vnd.jupyter.widget-view+json": {
       "model_id": "83fc680f4cae416ea7409fff91fec3a0",
       "version_major": 2,
       "version_minor": 0
      },
      "text/html": [
       "<p>Failed to display Jupyter Widget of type <code>ToggleButtonsMultiSelection</code>.</p>\n",
       "<p>\n",
       "  If you're reading this message in the Jupyter Notebook or JupyterLab Notebook, it may mean\n",
       "  that the widgets JavaScript is still loading. If this message persists, it\n",
       "  likely means that the widgets JavaScript library is either not installed or\n",
       "  not enabled. See the <a href=\"https://ipywidgets.readthedocs.io/en/stable/user_install.html\">Jupyter\n",
       "  Widgets Documentation</a> for setup instructions.\n",
       "</p>\n",
       "<p>\n",
       "  If you're reading this message in another frontend (for example, a static\n",
       "  rendering on GitHub or <a href=\"https://nbviewer.jupyter.org/\">NBViewer</a>),\n",
       "  it may mean that your frontend doesn't currently support widgets.\n",
       "</p>\n"
      ],
      "text/plain": [
       "ToggleButtonsMultiSelection(children=(ToggleButton(value=False, description='adddddddd', layout=Layout(margin='2')), ToggleButton(value=False, description='b', layout=Layout(margin='2')), ToggleButton(value=False, description='c', layout=Layout(margin='2')), ToggleButton(value=False, description='gddddddddddddd', layout=Layout(margin='2')), ToggleButton(value=False, description='gdddddddddddd', layout=Layout(margin='2')), ToggleButton(value=False, description='f', layout=Layout(margin='2')), ToggleButton(value=False, description='gdddddddddddd', layout=Layout(margin='2')), ToggleButton(value=False, description='H', layout=Layout(margin='2'))), layout=Layout(display='flex'), _dom_classes=('btn-group',))"
      ]
     },
     "metadata": {},
     "output_type": "display_data"
    }
   ],
   "source": [
    "from gui.MyWidgets import ToggleButtonsMultiSelection,monitor\n",
    "import ipywidgets as widgets\n",
    "\n",
    "ToggleButtonsMultiSelection(options=['adddddddd','b','c','gddddddddddddd','gdddddddddddd','f','gdddddddddddd','H'],layout=widgets.Layout(display='flex', flex_grown='row'))"
   ]
  },
  {
   "cell_type": "code",
   "execution_count": 3,
   "metadata": {},
   "outputs": [],
   "source": [
    "import ipywidgets as widgets\n",
    "options=['a','b','c','d','e','f','g','H']\n",
    "ws=[widgets.ToggleButton(description=label,layout=widgets.Layout(margin='2', icon='check'))\n",
    "                            for label in options]"
   ]
  },
  {
   "cell_type": "code",
   "execution_count": 1,
   "metadata": {},
   "outputs": [],
   "source": [
    "from gui.MyWidgets import ToggleButtonsMultiSelectionInBox,monitor2\n",
    "a=ToggleButtonsMultiSelectionInBox(options=['adddddddd','b','c','gddddddddddddd','gdddddddddddd','f','gdddddddddddd','H'])"
   ]
  },
  {
   "cell_type": "code",
   "execution_count": 2,
   "metadata": {},
   "outputs": [
    {
     "data": {
      "application/vnd.jupyter.widget-view+json": {
       "model_id": "c2470d6a274e41ae9abe58e26d154484",
       "version_major": 2,
       "version_minor": 0
      },
      "text/html": [
       "<p>Failed to display Jupyter Widget of type <code>ToggleButtonsMultiSelectionInBox</code>.</p>\n",
       "<p>\n",
       "  If you're reading this message in the Jupyter Notebook or JupyterLab Notebook, it may mean\n",
       "  that the widgets JavaScript is still loading. If this message persists, it\n",
       "  likely means that the widgets JavaScript library is either not installed or\n",
       "  not enabled. See the <a href=\"https://ipywidgets.readthedocs.io/en/stable/user_install.html\">Jupyter\n",
       "  Widgets Documentation</a> for setup instructions.\n",
       "</p>\n",
       "<p>\n",
       "  If you're reading this message in another frontend (for example, a static\n",
       "  rendering on GitHub or <a href=\"https://nbviewer.jupyter.org/\">NBViewer</a>),\n",
       "  it may mean that your frontend doesn't currently support widgets.\n",
       "</p>\n"
      ],
      "text/plain": [
       "ToggleButtonsMultiSelectionInBox(children=(VBox(children=(HBox(children=(ToggleButton(value=False, description='adddddddd', layout=Layout(margin='2')), ToggleButton(value=False, description='b', layout=Layout(margin='2')), ToggleButton(value=False, description='c', layout=Layout(margin='2')), ToggleButton(value=False, description='gddddddddddddd', layout=Layout(margin='2')), ToggleButton(value=False, description='gdddddddddddd', layout=Layout(margin='2')), ToggleButton(value=False, description='f', layout=Layout(margin='2')))), HBox(children=(ToggleButton(value=False, description='gdddddddddddd', layout=Layout(margin='2')), ToggleButton(value=False, description='H', layout=Layout(margin='2'))))), layout=Layout(display='flex')),), _dom_classes=('btn-group',))"
      ]
     },
     "metadata": {},
     "output_type": "display_data"
    }
   ],
   "source": [
    "a"
   ]
  },
  {
   "cell_type": "code",
   "execution_count": 3,
   "metadata": {},
   "outputs": [
    {
     "data": {
      "text/plain": [
       "('adddddddd', 'H')"
      ]
     },
     "execution_count": 3,
     "metadata": {},
     "output_type": "execute_result"
    }
   ],
   "source": [
    "a.value"
   ]
  },
  {
   "cell_type": "code",
   "execution_count": null,
   "metadata": {},
   "outputs": [],
   "source": []
  }
 ],
 "metadata": {
  "kernelspec": {
   "display_name": "Python [default]",
   "language": "python",
   "name": "python3"
  },
  "language_info": {
   "codemirror_mode": {
    "name": "ipython",
    "version": 3
   },
   "file_extension": ".py",
   "mimetype": "text/x-python",
   "name": "python",
   "nbconvert_exporter": "python",
   "pygments_lexer": "ipython3",
   "version": "3.6.3"
  }
 },
 "nbformat": 4,
 "nbformat_minor": 2
}
