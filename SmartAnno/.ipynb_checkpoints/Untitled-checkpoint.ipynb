{
 "cells": [
  {
   "cell_type": "code",
   "execution_count": 1,
   "metadata": {},
   "outputs": [
    {
     "data": {
      "application/vnd.jupyter.widget-view+json": {
       "model_id": "0225608483a543a5bba020e2abfe20ef",
       "version_major": 2,
       "version_minor": 0
      },
      "text/html": [
       "<p>Failed to display Jupyter Widget of type <code>ToggleButtonsMultiSelectionInBox</code>.</p>\n",
       "<p>\n",
       "  If you're reading this message in the Jupyter Notebook or JupyterLab Notebook, it may mean\n",
       "  that the widgets JavaScript is still loading. If this message persists, it\n",
       "  likely means that the widgets JavaScript library is either not installed or\n",
       "  not enabled. See the <a href=\"https://ipywidgets.readthedocs.io/en/stable/user_install.html\">Jupyter\n",
       "  Widgets Documentation</a> for setup instructions.\n",
       "</p>\n",
       "<p>\n",
       "  If you're reading this message in another frontend (for example, a static\n",
       "  rendering on GitHub or <a href=\"https://nbviewer.jupyter.org/\">NBViewer</a>),\n",
       "  it may mean that your frontend doesn't currently support widgets.\n",
       "</p>\n"
      ],
      "text/plain": [
       "ToggleButtonsMultiSelectionInBox(children=(VBox(layout=Layout(display='flex')),), _dom_classes=('btn-group',))"
      ]
     },
     "metadata": {},
     "output_type": "display_data"
    },
    {
     "data": {
      "application/vnd.jupyter.widget-view+json": {
       "model_id": "67f255192bc64880ade18418a86ed9d6",
       "version_major": 2,
       "version_minor": 0
      },
      "text/html": [
       "<p>Failed to display Jupyter Widget of type <code>HTML</code>.</p>\n",
       "<p>\n",
       "  If you're reading this message in the Jupyter Notebook or JupyterLab Notebook, it may mean\n",
       "  that the widgets JavaScript is still loading. If this message persists, it\n",
       "  likely means that the widgets JavaScript library is either not installed or\n",
       "  not enabled. See the <a href=\"https://ipywidgets.readthedocs.io/en/stable/user_install.html\">Jupyter\n",
       "  Widgets Documentation</a> for setup instructions.\n",
       "</p>\n",
       "<p>\n",
       "  If you're reading this message in another frontend (for example, a static\n",
       "  rendering on GitHub or <a href=\"https://nbviewer.jupyter.org/\">NBViewer</a>),\n",
       "  it may mean that your frontend doesn't currently support widgets.\n",
       "</p>\n"
      ],
      "text/plain": [
       "HTML(value='<style>.output_wrapper, .output {\\n                    height:auto !important;\\n                    max-height:1000px;  /* your desired max-height here */\\n                }\\n                .output_scroll {\\n                    box-shadow:none !important;\\n                    webkit-box-shadow:none !important;\\n                }\\n                </style>')"
      ]
     },
     "metadata": {},
     "output_type": "display_data"
    }
   ],
   "source": [
    "from gui.GUI import GUI\n",
    "gui=GUI()"
   ]
  },
  {
   "cell_type": "code",
   "execution_count": 2,
   "metadata": {
    "scrolled": false
   },
   "outputs": [
    {
     "data": {
      "application/vnd.jupyter.widget-view+json": {
       "model_id": "d8143186dff64b42bf89f5f55d7b159e",
       "version_major": 2,
       "version_minor": 0
      },
      "text/html": [
       "<p>Failed to display Jupyter Widget of type <code>VBox</code>.</p>\n",
       "<p>\n",
       "  If you're reading this message in the Jupyter Notebook or JupyterLab Notebook, it may mean\n",
       "  that the widgets JavaScript is still loading. If this message persists, it\n",
       "  likely means that the widgets JavaScript library is either not installed or\n",
       "  not enabled. See the <a href=\"https://ipywidgets.readthedocs.io/en/stable/user_install.html\">Jupyter\n",
       "  Widgets Documentation</a> for setup instructions.\n",
       "</p>\n",
       "<p>\n",
       "  If you're reading this message in another frontend (for example, a static\n",
       "  rendering on GitHub or <a href=\"https://nbviewer.jupyter.org/\">NBViewer</a>),\n",
       "  it may mean that your frontend doesn't currently support widgets.\n",
       "</p>\n"
      ],
      "text/plain": [
       "VBox(children=(HTML(value='<h4>102_0.txt</h4><table style=\"width:100%\"><tr><th>DOC_ID</th><th>DATE</th><th>REF_DATE</th></tr><tr><td>26</td><td>2120-09-19</td><td>None</td></tr></table><div style=\"overflow-y: scroll; height:400px;border:1px solid;border-color:#f2f3f4; \">Record date: 2120-09-19<br/><br/>Personal Data and Overall Health\\t<br/><br/>Patient is a 81 yr. old male who presents to Dr. Yager for multiple tooth extractions on 10/01/20.<br/><br/><br/><br/>History of Present Illness\\t<br/><br/>The<span style=\"background-color: #FFFF00\">patient</span>complains of a hx. of tooth abscesses.<br/><br/><br/><br/>Past Surgical History\\t<br/><br/>Prior surgery includes:  <br/><br/>1.) excision l. neck mass for post l. neck lipoma 6/27/16- under local, no complications<br/><br/>2.) bowel surgery 15 yrs ago- g.a.- no complications<br/><br/>3.) hernia repair- 20 yrs ago- GA. no complications<br/><br/>4.) appendectomy-40 yrs ago- GA- no complications<br/><br/>5.) hemorroids- 2062-per<span style=\"background-color: #FFFF00\">patient</span>done under spinal- had severe post spinal headache.<br/><br/><br/><br/>Family History\\t<br/><br/>There in no family history of adverse reactions to general anesthesia.<br/><br/><br/><br/>Past Medical History\\t<br/><br/>Current medical problems include:  <br/><br/>1.) HTN<br/><br/>2.) DMx20yrs- per<span style=\"background-color: #FFFF00\">patient</span>glucose levels run 125-150 range<br/><br/>3.) hx. of tooth abscesses<br/><br/>4.) hypercholesterolemia<br/><br/><br/><br/><br/><br/><br/><br/>Social History\\t<br/><br/>Smoking: no<br/><br/>Alcohol use: no history of excessive use<br/><br/>Substance abuse: none<br/><br/><br/><br/>Review of Systems\\t<br/><br/>Medications:<br/><br/>insulin- 5 R/25N in am, 15 R in evening<br/><br/>hctz-25mg qd<br/><br/>captopril 25mg 2x/day<br/><br/>lipitor 10mgqd<br/><br/>zyrtec prn<br/><br/>ecasa<br/><br/>vit e<br/><br/>Allergies: shellfish<br/><br/><br/><br/>Cardiovascular: history of hypertension, no MI; denies CP, DOE, syncope, ankle edema<br/><br/>Respiratory: no history of asthma or chronic lung disease; denies unusual shortness of breath<br/><br/>Neurological: no history of neurological problems<br/><br/>Gastrointestinal: no history of PUD; denies reflux<br/><br/>Hepatobiliary: no history of liver disease; denies jaundice or hepatitis<br/><br/>Renal/Genitourinary: no history of renal failure; denies hematuria, dysuria, obstructive uropathy<br/><br/>Musculoskeletal: denies pain or limitation of movement<br/><br/>Endocrine/metabolic: history of diabetes last 20 yrs, hypercholesterolemia<br/><br/>Heme/Onc:  no history of bleeding, blood diseases; no history of malignancy, chemotherapy, or radiation therapy<br/><br/>Psychiatric: no significant psychiatric problems<br/><br/><br/><br/><br/><br/>Exam\\t<br/><br/>SaO2: 98% RA<br/><br/>Ht:6\\'1\"<br/><br/>Wt:209<br/><br/>BP:180/74<br/><br/>P:79<br/><br/><br/><br/>HEEN&T:  good range of motion, no masses, neck veins flat, no bruits<br/><br/>Airway:  Mallampatti Class I or II<br/><br/>Teeth:  in good repair<br/><br/>Lungs:  clear bilaterally<br/><br/>Heart:  regular rhythm, no murmurs, S1=S2, no gallop<br/><br/><br/><br/><br/><br/>Assessment\\t<br/><br/>ASA Physical Status:  II<br/><br/>Well prepared for surgery; no unusual concerns related to medical problems.<br/><br/><br/><br/>Plan\\t<br/><br/>Proposed Anesthetic: general anesthesia<br/><br/>Monitors:  standard<br/><br/>Pain Management:  IVPCA<br/><br/>Autologous blood:  none<br/><br/>Premedication:  none<br/><br/>Usual Medications:  take on day of surgery<br/><br/>Medications to be held on day of surgery:  lipitor<br/><br/>Diabetic medications:  counseled to old am insulin regimen<br/><br/>NSAIDS:  avoid for 3 days before surgery<br/><br/>Aspirin:  avoid for 7 days before surgery<br/><br/>NPO: after midnight <br/><br/><br/><br/>External Labs\\t<br/><br/>Not available<br/><br/><br/><br/>Attending Anesthesiologist Reassessment Note\\t<br/><br/>I have reviewed this preanesthetic assessment and concur with the assessment and recommended plan with the following exceptions:<br/><br/><br/><br/><br/><br/><br/><br/><br/><br/><br/><br/>______________________________                              <br/><br/><br/><br/><br/><br/><br/><br/>Yeomans, Vertis K., M.D.</div>'), ClickResponsiveToggleButtons(button_style='info', layout=Layout(width='70%'), options=('TypeA', 'TypeB'), value='TypeA'), Label(value='', layout=Layout(height='10px')), IntProgress(value=1, layout=Layout(height='10px', left='1%', width='98%'), max=1, style=ProgressStyle(bar_color='GAINSBORO')), Label(value='', layout=Layout(height='1px')), HBox(children=(Button(description='Previous', layout=Layout(left='100px', width='90px'), style=ButtonStyle()), Button(description='Next', layout=Layout(left='100px', width='90px'), style=ButtonStyle()), Button(description='Complete', layout=Layout(left='100px', width='90px'), style=ButtonStyle())), layout=Layout(left='10%', width='80%'))))"
      ]
     },
     "metadata": {},
     "output_type": "display_data"
    }
   ],
   "source": [
    "gui.start()"
   ]
  },
  {
   "cell_type": "code",
   "execution_count": 8,
   "metadata": {},
   "outputs": [
    {
     "data": {
      "text/plain": [
       "<function PhraseMatcher.accept_match>"
      ]
     },
     "execution_count": 8,
     "metadata": {},
     "output_type": "execute_result"
    }
   ],
   "source": [
    "gui.workflow.steps[12].matcher.accept_match"
   ]
  },
  {
   "cell_type": "code",
   "execution_count": 3,
   "metadata": {},
   "outputs": [],
   "source": [
    "from spacy.matcher import PhraseMatcher\n",
    "type_phrases={}\n",
    "for type_name, phrases in gui.workflow.final_filters.items():\n",
    "    type_phrases[type_name] = ([gui.workflow.steps[12].nlp(phrase) for phrase in phrases])\n",
    "matcher = PhraseMatcher(gui.workflow.steps[12].nlp.vocab)\n",
    "for type_name, phrases in type_phrases.items():\n",
    "    matcher.add(type_name, None, *phrases)    "
   ]
  },
  {
   "cell_type": "code",
   "execution_count": 18,
   "metadata": {},
   "outputs": [],
   "source": [
    "html='''<html>\n",
    "<head>\n",
    "<script>\n",
    "function setFocusToTextBox(){\n",
    "    document.getElementById(\"k1\").focus();\n",
    "}\n",
    "</script>\n",
    "</head>\n",
    "<body onLoad=\"focusFieldOne();\">\n",
    "<div style=\"overflow-y: scroll; height:400px;border:1px solid;border-color:#f2f3f4; \">Record date: 2120-09-19<br><br>Personal Data and Overall Health\t<br><br>Patient is a 81 yr. old male who presents to Dr. Yager for multiple tooth extractions on 10/01/20.<br><br><br><br>History of Present Illness\t<br><br>The<span style=\"background-color: #FFFF00\">patient</span>complains of a hx. of tooth abscesses.<br><br><br><br>Past Surgical History\t<br><br>Prior surgery includes:  <br><br>1.) excision l. neck mass for post l. neck lipoma 6/27/16- under local, no complications<br><br>2.) bowel surgery 15 yrs ago- g.a.- no complications<br><br>3.) hernia repair- 20 yrs ago- GA. no complications<br><br>4.) appendectomy-40 yrs ago- GA- no complications<br><br>5.) hemorroids- 2062-per<span id='k1' style=\"background-color: #FFFF00\">patient</span>done under spinal- had severe post spinal headache.<br><br><br><br>Family History\t<br><br>There in no family history of adverse reactions to general anesthesia.<br><br><br><br>Past Medical History\t<br><br>Current medical problems include:  <br><br>1.) HTN<br><br>2.) DMx20yrs- per<span style=\"background-color: #FFFF00\"  autofocus>patient</span>glucose levels run 125-150 range<br><br>3.) hx. of tooth abscesses<br><br>4.) hypercholesterolemia<br><br><br><br><br><br><br><br>Social History\t<br><br>Smoking: no<br><br>Alcohol use: no history of excessive use<br><br>Substance abuse: none<br><br><br><br>Review of Systems\t<br><br>Medications:<br><br>insulin- 5 R/25N in am, 15 R in evening<br><br>hctz-25mg qd<br><br>captopril 25mg 2x/day<br><br>lipitor 10mgqd<br><br>zyrtec prn<br><br>ecasa<br><br>vit e<br><br>Allergies: shellfish<br><br><br><br>Cardiovascular: history of hypertension, no MI; denies CP, DOE, syncope, ankle edema<br><br>Respiratory: no history of asthma or chronic lung disease; denies unusual shortness of breath<br><br>Neurological: no history of neurological problems<br><br>Gastrointestinal: no history of PUD; denies reflux<br><br>Hepatobiliary: no history of liver disease; denies jaundice or hepatitis<br><br>Renal/Genitourinary: no history of renal failure; denies hematuria, dysuria, obstructive uropathy<br><br>Musculoskeletal: denies pain or limitation of movement<br><br>Endocrine/metabolic: history of diabetes last 20 yrs, hypercholesterolemia<br><br>Heme/Onc:  no history of bleeding, blood diseases; no history of malignancy, chemotherapy, or radiation therapy<br><br>Psychiatric: no significant psychiatric problems<br><br><br><br><br><br>Exam\t<br><br>SaO2: 98% RA<br><br>Ht:6'1\"<br><br>Wt:209<br><br>BP:180/74<br><br>P:79<br><br><br><br>HEEN&amp;T:  good range of motion, no masses, neck veins flat, no bruits<br><br>Airway:  Mallampatti Class I or II<br><br>Teeth:  in good repair<br><br>Lungs:  clear bilaterally<br><br>Heart:  regular rhythm, no murmurs, S1=S2, no gallop<br><br><br><br><br><br>Assessment\t<br><br>ASA Physical Status:  II<br><br>Well prepared for surgery; no unusual concerns related to medical problems.<br><br><br><br>Plan\t<br><br>Proposed Anesthetic: general anesthesia<br><br>Monitors:  standard<br><br>Pain Management:  IVPCA<br><br>Autologous blood:  none<br><br>Premedication:  none<br><br>Usual Medications:  take on day of surgery<br><br>Medications to be held on day of surgery:  lipitor<br><br>Diabetic medications:  counseled to old am insulin regimen<br><br>NSAIDS:  avoid for 3 days before surgery<br><br>Aspirin:  avoid for 7 days before surgery<br><br>NPO: after midnight <br><br><br><br>External Labs\t<br><br>Not available<br><br><br><br>Attending Anesthesiologist Reassessment Note\t<br><br>I have reviewed this preanesthetic assessment and concur with the assessment and recommended plan with the following exceptions:<br><br><br><br><br><br><br><br><br><br><br><br>______________________________                              <br><br><br><br><br><br><br><br>Yeomans, Vertis K., M.D.</div>\n",
    "</body>\n",
    "</html>'''\n",
    "\n"
   ]
  },
  {
   "cell_type": "code",
   "execution_count": 9,
   "metadata": {},
   "outputs": [],
   "source": [
    "html='''<html>\n",
    "<head>\n",
    "</head>\n",
    "<body onLoad=\"focusFieldOne();\">\n",
    "<div id ='d1' style=\"overflow-y: scroll; height:400px;border:1px solid;border-color:#f2f3f4; \">Record date: 2120-09-19<br><br>Personal Data and Overall Health\t<br><br>Patient is a 81 yr. old male who presents to Dr. Yager for multiple tooth extractions on 10/01/20.<br><br><br><br>History of Present Illness\t<br><br>The<span class=\"highlighter\" style=\"background-color: #FFFF00\">patient</span>complains of a hx. of tooth abscesses.<br><br><br><br>Past Surgical History\t<br><br>Prior surgery includes:  <br><br>1.) excision l. neck mass for post l. neck lipoma 6/27/16- under local, no complications<br><br>2.) bowel surgery 15 yrs ago- g.a.- no complications<br><br>3.) hernia repair- 20 yrs ago- GA. no complications<br><br>4.) appendectomy-40 yrs ago- GA- no complications<br><br>5.) hemorroids- 2062-per<span class=\"highlighter\" style=\"background-color: #FFFF00\">patient</span>done under spinal- had severe post spinal headache.<br><br><br><br>Family History\t<br><br>There in no family history of adverse reactions to general anesthesia.<br><br><br><br>Past Medical History\t<br><br>Current medical problems include:  <br><br>1.) HTN<br><br>2.) DMx20yrs- per<span class=\"highlighter\" style=\"background-color: #FFFF00\"  id='k1' >patient</span>glucose levels run 125-150 range<br><br>3.) hx. of tooth abscesses<br><br>4.) hypercholesterolemia<br><br><br><br><br><br><br><br>Social History\t<br><br>Smoking: no<br><br>Alcohol use: no history of excessive use<br><br>Substance abuse: none<br><br><br><br>Review of Systems\t<br><br>Medications:<br><br>insulin- 5 R/25N in am, 15 R in evening<br><br>hctz-25mg qd<br><br>captopril 25mg 2x/day<br><br>lipitor 10mgqd<br><br>zyrtec prn<br><br>ecasa<br><br>vit e<br><br>Allergies: shellfish<br><br><br><br>Cardiovascular: history of hypertension, no MI; denies CP, DOE, syncope, ankle edema<br><br>Respiratory: no history of asthma or chronic lung disease; denies unusual shortness of breath<br><br>Neurological: no history of neurological problems<br><br>Gastrointestinal: no history of PUD; denies reflux<br><br>Hepatobiliary: no history of liver disease; denies jaundice or hepatitis<br><br>Renal/Genitourinary: no history of renal failure; denies hematuria, dysuria, obstructive uropathy<br><br>Musculoskeletal: denies pain or limitation of movement<br><br>Endocrine/metabolic: history of diabetes last 20 yrs, hypercholesterolemia<br><br>Heme/Onc:  no history of bleeding, blood diseases; no history of malignancy, chemotherapy, or radiation therapy<br><br>Psychiatric: no significant psychiatric problems<br><br><br><br><br><br>Exam\t<br><br>SaO2: 98% RA<br><br>Ht:6'1\"<br><br>Wt:209<br><br>BP:180/74<br><br>P:79<br><br><br><br>HEEN&amp;T:  good range of motion, no masses, neck veins flat, no bruits<br><br>Airway:  Mallampatti Class I or II<br><br>Teeth:  in good repair<br><br>Lungs:  clear bilaterally<br><br>Heart:  regular rhythm, no murmurs, S1=S2, no gallop<br><br><br><br><br><br>Assessment\t<br><br>ASA Physical Status:  II<br><br>Well prepared for surgery; no unusual concerns related to medical problems.<br><br><br><br>Plan\t<br><br>Proposed Anesthetic: general anesthesia<br><br>Monitors:  standard<br><br>Pain Management:  IVPCA<br><br>Autologous blood:  none<br><br>Premedication:  none<br><br>Usual Medications:  take on day of surgery<br><br>Medications to be held on day of surgery:  lipitor<br><br>Diabetic medications:  counseled to old am insulin regimen<br><br>NSAIDS:  avoid for 3 days before surgery<br><br>Aspirin:  avoid for 7 days before surgery<br><br>NPO: after midnight <br><br><br><br>External Labs\t<br><br>Not available<br><br><br><br>Attending Anesthesiologist Reassessment Note\t<br><br>I have reviewed this preanesthetic assessment and concur with the assessment and recommended plan with the following exceptions:<br><br><br><br><br><br><br><br><br><br><br><br>______________________________                              <br><br><br><br><br><br><br><br>Yeomans, Vertis K., M.D.</div>\n",
    "<button type=\"button\" onclick=\"setFocusToTextBox()\">Click me to focus on the text field!</button>\n",
    "</body>\n",
    "</html>'''"
   ]
  },
  {
   "cell_type": "code",
   "execution_count": 23,
   "metadata": {},
   "outputs": [
    {
     "data": {
      "text/html": [
       "<script>\n",
       "function setFocusToTextBox(){\n",
       "    var spans = document.getElementsByClassName(\"highlighter\");\n",
       "    var id=document.getElementById('d1').dataset.pos\n",
       "    if (id===undefined){\n",
       "      id=0\n",
       "    }  \n",
       "    var topPos = spans[id].offsetTop;\n",
       "    alert(id+'\t'+spans.length)\n",
       "    dv=document.getElementById('d1')\n",
       "    dv.scrollTop = topPos;\n",
       "    dv.dataset.pos=id+1;\n",
       "}\n",
       "</script>"
      ],
      "text/plain": [
       "<IPython.core.display.HTML object>"
      ]
     },
     "metadata": {},
     "output_type": "display_data"
    },
    {
     "data": {
      "text/html": [
       "<html>\n",
       "<head>\n",
       "</head>\n",
       "<body onLoad=\"focusFieldOne();\">\n",
       "<div id ='d1' style=\"overflow-y: scroll; height:400px;border:1px solid;border-color:#f2f3f4; \">Record date: 2120-09-19<br><br>Personal Data and Overall Health\t<br><br>Patient is a 81 yr. old male who presents to Dr. Yager for multiple tooth extractions on 10/01/20.<br><br><br><br>History of Present Illness\t<br><br>The<span class=\"highlighter\" style=\"background-color: #FFFF00\">patient</span>complains of a hx. of tooth abscesses.<br><br><br><br>Past Surgical History\t<br><br>Prior surgery includes:  <br><br>1.) excision l. neck mass for post l. neck lipoma 6/27/16- under local, no complications<br><br>2.) bowel surgery 15 yrs ago- g.a.- no complications<br><br>3.) hernia repair- 20 yrs ago- GA. no complications<br><br>4.) appendectomy-40 yrs ago- GA- no complications<br><br>5.) hemorroids- 2062-per<span class=\"highlighter\" style=\"background-color: #FFFF00\">patient</span>done under spinal- had severe post spinal headache.<br><br><br><br>Family History\t<br><br>There in no family history of adverse reactions to general anesthesia.<br><br><br><br>Past Medical History\t<br><br>Current medical problems include:  <br><br>1.) HTN<br><br>2.) DMx20yrs- per<span class=\"highlighter\" style=\"background-color: #FFFF00\"  id='k1' >patient</span>glucose levels run 125-150 range<br><br>3.) hx. of tooth abscesses<br><br>4.) hypercholesterolemia<br><br><br><br><br><br><br><br>Social History\t<br><br>Smoking: no<br><br>Alcohol use: no history of excessive use<br><br>Substance abuse: none<br><br><br><br>Review of Systems\t<br><br>Medications:<br><br>insulin- 5 R/25N in am, 15 R in evening<br><br>hctz-25mg qd<br><br>captopril 25mg 2x/day<br><br>lipitor 10mgqd<br><br>zyrtec prn<br><br>ecasa<br><br>vit e<br><br>Allergies: shellfish<br><br><br><br>Cardiovascular: history of hypertension, no MI; denies CP, DOE, syncope, ankle edema<br><br>Respiratory: no history of asthma or chronic lung disease; denies unusual shortness of breath<br><br>Neurological: no history of neurological problems<br><br>Gastrointestinal: no history of PUD; denies reflux<br><br>Hepatobiliary: no history of liver disease; denies jaundice or hepatitis<br><br>Renal/Genitourinary: no history of renal failure; denies hematuria, dysuria, obstructive uropathy<br><br>Musculoskeletal: denies pain or limitation of movement<br><br>Endocrine/metabolic: history of diabetes last 20 yrs, hypercholesterolemia<br><br>Heme/Onc:  no history of bleeding, blood diseases; no history of malignancy, chemotherapy, or radiation therapy<br><br>Psychiatric: no significant psychiatric problems<br><br><br><br><br><br>Exam\t<br><br>SaO2: 98% RA<br><br>Ht:6'1\"<br><br>Wt:209<br><br>BP:180/74<br><br>P:79<br><br><br><br>HEEN&amp;T:  good range of motion, no masses, neck veins flat, no bruits<br><br>Airway:  Mallampatti Class I or II<br><br>Teeth:  in good repair<br><br>Lungs:  clear bilaterally<br><br>Heart:  regular rhythm, no murmurs, S1=S2, no gallop<br><br><br><br><br><br>Assessment\t<br><br>ASA Physical Status:  II<br><br>Well prepared for surgery; no unusual concerns related to medical problems.<br><br><br><br>Plan\t<br><br>Proposed Anesthetic: general anesthesia<br><br>Monitors:  standard<br><br>Pain Management:  IVPCA<br><br>Autologous blood:  none<br><br>Premedication:  none<br><br>Usual Medications:  take on day of surgery<br><br>Medications to be held on day of surgery:  lipitor<br><br>Diabetic medications:  counseled to old am insulin regimen<br><br>NSAIDS:  avoid for 3 days before surgery<br><br>Aspirin:  avoid for 7 days before surgery<br><br>NPO: after midnight <br><br><br><br>External Labs\t<br><br>Not available<br><br><br><br>Attending Anesthesiologist Reassessment Note\t<br><br>I have reviewed this preanesthetic assessment and concur with the assessment and recommended plan with the following exceptions:<br><br><br><br><br><br><br><br><br><br><br><br>______________________________                              <br><br><br><br><br><br><br><br>Yeomans, Vertis K., M.D.</div>\n",
       "<button type=\"button\" onclick=\"setFocusToTextBox()\">Click me to focus on the text field!</button>\n",
       "</body>\n",
       "</html>"
      ],
      "text/plain": [
       "<IPython.core.display.HTML object>"
      ]
     },
     "execution_count": 23,
     "metadata": {},
     "output_type": "execute_result"
    }
   ],
   "source": [
    "from IPython.display import display, HTML\n",
    "js='''<script>\n",
    "function setFocusToTextBox(){\n",
    "    var spans = document.getElementsByClassName(\"highlighter\");\n",
    "    var id=document.getElementById('d1').dataset.pos\n",
    "    if (id===undefined){\n",
    "      id=0\n",
    "    }      \n",
    "    if (id>=spans.length){\n",
    "        id=0\n",
    "    }\n",
    "    var topPos = spans[id].offsetTop;\n",
    "    alert(id+'\\t'+spans.length)\n",
    "    dv=document.getElementById('d1')\n",
    "    dv.scrollTop = topPos;\n",
    "    dv.dataset.pos=id+1;\n",
    "}\n",
    "</script>'''\n",
    "display(HTML(js))\n",
    "HTML(html)"
   ]
  },
  {
   "cell_type": "code",
   "execution_count": 13,
   "metadata": {},
   "outputs": [
    {
     "ename": "NameError",
     "evalue": "name 'gui' is not defined",
     "output_type": "error",
     "traceback": [
      "\u001b[0;31m---------------------------------------------------------------------------\u001b[0m",
      "\u001b[0;31mNameError\u001b[0m                                 Traceback (most recent call last)",
      "\u001b[0;32m<ipython-input-13-11d82756bbd2>\u001b[0m in \u001b[0;36m<module>\u001b[0;34m()\u001b[0m\n\u001b[0;32m----> 1\u001b[0;31m \u001b[0mgui\u001b[0m\u001b[0;34m.\u001b[0m\u001b[0mworkflow\u001b[0m\u001b[0;34m.\u001b[0m\u001b[0msteps\u001b[0m\u001b[0;34m[\u001b[0m\u001b[0;36m10\u001b[0m\u001b[0;34m]\u001b[0m\u001b[0;34m.\u001b[0m\u001b[0mto_we_ext_words\u001b[0m\u001b[0;34m\u001b[0m\u001b[0m\n\u001b[0m",
      "\u001b[0;31mNameError\u001b[0m: name 'gui' is not defined"
     ]
    }
   ],
   "source": [
    "gui.workflow.steps[10].to_we_ext_words"
   ]
  },
  {
   "cell_type": "code",
   "execution_count": 13,
   "metadata": {},
   "outputs": [
    {
     "name": "stdout",
     "output_type": "stream",
     "text": [
      "1\n",
      "1\n",
      "0\n",
      "False\n"
     ]
    }
   ],
   "source": [
    "from utils.TreeSet import TreeSet\n",
    "no_word_selected = True\n",
    "for type_name, toggle in gui.workflow.steps[10].to_we_ext_filters.items():\n",
    "    gui.workflow.steps[10].to_we_ext_words[type_name] = TreeSet(toggle.value)\n",
    "    print(len(gui.workflow.steps[10].to_we_ext_words[type_name]))\n",
    "    if no_word_selected and len(gui.workflow.steps[10].to_we_ext_words[type_name]) > 0:\n",
    "        no_word_selected = False    \n",
    "    \n",
    "print(no_word_selected)        "
   ]
  },
  {
   "cell_type": "code",
   "execution_count": null,
   "metadata": {},
   "outputs": [],
   "source": []
  },
  {
   "cell_type": "code",
   "execution_count": null,
   "metadata": {},
   "outputs": [],
   "source": []
  },
  {
   "cell_type": "code",
   "execution_count": null,
   "metadata": {},
   "outputs": [],
   "source": []
  },
  {
   "cell_type": "code",
   "execution_count": null,
   "metadata": {},
   "outputs": [],
   "source": []
  },
  {
   "cell_type": "code",
   "execution_count": null,
   "metadata": {},
   "outputs": [],
   "source": []
  },
  {
   "cell_type": "code",
   "execution_count": null,
   "metadata": {},
   "outputs": [],
   "source": []
  },
  {
   "cell_type": "code",
   "execution_count": null,
   "metadata": {},
   "outputs": [],
   "source": []
  },
  {
   "cell_type": "code",
   "execution_count": null,
   "metadata": {},
   "outputs": [],
   "source": []
  },
  {
   "cell_type": "code",
   "execution_count": null,
   "metadata": {},
   "outputs": [],
   "source": []
  },
  {
   "cell_type": "code",
   "execution_count": null,
   "metadata": {},
   "outputs": [],
   "source": []
  },
  {
   "cell_type": "code",
   "execution_count": null,
   "metadata": {},
   "outputs": [],
   "source": []
  },
  {
   "cell_type": "code",
   "execution_count": null,
   "metadata": {},
   "outputs": [],
   "source": []
  },
  {
   "cell_type": "code",
   "execution_count": null,
   "metadata": {},
   "outputs": [],
   "source": []
  },
  {
   "cell_type": "code",
   "execution_count": null,
   "metadata": {},
   "outputs": [],
   "source": []
  },
  {
   "cell_type": "code",
   "execution_count": null,
   "metadata": {},
   "outputs": [],
   "source": []
  },
  {
   "cell_type": "code",
   "execution_count": null,
   "metadata": {},
   "outputs": [],
   "source": []
  },
  {
   "cell_type": "code",
   "execution_count": null,
   "metadata": {},
   "outputs": [],
   "source": []
  },
  {
   "cell_type": "code",
   "execution_count": null,
   "metadata": {},
   "outputs": [],
   "source": []
  },
  {
   "cell_type": "code",
   "execution_count": null,
   "metadata": {},
   "outputs": [],
   "source": []
  },
  {
   "cell_type": "code",
   "execution_count": null,
   "metadata": {},
   "outputs": [],
   "source": []
  },
  {
   "cell_type": "code",
   "execution_count": null,
   "metadata": {},
   "outputs": [],
   "source": []
  },
  {
   "cell_type": "code",
   "execution_count": null,
   "metadata": {},
   "outputs": [],
   "source": []
  },
  {
   "cell_type": "code",
   "execution_count": 3,
   "metadata": {},
   "outputs": [
    {
     "data": {
      "text/plain": [
       "'<div style=\"overflow-y: scroll; height:400px;\"></div>'"
      ]
     },
     "execution_count": 3,
     "metadata": {},
     "output_type": "execute_result"
    }
   ],
   "source": [
    "gui.workflow.steps[13].genDiv(gui.workflow.samples['docs'][3])"
   ]
  },
  {
   "cell_type": "code",
   "execution_count": 11,
   "metadata": {},
   "outputs": [
    {
     "data": {
      "text/plain": [
       "'<div style=\"overflow-y: scroll; height:400px;\"></div>'"
      ]
     },
     "execution_count": 11,
     "metadata": {},
     "output_type": "execute_result"
    }
   ],
   "source": [
    "step=gui.workflow.steps[13]\n",
    "step.genDiv(gui.workflow.samples['docs'][3])"
   ]
  },
  {
   "cell_type": "code",
   "execution_count": 10,
   "metadata": {},
   "outputs": [
    {
     "name": "stdout",
     "output_type": "stream",
     "text": [
      "(202435526026986021, 34, 35)\n",
      "(202435526026986021, 43, 44)\n",
      "(202435526026986021, 70, 71)\n",
      "(202435526026986021, 426, 427)\n"
     ]
    }
   ],
   "source": [
    "for match in matches:\n",
    "    print(match)"
   ]
  },
  {
   "cell_type": "code",
   "execution_count": 3,
   "metadata": {},
   "outputs": [
    {
     "data": {
      "text/plain": [
       "'TA\\nTB'"
      ]
     },
     "execution_count": 3,
     "metadata": {},
     "output_type": "execute_result"
    }
   ],
   "source": [
    "gui.workflow.steps[13].rb_classifier.classify()"
   ]
  },
  {
   "cell_type": "code",
   "execution_count": 4,
   "metadata": {
    "scrolled": false
   },
   "outputs": [
    {
     "data": {
      "text/plain": [
       "['TA', 'TB']"
      ]
     },
     "execution_count": 4,
     "metadata": {},
     "output_type": "execute_result"
    }
   ],
   "source": [
    "[item.strip() for item in gui.workflow.steps[6].text_area.value.split(\"\\n\") if len(item.strip()) > 0]"
   ]
  },
  {
   "cell_type": "code",
   "execution_count": 5,
   "metadata": {
    "scrolled": true
   },
   "outputs": [
    {
     "data": {
      "text/plain": [
       "['TA', 'TB', 'neutral']"
      ]
     },
     "execution_count": 5,
     "metadata": {},
     "output_type": "execute_result"
    }
   ],
   "source": [
    "gui.workflow.steps[6].data"
   ]
  },
  {
   "cell_type": "code",
   "execution_count": null,
   "metadata": {},
   "outputs": [],
   "source": []
  },
  {
   "cell_type": "code",
   "execution_count": null,
   "metadata": {},
   "outputs": [],
   "source": []
  },
  {
   "cell_type": "code",
   "execution_count": null,
   "metadata": {},
   "outputs": [],
   "source": []
  },
  {
   "cell_type": "code",
   "execution_count": null,
   "metadata": {},
   "outputs": [],
   "source": []
  },
  {
   "cell_type": "code",
   "execution_count": null,
   "metadata": {},
   "outputs": [],
   "source": []
  },
  {
   "cell_type": "code",
   "execution_count": null,
   "metadata": {},
   "outputs": [],
   "source": []
  },
  {
   "cell_type": "code",
   "execution_count": null,
   "metadata": {},
   "outputs": [],
   "source": []
  },
  {
   "cell_type": "code",
   "execution_count": 5,
   "metadata": {},
   "outputs": [],
   "source": [
    "gui.workflow.samples['docs'][0].TEXT\n",
    "from utils.ReviewRBLoop import ReviewRBLoop\n"
   ]
  },
  {
   "cell_type": "code",
   "execution_count": 15,
   "metadata": {},
   "outputs": [],
   "source": [
    "del gui.workflow.samples['docs'][3]"
   ]
  },
  {
   "cell_type": "code",
   "execution_count": null,
   "metadata": {},
   "outputs": [],
   "source": [
    "for doc in gui.workflow.samples['docs']:\n",
    "    print(doc.DOC_NAME)\n",
    "    ReviewRBLoop.rb_classifier.classify(doc.TEXT)"
   ]
  },
  {
   "cell_type": "code",
   "execution_count": 18,
   "metadata": {},
   "outputs": [],
   "source": [
    "txt='''Record date: 2126-11-07\\n\\n\\n\\n\\tCARDIOLOGY\\n\\n\\t\\n\\n\\tFAMILY HEALTH CLINIC\\n\\n\\t\\n\\n\\n\\n\\tInterval History:\\n\\n   Dr. Devan Chandler\\n\\n100 CRP\\n\\n\\n\\nRE:  Bruce Corona\\n\\nFHC Unit #:  795-76-17\\n\\n\\n\\nDear Dunham:\\n\\n\\n\\nI had the pleasure of seeing  Bruce Corona in the Cardiology Department office for a f/u visit.  Since I last saw him, he continues to complain of dyspnea.  An ETT was negative for ischemia.  PFTs were not really useful.  CT of the chest showed scarring/fibrosis.  His NT-proBNP has been on the marginal side, though he is without evidence for overt CHF.\\n\\n\\n\\nMedications:  Aspirin 325 mg qd, Flomax 0.4 mg qd, Lopressor 25 mg bid, Lipitor 10 mg qd, Lisinopril 20 mg qd, Colace 100 mg tid.\\n\\n\\n\\nPhysical examination:  Reveals him to be well appearing. His BP is 120/70 and his heart rate is 60 and regular. He is 170 pounds.  There is no jugular venous distention and carotid pulses are 2+ bilaterally without bruits.  His lungs are clear throughout, and notably demonstrate only very slight dullness at the left base.  His sternotomy is healing well and is stable.  His apical impulse is non-displaced with a slightly irregular rate and rhythm, a normal S1 and S2.  He has an S3 gallop.  No murmur.  His abdomen is benign without hepatosplenomegaly, bruits, or a dilated aorta.  There is no pedal edema and posterior tibial pulses are 2+ bilaterally.\\n\\n\\n\\nEKG:  NSR with a 1st degree AV block.  He has a LBBB, which is chronic.\\n\\n\\n\\nImpression:\\n\\n\\n\\n1.CAD, s/p MI: currently stable.\\n\\n\\n\\n2. Hypertension: under good control.\\n\\n\\n\\n3.Hypercholesterolemia: controlled\\n\\n\\n\\n4. Dyspnea: I suspect he has an element of diastolic dysfunction.  I will restart low-dose lasix.\\n\\n\\n\\nThank you very much for the opportunity to participate in his care.\\n\\n\\n\\nWith best regards,\\n\\n\\n\\nBruce D. Brian, Jr., M.D.\\n\\n\\n\\n\\tSigned electronically by   Bruce D Brian MD  on  Nov 7, 2126'''"
   ]
  },
  {
   "cell_type": "code",
   "execution_count": null,
   "metadata": {
    "scrolled": true
   },
   "outputs": [],
   "source": [
    "gui.workflow.samples['docs'][6].TEXT"
   ]
  },
  {
   "cell_type": "code",
   "execution_count": null,
   "metadata": {},
   "outputs": [],
   "source": [
    "ReviewRBLoop.rb_classifier.classify(txt)"
   ]
  },
  {
   "cell_type": "code",
   "execution_count": null,
   "metadata": {},
   "outputs": [],
   "source": [
    "gui.workflow.final_filters"
   ]
  },
  {
   "cell_type": "code",
   "execution_count": null,
   "metadata": {},
   "outputs": [],
   "source": []
  },
  {
   "cell_type": "code",
   "execution_count": 1,
   "metadata": {},
   "outputs": [
    {
     "data": {
      "application/vnd.jupyter.widget-view+json": {
       "model_id": "7ab3bc54939f434b96b6e37f6b01eb76",
       "version_major": 2,
       "version_minor": 0
      },
      "text/html": [
       "<p>Failed to display Jupyter Widget of type <code>VBox</code>.</p>\n",
       "<p>\n",
       "  If you're reading this message in the Jupyter Notebook or JupyterLab Notebook, it may mean\n",
       "  that the widgets JavaScript is still loading. If this message persists, it\n",
       "  likely means that the widgets JavaScript library is either not installed or\n",
       "  not enabled. See the <a href=\"https://ipywidgets.readthedocs.io/en/stable/user_install.html\">Jupyter\n",
       "  Widgets Documentation</a> for setup instructions.\n",
       "</p>\n",
       "<p>\n",
       "  If you're reading this message in another frontend (for example, a static\n",
       "  rendering on GitHub or <a href=\"https://nbviewer.jupyter.org/\">NBViewer</a>),\n",
       "  it may mean that your frontend doesn't currently support widgets.\n",
       "</p>\n"
      ],
      "text/plain": [
       "VBox(children=(Label(value='', layout=Layout(height='5px')), IntProgress(value=1, layout=Layout(height='10px', left='1%', width='98%'), max=1, style=ProgressStyle(bar_color='GAINSBORO')), Label(value='', layout=Layout(height='1px')), HTML(value='<h2>Welcome to SmartAnno!</h2><h4>First, let&apos;s import txt data from a directory. </h4>'), Label(value='', layout=Layout(height='5px')), IntProgress(value=1, layout=Layout(height='10px', left='1%', width='98%'), max=1, style=ProgressStyle(bar_color='GAINSBORO')), Label(value='', layout=Layout(height='1px')), HBox(children=(Button(description='StartOver', layout=Layout(left='100px', width='150px'), style=ButtonStyle()), Button(description='ContinueReviewing', layout=Layout(left='100px', width='150px'), style=ButtonStyle())), layout=Layout(left='10%', width='80%'))), layout=Layout(display='flex'))"
      ]
     },
     "metadata": {},
     "output_type": "display_data"
    }
   ],
   "source": [
    "from utils.ReviewRBInit import ReviewRBInit\n",
    "from gui.BranchingWidgets import IntroStep\n",
    "from gui.Workflow import Workflow\n",
    "from conf.ConfigReader import ConfigReader\n",
    "from sqlalchemy_dao import Dao\n",
    "import sqlalchemy_dao\n",
    "cr = ConfigReader()\n",
    "kue = ReviewRBInit(description=\"\",name='rbreviewer')\n",
    "kue.setWorkflow(Workflow())\n",
    "kue.setNextStep(IntroStep('<h2>Welcome to SmartAnno!</h2><h4>First, let&apos;s import txt data from a directory. </h4>',\n",
    "                       name='intro'))\n",
    "\n",
    "kue.workflow.to_ext_words = {'a': ['tumor', 'negated']}\n",
    "kue.workflow.filters = {'a': ['tumor', 'negated'],'neutral':[]}\n",
    "kue.workflow.umls_extended = {'a': ['brain tumor'],'neutral':[]}\n",
    "kue.workflow.we_extended = {'a': ['cancer'],'neutral':[]}\n",
    "kue.workflow.api_key = ConfigReader().getValue('api_key')\n",
    "kue.workflow.dao=Dao(cr.getValue('db'), sqlalchemy_dao.POOL_DISABLED)\n",
    "\n",
    "kue.start()"
   ]
  },
  {
   "cell_type": "code",
   "execution_count": null,
   "metadata": {},
   "outputs": [],
   "source": []
  },
  {
   "cell_type": "code",
   "execution_count": null,
   "metadata": {},
   "outputs": [],
   "source": []
  },
  {
   "cell_type": "code",
   "execution_count": null,
   "metadata": {},
   "outputs": [],
   "source": [
    "kue.getSampledDocs()"
   ]
  },
  {
   "cell_type": "code",
   "execution_count": null,
   "metadata": {},
   "outputs": [],
   "source": [
    "from db.ORMs import Document\n",
    "from sqlalchemy import or_\n",
    "contain_docids = kue.samples['contain'][:5]\n",
    "notcontain_docids = kue.samples['notcontain'][:5]\n",
    "\n",
    "session=kue.workflow.dao.create_session()\n",
    "doc_iter = session.query(Document).filter(Document.DATASET_ID == 'origin_doc').filter(\n",
    "    or_(Document.DOC_ID.in_(contain_docids), Document.DOC_ID.in_(notcontain_docids)))\n",
    "session.expunge_all()    \n",
    "for doc in doc_iter:\n",
    "    if doc.DOC_ID in contain_docids:\n",
    "        kue.workflow.samples['contain_docs'].append(Document(doc.DOC_ID,doc.DATASET_ID,doc.BUNCH_ID, doc.DOC_NAME, doc.TEXT, doc.DATE, doc.REF_DATE, doc.META_DATA))\n",
    "    else:\n",
    "        kue.workflow.samples['notcontain_docs'].append(Document(doc.DOC_ID,doc.DATASET_ID,doc.BUNCH_ID, doc.DOC_NAME, doc.TEXT, doc.DATE, doc.REF_DATE, doc.META_DATA))            \n",
    "         \n",
    "session.close()"
   ]
  },
  {
   "cell_type": "code",
   "execution_count": null,
   "metadata": {},
   "outputs": [],
   "source": [
    "len(kue.workflow.samples['contain_docs'])\n",
    "kue.workflow.samples"
   ]
  },
  {
   "cell_type": "code",
   "execution_count": null,
   "metadata": {},
   "outputs": [],
   "source": [
    "a = [1, 2, 3, 4, 5, 6, 7, 8]\n",
    "print(a[0::2])"
   ]
  },
  {
   "cell_type": "code",
   "execution_count": null,
   "metadata": {
    "scrolled": true
   },
   "outputs": [],
   "source": [
    "[step.pos_id for step in gui.workflow.steps]"
   ]
  },
  {
   "cell_type": "code",
   "execution_count": null,
   "metadata": {},
   "outputs": [],
   "source": [
    "gui.workflow.steps"
   ]
  },
  {
   "cell_type": "code",
   "execution_count": null,
   "metadata": {},
   "outputs": [],
   "source": [
    "from utils.GloveModel import GloveModel\n",
    "gm=GloveModel.glove_model\n",
    "gm.similar_by_word('pneumonia',40)"
   ]
  },
  {
   "cell_type": "code",
   "execution_count": null,
   "metadata": {},
   "outputs": [],
   "source": [
    "gui.workflow.status"
   ]
  },
  {
   "cell_type": "code",
   "execution_count": null,
   "metadata": {},
   "outputs": [],
   "source": [
    "from ipywidgets import widgets\n",
    "widgets.HTML(value='<h5>Set up your API key</h5><p>In order to use UMLS service, you will need '\n",
    "                                           'to use a API key. Please type your API key below: (Here is <a href=\"https://documentation.uts.nlm.nih.gov/rest/authentication.html\">how to'\n",
    "                                           'get a UMLS API key</a>)</p>')"
   ]
  },
  {
   "cell_type": "code",
   "execution_count": null,
   "metadata": {},
   "outputs": [],
   "source": [
    "[item.strip() for item in gui.workflow.steps[6].text_area.value.split(\"\\n\") if len(item.strip()) > 0]"
   ]
  },
  {
   "cell_type": "code",
   "execution_count": null,
   "metadata": {},
   "outputs": [],
   "source": [
    "from utils.KeywordsUMLSExtender import KeywordsUMLSExtender\n",
    "from gui.Workflow import Workflow\n",
    "from conf.ConfigReader import ConfigReader\n",
    "from gui.BranchingWidgets import IntroStep\n",
    "\n",
    "cr = ConfigReader()\n",
    "kue = KeywordsUMLSExtender(name='umls_extender', sources=cr.getValue(\"umls/sources\"),\n",
    "                          filter_by_length=cr.getValue(\"umls/filter_by_length\"),\n",
    "                          filter_by_contains=cr.getValue(\"umls/filter_by_contains\"),\n",
    "                          max_query=cr.getValue(\"umls/max_query\"))\n",
    "kue.setWorkflow(Workflow())\n",
    "kue.workflow.to_ext_words = {'a': ['tumor', 'negated']}\n",
    "kue.workflow.filters = {'a': ['tumor', 'negated']}\n",
    "kue.workflow.api_key = ConfigReader().getValue('api_key')\n",
    "kue.setNextStep(IntroStep('<p><b>Welcome to SmartAnno!<br/>First let&apos;s import txt data from a directory. </p>'\n",
    "                       '<br/>', name='intro'))\n",
    "kue.start()\n"
   ]
  },
  {
   "cell_type": "code",
   "execution_count": null,
   "metadata": {},
   "outputs": [],
   "source": []
  },
  {
   "cell_type": "code",
   "execution_count": null,
   "metadata": {},
   "outputs": [],
   "source": []
  },
  {
   "cell_type": "code",
   "execution_count": null,
   "metadata": {},
   "outputs": [],
   "source": []
  },
  {
   "cell_type": "code",
   "execution_count": null,
   "metadata": {},
   "outputs": [],
   "source": []
  },
  {
   "cell_type": "code",
   "execution_count": null,
   "metadata": {},
   "outputs": [],
   "source": []
  },
  {
   "cell_type": "code",
   "execution_count": null,
   "metadata": {},
   "outputs": [],
   "source": []
  },
  {
   "cell_type": "code",
   "execution_count": null,
   "metadata": {},
   "outputs": [],
   "source": []
  },
  {
   "cell_type": "code",
   "execution_count": null,
   "metadata": {},
   "outputs": [],
   "source": []
  },
  {
   "cell_type": "code",
   "execution_count": null,
   "metadata": {},
   "outputs": [],
   "source": []
  },
  {
   "cell_type": "code",
   "execution_count": null,
   "metadata": {},
   "outputs": [],
   "source": []
  },
  {
   "cell_type": "code",
   "execution_count": null,
   "metadata": {},
   "outputs": [],
   "source": [
    "from utils.KeywordsEmbeddingExtender import KeywordsEmbeddingExtender\n",
    "from gui.Workflow import Workflow\n",
    "from conf.ConfigReader import ConfigReader\n",
    "from gui.BranchingWidgets import IntroStep\n",
    "\n",
    "cr = ConfigReader()\n",
    "kwe = KeywordsEmbeddingExtender(name='we_extender', \n",
    "                          max_query=cr.getValue(\"umls/max_query\"))\n",
    "kwe.setWorkflow(Workflow())\n",
    "kwe.workflow.to_we_ext_words = {'a': ['filaria', 'negated']}\n",
    "kwe.workflow.filters = {'a': ['filaria', 'negated']}\n",
    "kwe.setNextStep(IntroStep('<p><b>Welcome to SmartAnno!<br/>First let&apos;s import txt data from a directory. </p>'\n",
    "                       '<br/>', name='intro'))\n",
    "kwe.start()"
   ]
  },
  {
   "cell_type": "code",
   "execution_count": null,
   "metadata": {},
   "outputs": [],
   "source": [
    "%%time\n",
    "from utils.GloveModel import GloveModel\n",
    "GloveModel()"
   ]
  },
  {
   "cell_type": "code",
   "execution_count": null,
   "metadata": {},
   "outputs": [],
   "source": [
    "list=gm.similar_by_word('scheduled',40)\n",
    "for i in list:\n",
    "    print(i[0])"
   ]
  },
  {
   "cell_type": "code",
   "execution_count": null,
   "metadata": {},
   "outputs": [],
   "source": []
  },
  {
   "cell_type": "code",
   "execution_count": null,
   "metadata": {},
   "outputs": [],
   "source": []
  },
  {
   "cell_type": "code",
   "execution_count": null,
   "metadata": {},
   "outputs": [],
   "source": []
  },
  {
   "cell_type": "code",
   "execution_count": null,
   "metadata": {},
   "outputs": [],
   "source": []
  },
  {
   "cell_type": "code",
   "execution_count": null,
   "metadata": {},
   "outputs": [],
   "source": []
  },
  {
   "cell_type": "code",
   "execution_count": null,
   "metadata": {},
   "outputs": [],
   "source": [
    "t=ToggleButtonsMultiSelectionInBox(options=['a','b'])\n",
    "t"
   ]
  },
  {
   "cell_type": "code",
   "execution_count": null,
   "metadata": {},
   "outputs": [],
   "source": [
    "t._selection_obj.value=['a']\n",
    "t.value=['a']\n",
    "t"
   ]
  },
  {
   "cell_type": "code",
   "execution_count": null,
   "metadata": {},
   "outputs": [],
   "source": [
    "import ipywidgets as widgets\n",
    "from traitlets import traitlets,HasTraits,observe\n",
    "def monitor(wts, trait_name):\n",
    "    def wrapper(func):\n",
    "        if isinstance(wts, widgets.Widget):\n",
    "            wts.observe(func, trait_name)\n",
    "        else:\n",
    "            for w in wts:\n",
    "                w.observe(func, trait_name)\n",
    "        func()\n",
    "\n",
    "    return wrapper\n",
    "class ToggleButtonsMultiSelectionInBox(widgets.Box,HasTraits):\n",
    "    description = traitlets.Unicode()\n",
    "    value = traitlets.Tuple()\n",
    "    options = traitlets.Union([traitlets.List(), traitlets.Dict()])\n",
    "\n",
    "    def __init__(self, num_per_row=6, **kwargs):\n",
    "        super().__init__(**kwargs)\n",
    "        self._selection_obj = widgets.widget_selection._MultipleSelection()\n",
    "        traitlets.link((self, 'options'), (self._selection_obj, 'options'))\n",
    "        traitlets.link((self, 'value'), (self._selection_obj, 'value'))\n",
    "        self.num_per_row = num_per_row\n",
    "\n",
    "        @monitor(self, 'options')\n",
    "        def _(*_):\n",
    "            self.buttons = [widgets.ToggleButton(description=label, tooltip=label, value=True if label in self.value else False,\n",
    "                                                 layout=widgets.Layout(margin='2', icon='check', width='100%',\n",
    "                                                                       min_width='160px'))\n",
    "                            for label in self._selection_obj._options_labels]\n",
    "            rows = []\n",
    "            for i in range(0, len(self.buttons), self.num_per_row):\n",
    "                if i < len(self.buttons) - num_per_row:\n",
    "                    rows.append(widgets.HBox(self.buttons[i:i + self.num_per_row]))\n",
    "                else:\n",
    "                    rows.append(widgets.HBox(self.buttons[i:]))\n",
    "\n",
    "            self.children = [widgets.VBox(rows, layout=widgets.Layout(display='flex', flex_grown='column'))]\n",
    "\n",
    "            @monitor(self.buttons, 'value')\n",
    "            def _(*_):\n",
    "                for btn in self.buttons:\n",
    "                    btn.button_style = 'info' if btn.value else ''\n",
    "                self._selection_obj.value = tuple(value\n",
    "                                   for btn, value in zip(self.buttons, self._selection_obj._options_values)\n",
    "                                   if btn.value)\n",
    "                \n",
    "    \n",
    "        @observe('value')\n",
    "        def _num_changed(self, change):\n",
    "            print(change,self.value)\n",
    "            \n",
    "        \n",
    "\n",
    "        self.add_class('btn-group')"
   ]
  },
  {
   "cell_type": "code",
   "execution_count": null,
   "metadata": {},
   "outputs": [],
   "source": [
    "t=ToggleButtonsMultiSelectionInBox(options=['a','b'],value=['a'])\n",
    "\n",
    "t"
   ]
  },
  {
   "cell_type": "code",
   "execution_count": null,
   "metadata": {},
   "outputs": [],
   "source": [
    "t.value"
   ]
  },
  {
   "cell_type": "code",
   "execution_count": null,
   "metadata": {},
   "outputs": [],
   "source": [
    "t.value=['b']\n"
   ]
  },
  {
   "cell_type": "code",
   "execution_count": null,
   "metadata": {},
   "outputs": [],
   "source": []
  },
  {
   "cell_type": "code",
   "execution_count": null,
   "metadata": {},
   "outputs": [],
   "source": []
  },
  {
   "cell_type": "code",
   "execution_count": null,
   "metadata": {},
   "outputs": [],
   "source": []
  },
  {
   "cell_type": "code",
   "execution_count": null,
   "metadata": {},
   "outputs": [],
   "source": []
  },
  {
   "cell_type": "code",
   "execution_count": null,
   "metadata": {},
   "outputs": [],
   "source": []
  },
  {
   "cell_type": "code",
   "execution_count": null,
   "metadata": {},
   "outputs": [],
   "source": []
  },
  {
   "cell_type": "code",
   "execution_count": null,
   "metadata": {},
   "outputs": [],
   "source": []
  },
  {
   "cell_type": "code",
   "execution_count": null,
   "metadata": {},
   "outputs": [],
   "source": []
  },
  {
   "cell_type": "code",
   "execution_count": null,
   "metadata": {},
   "outputs": [],
   "source": []
  },
  {
   "cell_type": "code",
   "execution_count": null,
   "metadata": {},
   "outputs": [],
   "source": []
  },
  {
   "cell_type": "code",
   "execution_count": null,
   "metadata": {},
   "outputs": [],
   "source": []
  },
  {
   "cell_type": "code",
   "execution_count": null,
   "metadata": {},
   "outputs": [],
   "source": []
  },
  {
   "cell_type": "code",
   "execution_count": null,
   "metadata": {},
   "outputs": [],
   "source": []
  },
  {
   "cell_type": "code",
   "execution_count": null,
   "metadata": {},
   "outputs": [],
   "source": []
  },
  {
   "cell_type": "code",
   "execution_count": null,
   "metadata": {},
   "outputs": [],
   "source": []
  },
  {
   "cell_type": "code",
   "execution_count": null,
   "metadata": {},
   "outputs": [],
   "source": []
  },
  {
   "cell_type": "code",
   "execution_count": null,
   "metadata": {},
   "outputs": [],
   "source": []
  },
  {
   "cell_type": "code",
   "execution_count": null,
   "metadata": {},
   "outputs": [],
   "source": []
  },
  {
   "cell_type": "code",
   "execution_count": null,
   "metadata": {},
   "outputs": [],
   "source": []
  },
  {
   "cell_type": "code",
   "execution_count": null,
   "metadata": {},
   "outputs": [],
   "source": []
  },
  {
   "cell_type": "code",
   "execution_count": null,
   "metadata": {},
   "outputs": [],
   "source": []
  },
  {
   "cell_type": "code",
   "execution_count": null,
   "metadata": {},
   "outputs": [],
   "source": []
  },
  {
   "cell_type": "code",
   "execution_count": null,
   "metadata": {},
   "outputs": [],
   "source": []
  },
  {
   "cell_type": "code",
   "execution_count": null,
   "metadata": {},
   "outputs": [],
   "source": []
  },
  {
   "cell_type": "code",
   "execution_count": null,
   "metadata": {},
   "outputs": [],
   "source": []
  },
  {
   "cell_type": "code",
   "execution_count": null,
   "metadata": {},
   "outputs": [],
   "source": []
  },
  {
   "cell_type": "code",
   "execution_count": null,
   "metadata": {},
   "outputs": [],
   "source": []
  },
  {
   "cell_type": "code",
   "execution_count": null,
   "metadata": {},
   "outputs": [],
   "source": []
  },
  {
   "cell_type": "code",
   "execution_count": null,
   "metadata": {},
   "outputs": [],
   "source": []
  },
  {
   "cell_type": "code",
   "execution_count": null,
   "metadata": {},
   "outputs": [],
   "source": []
  },
  {
   "cell_type": "code",
   "execution_count": null,
   "metadata": {},
   "outputs": [],
   "source": []
  },
  {
   "cell_type": "code",
   "execution_count": null,
   "metadata": {},
   "outputs": [],
   "source": []
  },
  {
   "cell_type": "code",
   "execution_count": null,
   "metadata": {},
   "outputs": [],
   "source": []
  },
  {
   "cell_type": "code",
   "execution_count": null,
   "metadata": {},
   "outputs": [],
   "source": []
  },
  {
   "cell_type": "code",
   "execution_count": null,
   "metadata": {},
   "outputs": [],
   "source": [
    "from time import sleep\n",
    "\n",
    "from IPython.core.display import display, HTML, clear_output\n",
    "from ipywidgets import widgets, Label, Layout\n",
    "from gui.Workflow import Workflow\n",
    "from conf.ConfigReader import ConfigReader\n",
    "from gui.MyWidgets import ToggleButtonsMultiSelectionInBox\n",
    "from gui.PreviousNextWidgets import PreviousNext, TimerProgressBar\n",
    "from utils.TreeSet import TreeSet\n",
    "\n",
    "\n",
    "class KeywordsUMLSExtenderSetup(PreviousNext):\n",
    "    def __init__(self, description='<h4>Extend keywords through UMLS</h4><p>Please select which keywords you want to '\n",
    "                                   'check the synonyms from UMLS:', name=None):\n",
    "        self.api_key = ConfigReader.getValue('api_key')\n",
    "        self.title = widgets.HTML(value=description)\n",
    "        self.to_ext_words = dict()\n",
    "        self.to_umls_ext_filters = dict()\n",
    "        self.api_input = None\n",
    "        super().__init__(name)\n",
    "\n",
    "    def start(self):\n",
    "        rows = self.showWords(self.workflow.filters)\n",
    "        self.box = widgets.VBox(rows, layout=widgets.Layout(display='flex', flex_grown='column'))\n",
    "        display(self.box)\n",
    "        pass\n",
    "\n",
    "    def showWords(self, filters):\n",
    "        rows = [self.title]\n",
    "        self.requestUMLSAPIKey(rows)\n",
    "        for type_name in filters.keys():\n",
    "            rows.append(Label(value=type_name + ':'))\n",
    "\n",
    "            selections = ToggleButtonsMultiSelectionInBox(options=filters[type_name].to_list(),\n",
    "                                                     value=list(self.to_ext_words[type_name]) \n",
    "                                                     if hasattr(self,'to_ext_words') and isinstance(\n",
    "                                                         self.to_ext_words,dict) and type_name in self.to_ext_words \n",
    "                                                     else [])\n",
    "            self.to_umls_ext_filters[type_name] = selections\n",
    "            rows.append(selections)\n",
    "            rows += (self.addSeparator())\n",
    "        rows += [self.addPreviousNext(self.show_previous, self.show_next)]\n",
    "        return rows\n",
    "\n",
    "    def complete(self):\n",
    "        no_word_selected = True\n",
    "        for type_name, toggle in self.to_umls_ext_filters.items():\n",
    "            self.to_ext_words[type_name] = TreeSet(toggle.value)\n",
    "            if no_word_selected and len(self.to_ext_words[type_name]) > 0:\n",
    "                no_word_selected = False\n",
    "\n",
    "        if not no_word_selected:\n",
    "            self.workflow.to_ext_words = self.to_ext_words\n",
    "            if self.api_key is None:\n",
    "                self.api_key = self.api_input.value\n",
    "                self.workflow.api_key = self.api_key\n",
    "                ConfigReader.setValue(\"api_key\", self.api_key)\n",
    "                ConfigReader.saveConfig()\n",
    "        else:\n",
    "            self.setNextStep(self.workflow.steps[self.pos_id + 2])\n",
    "            self.workflow.steps[self.pos_id + 2].setPreviousStep(self)\n",
    "        super().complete()\n",
    "        pass\n",
    "\n",
    "    def requestUMLSAPIKey(self, rows):\n",
    "        if self.api_key is not None or self.api_key.strip() != '':\n",
    "            self.workflow.api_key = self.api_key\n",
    "        else:\n",
    "            rows.append(widgets.HTML(value='<h5>Set up your API key</h5><p>In order to use UMLS service, you will need '\n",
    "                                           'to use a API key. Please type your API key below: (Here is '\n",
    "                                           '<a href=\"https://documentation.uts.nlm.nih.gov/rest/authentication.html\" '\n",
    "                                           ' target=\"_blank\">how to get a UMLS API key</a>)</p>'))\n",
    "            self.api_input = widgets.Text(\n",
    "                value='',\n",
    "                placeholder='copy and paste your api key here',\n",
    "                description='',\n",
    "                disabled=False,\n",
    "                layout=Layout(width='600')\n",
    "            )\n",
    "            rows.append(self.api_input)\n",
    "            rows += self.addSeparator()\n",
    "        pass\n"
   ]
  },
  {
   "cell_type": "code",
   "execution_count": null,
   "metadata": {},
   "outputs": [],
   "source": [
    "kus=KeywordsUMLSExtenderSetup(name='umls_extender_setup')\n",
    "kus.setWorkflow(Workflow())\n",
    "kus.workflow.filters={'Typea':TreeSet(['pneumonia','negated']),'Typeb':TreeSet(['brain'])}\n",
    "kus.to_ext_words={'Typea':TreeSet(['pneumonia']),'Typeb':TreeSet(['brain'])}\n",
    "kus.start()"
   ]
  },
  {
   "cell_type": "code",
   "execution_count": null,
   "metadata": {},
   "outputs": [],
   "source": [
    "[tb.value for tb in kus.to_umls_ext_filters.values()]"
   ]
  },
  {
   "cell_type": "code",
   "execution_count": null,
   "metadata": {},
   "outputs": [],
   "source": [
    "kus.to_ext_words"
   ]
  },
  {
   "cell_type": "code",
   "execution_count": null,
   "metadata": {},
   "outputs": [],
   "source": [
    "tb=ToggleButtonsMultiSelectionInBox(options=['a','b','c'],value=['c'])"
   ]
  },
  {
   "cell_type": "code",
   "execution_count": null,
   "metadata": {},
   "outputs": [],
   "source": [
    "tb"
   ]
  },
  {
   "cell_type": "code",
   "execution_count": null,
   "metadata": {},
   "outputs": [],
   "source": [
    "tb.value=['a']"
   ]
  },
  {
   "cell_type": "code",
   "execution_count": null,
   "metadata": {},
   "outputs": [],
   "source": []
  },
  {
   "cell_type": "code",
   "execution_count": null,
   "metadata": {},
   "outputs": [],
   "source": []
  },
  {
   "cell_type": "code",
   "execution_count": null,
   "metadata": {},
   "outputs": [],
   "source": []
  },
  {
   "cell_type": "code",
   "execution_count": null,
   "metadata": {},
   "outputs": [],
   "source": []
  },
  {
   "cell_type": "code",
   "execution_count": null,
   "metadata": {},
   "outputs": [],
   "source": []
  },
  {
   "cell_type": "code",
   "execution_count": null,
   "metadata": {},
   "outputs": [],
   "source": []
  },
  {
   "cell_type": "code",
   "execution_count": null,
   "metadata": {},
   "outputs": [],
   "source": []
  },
  {
   "cell_type": "code",
   "execution_count": null,
   "metadata": {},
   "outputs": [],
   "source": []
  },
  {
   "cell_type": "code",
   "execution_count": null,
   "metadata": {},
   "outputs": [],
   "source": []
  },
  {
   "cell_type": "code",
   "execution_count": null,
   "metadata": {},
   "outputs": [],
   "source": []
  },
  {
   "cell_type": "code",
   "execution_count": null,
   "metadata": {},
   "outputs": [],
   "source": []
  },
  {
   "cell_type": "code",
   "execution_count": null,
   "metadata": {},
   "outputs": [],
   "source": []
  },
  {
   "cell_type": "code",
   "execution_count": null,
   "metadata": {},
   "outputs": [],
   "source": []
  },
  {
   "cell_type": "code",
   "execution_count": null,
   "metadata": {},
   "outputs": [],
   "source": []
  },
  {
   "cell_type": "code",
   "execution_count": null,
   "metadata": {},
   "outputs": [],
   "source": []
  },
  {
   "cell_type": "code",
   "execution_count": null,
   "metadata": {},
   "outputs": [],
   "source": [
    "gui.workflow.task_name='kdodda'"
   ]
  },
  {
   "cell_type": "code",
   "execution_count": null,
   "metadata": {},
   "outputs": [],
   "source": [
    "with gui.workflow.dao.create_session() as session:\n",
    "    gui.workflow.task_id = session.query(Task).filter(Task.task_name == gui.workflow.task_name).first()\n",
    "    if gui.workflow.task_id is None:\n",
    "        i=session.add(Task(task_name=gui.workflow.task_name))\n",
    "        print(i)\n",
    "        gui.workflow.task_id = session.query(Task).filter(Task.task_name == gui.workflow.task_name).first()\n",
    "        print(gui.workflow.task_id )\n",
    "    else:\n",
    "        print(gui.workflow.task_id)\n",
    "        \n",
    "        "
   ]
  },
  {
   "cell_type": "code",
   "execution_count": null,
   "metadata": {},
   "outputs": [],
   "source": []
  },
  {
   "cell_type": "code",
   "execution_count": null,
   "metadata": {},
   "outputs": [],
   "source": [
    "gui.workflow.steps[2].data"
   ]
  },
  {
   "cell_type": "code",
   "execution_count": null,
   "metadata": {},
   "outputs": [],
   "source": []
  },
  {
   "cell_type": "code",
   "execution_count": null,
   "metadata": {},
   "outputs": [],
   "source": []
  },
  {
   "cell_type": "code",
   "execution_count": null,
   "metadata": {},
   "outputs": [],
   "source": []
  },
  {
   "cell_type": "code",
   "execution_count": null,
   "metadata": {},
   "outputs": [],
   "source": [
    "\n",
    "[step.name for step in gui.workflow.steps]"
   ]
  },
  {
   "cell_type": "code",
   "execution_count": null,
   "metadata": {},
   "outputs": [],
   "source": [
    "import os\n",
    "from sqlalchemy_dao import Dao\n",
    "from db.ORMs import Document,Annotation\n",
    "from sqlalchemy_dao import Model\n",
    "from conf.ConfigReader import ConfigReader\n",
    "import sqlalchemy_dao\n",
    "import os.path\n",
    "dbfile=ConfigReader().getValue('db')\n",
    "if os.path.isfile(dbfile):\n",
    "    os.remove(dbfile)\n",
    "dao = Dao(dbfile,sqlalchemy_dao.POOL_DISABLED)\n",
    "Model.metadata.create_all(bind=dao._engine)"
   ]
  },
  {
   "cell_type": "code",
   "execution_count": null,
   "metadata": {},
   "outputs": [],
   "source": [
    "import os\n",
    "from sqlalchemy_dao import Dao\n",
    "from db.ORMs import Document,Annotation,Task\n",
    "from sqlalchemy_dao import Model\n",
    "from conf.ConfigReader import ConfigReader\n",
    "import sqlalchemy_dao\n",
    "from sqlalchemy.sql import select\n",
    "dbfile=ConfigReader().getValue('db')\n",
    "dao = Dao(dbfile,sqlalchemy_dao.POOL_DISABLED)\n"
   ]
  },
  {
   "cell_type": "code",
   "execution_count": null,
   "metadata": {},
   "outputs": [],
   "source": [
    "with dao.create_session() as session:\n",
    "    res = session.query(Task)"
   ]
  },
  {
   "cell_type": "code",
   "execution_count": null,
   "metadata": {},
   "outputs": [],
   "source": [
    "print(res.first())"
   ]
  },
  {
   "cell_type": "code",
   "execution_count": null,
   "metadata": {},
   "outputs": [],
   "source": [
    "from db.ORMs import Annotation, Document\n",
    "s = select([Document]).where(Document.doc_id>5)"
   ]
  },
  {
   "cell_type": "code",
   "execution_count": null,
   "metadata": {},
   "outputs": [],
   "source": [
    "import pandas  as pd\n",
    "df=pd.read_sql(s,dao._engine)"
   ]
  },
  {
   "cell_type": "code",
   "execution_count": null,
   "metadata": {},
   "outputs": [],
   "source": [
    "from sqlalchemy import join\n",
    "s=join(Annotation, Document).select().where(Annotation.task_id==1)\n",
    "fd=pd.read_sql(s,dao._engine)\n",
    "fd"
   ]
  },
  {
   "cell_type": "code",
   "execution_count": null,
   "metadata": {},
   "outputs": [],
   "source": [
    "from db.ORMs import Annotation, Document,Filter,Typedef\n",
    "import pandas as pd\n",
    "s = select([Filter]).where(Filter.task_id==1)\n",
    "fd=pd.read_sql(s,dao._engine)\n",
    "fd"
   ]
  },
  {
   "cell_type": "code",
   "execution_count": null,
   "metadata": {},
   "outputs": [],
   "source": [
    "from sqlalchemy import func\n",
    "with dao.create_session() as session:\n",
    "    num_docs = session.query(func.count(Document.doc_id)).first()\n",
    "    print(num_docs[0])\n",
    "    print(type(num_docs))"
   ]
  },
  {
   "cell_type": "code",
   "execution_count": null,
   "metadata": {},
   "outputs": [],
   "source": [
    "from decorated.base.context import ctx\n",
    "with dao.create_session() as session:\n",
    "    fs = session.query(Typedef)\n",
    "    print(type(fs))\n",
    "    for f in fs:\n",
    "        print(f)"
   ]
  },
  {
   "cell_type": "code",
   "execution_count": null,
   "metadata": {},
   "outputs": [],
   "source": [
    "\n",
    "\n",
    "import spacy\n",
    "from spacy.matcher import Matcher\n",
    "\n",
    "nlp = spacy.load('en')\n",
    "matcher = Matcher(nlp.vocab)\n",
    "# add match ID \"HelloWorld\" with no callback and one pattern\n",
    "pattern = [{'LOWER': 'hello'}, {'IS_PUNCT': True}, {'LOWER': 'world'}]\n",
    "matcher.add('HelloWorld', None, pattern)\n",
    "\n",
    "doc = nlp(u'Hello, world! Hello world!')\n",
    "matches = matcher(doc)\n"
   ]
  },
  {
   "cell_type": "code",
   "execution_count": null,
   "metadata": {},
   "outputs": [],
   "source": [
    "matches"
   ]
  },
  {
   "cell_type": "code",
   "execution_count": null,
   "metadata": {},
   "outputs": [],
   "source": [
    "doc."
   ]
  },
  {
   "cell_type": "code",
   "execution_count": null,
   "metadata": {},
   "outputs": [],
   "source": [
    "import spacy\n",
    "from spacy import displacy\n",
    "\n",
    "nlp = spacy.load('en')\n",
    "doc = nlp(u'This is a sentence.')\n",
    "displacy.serve(doc, style='dep')\n"
   ]
  },
  {
   "cell_type": "code",
   "execution_count": null,
   "metadata": {},
   "outputs": [],
   "source": [
    "from gui.MyWidgets import ToggleButtonsMultiSelection,monitor\n",
    "import ipywidgets as widgets\n",
    "\n",
    "ToggleButtonsMultiSelection(options=['adddddddd','b','c','gddddddddddddd','gdddddddddddd','f','gdddddddddddd','H'],layout=widgets.Layout(display='flex', flex_grown='row'))"
   ]
  },
  {
   "cell_type": "code",
   "execution_count": null,
   "metadata": {},
   "outputs": [],
   "source": [
    "import ipywidgets as widgets\n",
    "options=['a','b','c','d','e','f','g','H']\n",
    "ws=[widgets.ToggleButton(description=label,layout=widgets.Layout(margin='2', icon='check'))\n",
    "                            for label in options]"
   ]
  },
  {
   "cell_type": "code",
   "execution_count": null,
   "metadata": {},
   "outputs": [],
   "source": [
    "from gui.MyWidgets import ToggleButtonsMultiSelectionInBox,monitor2\n",
    "a=ToggleButtonsMultiSelectionInBox(options=['adddddddd','b','c','gddddddddddddd','gdddddddddddd','f','gdddddddddddd','H'])"
   ]
  },
  {
   "cell_type": "code",
   "execution_count": null,
   "metadata": {},
   "outputs": [],
   "source": [
    "a"
   ]
  },
  {
   "cell_type": "code",
   "execution_count": null,
   "metadata": {},
   "outputs": [],
   "source": [
    "a.value"
   ]
  },
  {
   "cell_type": "code",
   "execution_count": 3,
   "metadata": {},
   "outputs": [
    {
     "name": "stdout",
     "output_type": "stream",
     "text": [
      "101_2.txt\n",
      "103_0.txt\n",
      "103_1.txt\n",
      "100_2.txt\n"
     ]
    },
    {
     "ename": "TypeError",
     "evalue": "'<' not supported between instances of 'dict' and 'dict'",
     "output_type": "error",
     "traceback": [
      "\u001b[0;31m---------------------------------------------------------------------------\u001b[0m",
      "\u001b[0;31mTypeError\u001b[0m                                 Traceback (most recent call last)",
      "\u001b[0;32m~/Documents/PycharmProjects/SmartAnno/SmartAnno/gui/PreviousNextWidgets.py\u001b[0m in \u001b[0;36mgoNext\u001b[0;34m(b)\u001b[0m\n\u001b[1;32m     54\u001b[0m \u001b[0;34m\u001b[0m\u001b[0m\n\u001b[1;32m     55\u001b[0m         \u001b[0;32mdef\u001b[0m \u001b[0mgoNext\u001b[0m\u001b[0;34m(\u001b[0m\u001b[0mb\u001b[0m\u001b[0;34m)\u001b[0m\u001b[0;34m:\u001b[0m\u001b[0;34m\u001b[0m\u001b[0m\n\u001b[0;32m---> 56\u001b[0;31m             \u001b[0mself\u001b[0m\u001b[0;34m.\u001b[0m\u001b[0mcomplete\u001b[0m\u001b[0;34m(\u001b[0m\u001b[0;34m)\u001b[0m\u001b[0;34m\u001b[0m\u001b[0m\n\u001b[0m\u001b[1;32m     57\u001b[0m             \u001b[0;32mpass\u001b[0m\u001b[0;34m\u001b[0m\u001b[0m\n\u001b[1;32m     58\u001b[0m \u001b[0;34m\u001b[0m\u001b[0m\n",
      "\u001b[0;32m~/Documents/PycharmProjects/SmartAnno/SmartAnno/utils/ReviewRBInit.py\u001b[0m in \u001b[0;36mcomplete\u001b[0;34m(self)\u001b[0m\n\u001b[1;32m    103\u001b[0m     \u001b[0;32mdef\u001b[0m \u001b[0mcomplete\u001b[0m\u001b[0;34m(\u001b[0m\u001b[0mself\u001b[0m\u001b[0;34m)\u001b[0m\u001b[0;34m:\u001b[0m\u001b[0;34m\u001b[0m\u001b[0m\n\u001b[1;32m    104\u001b[0m         \u001b[0mself\u001b[0m\u001b[0;34m.\u001b[0m\u001b[0mgetSampledDocs\u001b[0m\u001b[0;34m(\u001b[0m\u001b[0;34m)\u001b[0m\u001b[0;34m\u001b[0m\u001b[0m\n\u001b[0;32m--> 105\u001b[0;31m         \u001b[0msuper\u001b[0m\u001b[0;34m(\u001b[0m\u001b[0;34m)\u001b[0m\u001b[0;34m.\u001b[0m\u001b[0mcomplete\u001b[0m\u001b[0;34m(\u001b[0m\u001b[0;34m)\u001b[0m\u001b[0;34m\u001b[0m\u001b[0m\n\u001b[0m\u001b[1;32m    106\u001b[0m         \u001b[0;32mpass\u001b[0m\u001b[0;34m\u001b[0m\u001b[0m\n\u001b[1;32m    107\u001b[0m \u001b[0;34m\u001b[0m\u001b[0m\n",
      "\u001b[0;32m~/Documents/PycharmProjects/SmartAnno/SmartAnno/gui/Workflow.py\u001b[0m in \u001b[0;36mcomplete\u001b[0;34m(self)\u001b[0m\n\u001b[1;32m     72\u001b[0m                 \u001b[0;32mif\u001b[0m \u001b[0mself\u001b[0m\u001b[0;34m.\u001b[0m\u001b[0mworkflow\u001b[0m \u001b[0;32mis\u001b[0m \u001b[0;32mnot\u001b[0m \u001b[0;32mNone\u001b[0m\u001b[0;34m:\u001b[0m\u001b[0;34m\u001b[0m\u001b[0m\n\u001b[1;32m     73\u001b[0m                     \u001b[0mself\u001b[0m\u001b[0;34m.\u001b[0m\u001b[0mworkflow\u001b[0m\u001b[0;34m.\u001b[0m\u001b[0mupdateStatus\u001b[0m\u001b[0;34m(\u001b[0m\u001b[0mself\u001b[0m\u001b[0;34m.\u001b[0m\u001b[0mnext_step\u001b[0m\u001b[0;34m.\u001b[0m\u001b[0mpos_id\u001b[0m\u001b[0;34m)\u001b[0m\u001b[0;34m\u001b[0m\u001b[0m\n\u001b[0;32m---> 74\u001b[0;31m                 \u001b[0mself\u001b[0m\u001b[0;34m.\u001b[0m\u001b[0mnext_step\u001b[0m\u001b[0;34m.\u001b[0m\u001b[0mstart\u001b[0m\u001b[0;34m(\u001b[0m\u001b[0;34m)\u001b[0m\u001b[0;34m\u001b[0m\u001b[0m\n\u001b[0m\u001b[1;32m     75\u001b[0m             \u001b[0;32melse\u001b[0m\u001b[0;34m:\u001b[0m\u001b[0;34m\u001b[0m\u001b[0m\n\u001b[1;32m     76\u001b[0m                 raise TypeError(\n",
      "\u001b[0;32m~/Documents/PycharmProjects/SmartAnno/SmartAnno/utils/ReviewRBLoop.py\u001b[0m in \u001b[0;36mstart\u001b[0;34m(self)\u001b[0m\n\u001b[1;32m     25\u001b[0m \u001b[0;34m\u001b[0m\u001b[0m\n\u001b[1;32m     26\u001b[0m     \u001b[0;32mdef\u001b[0m \u001b[0mstart\u001b[0m\u001b[0;34m(\u001b[0m\u001b[0mself\u001b[0m\u001b[0;34m)\u001b[0m\u001b[0;34m:\u001b[0m\u001b[0;34m\u001b[0m\u001b[0m\n\u001b[0;32m---> 27\u001b[0;31m         \u001b[0mself\u001b[0m\u001b[0;34m.\u001b[0m\u001b[0minit_real_time\u001b[0m\u001b[0;34m(\u001b[0m\u001b[0;34m)\u001b[0m\u001b[0;34m\u001b[0m\u001b[0m\n\u001b[0m\u001b[1;32m     28\u001b[0m         \u001b[0mself\u001b[0m\u001b[0;34m.\u001b[0m\u001b[0mloop_workflow\u001b[0m\u001b[0;34m.\u001b[0m\u001b[0mstart\u001b[0m\u001b[0;34m(\u001b[0m\u001b[0;34m)\u001b[0m\u001b[0;34m\u001b[0m\u001b[0m\n\u001b[1;32m     29\u001b[0m         \u001b[0;32mpass\u001b[0m\u001b[0;34m\u001b[0m\u001b[0m\n",
      "\u001b[0;32m~/Documents/PycharmProjects/SmartAnno/SmartAnno/utils/ReviewRBLoop.py\u001b[0m in \u001b[0;36minit_real_time\u001b[0;34m(self)\u001b[0m\n\u001b[1;32m     57\u001b[0m             \u001b[0mcontent\u001b[0m \u001b[0;34m=\u001b[0m \u001b[0mself\u001b[0m\u001b[0;34m.\u001b[0m\u001b[0mgenContent\u001b[0m\u001b[0;34m(\u001b[0m\u001b[0mdoc\u001b[0m\u001b[0;34m)\u001b[0m\u001b[0;34m\u001b[0m\u001b[0m\n\u001b[1;32m     58\u001b[0m             \u001b[0mprint\u001b[0m\u001b[0;34m(\u001b[0m\u001b[0mdoc\u001b[0m\u001b[0;34m.\u001b[0m\u001b[0mDOC_NAME\u001b[0m\u001b[0;34m)\u001b[0m\u001b[0;34m\u001b[0m\u001b[0m\n\u001b[0;32m---> 59\u001b[0;31m             \u001b[0mprediction\u001b[0m \u001b[0;34m=\u001b[0m \u001b[0mReviewRBLoop\u001b[0m\u001b[0;34m.\u001b[0m\u001b[0mrb_classifier\u001b[0m\u001b[0;34m.\u001b[0m\u001b[0mclassify\u001b[0m\u001b[0;34m(\u001b[0m\u001b[0mdoc\u001b[0m\u001b[0;34m.\u001b[0m\u001b[0mTEXT\u001b[0m\u001b[0;34m,\u001b[0m \u001b[0mdoc\u001b[0m\u001b[0;34m.\u001b[0m\u001b[0mDOC_NAME\u001b[0m\u001b[0;34m)\u001b[0m\u001b[0;34m\u001b[0m\u001b[0m\n\u001b[0m\u001b[1;32m     60\u001b[0m             self.appendRepeatStep(\n\u001b[1;32m     61\u001b[0m                 RepeatHTMLToggleStep(description=content, options=self.workflow.types, value=prediction))\n",
      "\u001b[0;32m~/Documents/PycharmProjects/SmartAnno/SmartAnno/models/rulebased/RBDocumentClassifier.py\u001b[0m in \u001b[0;36mclassify\u001b[0;34m(self, doc, doc_name)\u001b[0m\n\u001b[1;32m    144\u001b[0m             print('DocumentClassifier\\'s \"modifiers\" and/or \"targets\" has not been set yet.\\n' +\n\u001b[1;32m    145\u001b[0m                   'Use function: setModifiersTargets(modifiers, targets) or setModifiersTargetsFromFiles(modifiers_file,' + 'targets_file) to set them up.')\n\u001b[0;32m--> 146\u001b[0;31m         \u001b[0mcontext_doc\u001b[0m \u001b[0;34m=\u001b[0m \u001b[0mself\u001b[0m\u001b[0;34m.\u001b[0m\u001b[0mmarkup_context_document\u001b[0m\u001b[0;34m(\u001b[0m\u001b[0mdoc\u001b[0m\u001b[0;34m,\u001b[0m \u001b[0mself\u001b[0m\u001b[0;34m.\u001b[0m\u001b[0mmodifiers\u001b[0m\u001b[0;34m,\u001b[0m \u001b[0mself\u001b[0m\u001b[0;34m.\u001b[0m\u001b[0mtargets\u001b[0m\u001b[0;34m)\u001b[0m\u001b[0;34m\u001b[0m\u001b[0m\n\u001b[0m\u001b[1;32m    147\u001b[0m         \u001b[0;32mif\u001b[0m \u001b[0mself\u001b[0m\u001b[0;34m.\u001b[0m\u001b[0msave_markups\u001b[0m \u001b[0;32mand\u001b[0m \u001b[0mdoc_name\u001b[0m \u001b[0;32mis\u001b[0m \u001b[0;32mnot\u001b[0m \u001b[0;32mNone\u001b[0m \u001b[0;32mand\u001b[0m \u001b[0mlen\u001b[0m\u001b[0;34m(\u001b[0m\u001b[0mcontext_doc\u001b[0m\u001b[0;34m.\u001b[0m\u001b[0mgetDocumentGraph\u001b[0m\u001b[0;34m(\u001b[0m\u001b[0;34m)\u001b[0m\u001b[0;34m.\u001b[0m\u001b[0mnodes\u001b[0m\u001b[0;34m(\u001b[0m\u001b[0;34m)\u001b[0m\u001b[0;34m)\u001b[0m \u001b[0;34m>\u001b[0m \u001b[0;36m0\u001b[0m\u001b[0;34m:\u001b[0m\u001b[0;34m\u001b[0m\u001b[0m\n\u001b[1;32m    148\u001b[0m             \u001b[0mself\u001b[0m\u001b[0;34m.\u001b[0m\u001b[0msaved_markups_map\u001b[0m\u001b[0;34m[\u001b[0m\u001b[0mdoc_name\u001b[0m\u001b[0;34m]\u001b[0m \u001b[0;34m=\u001b[0m \u001b[0mcontext_doc\u001b[0m\u001b[0;34m\u001b[0m\u001b[0m\n",
      "\u001b[0;32m~/Documents/PycharmProjects/SmartAnno/SmartAnno/models/rulebased/RBDocumentClassifier.py\u001b[0m in \u001b[0;36mmarkup_context_document\u001b[0;34m(self, report_text, modifiers, targets)\u001b[0m\n\u001b[1;32m    171\u001b[0m                          self.pyrush.segToSentenceSpans(report_text)]\n\u001b[1;32m    172\u001b[0m         \u001b[0;32mfor\u001b[0m \u001b[0msentence\u001b[0m \u001b[0;32min\u001b[0m \u001b[0msentences\u001b[0m\u001b[0;34m:\u001b[0m\u001b[0;34m\u001b[0m\u001b[0m\n\u001b[0;32m--> 173\u001b[0;31m             \u001b[0mm\u001b[0m \u001b[0;34m=\u001b[0m \u001b[0mmarkup_sentence\u001b[0m\u001b[0;34m(\u001b[0m\u001b[0msentence\u001b[0m\u001b[0;34m,\u001b[0m \u001b[0mmodifiers\u001b[0m\u001b[0;34m=\u001b[0m\u001b[0mmodifiers\u001b[0m\u001b[0;34m,\u001b[0m \u001b[0mtargets\u001b[0m\u001b[0;34m=\u001b[0m\u001b[0mtargets\u001b[0m\u001b[0;34m)\u001b[0m\u001b[0;34m\u001b[0m\u001b[0m\n\u001b[0m\u001b[1;32m    174\u001b[0m             \u001b[0mcontext\u001b[0m\u001b[0;34m.\u001b[0m\u001b[0maddMarkup\u001b[0m\u001b[0;34m(\u001b[0m\u001b[0mm\u001b[0m\u001b[0;34m)\u001b[0m\u001b[0;34m\u001b[0m\u001b[0m\n\u001b[1;32m    175\u001b[0m             \u001b[0mcontext\u001b[0m\u001b[0;34m.\u001b[0m\u001b[0mgetSectionMarkups\u001b[0m\u001b[0;34m(\u001b[0m\u001b[0;34m)\u001b[0m\u001b[0;34m\u001b[0m\u001b[0m\n",
      "\u001b[0;32m~/Documents/PycharmProjects/SmartAnno/SmartAnno/models/rulebased/nlp_pneumonia_utils.py\u001b[0m in \u001b[0;36mmarkup_sentence\u001b[0;34m(s, modifiers, targets, prune_inactive, verbose)\u001b[0m\n\u001b[1;32m    427\u001b[0m     \u001b[0mmarkup\u001b[0m\u001b[0;34m.\u001b[0m\u001b[0mmarkItems\u001b[0m\u001b[0;34m(\u001b[0m\u001b[0mtargets\u001b[0m\u001b[0;34m,\u001b[0m \u001b[0mmode\u001b[0m\u001b[0;34m=\u001b[0m\u001b[0;34m\"target\"\u001b[0m\u001b[0;34m)\u001b[0m\u001b[0;34m\u001b[0m\u001b[0m\n\u001b[1;32m    428\u001b[0m     \u001b[0mmarkup\u001b[0m\u001b[0;34m.\u001b[0m\u001b[0mmarkItems\u001b[0m\u001b[0;34m(\u001b[0m\u001b[0mmodifiers\u001b[0m\u001b[0;34m,\u001b[0m \u001b[0mmode\u001b[0m\u001b[0;34m=\u001b[0m\u001b[0;34m\"modifier\"\u001b[0m\u001b[0;34m)\u001b[0m\u001b[0;34m\u001b[0m\u001b[0m\n\u001b[0;32m--> 429\u001b[0;31m     \u001b[0mmarkup\u001b[0m\u001b[0;34m.\u001b[0m\u001b[0mpruneMarks\u001b[0m\u001b[0;34m(\u001b[0m\u001b[0;34m)\u001b[0m\u001b[0;34m\u001b[0m\u001b[0m\n\u001b[0m\u001b[1;32m    430\u001b[0m     \u001b[0mmarkup\u001b[0m\u001b[0;34m.\u001b[0m\u001b[0mdropMarks\u001b[0m\u001b[0;34m(\u001b[0m\u001b[0;34m'Exclusion'\u001b[0m\u001b[0;34m)\u001b[0m\u001b[0;34m\u001b[0m\u001b[0m\n\u001b[1;32m    431\u001b[0m     \u001b[0;31m# apply modifiers to any targets within the modifiers scope\u001b[0m\u001b[0;34m\u001b[0m\u001b[0;34m\u001b[0m\u001b[0m\n",
      "\u001b[0;32m~/software/anaconda3/envs/tensorflow/lib/python3.6/site-packages/pyConTextNLP/pyConTextGraph.py\u001b[0m in \u001b[0;36mpruneMarks\u001b[0;34m(self)\u001b[0m\n\u001b[1;32m    676\u001b[0m         \u001b[0manother\u001b[0m \u001b[0mobject\u001b[0m\u001b[0;34m.\u001b[0m \u001b[0mCurrently\u001b[0m \u001b[0mmodifiers\u001b[0m \u001b[0;32mand\u001b[0m \u001b[0mtargets\u001b[0m \u001b[0mare\u001b[0m \u001b[0mtreated\u001b[0m \u001b[0mseparately\u001b[0m\u001b[0;34m\u001b[0m\u001b[0m\n\u001b[1;32m    677\u001b[0m         \"\"\"\n\u001b[0;32m--> 678\u001b[0;31m         \u001b[0mself\u001b[0m\u001b[0;34m.\u001b[0m\u001b[0m__prune_marks\u001b[0m\u001b[0;34m(\u001b[0m\u001b[0mself\u001b[0m\u001b[0;34m.\u001b[0m\u001b[0mnodes\u001b[0m\u001b[0;34m(\u001b[0m\u001b[0mdata\u001b[0m\u001b[0;34m=\u001b[0m\u001b[0;32mTrue\u001b[0m\u001b[0;34m)\u001b[0m\u001b[0;34m)\u001b[0m\u001b[0;34m\u001b[0m\u001b[0m\n\u001b[0m\u001b[1;32m    679\u001b[0m     \u001b[0;32mdef\u001b[0m \u001b[0mdropInactiveModifiers\u001b[0m\u001b[0;34m(\u001b[0m\u001b[0mself\u001b[0m\u001b[0;34m)\u001b[0m\u001b[0;34m:\u001b[0m\u001b[0;34m\u001b[0m\u001b[0m\n\u001b[1;32m    680\u001b[0m         \u001b[0;31m# if self.getVerbose():\u001b[0m\u001b[0;34m\u001b[0m\u001b[0;34m\u001b[0m\u001b[0m\n",
      "\u001b[0;32m~/software/anaconda3/envs/tensorflow/lib/python3.6/site-packages/pyConTextNLP/pyConTextGraph.py\u001b[0m in \u001b[0;36m__prune_marks\u001b[0;34m(self, marks)\u001b[0m\n\u001b[1;32m    744\u001b[0m             \u001b[0;32mreturn\u001b[0m\u001b[0;34m\u001b[0m\u001b[0m\n\u001b[1;32m    745\u001b[0m         \u001b[0;31m# this can surely be done faster\u001b[0m\u001b[0;34m\u001b[0m\u001b[0;34m\u001b[0m\u001b[0m\n\u001b[0;32m--> 746\u001b[0;31m         \u001b[0mmarks\u001b[0m\u001b[0;34m.\u001b[0m\u001b[0msort\u001b[0m\u001b[0;34m(\u001b[0m\u001b[0;34m)\u001b[0m\u001b[0;34m\u001b[0m\u001b[0m\n\u001b[0m\u001b[1;32m    747\u001b[0m         \u001b[0mnodesToRemove\u001b[0m \u001b[0;34m=\u001b[0m \u001b[0;34m[\u001b[0m\u001b[0;34m]\u001b[0m\u001b[0;34m\u001b[0m\u001b[0m\n\u001b[1;32m    748\u001b[0m         \u001b[0;32mfor\u001b[0m \u001b[0mi\u001b[0m \u001b[0;32min\u001b[0m \u001b[0mrange\u001b[0m\u001b[0;34m(\u001b[0m\u001b[0mlen\u001b[0m\u001b[0;34m(\u001b[0m\u001b[0mmarks\u001b[0m\u001b[0;34m)\u001b[0m\u001b[0;34m-\u001b[0m\u001b[0;36m1\u001b[0m\u001b[0;34m)\u001b[0m\u001b[0;34m:\u001b[0m\u001b[0;34m\u001b[0m\u001b[0m\n",
      "\u001b[0;31mTypeError\u001b[0m: '<' not supported between instances of 'dict' and 'dict'"
     ]
    }
   ],
   "source": [
    "gui.start()"
   ]
  },
  {
   "cell_type": "code",
   "execution_count": null,
   "metadata": {},
   "outputs": [],
   "source": []
  },
  {
   "cell_type": "code",
   "execution_count": null,
   "metadata": {},
   "outputs": [],
   "source": []
  },
  {
   "cell_type": "code",
   "execution_count": null,
   "metadata": {},
   "outputs": [],
   "source": []
  },
  {
   "cell_type": "code",
   "execution_count": null,
   "metadata": {},
   "outputs": [],
   "source": []
  },
  {
   "cell_type": "code",
   "execution_count": null,
   "metadata": {},
   "outputs": [],
   "source": []
  },
  {
   "cell_type": "code",
   "execution_count": null,
   "metadata": {},
   "outputs": [],
   "source": []
  },
  {
   "cell_type": "code",
   "execution_count": null,
   "metadata": {},
   "outputs": [],
   "source": []
  },
  {
   "cell_type": "code",
   "execution_count": null,
   "metadata": {},
   "outputs": [],
   "source": []
  },
  {
   "cell_type": "code",
   "execution_count": null,
   "metadata": {},
   "outputs": [],
   "source": []
  }
 ],
 "metadata": {
  "kernelspec": {
   "display_name": "Python [default]",
   "language": "python",
   "name": "python3"
  },
  "language_info": {
   "codemirror_mode": {
    "name": "ipython",
    "version": 3
   },
   "file_extension": ".py",
   "mimetype": "text/x-python",
   "name": "python",
   "nbconvert_exporter": "python",
   "pygments_lexer": "ipython3",
   "version": "3.6.3"
  }
 },
 "nbformat": 4,
 "nbformat_minor": 2
}
