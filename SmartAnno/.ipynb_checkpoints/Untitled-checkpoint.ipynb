{
 "cells": [
  {
   "cell_type": "code",
   "execution_count": 3,
   "metadata": {},
   "outputs": [
    {
     "data": {
      "application/vnd.jupyter.widget-view+json": {
       "model_id": "e76c362b7c6f4b009d53eb93e6cf6b53",
       "version_major": 2,
       "version_minor": 0
      },
      "text/html": [
       "<p>Failed to display Jupyter Widget of type <code>HTML</code>.</p>\n",
       "<p>\n",
       "  If you're reading this message in the Jupyter Notebook or JupyterLab Notebook, it may mean\n",
       "  that the widgets JavaScript is still loading. If this message persists, it\n",
       "  likely means that the widgets JavaScript library is either not installed or\n",
       "  not enabled. See the <a href=\"https://ipywidgets.readthedocs.io/en/stable/user_install.html\">Jupyter\n",
       "  Widgets Documentation</a> for setup instructions.\n",
       "</p>\n",
       "<p>\n",
       "  If you're reading this message in another frontend (for example, a static\n",
       "  rendering on GitHub or <a href=\"https://nbviewer.jupyter.org/\">NBViewer</a>),\n",
       "  it may mean that your frontend doesn't currently support widgets.\n",
       "</p>\n"
      ],
      "text/plain": [
       "HTML(value='<style>.output_wrapper, .output {\\n                    height:auto !important;\\n                    max-height:1000px;  /* your desired max-height here */\\n                }\\n                .output_scroll {\\n                    box-shadow:none !important;\\n                    webkit-box-shadow:none !important;\\n                }\\n                </style>')"
      ]
     },
     "metadata": {},
     "output_type": "display_data"
    }
   ],
   "source": [
    "from gui.GUI import GUI\n",
    "gui=GUI()"
   ]
  },
  {
   "cell_type": "code",
   "execution_count": 4,
   "metadata": {
    "scrolled": false
   },
   "outputs": [
    {
     "data": {
      "application/vnd.jupyter.widget-view+json": {
       "model_id": "fd51b194af1e4b1b828c3606a2e6d337",
       "version_major": 2,
       "version_minor": 0
      },
      "text/html": [
       "<p>Failed to display Jupyter Widget of type <code>VBox</code>.</p>\n",
       "<p>\n",
       "  If you're reading this message in the Jupyter Notebook or JupyterLab Notebook, it may mean\n",
       "  that the widgets JavaScript is still loading. If this message persists, it\n",
       "  likely means that the widgets JavaScript library is either not installed or\n",
       "  not enabled. See the <a href=\"https://ipywidgets.readthedocs.io/en/stable/user_install.html\">Jupyter\n",
       "  Widgets Documentation</a> for setup instructions.\n",
       "</p>\n",
       "<p>\n",
       "  If you're reading this message in another frontend (for example, a static\n",
       "  rendering on GitHub or <a href=\"https://nbviewer.jupyter.org/\">NBViewer</a>),\n",
       "  it may mean that your frontend doesn't currently support widgets.\n",
       "</p>\n"
      ],
      "text/plain": [
       "VBox(children=(HTML(value=\"<h4>Closely related words to the keyword: '<b>hypertension</b>'</h4><p>Choose the ones that you want to include in keyword filters:</p>\"), Label(value='', layout=Layout(height='5px')), IntProgress(value=1, layout=Layout(height='10px', left='1%', width='98%'), max=1, style=ProgressStyle(bar_color='GAINSBORO')), Label(value='', layout=Layout(height='1px')), ToggleButtonsMultiSelectionInBox(children=(VBox(children=(HBox(children=(ToggleButton(value=False, description='asthma', layout=Layout(margin='2', width='100%'), tooltip='asthma'), ToggleButton(value=False, description='hypertensive', layout=Layout(margin='2', width='100%'), tooltip='hypertensive'), ToggleButton(value=False, description='pulmonary', layout=Layout(margin='2', width='100%'), tooltip='pulmonary'), ToggleButton(value=False, description='congestive', layout=Layout(margin='2', width='100%'), tooltip='congestive'), ToggleButton(value=False, description='chronic', layout=Layout(margin='2', width='100%'), tooltip='chronic'))), HBox(children=(ToggleButton(value=False, description='diabetes', layout=Layout(margin='2', width='100%'), tooltip='diabetes'), ToggleButton(value=False, description='dysfunction', layout=Layout(margin='2', width='100%'), tooltip='dysfunction'), ToggleButton(value=False, description='atherosclerosis', layout=Layout(margin='2', width='100%'), tooltip='atherosclerosis'), ToggleButton(value=False, description='mellitus', layout=Layout(margin='2', width='100%'), tooltip='mellitus'), ToggleButton(value=False, description='cardiovascular', layout=Layout(margin='2', width='100%'), tooltip='cardiovascular')))), layout=Layout(display='flex')),), _dom_classes=('btn-group',)), Label(value='', layout=Layout(height='10px')), IntProgress(value=1, layout=Layout(height='10px', left='1%', width='98%'), max=1, style=ProgressStyle(bar_color='GAINSBORO')), Label(value='', layout=Layout(height='1px')), HBox(children=(Button(description='Previous', layout=Layout(left='100px', width='90px'), style=ButtonStyle()), Button(description='Next', layout=Layout(left='100px', width='90px'), style=ButtonStyle()), Button(description='Complete', layout=Layout(left='100px', width='90px'), style=ButtonStyle())), layout=Layout(left='10%', width='80%'))), layout=Layout(width='100%'))"
      ]
     },
     "metadata": {},
     "output_type": "display_data"
    }
   ],
   "source": [
    "gui.start()"
   ]
  },
  {
   "cell_type": "code",
   "execution_count": 2,
   "metadata": {},
   "outputs": [
    {
     "ename": "NameError",
     "evalue": "name 'gui' is not defined",
     "output_type": "error",
     "traceback": [
      "\u001b[0;31m---------------------------------------------------------------------------\u001b[0m",
      "\u001b[0;31mNameError\u001b[0m                                 Traceback (most recent call last)",
      "\u001b[0;32m<ipython-input-2-3a9731d025a1>\u001b[0m in \u001b[0;36m<module>\u001b[0;34m()\u001b[0m\n\u001b[0;32m----> 1\u001b[0;31m \u001b[0mgui\u001b[0m\u001b[0;34m.\u001b[0m\u001b[0mworkflow\u001b[0m\u001b[0;34m.\u001b[0m\u001b[0msteps\u001b[0m\u001b[0;34m\u001b[0m\u001b[0m\n\u001b[0m",
      "\u001b[0;31mNameError\u001b[0m: name 'gui' is not defined"
     ]
    }
   ],
   "source": [
    "gui.workflow.steps"
   ]
  },
  {
   "cell_type": "code",
   "execution_count": 4,
   "metadata": {},
   "outputs": [
    {
     "data": {
      "text/plain": [
       "{'Typea': ['hypertension'], 'Typeb': ['pneumonia'], 'neutral': []}"
      ]
     },
     "execution_count": 4,
     "metadata": {},
     "output_type": "execute_result"
    }
   ],
   "source": [
    "gui.workflow.to_we_ext_words"
   ]
  },
  {
   "cell_type": "code",
   "execution_count": null,
   "metadata": {},
   "outputs": [],
   "source": []
  },
  {
   "cell_type": "code",
   "execution_count": null,
   "metadata": {},
   "outputs": [],
   "source": []
  },
  {
   "cell_type": "code",
   "execution_count": null,
   "metadata": {},
   "outputs": [],
   "source": []
  },
  {
   "cell_type": "code",
   "execution_count": null,
   "metadata": {},
   "outputs": [],
   "source": []
  },
  {
   "cell_type": "code",
   "execution_count": null,
   "metadata": {},
   "outputs": [],
   "source": []
  },
  {
   "cell_type": "code",
   "execution_count": 3,
   "metadata": {
    "scrolled": true
   },
   "outputs": [
    {
     "data": {
      "text/plain": [
       "[0, 1, 2, 3, 4, 5, 6, 7, 8, 9, 10, 11]"
      ]
     },
     "execution_count": 3,
     "metadata": {},
     "output_type": "execute_result"
    }
   ],
   "source": [
    "[step.pos_id for step in gui.workflow.steps]"
   ]
  },
  {
   "cell_type": "code",
   "execution_count": 4,
   "metadata": {},
   "outputs": [
    {
     "data": {
      "text/plain": [
       "[<IntroStep\tname:IntroStep_0>,\n",
       " <DBInitiater\tname:db_initiater_1>,\n",
       " <TaskChooser\tname:tasknamer_2>,\n",
       " <DirChooser\tname:choosedir_3>,\n",
       " <ReadFiles\tname:readfiles_4>,\n",
       " <DocsToDB\tname:save2db_5>,\n",
       " <AnnotationTypeDef\tname:types_6>,\n",
       " <KeywordsFiltering\tname:keywords_7>,\n",
       " <PreviousNextIntSlider\tname:percent2filter_8>,\n",
       " <KeywordsUMLSExtenderSetup\tname:umls_extender_setup_9>,\n",
       " <KeywordsUMLSExtender\tname:umls_extender_10>,\n",
       " <KeywordsEmbeddingExtenderSetup\tname:w_e_extender_setup_11>]"
      ]
     },
     "execution_count": 4,
     "metadata": {},
     "output_type": "execute_result"
    }
   ],
   "source": [
    "gui.workflow.steps"
   ]
  },
  {
   "cell_type": "code",
   "execution_count": 4,
   "metadata": {},
   "outputs": [
    {
     "data": {
      "text/plain": [
       "[('bronchitis', 0.6996819972991943),\n",
       " ('infections', 0.6886086463928223),\n",
       " ('meningitis', 0.6862033009529114),\n",
       " ('infection', 0.6710970997810364),\n",
       " ('tuberculosis', 0.6571135520935059),\n",
       " ('sepsis', 0.6395811438560486),\n",
       " ('respiratory', 0.6266246438026428),\n",
       " ('influenza', 0.6025733351707458),\n",
       " ('typhoid', 0.601382851600647),\n",
       " ('complications', 0.5997024178504944),\n",
       " ('emphysema', 0.5921996235847473),\n",
       " ('copd', 0.5914742946624756),\n",
       " ('acute', 0.5872105956077576),\n",
       " ('strep', 0.5870897769927979),\n",
       " ('asthma', 0.5866089463233948),\n",
       " ('gastroenteritis', 0.5860125422477722),\n",
       " ('diarrhoea', 0.5839309096336365),\n",
       " ('lung', 0.5824435949325562),\n",
       " ('community-acquired', 0.5814937353134155),\n",
       " ('diarrhea', 0.581375777721405),\n",
       " ('illness', 0.5792262554168701),\n",
       " ('flu', 0.5771493911743164),\n",
       " ('hospitalized', 0.5752198100090027),\n",
       " ('measles', 0.574524998664856),\n",
       " ('disease', 0.5742554664611816),\n",
       " ('chronic', 0.5709874033927917),\n",
       " ('pulmonary', 0.5699164867401123),\n",
       " ('nosocomial', 0.5685732364654541),\n",
       " ('illnesses', 0.5683702826499939),\n",
       " ('fever', 0.5681259632110596),\n",
       " ('congestive', 0.5652440190315247),\n",
       " ('bronchiolitis', 0.5640174746513367),\n",
       " ('hepatitis', 0.5616568326950073),\n",
       " ('diagnosed', 0.5603874921798706),\n",
       " ('mrsa', 0.5601314306259155),\n",
       " ('sinusitis', 0.5571656823158264),\n",
       " ('malaria', 0.5553592443466187),\n",
       " ('tonsillitis', 0.554461658000946),\n",
       " ('septicemia', 0.5503903031349182),\n",
       " ('pneumocystis', 0.5499773025512695)]"
      ]
     },
     "execution_count": 4,
     "metadata": {},
     "output_type": "execute_result"
    }
   ],
   "source": [
    "from utils.GloveModel import GloveModel\n",
    "gm=GloveModel.glove_model\n",
    "gm.similar_by_word('pneumonia',40)"
   ]
  },
  {
   "cell_type": "code",
   "execution_count": 15,
   "metadata": {},
   "outputs": [
    {
     "data": {
      "text/plain": [
       "10"
      ]
     },
     "execution_count": 15,
     "metadata": {},
     "output_type": "execute_result"
    }
   ],
   "source": [
    "gui.workflow.status"
   ]
  },
  {
   "cell_type": "code",
   "execution_count": 6,
   "metadata": {},
   "outputs": [
    {
     "data": {
      "application/vnd.jupyter.widget-view+json": {
       "model_id": "348a1a2d48c8415d9efc3de648b27c2c",
       "version_major": 2,
       "version_minor": 0
      },
      "text/html": [
       "<p>Failed to display Jupyter Widget of type <code>HTML</code>.</p>\n",
       "<p>\n",
       "  If you're reading this message in the Jupyter Notebook or JupyterLab Notebook, it may mean\n",
       "  that the widgets JavaScript is still loading. If this message persists, it\n",
       "  likely means that the widgets JavaScript library is either not installed or\n",
       "  not enabled. See the <a href=\"https://ipywidgets.readthedocs.io/en/stable/user_install.html\">Jupyter\n",
       "  Widgets Documentation</a> for setup instructions.\n",
       "</p>\n",
       "<p>\n",
       "  If you're reading this message in another frontend (for example, a static\n",
       "  rendering on GitHub or <a href=\"https://nbviewer.jupyter.org/\">NBViewer</a>),\n",
       "  it may mean that your frontend doesn't currently support widgets.\n",
       "</p>\n"
      ],
      "text/plain": [
       "HTML(value='<h5>Set up your API key</h5><p>In order to use UMLS service, you will need to use a API key. Please type your API key below: (Here is <a href=\"https://documentation.uts.nlm.nih.gov/rest/authentication.html\">how toget a UMLS API key</a>)</p>')"
      ]
     },
     "metadata": {},
     "output_type": "display_data"
    }
   ],
   "source": [
    "from ipywidgets import widgets\n",
    "widgets.HTML(value='<h5>Set up your API key</h5><p>In order to use UMLS service, you will need '\n",
    "                                           'to use a API key. Please type your API key below: (Here is <a href=\"https://documentation.uts.nlm.nih.gov/rest/authentication.html\">how to'\n",
    "                                           'get a UMLS API key</a>)</p>')"
   ]
  },
  {
   "cell_type": "code",
   "execution_count": 14,
   "metadata": {},
   "outputs": [
    {
     "data": {
      "text/plain": [
       "['ta', 'tb']"
      ]
     },
     "execution_count": 14,
     "metadata": {},
     "output_type": "execute_result"
    }
   ],
   "source": [
    "[item.strip() for item in gui.workflow.steps[6].text_area.value.split(\"\\n\") if len(item.strip()) > 0]"
   ]
  },
  {
   "cell_type": "code",
   "execution_count": null,
   "metadata": {},
   "outputs": [],
   "source": [
    "from utils.KeywordsUMLSExtender import KeywordsUMLSExtender\n",
    "from gui.Workflow import Workflow\n",
    "from conf.ConfigReader import ConfigReader\n",
    "from gui.BranchingWidgets import IntroStep\n",
    "\n",
    "cr = ConfigReader()\n",
    "kue = KeywordsUMLSExtender(name='umls_extender', sources=cr.getValue(\"umls/sources\"),\n",
    "                          filter_by_length=cr.getValue(\"umls/filter_by_length\"),\n",
    "                          filter_by_contains=cr.getValue(\"umls/filter_by_contains\"),\n",
    "                          max_query=cr.getValue(\"umls/max_query\"))\n",
    "kue.setWorkflow(Workflow())\n",
    "kue.workflow.to_ext_words = {'a': ['tumor', 'negated']}\n",
    "kue.workflow.filters = {'a': ['tumor', 'negated']}\n",
    "kue.workflow.api_key = ConfigReader().getValue('api_key')\n",
    "kue.setNextStep(IntroStep('<p><b>Welcome to SmartAnno!<br/>First let&apos;s import txt data from a directory. </p>'\n",
    "                       '<br/>', name='intro'))\n",
    "kue.start()\n"
   ]
  },
  {
   "cell_type": "code",
   "execution_count": 2,
   "metadata": {},
   "outputs": [
    {
     "data": {
      "application/vnd.jupyter.widget-view+json": {
       "model_id": "bb6b1c15f47a4d03a017fc8e3bb5b53e",
       "version_major": 2,
       "version_minor": 0
      },
      "text/html": [
       "<p>Failed to display Jupyter Widget of type <code>VBox</code>.</p>\n",
       "<p>\n",
       "  If you're reading this message in the Jupyter Notebook or JupyterLab Notebook, it may mean\n",
       "  that the widgets JavaScript is still loading. If this message persists, it\n",
       "  likely means that the widgets JavaScript library is either not installed or\n",
       "  not enabled. See the <a href=\"https://ipywidgets.readthedocs.io/en/stable/user_install.html\">Jupyter\n",
       "  Widgets Documentation</a> for setup instructions.\n",
       "</p>\n",
       "<p>\n",
       "  If you're reading this message in another frontend (for example, a static\n",
       "  rendering on GitHub or <a href=\"https://nbviewer.jupyter.org/\">NBViewer</a>),\n",
       "  it may mean that your frontend doesn't currently support widgets.\n",
       "</p>\n"
      ],
      "text/plain": [
       "VBox(children=(HTML(value=\"<h4>Closely related words to the keyword: '<b>negated</b>'</h4><p>Choose the ones that you want to include in keyword filters:</p>\"), Label(value='', layout=Layout(height='5px')), IntProgress(value=1, layout=Layout(height='10px', left='1%', width='98%'), max=1, style=ProgressStyle(bar_color='GAINSBORO')), Label(value='', layout=Layout(height='1px')), ToggleButtonsMultiSelectionInBox(children=(VBox(children=(HBox(children=(ToggleButton(value=False, description='outweigh', layout=Layout(margin='2', width='100%'), tooltip='outweigh'), ToggleButton(value=False, description='implicitly', layout=Layout(margin='2', width='100%'), tooltip='implicitly'), ToggleButton(value=False, description='diminished', layout=Layout(margin='2', width='100%'), tooltip='diminished'), ToggleButton(value=False, description='contradicted', layout=Layout(margin='2', width='100%'), tooltip='contradicted'), ToggleButton(value=False, description='hindered', layout=Layout(margin='2', width='100%'), tooltip='hindered'))), HBox(children=(ToggleButton(value=False, description='negate', layout=Layout(margin='2', width='100%'), tooltip='negate'), ToggleButton(value=False, description='misconstrued', layout=Layout(margin='2', width='100%'), tooltip='misconstrued'), ToggleButton(value=False, description='subverted', layout=Layout(margin='2', width='100%'), tooltip='subverted'), ToggleButton(value=False, description='minimized', layout=Layout(margin='2', width='100%'), tooltip='minimized'), ToggleButton(value=False, description='countered', layout=Layout(margin='2', width='100%'), tooltip='countered'))), HBox(children=(ToggleButton(value=False, description='invalidated', layout=Layout(margin='2', width='100%'), tooltip='invalidated'), ToggleButton(value=False, description='curtailed', layout=Layout(margin='2', width='100%'), tooltip='curtailed'), ToggleButton(value=False, description='deterred', layout=Layout(margin='2', width='100%'), tooltip='deterred'), ToggleButton(value=False, description='misinterpreted', layout=Layout(margin='2', width='100%'), tooltip='misinterpreted'), ToggleButton(value=False, description='outweighed', layout=Layout(margin='2', width='100%'), tooltip='outweighed'))), HBox(children=(ToggleButton(value=False, description='mitigated', layout=Layout(margin='2', width='100%'), tooltip='mitigated'), ToggleButton(value=False, description='outweighs', layout=Layout(margin='2', width='100%'), tooltip='outweighs'), ToggleButton(value=False, description='disregarded', layout=Layout(margin='2', width='100%'), tooltip='disregarded'), ToggleButton(value=False, description='nullifying', layout=Layout(margin='2', width='100%'), tooltip='nullifying'), ToggleButton(value=False, description='nullify', layout=Layout(margin='2', width='100%'), tooltip='nullify'))), HBox(children=(ToggleButton(value=False, description='nullified', layout=Layout(margin='2', width='100%'), tooltip='nullified'), ToggleButton(value=False, description='underestimated', layout=Layout(margin='2', width='100%'), tooltip='underestimated'), ToggleButton(value=False, description='neutralised', layout=Layout(margin='2', width='100%'), tooltip='neutralised'), ToggleButton(value=False, description='disallowed', layout=Layout(margin='2', width='100%'), tooltip='disallowed'), ToggleButton(value=False, description='abrogated', layout=Layout(margin='2', width='100%'), tooltip='abrogated'))), HBox(children=(ToggleButton(value=False, description='nullifies', layout=Layout(margin='2', width='100%'), tooltip='nullifies'), ToggleButton(value=False, description='minimised', layout=Layout(margin='2', width='100%'), tooltip='minimised'), ToggleButton(value=False, description='counteracted', layout=Layout(margin='2', width='100%'), tooltip='counteracted'), ToggleButton(value=False, description='undermined', layout=Layout(margin='2', width='100%'), tooltip='undermined'), ToggleButton(value=False, description='neutralized', layout=Layout(margin='2', width='100%'), tooltip='neutralized'))), HBox(children=(ToggleButton(value=False, description='negates', layout=Layout(margin='2', width='100%'), tooltip='negates'), ToggleButton(value=False, description='disregarding', layout=Layout(margin='2', width='100%'), tooltip='disregarding'), ToggleButton(value=False, description='predicated', layout=Layout(margin='2', width='100%'), tooltip='predicated'), ToggleButton(value=False, description='dispelled', layout=Layout(margin='2', width='100%'), tooltip='dispelled'), ToggleButton(value=False, description='penalty', layout=Layout(margin='2', width='100%'), tooltip='penalty'))), HBox(children=(ToggleButton(value=False, description='fumble', layout=Layout(margin='2', width='100%'), tooltip='fumble'), ToggleButton(value=False, description='subsumed', layout=Layout(margin='2', width='100%'), tooltip='subsumed'), ToggleButton(value=False, description='reversed', layout=Layout(margin='2', width='100%'), tooltip='reversed'), ToggleButton(value=False, description='lessened', layout=Layout(margin='2', width='100%'), tooltip='lessened'), ToggleButton(value=False, description='obviated', layout=Layout(margin='2', width='100%'), tooltip='obviated'))), HBox(children=(ToggleButton(value=False, description='downplayed', layout=Layout(margin='2', width='100%'), tooltip='downplayed'), ToggleButton(value=False, description='stymied', layout=Layout(margin='2', width='100%'), tooltip='stymied'), ToggleButton(value=False, description='subtracted', layout=Layout(margin='2', width='100%'), tooltip='subtracted'), ToggleButton(value=False, description='overruled', layout=Layout(margin='2', width='100%'), tooltip='overruled'), ToggleButton(value=False, description='negating', layout=Layout(margin='2', width='100%'), tooltip='negating'))), HBox(children=(ToggleButton(value=False, description='ignored', layout=Layout(margin='2', width='100%'), tooltip='ignored'), ToggleButton(value=False, description='impeded', layout=Layout(margin='2', width='100%'), tooltip='impeded'), ToggleButton(value=False, description='outweighing', layout=Layout(margin='2', width='100%'), tooltip='outweighing'), ToggleButton(value=False, description='negligible', layout=Layout(margin='2', width='100%'), tooltip='negligible'), ToggleButton(value=False, description='trumped', layout=Layout(margin='2', width='100%'), tooltip='trumped')))), layout=Layout(display='flex')),), _dom_classes=('btn-group',)), Label(value='', layout=Layout(height='10px')), IntProgress(value=1, layout=Layout(height='10px', left='1%', width='98%'), max=1, style=ProgressStyle(bar_color='GAINSBORO')), Label(value='', layout=Layout(height='1px')), HBox(children=(Button(description='Previous', layout=Layout(left='100px', width='90px'), style=ButtonStyle()), Button(description='Next', layout=Layout(left='100px', width='90px'), style=ButtonStyle()), Button(description='Complete', layout=Layout(left='100px', width='90px'), style=ButtonStyle())), layout=Layout(left='10%', width='80%'))), layout=Layout(width='100%'))"
      ]
     },
     "metadata": {},
     "output_type": "display_data"
    }
   ],
   "source": [
    "from utils.KeywordsEmbeddingExtender import KeywordsEmbeddingExtender\n",
    "from gui.Workflow import Workflow\n",
    "from conf.ConfigReader import ConfigReader\n",
    "from gui.BranchingWidgets import IntroStep\n",
    "\n",
    "cr = ConfigReader()\n",
    "kwe = KeywordsEmbeddingExtender(name='we_extender', \n",
    "                          max_query=cr.getValue(\"umls/max_query\"))\n",
    "kwe.setWorkflow(Workflow())\n",
    "kwe.workflow.to_we_ext_words = {'a': ['filaria', 'negated']}\n",
    "kwe.workflow.filters = {'a': ['filaria', 'negated']}\n",
    "kwe.setNextStep(IntroStep('<p><b>Welcome to SmartAnno!<br/>First let&apos;s import txt data from a directory. </p>'\n",
    "                       '<br/>', name='intro'))\n",
    "kwe.start()"
   ]
  },
  {
   "cell_type": "code",
   "execution_count": null,
   "metadata": {},
   "outputs": [],
   "source": [
    "ke.steps"
   ]
  },
  {
   "cell_type": "code",
   "execution_count": 1,
   "metadata": {},
   "outputs": [
    {
     "name": "stdout",
     "output_type": "stream",
     "text": [
      "CPU times: user 16.5 s, sys: 1.83 s, total: 18.3 s\n",
      "Wall time: 20.9 s\n"
     ]
    }
   ],
   "source": [
    "%%time\n",
    "from utils.GloveModel import GloveModel\n",
    "GloveModel()"
   ]
  },
  {
   "cell_type": "code",
   "execution_count": 6,
   "metadata": {},
   "outputs": [
    {
     "name": "stdout",
     "output_type": "stream",
     "text": [
      "slated\n",
      "schedule\n",
      "planned\n",
      "postponed\n",
      "rescheduled\n",
      "canceled\n",
      "tuesday\n",
      "monday\n",
      "cancelled\n",
      "attend\n",
      "upcoming\n",
      "meetings\n",
      "week\n",
      "thursday\n",
      "saturday\n",
      "friday\n",
      "meeting\n",
      "expected\n",
      "will\n",
      "wednesday\n",
      "delayed\n",
      "announced\n",
      "next\n",
      "begin\n",
      "held\n",
      "appointment\n",
      "tomorrow\n",
      "during\n",
      "month\n",
      "underway\n",
      "prior\n",
      "weeks\n",
      "p.m.\n",
      "weekend\n",
      "sunday\n",
      "before\n",
      "a.m.\n",
      "june\n",
      "completed\n",
      "noon\n"
     ]
    }
   ],
   "source": [
    "list=gm.similar_by_word('scheduled',40)\n",
    "for i in list:\n",
    "    print(i[0])"
   ]
  },
  {
   "cell_type": "code",
   "execution_count": null,
   "metadata": {},
   "outputs": [],
   "source": []
  },
  {
   "cell_type": "code",
   "execution_count": null,
   "metadata": {},
   "outputs": [],
   "source": []
  },
  {
   "cell_type": "code",
   "execution_count": null,
   "metadata": {},
   "outputs": [],
   "source": []
  },
  {
   "cell_type": "code",
   "execution_count": null,
   "metadata": {},
   "outputs": [],
   "source": []
  },
  {
   "cell_type": "code",
   "execution_count": null,
   "metadata": {},
   "outputs": [],
   "source": []
  },
  {
   "cell_type": "code",
   "execution_count": null,
   "metadata": {},
   "outputs": [],
   "source": []
  },
  {
   "cell_type": "code",
   "execution_count": null,
   "metadata": {},
   "outputs": [],
   "source": []
  },
  {
   "cell_type": "code",
   "execution_count": null,
   "metadata": {},
   "outputs": [],
   "source": []
  },
  {
   "cell_type": "code",
   "execution_count": null,
   "metadata": {},
   "outputs": [],
   "source": []
  },
  {
   "cell_type": "code",
   "execution_count": null,
   "metadata": {},
   "outputs": [],
   "source": []
  },
  {
   "cell_type": "code",
   "execution_count": null,
   "metadata": {},
   "outputs": [],
   "source": []
  },
  {
   "cell_type": "code",
   "execution_count": null,
   "metadata": {},
   "outputs": [],
   "source": []
  },
  {
   "cell_type": "code",
   "execution_count": null,
   "metadata": {},
   "outputs": [],
   "source": []
  },
  {
   "cell_type": "code",
   "execution_count": null,
   "metadata": {},
   "outputs": [],
   "source": []
  },
  {
   "cell_type": "code",
   "execution_count": null,
   "metadata": {},
   "outputs": [],
   "source": []
  },
  {
   "cell_type": "code",
   "execution_count": null,
   "metadata": {},
   "outputs": [],
   "source": []
  },
  {
   "cell_type": "code",
   "execution_count": null,
   "metadata": {},
   "outputs": [],
   "source": []
  },
  {
   "cell_type": "code",
   "execution_count": null,
   "metadata": {},
   "outputs": [],
   "source": []
  },
  {
   "cell_type": "code",
   "execution_count": null,
   "metadata": {},
   "outputs": [],
   "source": []
  },
  {
   "cell_type": "code",
   "execution_count": null,
   "metadata": {},
   "outputs": [],
   "source": []
  },
  {
   "cell_type": "code",
   "execution_count": null,
   "metadata": {},
   "outputs": [],
   "source": []
  },
  {
   "cell_type": "code",
   "execution_count": null,
   "metadata": {},
   "outputs": [],
   "source": []
  },
  {
   "cell_type": "code",
   "execution_count": null,
   "metadata": {},
   "outputs": [],
   "source": []
  },
  {
   "cell_type": "code",
   "execution_count": null,
   "metadata": {},
   "outputs": [],
   "source": []
  },
  {
   "cell_type": "code",
   "execution_count": null,
   "metadata": {},
   "outputs": [],
   "source": []
  },
  {
   "cell_type": "code",
   "execution_count": null,
   "metadata": {},
   "outputs": [],
   "source": []
  },
  {
   "cell_type": "code",
   "execution_count": null,
   "metadata": {},
   "outputs": [],
   "source": []
  },
  {
   "cell_type": "code",
   "execution_count": null,
   "metadata": {},
   "outputs": [],
   "source": []
  },
  {
   "cell_type": "code",
   "execution_count": null,
   "metadata": {},
   "outputs": [],
   "source": []
  },
  {
   "cell_type": "code",
   "execution_count": null,
   "metadata": {},
   "outputs": [],
   "source": []
  },
  {
   "cell_type": "code",
   "execution_count": null,
   "metadata": {},
   "outputs": [],
   "source": []
  },
  {
   "cell_type": "code",
   "execution_count": null,
   "metadata": {},
   "outputs": [],
   "source": []
  },
  {
   "cell_type": "code",
   "execution_count": null,
   "metadata": {},
   "outputs": [],
   "source": []
  },
  {
   "cell_type": "code",
   "execution_count": null,
   "metadata": {},
   "outputs": [],
   "source": []
  },
  {
   "cell_type": "code",
   "execution_count": null,
   "metadata": {},
   "outputs": [],
   "source": []
  },
  {
   "cell_type": "code",
   "execution_count": null,
   "metadata": {},
   "outputs": [],
   "source": []
  },
  {
   "cell_type": "code",
   "execution_count": null,
   "metadata": {},
   "outputs": [],
   "source": []
  },
  {
   "cell_type": "code",
   "execution_count": null,
   "metadata": {},
   "outputs": [],
   "source": []
  },
  {
   "cell_type": "code",
   "execution_count": null,
   "metadata": {},
   "outputs": [],
   "source": []
  },
  {
   "cell_type": "code",
   "execution_count": null,
   "metadata": {},
   "outputs": [],
   "source": []
  },
  {
   "cell_type": "code",
   "execution_count": null,
   "metadata": {},
   "outputs": [],
   "source": []
  },
  {
   "cell_type": "code",
   "execution_count": null,
   "metadata": {},
   "outputs": [],
   "source": []
  },
  {
   "cell_type": "code",
   "execution_count": null,
   "metadata": {},
   "outputs": [],
   "source": []
  },
  {
   "cell_type": "code",
   "execution_count": null,
   "metadata": {},
   "outputs": [],
   "source": []
  },
  {
   "cell_type": "code",
   "execution_count": null,
   "metadata": {},
   "outputs": [],
   "source": []
  },
  {
   "cell_type": "code",
   "execution_count": null,
   "metadata": {},
   "outputs": [],
   "source": []
  },
  {
   "cell_type": "code",
   "execution_count": null,
   "metadata": {},
   "outputs": [],
   "source": []
  },
  {
   "cell_type": "code",
   "execution_count": null,
   "metadata": {},
   "outputs": [],
   "source": []
  },
  {
   "cell_type": "code",
   "execution_count": null,
   "metadata": {},
   "outputs": [],
   "source": []
  },
  {
   "cell_type": "code",
   "execution_count": null,
   "metadata": {},
   "outputs": [],
   "source": []
  },
  {
   "cell_type": "code",
   "execution_count": null,
   "metadata": {},
   "outputs": [],
   "source": []
  },
  {
   "cell_type": "code",
   "execution_count": null,
   "metadata": {},
   "outputs": [],
   "source": []
  },
  {
   "cell_type": "code",
   "execution_count": null,
   "metadata": {},
   "outputs": [],
   "source": []
  },
  {
   "cell_type": "code",
   "execution_count": null,
   "metadata": {},
   "outputs": [],
   "source": []
  },
  {
   "cell_type": "code",
   "execution_count": null,
   "metadata": {},
   "outputs": [],
   "source": []
  },
  {
   "cell_type": "code",
   "execution_count": null,
   "metadata": {},
   "outputs": [],
   "source": []
  },
  {
   "cell_type": "code",
   "execution_count": null,
   "metadata": {},
   "outputs": [],
   "source": []
  },
  {
   "cell_type": "code",
   "execution_count": null,
   "metadata": {},
   "outputs": [],
   "source": []
  },
  {
   "cell_type": "code",
   "execution_count": null,
   "metadata": {},
   "outputs": [],
   "source": []
  },
  {
   "cell_type": "code",
   "execution_count": null,
   "metadata": {},
   "outputs": [],
   "source": []
  },
  {
   "cell_type": "code",
   "execution_count": null,
   "metadata": {},
   "outputs": [],
   "source": []
  },
  {
   "cell_type": "code",
   "execution_count": null,
   "metadata": {},
   "outputs": [],
   "source": []
  },
  {
   "cell_type": "code",
   "execution_count": null,
   "metadata": {},
   "outputs": [],
   "source": []
  },
  {
   "cell_type": "code",
   "execution_count": null,
   "metadata": {},
   "outputs": [],
   "source": []
  },
  {
   "cell_type": "code",
   "execution_count": null,
   "metadata": {},
   "outputs": [],
   "source": []
  },
  {
   "cell_type": "code",
   "execution_count": null,
   "metadata": {},
   "outputs": [],
   "source": []
  },
  {
   "cell_type": "code",
   "execution_count": null,
   "metadata": {},
   "outputs": [],
   "source": []
  },
  {
   "cell_type": "code",
   "execution_count": null,
   "metadata": {},
   "outputs": [],
   "source": [
    "gui.workflow.task_name='kdodda'"
   ]
  },
  {
   "cell_type": "code",
   "execution_count": null,
   "metadata": {},
   "outputs": [],
   "source": [
    "with gui.workflow.dao.create_session() as session:\n",
    "    gui.workflow.task_id = session.query(Task).filter(Task.task_name == gui.workflow.task_name).first()\n",
    "    if gui.workflow.task_id is None:\n",
    "        i=session.add(Task(task_name=gui.workflow.task_name))\n",
    "        print(i)\n",
    "        gui.workflow.task_id = session.query(Task).filter(Task.task_name == gui.workflow.task_name).first()\n",
    "        print(gui.workflow.task_id )\n",
    "    else:\n",
    "        print(gui.workflow.task_id)\n",
    "        \n",
    "        "
   ]
  },
  {
   "cell_type": "code",
   "execution_count": null,
   "metadata": {},
   "outputs": [],
   "source": []
  },
  {
   "cell_type": "code",
   "execution_count": null,
   "metadata": {},
   "outputs": [],
   "source": [
    "gui.workflow.steps[2].data"
   ]
  },
  {
   "cell_type": "code",
   "execution_count": null,
   "metadata": {},
   "outputs": [],
   "source": []
  },
  {
   "cell_type": "code",
   "execution_count": null,
   "metadata": {},
   "outputs": [],
   "source": []
  },
  {
   "cell_type": "code",
   "execution_count": null,
   "metadata": {},
   "outputs": [],
   "source": []
  },
  {
   "cell_type": "code",
   "execution_count": null,
   "metadata": {},
   "outputs": [],
   "source": [
    "\n",
    "[step.name for step in gui.workflow.steps]"
   ]
  },
  {
   "cell_type": "code",
   "execution_count": null,
   "metadata": {},
   "outputs": [],
   "source": [
    "import os\n",
    "from sqlalchemy_dao import Dao\n",
    "from db.ORMs import Document,Annotation\n",
    "from sqlalchemy_dao import Model\n",
    "from conf.ConfigReader import ConfigReader\n",
    "import sqlalchemy_dao\n",
    "import os.path\n",
    "dbfile=ConfigReader().getValue('db')\n",
    "if os.path.isfile(dbfile):\n",
    "    os.remove(dbfile)\n",
    "dao = Dao(dbfile,sqlalchemy_dao.POOL_DISABLED)\n",
    "Model.metadata.create_all(bind=dao._engine)"
   ]
  },
  {
   "cell_type": "code",
   "execution_count": 3,
   "metadata": {},
   "outputs": [],
   "source": [
    "import os\n",
    "from sqlalchemy_dao import Dao\n",
    "from db.ORMs import Document,Annotation,Task\n",
    "from sqlalchemy_dao import Model\n",
    "from conf.ConfigReader import ConfigReader\n",
    "import sqlalchemy_dao\n",
    "from sqlalchemy.sql import select\n",
    "dbfile=ConfigReader().getValue('db')\n",
    "dao = Dao(dbfile,sqlalchemy_dao.POOL_DISABLED)\n"
   ]
  },
  {
   "cell_type": "code",
   "execution_count": null,
   "metadata": {},
   "outputs": [],
   "source": [
    "with dao.create_session() as session:\n",
    "    res = session.query(Task)"
   ]
  },
  {
   "cell_type": "code",
   "execution_count": null,
   "metadata": {},
   "outputs": [],
   "source": [
    "print(res.first())"
   ]
  },
  {
   "cell_type": "code",
   "execution_count": null,
   "metadata": {},
   "outputs": [],
   "source": [
    "from db.ORMs import Annotation, Document\n",
    "s = select([Document]).where(Document.doc_id>5)"
   ]
  },
  {
   "cell_type": "code",
   "execution_count": null,
   "metadata": {},
   "outputs": [],
   "source": [
    "import pandas  as pd\n",
    "df=pd.read_sql(s,dao._engine)"
   ]
  },
  {
   "cell_type": "code",
   "execution_count": 10,
   "metadata": {},
   "outputs": [
    {
     "data": {
      "text/html": [
       "<div>\n",
       "<style scoped>\n",
       "    .dataframe tbody tr th:only-of-type {\n",
       "        vertical-align: middle;\n",
       "    }\n",
       "\n",
       "    .dataframe tbody tr th {\n",
       "        vertical-align: top;\n",
       "    }\n",
       "\n",
       "    .dataframe thead th {\n",
       "        text-align: right;\n",
       "    }\n",
       "</style>\n",
       "<table border=\"1\" class=\"dataframe\">\n",
       "  <thead>\n",
       "    <tr style=\"text-align: right;\">\n",
       "      <th></th>\n",
       "      <th>id</th>\n",
       "      <th>doc_id</th>\n",
       "      <th>task_id</th>\n",
       "      <th>run_id</th>\n",
       "      <th>type</th>\n",
       "      <th>reviewed_type</th>\n",
       "      <th>begin</th>\n",
       "      <th>end</th>\n",
       "      <th>snippet_begin</th>\n",
       "      <th>text</th>\n",
       "      <th>...</th>\n",
       "      <th>features</th>\n",
       "      <th>comments</th>\n",
       "      <th>create_dtm</th>\n",
       "      <th>doc_id</th>\n",
       "      <th>dataset_id</th>\n",
       "      <th>bunch_id</th>\n",
       "      <th>doc_name</th>\n",
       "      <th>text</th>\n",
       "      <th>date</th>\n",
       "      <th>meta_data</th>\n",
       "    </tr>\n",
       "  </thead>\n",
       "  <tbody>\n",
       "  </tbody>\n",
       "</table>\n",
       "<p>0 rows × 21 columns</p>\n",
       "</div>"
      ],
      "text/plain": [
       "Empty DataFrame\n",
       "Columns: [id, doc_id, task_id, run_id, type, reviewed_type, begin, end, snippet_begin, text, snippet, features, comments, create_dtm, doc_id, dataset_id, bunch_id, doc_name, text, date, meta_data]\n",
       "Index: []\n",
       "\n",
       "[0 rows x 21 columns]"
      ]
     },
     "execution_count": 10,
     "metadata": {},
     "output_type": "execute_result"
    }
   ],
   "source": [
    "from sqlalchemy import join\n",
    "s=join(Annotation, Document).select().where(Annotation.task_id==1)\n",
    "fd=pd.read_sql(s,dao._engine)\n",
    "fd"
   ]
  },
  {
   "cell_type": "code",
   "execution_count": 24,
   "metadata": {},
   "outputs": [
    {
     "data": {
      "text/html": [
       "<div>\n",
       "<style scoped>\n",
       "    .dataframe tbody tr th:only-of-type {\n",
       "        vertical-align: middle;\n",
       "    }\n",
       "\n",
       "    .dataframe tbody tr th {\n",
       "        vertical-align: top;\n",
       "    }\n",
       "\n",
       "    .dataframe thead th {\n",
       "        text-align: right;\n",
       "    }\n",
       "</style>\n",
       "<table border=\"1\" class=\"dataframe\">\n",
       "  <thead>\n",
       "    <tr style=\"text-align: right;\">\n",
       "      <th></th>\n",
       "      <th>id</th>\n",
       "      <th>task_id</th>\n",
       "      <th>keyword</th>\n",
       "      <th>type_name</th>\n",
       "    </tr>\n",
       "  </thead>\n",
       "  <tbody>\n",
       "    <tr>\n",
       "      <th>0</th>\n",
       "      <td>1</td>\n",
       "      <td>1</td>\n",
       "      <td>KW1</td>\n",
       "      <td>T1</td>\n",
       "    </tr>\n",
       "  </tbody>\n",
       "</table>\n",
       "</div>"
      ],
      "text/plain": [
       "   id task_id keyword type_name\n",
       "0   1       1     KW1        T1"
      ]
     },
     "execution_count": 24,
     "metadata": {},
     "output_type": "execute_result"
    }
   ],
   "source": [
    "from db.ORMs import Annotation, Document,Filter,Typedef\n",
    "import pandas as pd\n",
    "s = select([Filter]).where(Filter.task_id==1)\n",
    "fd=pd.read_sql(s,dao._engine)\n",
    "fd"
   ]
  },
  {
   "cell_type": "code",
   "execution_count": 10,
   "metadata": {},
   "outputs": [
    {
     "name": "stdout",
     "output_type": "stream",
     "text": [
      "0\n",
      "<class 'sqlalchemy.util._collections.result'>\n"
     ]
    }
   ],
   "source": [
    "from sqlalchemy import func\n",
    "with dao.create_session() as session:\n",
    "    num_docs = session.query(func.count(Document.doc_id)).first()\n",
    "    print(num_docs[0])\n",
    "    print(type(num_docs))"
   ]
  },
  {
   "cell_type": "code",
   "execution_count": 26,
   "metadata": {},
   "outputs": [
    {
     "name": "stdout",
     "output_type": "stream",
     "text": [
      "<class 'sqlalchemy.orm.query.Query'>\n",
      "<TypeDef (id='1', type_name='t1',type_group_id='None')>\n",
      "<TypeDef (id='2', type_name='t2',type_group_id='None')>\n",
      "<TypeDef (id='3', type_name='t3',type_group_id='None')>\n",
      "<TypeDef (id='4', type_name='a1',type_group_id='9')>\n",
      "<TypeDef (id='5', type_name='a2',type_group_id='9')>\n",
      "<TypeDef (id='6', type_name='a3',type_group_id='9')>\n",
      "<TypeDef (id='7', type_name='',type_group_id='9')>\n",
      "<TypeDef (id='8', type_name='b1',type_group_id='2')>\n",
      "<TypeDef (id='9', type_name='b2',type_group_id='2')>\n",
      "<TypeDef (id='10', type_name='b3',type_group_id='2')>\n",
      "<TypeDef (id='11', type_name='b4',type_group_id='2')>\n",
      "<TypeDef (id='12', type_name='c1',type_group_id='10')>\n",
      "<TypeDef (id='13', type_name='c2',type_group_id='10')>\n",
      "<TypeDef (id='14', type_name='c3',type_group_id='10')>\n",
      "<TypeDef (id='15', type_name='c4',type_group_id='10')>\n",
      "<TypeDef (id='16', type_name='k1',type_group_id='11')>\n",
      "<TypeDef (id='17', type_name='k2',type_group_id='11')>\n",
      "<TypeDef (id='18', type_name='k3',type_group_id='11')>\n"
     ]
    }
   ],
   "source": [
    "from decorated.base.context import ctx\n",
    "with dao.create_session() as session:\n",
    "    fs = session.query(Typedef)\n",
    "    print(type(fs))\n",
    "    for f in fs:\n",
    "        print(f)"
   ]
  },
  {
   "cell_type": "code",
   "execution_count": null,
   "metadata": {},
   "outputs": [],
   "source": [
    "\n",
    "\n",
    "import spacy\n",
    "from spacy.matcher import Matcher\n",
    "\n",
    "nlp = spacy.load('en')\n",
    "matcher = Matcher(nlp.vocab)\n",
    "# add match ID \"HelloWorld\" with no callback and one pattern\n",
    "pattern = [{'LOWER': 'hello'}, {'IS_PUNCT': True}, {'LOWER': 'world'}]\n",
    "matcher.add('HelloWorld', None, pattern)\n",
    "\n",
    "doc = nlp(u'Hello, world! Hello world!')\n",
    "matches = matcher(doc)\n"
   ]
  },
  {
   "cell_type": "code",
   "execution_count": null,
   "metadata": {},
   "outputs": [],
   "source": [
    "matches"
   ]
  },
  {
   "cell_type": "code",
   "execution_count": null,
   "metadata": {},
   "outputs": [],
   "source": [
    "doc."
   ]
  },
  {
   "cell_type": "code",
   "execution_count": null,
   "metadata": {},
   "outputs": [],
   "source": [
    "import spacy\n",
    "from spacy import displacy\n",
    "\n",
    "nlp = spacy.load('en')\n",
    "doc = nlp(u'This is a sentence.')\n",
    "displacy.serve(doc, style='dep')\n"
   ]
  },
  {
   "cell_type": "code",
   "execution_count": 6,
   "metadata": {},
   "outputs": [
    {
     "data": {
      "application/vnd.jupyter.widget-view+json": {
       "model_id": "83fc680f4cae416ea7409fff91fec3a0",
       "version_major": 2,
       "version_minor": 0
      },
      "text/html": [
       "<p>Failed to display Jupyter Widget of type <code>ToggleButtonsMultiSelection</code>.</p>\n",
       "<p>\n",
       "  If you're reading this message in the Jupyter Notebook or JupyterLab Notebook, it may mean\n",
       "  that the widgets JavaScript is still loading. If this message persists, it\n",
       "  likely means that the widgets JavaScript library is either not installed or\n",
       "  not enabled. See the <a href=\"https://ipywidgets.readthedocs.io/en/stable/user_install.html\">Jupyter\n",
       "  Widgets Documentation</a> for setup instructions.\n",
       "</p>\n",
       "<p>\n",
       "  If you're reading this message in another frontend (for example, a static\n",
       "  rendering on GitHub or <a href=\"https://nbviewer.jupyter.org/\">NBViewer</a>),\n",
       "  it may mean that your frontend doesn't currently support widgets.\n",
       "</p>\n"
      ],
      "text/plain": [
       "ToggleButtonsMultiSelection(children=(ToggleButton(value=False, description='adddddddd', layout=Layout(margin='2')), ToggleButton(value=False, description='b', layout=Layout(margin='2')), ToggleButton(value=False, description='c', layout=Layout(margin='2')), ToggleButton(value=False, description='gddddddddddddd', layout=Layout(margin='2')), ToggleButton(value=False, description='gdddddddddddd', layout=Layout(margin='2')), ToggleButton(value=False, description='f', layout=Layout(margin='2')), ToggleButton(value=False, description='gdddddddddddd', layout=Layout(margin='2')), ToggleButton(value=False, description='H', layout=Layout(margin='2'))), layout=Layout(display='flex'), _dom_classes=('btn-group',))"
      ]
     },
     "metadata": {},
     "output_type": "display_data"
    }
   ],
   "source": [
    "from gui.MyWidgets import ToggleButtonsMultiSelection,monitor\n",
    "import ipywidgets as widgets\n",
    "\n",
    "ToggleButtonsMultiSelection(options=['adddddddd','b','c','gddddddddddddd','gdddddddddddd','f','gdddddddddddd','H'],layout=widgets.Layout(display='flex', flex_grown='row'))"
   ]
  },
  {
   "cell_type": "code",
   "execution_count": 3,
   "metadata": {},
   "outputs": [],
   "source": [
    "import ipywidgets as widgets\n",
    "options=['a','b','c','d','e','f','g','H']\n",
    "ws=[widgets.ToggleButton(description=label,layout=widgets.Layout(margin='2', icon='check'))\n",
    "                            for label in options]"
   ]
  },
  {
   "cell_type": "code",
   "execution_count": 1,
   "metadata": {},
   "outputs": [],
   "source": [
    "from gui.MyWidgets import ToggleButtonsMultiSelectionInBox,monitor2\n",
    "a=ToggleButtonsMultiSelectionInBox(options=['adddddddd','b','c','gddddddddddddd','gdddddddddddd','f','gdddddddddddd','H'])"
   ]
  },
  {
   "cell_type": "code",
   "execution_count": 2,
   "metadata": {},
   "outputs": [
    {
     "data": {
      "application/vnd.jupyter.widget-view+json": {
       "model_id": "c2470d6a274e41ae9abe58e26d154484",
       "version_major": 2,
       "version_minor": 0
      },
      "text/html": [
       "<p>Failed to display Jupyter Widget of type <code>ToggleButtonsMultiSelectionInBox</code>.</p>\n",
       "<p>\n",
       "  If you're reading this message in the Jupyter Notebook or JupyterLab Notebook, it may mean\n",
       "  that the widgets JavaScript is still loading. If this message persists, it\n",
       "  likely means that the widgets JavaScript library is either not installed or\n",
       "  not enabled. See the <a href=\"https://ipywidgets.readthedocs.io/en/stable/user_install.html\">Jupyter\n",
       "  Widgets Documentation</a> for setup instructions.\n",
       "</p>\n",
       "<p>\n",
       "  If you're reading this message in another frontend (for example, a static\n",
       "  rendering on GitHub or <a href=\"https://nbviewer.jupyter.org/\">NBViewer</a>),\n",
       "  it may mean that your frontend doesn't currently support widgets.\n",
       "</p>\n"
      ],
      "text/plain": [
       "ToggleButtonsMultiSelectionInBox(children=(VBox(children=(HBox(children=(ToggleButton(value=False, description='adddddddd', layout=Layout(margin='2')), ToggleButton(value=False, description='b', layout=Layout(margin='2')), ToggleButton(value=False, description='c', layout=Layout(margin='2')), ToggleButton(value=False, description='gddddddddddddd', layout=Layout(margin='2')), ToggleButton(value=False, description='gdddddddddddd', layout=Layout(margin='2')), ToggleButton(value=False, description='f', layout=Layout(margin='2')))), HBox(children=(ToggleButton(value=False, description='gdddddddddddd', layout=Layout(margin='2')), ToggleButton(value=False, description='H', layout=Layout(margin='2'))))), layout=Layout(display='flex')),), _dom_classes=('btn-group',))"
      ]
     },
     "metadata": {},
     "output_type": "display_data"
    }
   ],
   "source": [
    "a"
   ]
  },
  {
   "cell_type": "code",
   "execution_count": 3,
   "metadata": {},
   "outputs": [
    {
     "data": {
      "text/plain": [
       "('adddddddd', 'H')"
      ]
     },
     "execution_count": 3,
     "metadata": {},
     "output_type": "execute_result"
    }
   ],
   "source": [
    "a.value"
   ]
  },
  {
   "cell_type": "code",
   "execution_count": null,
   "metadata": {},
   "outputs": [],
   "source": []
  }
 ],
 "metadata": {
  "kernelspec": {
   "display_name": "Python [default]",
   "language": "python",
   "name": "python3"
  },
  "language_info": {
   "codemirror_mode": {
    "name": "ipython",
    "version": 3
   },
   "file_extension": ".py",
   "mimetype": "text/x-python",
   "name": "python",
   "nbconvert_exporter": "python",
   "pygments_lexer": "ipython3",
   "version": "3.6.3"
  }
 },
 "nbformat": 4,
 "nbformat_minor": 2
}
