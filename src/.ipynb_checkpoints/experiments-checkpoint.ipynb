{
 "cells": [
  {
   "cell_type": "code",
   "execution_count": 25,
   "metadata": {
    "nbpresent": {
     "id": "ac20f70e-270b-4ebe-9da7-f10415cb9322"
    }
   },
   "outputs": [],
   "source": [
    "import ipywidgets as widgets\n",
    "from IPython.core.display import display, clear_output\n",
    "from gui.Workflow import Step\n",
    "\n",
    "\n",
    "class Conditions(Step):\n",
    "    def __init__(self, name=str(Step.global_id + 1), options=[], condition_steps=[]):\n",
    "\n",
    "        super().__init__(name)\n",
    "        self.option_buttons = [widgets.Button(description=d, layout=widgets.Layout(width='90px', left='100px')) for d in\n",
    "                               options]\n",
    "        self.condition_steps=condition_steps\n",
    "        self.box = self.createBox()\n",
    "        pass\n",
    "\n",
    "    def start(self):\n",
    "        clear_output()\n",
    "        display(self.box)\n",
    "        pass\n",
    "\n",
    "    def createBox(self):\n",
    "        rows = self.addSeparator() + [self.addConditions()]\n",
    "        vbox = widgets.VBox(rows, layout=widgets.Layout(display='flex', flex_grown='column'))\n",
    "        return vbox\n",
    "\n",
    "    def addSeparator(self, top='5px', bottom='1px', height='10px', width='98%', left='1%'):\n",
    "        top_whitespace = widgets.Label(value='', layout=widgets.Layout(height=top))\n",
    "        separator = widgets.IntProgress(min=0, max=1, value=1,\n",
    "                                        layout=widgets.Layout(left=left, width=width, height=height))\n",
    "        separator.style.bar_color = 'GAINSBORO'\n",
    "        bottom_whitespace = widgets.Label(value='', layout=widgets.Layout(height=bottom))\n",
    "        return [top_whitespace, separator, bottom_whitespace]\n",
    "\n",
    "    def addConditions(self):\n",
    "        def navigate(b):\n",
    "            print(b)\n",
    "            b.linked_step.start()\n",
    "            pass        \n",
    "        condition_steps=self.condition_steps\n",
    "        for i in range(0, len(condition_steps)):\n",
    "            if condition_steps[i] is not None and isinstance(condition_steps[i], Step):\n",
    "                self.option_buttons[i].linked_step=condition_steps[i]\n",
    "                self.option_buttons[i].on_click(navigate)\n",
    "        return widgets.HBox(self.option_buttons, layout=widgets.Layout(left='10%', width='80%'))\n"
   ]
  },
  {
   "cell_type": "code",
   "execution_count": 26,
   "metadata": {},
   "outputs": [],
   "source": [
    "from IPython.core.display import display\n",
    "from ipywidgets import widgets\n",
    "\n",
    "from gui.PreviousNextWidgets import PreviousNextTextArea, PreviousNextLabel, PreviousNextHTML, PreviousNextIntSlider\n",
    "from gui.DirChooser import DirChooser\n",
    "from gui.FileIO import ReadFiles\n",
    "# from gui.SetFilterKeyWords import SetFilterKeyWords\n",
    "from gui.Workflow import Workflow\n",
    "workflow = Workflow(\n",
    "\t\t\t[PreviousNextHTML('<p><b>Welcome to SmartAnno!<br/>First let&apos;s import txt data from a directory. </p>'\n",
    "\t\t\t\t\t\t\t  '<br/>', name='intro', show_previous=False),\n",
    "\t\t\t PreviousNextTextArea(\n",
    "\t\t\t\t '<h4>Keywords Filter</h4><p>Type your keywords filter below. These key words are <b>optional</b>. They will'\n",
    "\t\t\t\t ' be used to filter down the samples(documents or snippets). You can set how much percent'\n",
    "\t\t\t\t 'of the samples you want to review will be filter in <b>next step</b>. </p>'\n",
    "\t\t\t\t '<p> This is helpful, if you estimate that '\n",
    "\t\t\t\t 'there will be too many samples with negative findings. </p>'\n",
    "\t\t\t\t '<p>If not keywords is set, all the samples will be ask to reviewed. </p>', name='keywords'),\n",
    "\t\t\t PreviousNextIntSlider(value=60, min=0, max=100, step=10,\n",
    "\t\t\t\t\t\t\t\t   description='<h4>Percentage to Filter: </h4><p>Choose how many percent of the samples '\n",
    "\t\t\t\t\t\t\t\t\t\t\t   'you want to use the keywords filter.</p>', name='percent2filter'),\n",
    "\t\t\t PreviousNextTextArea(\n",
    "\t\t\t\t '<h4>Annotation types:</h4><p>List all the types you want to identify below. Each type per line.<br/>If you'\n",
    "\t\t\t\t 'have too many types, try set up them separately, so that you won&apos;t need to choose from a long list '\n",
    "\t\t\t\t 'for each sample. </p>', name='types')\n",
    "\t\t\t ])\n"
   ]
  },
  {
   "cell_type": "code",
   "execution_count": 3,
   "metadata": {},
   "outputs": [
    {
     "ename": "UnboundLocalError",
     "evalue": "local variable 'global_id' referenced before assignment",
     "output_type": "error",
     "traceback": [
      "\u001b[0;31m---------------------------------------------------------------------------\u001b[0m",
      "\u001b[0;31mUnboundLocalError\u001b[0m                         Traceback (most recent call last)",
      "\u001b[0;32m<ipython-input-3-436c7c18eb00>\u001b[0m in \u001b[0;36m<module>\u001b[0;34m()\u001b[0m\n\u001b[0;32m----> 1\u001b[0;31m \u001b[0ms2\u001b[0m\u001b[0;34m=\u001b[0m\u001b[0mStep2\u001b[0m\u001b[0;34m(\u001b[0m\u001b[0;34m)\u001b[0m\u001b[0;34m\u001b[0m\u001b[0m\n\u001b[0m\u001b[1;32m      2\u001b[0m \u001b[0ms2\u001b[0m\u001b[0;34m.\u001b[0m\u001b[0mname\u001b[0m\u001b[0;34m\u001b[0m\u001b[0m\n",
      "\u001b[0;32m<ipython-input-2-a6d9b34ebea7>\u001b[0m in \u001b[0;36m__init__\u001b[0;34m(self, name)\u001b[0m\n\u001b[1;32m      6\u001b[0m         \u001b[0mself\u001b[0m\u001b[0;34m.\u001b[0m\u001b[0mnext_step\u001b[0m \u001b[0;34m=\u001b[0m \u001b[0;32mNone\u001b[0m\u001b[0;34m\u001b[0m\u001b[0m\n\u001b[1;32m      7\u001b[0m         \u001b[0mself\u001b[0m\u001b[0;34m.\u001b[0m\u001b[0mprevious_step\u001b[0m \u001b[0;34m=\u001b[0m \u001b[0;32mNone\u001b[0m\u001b[0;34m\u001b[0m\u001b[0m\n\u001b[0;32m----> 8\u001b[0;31m         \u001b[0mglobal_id\u001b[0m \u001b[0;34m+=\u001b[0m\u001b[0;36m1\u001b[0m\u001b[0;34m\u001b[0m\u001b[0m\n\u001b[0m\u001b[1;32m      9\u001b[0m         \u001b[0;32mif\u001b[0m \u001b[0mname\u001b[0m \u001b[0;32mis\u001b[0m \u001b[0;32mnot\u001b[0m \u001b[0;32mNone\u001b[0m\u001b[0;34m:\u001b[0m\u001b[0;34m\u001b[0m\u001b[0m\n\u001b[1;32m     10\u001b[0m             \u001b[0mself\u001b[0m\u001b[0;34m.\u001b[0m\u001b[0mname\u001b[0m \u001b[0;34m=\u001b[0m \u001b[0mname\u001b[0m\u001b[0;34m\u001b[0m\u001b[0m\n",
      "\u001b[0;31mUnboundLocalError\u001b[0m: local variable 'global_id' referenced before assignment"
     ]
    }
   ],
   "source": [
    "s2=Step2()\n",
    "s2.name"
   ]
  },
  {
   "cell_type": "code",
   "execution_count": 19,
   "metadata": {},
   "outputs": [
    {
     "name": "stdout",
     "output_type": "stream",
     "text": [
      "Step\n"
     ]
    },
    {
     "data": {
      "text/plain": [
       "\"<class '__main__.Step'>0\""
      ]
     },
     "execution_count": 19,
     "metadata": {},
     "output_type": "execute_result"
    }
   ],
   "source": [
    "s=Step()\n",
    "s.name\n"
   ]
  },
  {
   "cell_type": "code",
   "execution_count": 17,
   "metadata": {},
   "outputs": [
    {
     "data": {
      "text/plain": [
       "<function Step.mro>"
      ]
     },
     "execution_count": 17,
     "metadata": {},
     "output_type": "execute_result"
    }
   ],
   "source": [
    "type(s).mro"
   ]
  },
  {
   "cell_type": "code",
   "execution_count": 18,
   "metadata": {},
   "outputs": [],
   "source": [
    "class Step(object):\n",
    "    \"\"\"a step in a workflow\"\"\"\n",
    "    global_id = -1\n",
    "\n",
    "    def __init__(self, name=None):\n",
    "        self.next_step = None\n",
    "        self.previous_step = None\n",
    "        Step.global_id += 1\n",
    "        print(type(self).__name__)\n",
    "        if name is not None:\n",
    "            self.name = name\n",
    "        else:\n",
    "            self.name = str(type(self).__name__) + str(Step.global_id)\n",
    "        self.data = None\n",
    "        self.workflow = None\n",
    "        self.pos_id = -1\n",
    "        pass\n",
    "\n",
    "class Step2(Step):\n",
    "    pass\n"
   ]
  },
  {
   "cell_type": "code",
   "execution_count": 33,
   "metadata": {},
   "outputs": [
    {
     "data": {
      "application/vnd.jupyter.widget-view+json": {
       "model_id": "f6e46960234d470594594254338322f2",
       "version_major": 2,
       "version_minor": 0
      },
      "text/html": [
       "<p>Failed to display Jupyter Widget of type <code>VBox</code>.</p>\n",
       "<p>\n",
       "  If you're reading this message in the Jupyter Notebook or JupyterLab Notebook, it may mean\n",
       "  that the widgets JavaScript is still loading. If this message persists, it\n",
       "  likely means that the widgets JavaScript library is either not installed or\n",
       "  not enabled. See the <a href=\"https://ipywidgets.readthedocs.io/en/stable/user_install.html\">Jupyter\n",
       "  Widgets Documentation</a> for setup instructions.\n",
       "</p>\n",
       "<p>\n",
       "  If you're reading this message in another frontend (for example, a static\n",
       "  rendering on GitHub or <a href=\"https://nbviewer.jupyter.org/\">NBViewer</a>),\n",
       "  it may mean that your frontend doesn't currently support widgets.\n",
       "</p>\n"
      ],
      "text/plain": [
       "VBox(children=(HTML(value='<h4>Keywords Filter</h4><p>Type your keywords filter below. These key words are <b>optional</b>. They will be used to filter down the samples(documents or snippets). You can set how much percentof the samples you want to review will be filter in <b>next step</b>. </p><p> This is helpful, if you estimate that there will be too many samples with negative findings. </p><p>If not keywords is set, all the samples will be ask to reviewed. </p>'), Textarea(value='', layout=Layout(height='300px', width='500px'), placeholder='each phrase/word per line'), Label(value='', layout=Layout(height='10px')), IntProgress(value=1, layout=Layout(height='10px', left='1%', width='98%'), max=1, style=ProgressStyle(bar_color='GAINSBORO')), Label(value='', layout=Layout(height='1px')), HBox(children=(Button(description='Previous', layout=Layout(width='90px'), style=ButtonStyle(button_color='SILVER')), Button(description='Next', layout=Layout(left='100px', width='90px'), style=ButtonStyle(button_color='SANDYBROWN'))), layout=Layout(left='10%', width='80%'))), layout=Layout(display='flex'))"
      ]
     },
     "metadata": {},
     "output_type": "display_data"
    }
   ],
   "source": [
    "cond=Conditions(options=['step1','step2','step3','step4'],condition_steps=[workflow.steps[0],workflow.steps[1],workflow.steps[2],workflow.steps[3]])\n",
    "cond.start()"
   ]
  },
  {
   "cell_type": "code",
   "execution_count": 28,
   "metadata": {},
   "outputs": [
    {
     "data": {
      "text/plain": [
       "<gui.PreviousNextWidgets.PreviousNextHTML at 0x7fe3a2ba3908>"
      ]
     },
     "execution_count": 28,
     "metadata": {},
     "output_type": "execute_result"
    }
   ],
   "source": [
    "PreviousNextHTML('<p><b>Welcome to SmartAnno!<br/>First let&apos;s import txt data from a directory. </p>'\n",
    "\t\t\t\t\t\t\t  '<br/>', name='intro', show_previous=False)"
   ]
  },
  {
   "cell_type": "code",
   "execution_count": 8,
   "metadata": {},
   "outputs": [
    {
     "data": {
      "application/vnd.jupyter.widget-view+json": {
       "model_id": "cb3cb7b881f54404866e17357d23b26e",
       "version_major": 2,
       "version_minor": 0
      },
      "text/html": [
       "<p>Failed to display Jupyter Widget of type <code>IntSlider</code>.</p>\n",
       "<p>\n",
       "  If you're reading this message in the Jupyter Notebook or JupyterLab Notebook, it may mean\n",
       "  that the widgets JavaScript is still loading. If this message persists, it\n",
       "  likely means that the widgets JavaScript library is either not installed or\n",
       "  not enabled. See the <a href=\"https://ipywidgets.readthedocs.io/en/stable/user_install.html\">Jupyter\n",
       "  Widgets Documentation</a> for setup instructions.\n",
       "</p>\n",
       "<p>\n",
       "  If you're reading this message in another frontend (for example, a static\n",
       "  rendering on GitHub or <a href=\"https://nbviewer.jupyter.org/\">NBViewer</a>),\n",
       "  it may mean that your frontend doesn't currently support widgets.\n",
       "</p>\n"
      ],
      "text/plain": [
       "IntSlider(value=0, description='x')"
      ]
     },
     "metadata": {},
     "output_type": "display_data"
    },
    {
     "data": {
      "application/vnd.jupyter.widget-view+json": {
       "model_id": "567dd37c42004cec92926242eb94ddd7",
       "version_major": 2,
       "version_minor": 0
      },
      "text/html": [
       "<p>Failed to display Jupyter Widget of type <code>IntSlider</code>.</p>\n",
       "<p>\n",
       "  If you're reading this message in the Jupyter Notebook or JupyterLab Notebook, it may mean\n",
       "  that the widgets JavaScript is still loading. If this message persists, it\n",
       "  likely means that the widgets JavaScript library is either not installed or\n",
       "  not enabled. See the <a href=\"https://ipywidgets.readthedocs.io/en/stable/user_install.html\">Jupyter\n",
       "  Widgets Documentation</a> for setup instructions.\n",
       "</p>\n",
       "<p>\n",
       "  If you're reading this message in another frontend (for example, a static\n",
       "  rendering on GitHub or <a href=\"https://nbviewer.jupyter.org/\">NBViewer</a>),\n",
       "  it may mean that your frontend doesn't currently support widgets.\n",
       "</p>\n"
      ],
      "text/plain": [
       "IntSlider(value=0, description='y')"
      ]
     },
     "metadata": {},
     "output_type": "display_data"
    }
   ],
   "source": [
    "from ipywidgets import IntSlider\n",
    "from IPython.display import display\n",
    "x = IntSlider(description='x')\n",
    "y = IntSlider(description='y')\n",
    "\n",
    "def update_y(args):\n",
    "    y.value =int(args['new']/2)\n",
    "#     print(args['new'])\n",
    "\n",
    "x.observe(update_y, 'value')\n",
    "\n",
    "display(x)\n",
    "display(y)"
   ]
  },
  {
   "cell_type": "code",
   "execution_count": null,
   "metadata": {},
   "outputs": [],
   "source": []
  },
  {
   "cell_type": "code",
   "execution_count": null,
   "metadata": {},
   "outputs": [],
   "source": []
  },
  {
   "cell_type": "code",
   "execution_count": 11,
   "metadata": {},
   "outputs": [
    {
     "name": "stdout",
     "output_type": "stream",
     "text": [
      "init ['a', 'b', 'c', 'd', 'e', 'f', 'g', 'h', 'i']\n"
     ]
    },
    {
     "data": {
      "application/vnd.jupyter.widget-view+json": {
       "model_id": "cb07f2382c7a42b199ee54cfabcb4c20",
       "version_major": 2,
       "version_minor": 0
      },
      "text/html": [
       "<p>Failed to display Jupyter Widget of type <code>ToggleButtonsMulti</code>.</p>\n",
       "<p>\n",
       "  If you're reading this message in the Jupyter Notebook or JupyterLab Notebook, it may mean\n",
       "  that the widgets JavaScript is still loading. If this message persists, it\n",
       "  likely means that the widgets JavaScript library is either not installed or\n",
       "  not enabled. See the <a href=\"https://ipywidgets.readthedocs.io/en/stable/user_install.html\">Jupyter\n",
       "  Widgets Documentation</a> for setup instructions.\n",
       "</p>\n",
       "<p>\n",
       "  If you're reading this message in another frontend (for example, a static\n",
       "  rendering on GitHub or <a href=\"https://nbviewer.jupyter.org/\">NBViewer</a>),\n",
       "  it may mean that your frontend doesn't currently support widgets.\n",
       "</p>\n"
      ],
      "text/plain": [
       "ToggleButtonsMulti(_dom_classes=('btn-group',))"
      ]
     },
     "metadata": {},
     "output_type": "display_data"
    }
   ],
   "source": [
    "options=['a','b','c','d','e','f','g','h','i']\n",
    "ToggleButtonsMulti(options=options)\n"
   ]
  },
  {
   "cell_type": "code",
   "execution_count": null,
   "metadata": {},
   "outputs": [],
   "source": []
  },
  {
   "cell_type": "code",
   "execution_count": 12,
   "metadata": {},
   "outputs": [],
   "source": [
    "options.pop()\n",
    "options\n",
    "a.options=options\n"
   ]
  },
  {
   "cell_type": "code",
   "execution_count": 11,
   "metadata": {},
   "outputs": [],
   "source": [
    "import traitlets\n",
    "import ipywidgets as iw\n",
    "import traitlets\n",
    "from IPython.core.display import display, clear_output, Javascript\n",
    "import ipywidgets as widgets\n",
    "from ipywidgets.widgets.widget_selection import _Selection\n",
    "\n",
    "def observe(widgets, trait_name):\n",
    "    def wrapper(func):\n",
    "        if isinstance(widgets, iw.Widget):\n",
    "            widgets.observe(func, trait_name)\n",
    "        else:\n",
    "            for w in widgets:\n",
    "                w.observe(func, trait_name)\n",
    "        func()        \n",
    "    return wrapper\n",
    "\n",
    "\n",
    "class ToggleButtonsMult(iw.Box):\n",
    "    description = traitlets.Unicode()\n",
    "    value = traitlets.Tuple()\n",
    "    options = traitlets.Union([traitlets.List(), traitlets.Dict()])\n",
    "\n",
    "    def __init__(self, **kwargs):\n",
    "        super().__init__(**kwargs)\n",
    "        self._selection_obj = iw.widget_selection._MultipleSelection()\n",
    "        traitlets.link((self, 'options'), (self._selection_obj, 'options'))\n",
    "        traitlets.link((self, 'value'), (self._selection_obj, 'value'))\n",
    "        \n",
    "        @observe(self, 'options')\n",
    "        def _(*_):\n",
    "            self.buttons = [iw.ToggleButton(description=label,\n",
    "                                            layout=iw.Layout(margin='2',icon='check'))\n",
    "                            for label in self._selection_obj._options_labels]\n",
    "            self.children = self.buttons\n",
    "            \n",
    "            @observe(self.buttons, 'value')\n",
    "            def _(*_):\n",
    "                for btn in self.buttons:\n",
    "                    btn.button_style = 'primary' if btn.value else ''\n",
    "                self.value = tuple(value\n",
    "                                   for btn, value in zip(self.buttons, self._selection_obj._options_values)\n",
    "                                   if btn.value)\n",
    "                \n",
    "        self.add_class('btn-group')\n",
    "        \n",
    "   "
   ]
  },
  {
   "cell_type": "code",
   "execution_count": 12,
   "metadata": {
    "nbpresent": {
     "id": "d33cfa02-3cf1-43da-867e-17200c5ea474"
    }
   },
   "outputs": [
    {
     "data": {
      "application/vnd.jupyter.widget-view+json": {
       "model_id": "6fbd1a58022246cdb39faecc68b7994c",
       "version_major": 2,
       "version_minor": 0
      },
      "text/html": [
       "<p>Failed to display Jupyter Widget of type <code>ToggleButtonsMult</code>.</p>\n",
       "<p>\n",
       "  If you're reading this message in the Jupyter Notebook or JupyterLab Notebook, it may mean\n",
       "  that the widgets JavaScript is still loading. If this message persists, it\n",
       "  likely means that the widgets JavaScript library is either not installed or\n",
       "  not enabled. See the <a href=\"https://ipywidgets.readthedocs.io/en/stable/user_install.html\">Jupyter\n",
       "  Widgets Documentation</a> for setup instructions.\n",
       "</p>\n",
       "<p>\n",
       "  If you're reading this message in another frontend (for example, a static\n",
       "  rendering on GitHub or <a href=\"https://nbviewer.jupyter.org/\">NBViewer</a>),\n",
       "  it may mean that your frontend doesn't currently support widgets.\n",
       "</p>\n"
      ],
      "text/plain": [
       "ToggleButtonsMult(children=(ToggleButton(value=False, description='a', layout=Layout(margin='2')), ToggleButton(value=False, description='bdadaadsadaasad', layout=Layout(margin='2')), ToggleButton(value=False, description='c', layout=Layout(margin='2')), ToggleButton(value=False, description='d', layout=Layout(margin='2')), ToggleButton(value=False, description='e', layout=Layout(margin='2')), ToggleButton(value=False, description='f', layout=Layout(margin='2')), ToggleButton(value=False, description='g', layout=Layout(margin='2')), ToggleButton(value=False, description='h', layout=Layout(margin='2')), ToggleButton(value=False, description='i', layout=Layout(margin='2'))), _dom_classes=('btn-group',))"
      ]
     },
     "metadata": {},
     "output_type": "display_data"
    }
   ],
   "source": [
    "options=['a','bdadaadsadaasad','c','d','e','f','g','h','i']\n",
    "t=ToggleButtonsMult(options=options)\n",
    "t"
   ]
  },
  {
   "cell_type": "code",
   "execution_count": 25,
   "metadata": {
    "nbpresent": {
     "id": "e8ccd6bb-dbaa-47f9-a471-bb6cb6693595"
    }
   },
   "outputs": [
    {
     "data": {
      "text/plain": [
       "('c', 'd', 'f')"
      ]
     },
     "execution_count": 25,
     "metadata": {},
     "output_type": "execute_result"
    }
   ],
   "source": [
    "t.value"
   ]
  },
  {
   "cell_type": "code",
   "execution_count": 1,
   "metadata": {
    "nbpresent": {
     "id": "d0fd5b27-cd1a-404f-84e5-f3024661ef8d"
    }
   },
   "outputs": [],
   "source": [
    "from gui.ConditionsWidgets import Conditions\n",
    "from IPython.core.display import display\n",
    "from ipywidgets import widgets\n",
    "\n",
    "from gui.PreviousNextWidgets import PreviousNextTextArea, PreviousNextLabel, PreviousNextHTML, PreviousNextIntSlider\n",
    "from gui.DirChooser import DirChooser\n",
    "from gui.FileIO import ReadFiles\n",
    "# from gui.SetFilterKeyWords import SetFilterKeyWords\n",
    "from gui.Workflow import Workflow\n",
    "workflow = Workflow(\n",
    "\t\t\t[PreviousNextHTML('<p><b>Welcome to SmartAnno!<br/>First let&apos;s import txt data from a directory. </p>'\n",
    "\t\t\t\t\t\t\t  '<br/>', name='intro', show_previous=False),\n",
    "\t\t\t DirChooser(name='choosedir'), ReadFiles(name='readfiles'),\n",
    "\t\t\t PreviousNextTextArea(\n",
    "\t\t\t\t '<h4>Keywords Filter</h4><p>Type your keywords filter below. These key words are <b>optional</b>. They will'\n",
    "\t\t\t\t ' be used to filter down the samples(documents or snippets). You can set how much percent'\n",
    "\t\t\t\t 'of the samples you want to review will be filter in <b>next step</b>. </p>'\n",
    "\t\t\t\t '<p> This is helpful, if you estimate that '\n",
    "\t\t\t\t 'there will be too many samples with negative findings. </p>'\n",
    "\t\t\t\t '<p>If not keywords is set, all the samples will be ask to reviewed. </p>', name='keywords'),\n",
    "\t\t\t PreviousNextIntSlider(value=60, min=0, max=100, step=10,\n",
    "\t\t\t\t\t\t\t\t   description='<h4>Percentage to Filter: </h4><p>Choose how many percent of the samples '\n",
    "\t\t\t\t\t\t\t\t\t\t\t   'you want to use the keywords filter.</p>', name='percent2filter'),\n",
    "\t\t\t PreviousNextTextArea(\n",
    "\t\t\t\t '<h4>Annotation types:</h4><p>List all the types you want to identify below. Each type per line.<br/>If you'\n",
    "\t\t\t\t 'have too many types, try set up them separately, so that you won&apos;t need to choose from a long list '\n",
    "\t\t\t\t 'for each sample. </p>', name='types')\n",
    "\t\t\t ])\n",
    "\n"
   ]
  },
  {
   "cell_type": "code",
   "execution_count": 2,
   "metadata": {
    "nbpresent": {
     "id": "ffbab3a3-ebfd-4f96-8c7c-22fb1883afaf"
    }
   },
   "outputs": [
    {
     "data": {
      "application/vnd.jupyter.widget-view+json": {
       "model_id": "baf45a838a8945c09b421d9a689e3405",
       "version_major": 2,
       "version_minor": 0
      },
      "text/html": [
       "<p>Failed to display Jupyter Widget of type <code>VBox</code>.</p>\n",
       "<p>\n",
       "  If you're reading this message in the Jupyter Notebook or JupyterLab Notebook, it may mean\n",
       "  that the widgets JavaScript is still loading. If this message persists, it\n",
       "  likely means that the widgets JavaScript library is either not installed or\n",
       "  not enabled. See the <a href=\"https://ipywidgets.readthedocs.io/en/stable/user_install.html\">Jupyter\n",
       "  Widgets Documentation</a> for setup instructions.\n",
       "</p>\n",
       "<p>\n",
       "  If you're reading this message in another frontend (for example, a static\n",
       "  rendering on GitHub or <a href=\"https://nbviewer.jupyter.org/\">NBViewer</a>),\n",
       "  it may mean that your frontend doesn't currently support widgets.\n",
       "</p>\n"
      ],
      "text/plain": [
       "VBox(children=(HTML(value='<h4>Keywords Filter</h4><p>Type your keywords filter below. These key words are <b>optional</b>. They will be used to filter down the samples(documents or snippets). You can set how much percentof the samples you want to review will be filter in <b>next step</b>. </p><p> This is helpful, if you estimate that there will be too many samples with negative findings. </p><p>If not keywords is set, all the samples will be ask to reviewed. </p>'), Textarea(value='', layout=Layout(height='300px', width='500px'), placeholder='each phrase/word per line'), Label(value='', layout=Layout(height='10px')), IntProgress(value=1, layout=Layout(height='10px', left='1%', width='98%'), max=1, style=ProgressStyle(bar_color='GAINSBORO')), Label(value='', layout=Layout(height='1px')), HBox(children=(Button(description='Previous', layout=Layout(width='90px'), style=ButtonStyle(button_color='SILVER')), Button(description='Next', layout=Layout(left='100px', width='90px'), style=ButtonStyle(button_color='SANDYBROWN'))), layout=Layout(left='10%', width='80%'))), layout=Layout(display='flex'))"
      ]
     },
     "metadata": {},
     "output_type": "display_data"
    }
   ],
   "source": [
    "\n",
    "cond=Conditions(options=['step1','step2','step3'],condition_steps=[workflow.steps[0],workflow.steps[1],workflow.steps[3]])\n"
   ]
  },
  {
   "cell_type": "code",
   "execution_count": 10,
   "metadata": {},
   "outputs": [],
   "source": [
    "cond.option_buttons[1].on_click(workflow.steps[1].start)"
   ]
  },
  {
   "cell_type": "code",
   "execution_count": 11,
   "metadata": {
    "nbpresent": {
     "id": "66b7b2a5-ede3-4ab8-b082-595a3fab4b01"
    },
    "scrolled": true
   },
   "outputs": [
    {
     "data": {
      "application/vnd.jupyter.widget-view+json": {
       "model_id": "fa4c795e56c7404d861f36f24ce15137",
       "version_major": 2,
       "version_minor": 0
      },
      "text/html": [
       "<p>Failed to display Jupyter Widget of type <code>VBox</code>.</p>\n",
       "<p>\n",
       "  If you're reading this message in the Jupyter Notebook or JupyterLab Notebook, it may mean\n",
       "  that the widgets JavaScript is still loading. If this message persists, it\n",
       "  likely means that the widgets JavaScript library is either not installed or\n",
       "  not enabled. See the <a href=\"https://ipywidgets.readthedocs.io/en/stable/user_install.html\">Jupyter\n",
       "  Widgets Documentation</a> for setup instructions.\n",
       "</p>\n",
       "<p>\n",
       "  If you're reading this message in another frontend (for example, a static\n",
       "  rendering on GitHub or <a href=\"https://nbviewer.jupyter.org/\">NBViewer</a>),\n",
       "  it may mean that your frontend doesn't currently support widgets.\n",
       "</p>\n"
      ],
      "text/plain": [
       "VBox(children=(Label(value='', layout=Layout(height='5px')), IntProgress(value=1, layout=Layout(height='10px', left='1%', width='98%'), max=1, style=ProgressStyle(bar_color='GAINSBORO')), Label(value='', layout=Layout(height='1px')), HBox(children=(Button(description='step1', layout=Layout(left='100px', width='90px'), style=ButtonStyle()), Button(description='step2', layout=Layout(left='100px', width='90px'), style=ButtonStyle()), Button(description='step3', layout=Layout(left='100px', width='90px'), style=ButtonStyle())), layout=Layout(left='10%', width='80%'))), layout=Layout(display='flex'))"
      ]
     },
     "metadata": {},
     "output_type": "display_data"
    },
    {
     "ename": "TypeError",
     "evalue": "'NoneType' object is not callable",
     "output_type": "error",
     "traceback": [
      "\u001b[0;31m---------------------------------------------------------------------------\u001b[0m",
      "\u001b[0;31mTypeError\u001b[0m                                 Traceback (most recent call last)",
      "\u001b[0;31mTypeError\u001b[0m: 'NoneType' object is not callable"
     ]
    },
    {
     "ename": "TypeError",
     "evalue": "start() takes 1 positional argument but 2 were given",
     "output_type": "error",
     "traceback": [
      "\u001b[0;31m---------------------------------------------------------------------------\u001b[0m",
      "\u001b[0;31mTypeError\u001b[0m                                 Traceback (most recent call last)",
      "\u001b[0;31mTypeError\u001b[0m: start() takes 1 positional argument but 2 were given"
     ]
    }
   ],
   "source": [
    "cond.start()"
   ]
  },
  {
   "cell_type": "code",
   "execution_count": null,
   "metadata": {
    "nbpresent": {
     "id": "42e026d2-b777-4064-8573-d605f2d73fe4"
    },
    "scrolled": true
   },
   "outputs": [],
   "source": [
    "display(toggle)\n",
    "def on_click(change):\n",
    "    print(change['new'])\n",
    "\n",
    "a=toggle.observe(on_click, 'value')\n"
   ]
  },
  {
   "cell_type": "code",
   "execution_count": 4,
   "metadata": {
    "nbpresent": {
     "id": "d8eb4051-5f79-422e-a283-2242c6787b44"
    }
   },
   "outputs": [],
   "source": [
    "from ipywidgets import Box,Checkbox,Label, interactive,ToggleButton,interact\n",
    "\n",
    "from IPython.display import display\n",
    "\n",
    "l = [\"Dog\", \"Cat\", \"Mouse\", \"Mouse1\", \"Mouse2\", \"Mouse3\"]\n",
    "chk = [ToggleButton(description=a) for a in l]\n",
    "\n",
    "def updatePlot(**kwargs):\n",
    "    print(kwargs)\n",
    "\n",
    "# a=interactive(updatePlot, **{c.description: c.value for c in chk})\n",
    "\n",
    "b=Box()\n",
    "a=interactive(updatePlot, **{c.description: c.value for c in chk})\n"
   ]
  },
  {
   "cell_type": "code",
   "execution_count": 5,
   "metadata": {
    "nbpresent": {
     "id": "1e25d5ff-19b7-4628-95cf-a6b16a768c36"
    }
   },
   "outputs": [
    {
     "data": {
      "application/vnd.jupyter.widget-view+json": {
       "model_id": "0be96d0be158483fbb905a2c7c739b10",
       "version_major": 2,
       "version_minor": 0
      },
      "text/html": [
       "<p>Failed to display Jupyter Widget of type <code>interactive</code>.</p>\n",
       "<p>\n",
       "  If you're reading this message in the Jupyter Notebook or JupyterLab Notebook, it may mean\n",
       "  that the widgets JavaScript is still loading. If this message persists, it\n",
       "  likely means that the widgets JavaScript library is either not installed or\n",
       "  not enabled. See the <a href=\"https://ipywidgets.readthedocs.io/en/stable/user_install.html\">Jupyter\n",
       "  Widgets Documentation</a> for setup instructions.\n",
       "</p>\n",
       "<p>\n",
       "  If you're reading this message in another frontend (for example, a static\n",
       "  rendering on GitHub or <a href=\"https://nbviewer.jupyter.org/\">NBViewer</a>),\n",
       "  it may mean that your frontend doesn't currently support widgets.\n",
       "</p>\n"
      ],
      "text/plain": [
       "interactive(children=(Checkbox(value=False, description='Dog'), Checkbox(value=False, description='Cat'), Checkbox(value=False, description='Mouse'), Checkbox(value=False, description='Mouse1'), Checkbox(value=False, description='Mouse2'), Checkbox(value=False, description='Mouse3'), Output()), _dom_classes=('widget-interact',))"
      ]
     },
     "metadata": {},
     "output_type": "display_data"
    }
   ],
   "source": [
    "a"
   ]
  },
  {
   "cell_type": "code",
   "execution_count": 36,
   "metadata": {
    "nbpresent": {
     "id": "5520149d-eb61-4dda-bb16-b98d50bdc3d5"
    }
   },
   "outputs": [
    {
     "data": {
      "application/vnd.jupyter.widget-view+json": {
       "model_id": "a117d8d3737b4ceeb78828904fb44c67",
       "version_major": 2,
       "version_minor": 0
      },
      "text/html": [
       "<p>Failed to display Jupyter Widget of type <code>interactive</code>.</p>\n",
       "<p>\n",
       "  If you're reading this message in the Jupyter Notebook or JupyterLab Notebook, it may mean\n",
       "  that the widgets JavaScript is still loading. If this message persists, it\n",
       "  likely means that the widgets JavaScript library is either not installed or\n",
       "  not enabled. See the <a href=\"https://ipywidgets.readthedocs.io/en/stable/user_install.html\">Jupyter\n",
       "  Widgets Documentation</a> for setup instructions.\n",
       "</p>\n",
       "<p>\n",
       "  If you're reading this message in another frontend (for example, a static\n",
       "  rendering on GitHub or <a href=\"https://nbviewer.jupyter.org/\">NBViewer</a>),\n",
       "  it may mean that your frontend doesn't currently support widgets.\n",
       "</p>\n"
      ],
      "text/plain": [
       "interactive(children=(Checkbox(value=True, description='x'), FloatSlider(value=1.0, description='y', max=3.0, min=-1.0), Output()), _dom_classes=('widget-interact',))"
      ]
     },
     "metadata": {},
     "output_type": "display_data"
    }
   ],
   "source": [
    "@interact(x=True,y=1.0)\n",
    "def g(x,y):\n",
    "    return(x,y)"
   ]
  },
  {
   "cell_type": "code",
   "execution_count": null,
   "metadata": {
    "nbpresent": {
     "id": "79fde46d-f40a-4674-9b1f-a6633447403b"
    }
   },
   "outputs": [],
   "source": [
    "def h(p,q):\n",
    "    return (p,q)\n",
    "interact(h,)\n"
   ]
  },
  {
   "cell_type": "code",
   "execution_count": 3,
   "metadata": {
    "nbpresent": {
     "id": "ebad59b1-a875-4774-908d-2cb9c8643c7c"
    }
   },
   "outputs": [
    {
     "data": {
      "application/vnd.jupyter.widget-view+json": {
       "model_id": "c9e1dbbee30247fcbd26bac4ec2cba86",
       "version_major": 2,
       "version_minor": 0
      },
      "text/html": [
       "<p>Failed to display Jupyter Widget of type <code>ToggleButton</code>.</p>\n",
       "<p>\n",
       "  If you're reading this message in the Jupyter Notebook or JupyterLab Notebook, it may mean\n",
       "  that the widgets JavaScript is still loading. If this message persists, it\n",
       "  likely means that the widgets JavaScript library is either not installed or\n",
       "  not enabled. See the <a href=\"https://ipywidgets.readthedocs.io/en/stable/user_install.html\">Jupyter\n",
       "  Widgets Documentation</a> for setup instructions.\n",
       "</p>\n",
       "<p>\n",
       "  If you're reading this message in another frontend (for example, a static\n",
       "  rendering on GitHub or <a href=\"https://nbviewer.jupyter.org/\">NBViewer</a>),\n",
       "  it may mean that your frontend doesn't currently support widgets.\n",
       "</p>\n"
      ],
      "text/plain": [
       "ToggleButton(value=False, description='Dog')"
      ]
     },
     "metadata": {},
     "output_type": "display_data"
    },
    {
     "data": {
      "application/vnd.jupyter.widget-view+json": {
       "model_id": "5401347bd80448268544944f5ca9378f",
       "version_major": 2,
       "version_minor": 0
      },
      "text/html": [
       "<p>Failed to display Jupyter Widget of type <code>ToggleButton</code>.</p>\n",
       "<p>\n",
       "  If you're reading this message in the Jupyter Notebook or JupyterLab Notebook, it may mean\n",
       "  that the widgets JavaScript is still loading. If this message persists, it\n",
       "  likely means that the widgets JavaScript library is either not installed or\n",
       "  not enabled. See the <a href=\"https://ipywidgets.readthedocs.io/en/stable/user_install.html\">Jupyter\n",
       "  Widgets Documentation</a> for setup instructions.\n",
       "</p>\n",
       "<p>\n",
       "  If you're reading this message in another frontend (for example, a static\n",
       "  rendering on GitHub or <a href=\"https://nbviewer.jupyter.org/\">NBViewer</a>),\n",
       "  it may mean that your frontend doesn't currently support widgets.\n",
       "</p>\n"
      ],
      "text/plain": [
       "ToggleButton(value=False, description='Cat')"
      ]
     },
     "metadata": {},
     "output_type": "display_data"
    },
    {
     "data": {
      "application/vnd.jupyter.widget-view+json": {
       "model_id": "bd6ea790da2543ad9f95c717677e3cbe",
       "version_major": 2,
       "version_minor": 0
      },
      "text/html": [
       "<p>Failed to display Jupyter Widget of type <code>ToggleButton</code>.</p>\n",
       "<p>\n",
       "  If you're reading this message in the Jupyter Notebook or JupyterLab Notebook, it may mean\n",
       "  that the widgets JavaScript is still loading. If this message persists, it\n",
       "  likely means that the widgets JavaScript library is either not installed or\n",
       "  not enabled. See the <a href=\"https://ipywidgets.readthedocs.io/en/stable/user_install.html\">Jupyter\n",
       "  Widgets Documentation</a> for setup instructions.\n",
       "</p>\n",
       "<p>\n",
       "  If you're reading this message in another frontend (for example, a static\n",
       "  rendering on GitHub or <a href=\"https://nbviewer.jupyter.org/\">NBViewer</a>),\n",
       "  it may mean that your frontend doesn't currently support widgets.\n",
       "</p>\n"
      ],
      "text/plain": [
       "ToggleButton(value=False, description='Mouse')"
      ]
     },
     "metadata": {},
     "output_type": "display_data"
    }
   ],
   "source": [
    "for c in chk:\n",
    "    display(c)"
   ]
  },
  {
   "cell_type": "code",
   "execution_count": 5,
   "metadata": {
    "nbpresent": {
     "id": "2417efbe-8ae6-46c7-b638-942dafa55d77"
    }
   },
   "outputs": [],
   "source": [
    "from traitlets import HasTraits, Integer, observe\n",
    "import ipywidgets as widgets\n",
    "import traitlets\n",
    "\n",
    "\n",
    "class TraitletsExample(HasTraits):\n",
    "    num = Integer(5, help=\"a number\").tag(config=True)\n",
    "\n",
    "    @observe('num')\n",
    "    def _num_changed(self, change):\n",
    "        print(\"{name} changed from {old} to {new}\".format(**change))\n",
    "e=TraitletsExample()\n"
   ]
  },
  {
   "cell_type": "code",
   "execution_count": 6,
   "metadata": {
    "nbpresent": {
     "id": "1f2a2357-e218-4e15-b6f8-6c8ece2be70e"
    }
   },
   "outputs": [
    {
     "name": "stdout",
     "output_type": "stream",
     "text": [
      "num changed from 5 to 2\n"
     ]
    }
   ],
   "source": [
    "e=TraitletsExample()\n",
    "e.num=2\n"
   ]
  },
  {
   "cell_type": "code",
   "execution_count": 3,
   "metadata": {
    "nbpresent": {
     "id": "00d8f902-943f-445e-942f-f2479a7bd1d2"
    }
   },
   "outputs": [],
   "source": [
    "TraitletsExample.num=7\n"
   ]
  },
  {
   "cell_type": "code",
   "execution_count": 4,
   "metadata": {
    "nbpresent": {
     "id": "50956f23-6d2d-4f38-b2d3-aba877d1b77c"
    }
   },
   "outputs": [],
   "source": [
    "e.num=2"
   ]
  },
  {
   "cell_type": "code",
   "execution_count": 7,
   "metadata": {
    "nbpresent": {
     "id": "0aebf350-27f7-4182-a5da-06d1351bf5c0"
    }
   },
   "outputs": [
    {
     "name": "stdout",
     "output_type": "stream",
     "text": [
      "7\n",
      "7\n"
     ]
    }
   ],
   "source": [
    "print(e.num)\n",
    "print(TraitletsExample.num)"
   ]
  },
  {
   "cell_type": "code",
   "execution_count": 25,
   "metadata": {
    "nbpresent": {
     "id": "7a3e3c63-26d3-4b8b-a6c6-f1c75f6cb0fe"
    }
   },
   "outputs": [],
   "source": [
    "from gui.Workflow import Step\n",
    "import ipywidgets as widgets\n",
    "from IPython.core.display import display, clear_output\n",
    "class PreviousNext(Step):\n",
    "\tdef __init__(self, show_previous=True, show_next=True):\n",
    "\t\tsuper().__init__()\n",
    "\t\tself.show_previous = show_previous\n",
    "\t\tself.show_next = show_next\n",
    "\t\tself.box = self.createBox()\n",
    "\t\tpass\n",
    "\n",
    "\tdef start(self):\n",
    "\t\tclear_output()\n",
    "\t\tdisplay(self.box)\n",
    "\t\tpass\n",
    "\n",
    "\tdef createBox(self):\n",
    "\t\trows = [widgets.Label(value=' ', layout=widgets.Layout(height='10px')),\n",
    "\t\t\t\tself.addSeparator(),\n",
    "\t\t\t\tself.addPreviousNext(self.show_previous, self.show_next)]\n",
    "\t\treturn widgets.VBox(rows)\n",
    "\n",
    "\tdef addSeparator(self):\n",
    "\t\tseparator = widgets.IntProgress(min=0, max=1, value=1, layout=widgets.Layout(left='1%', width='98%', height='10px'))\n",
    "\t\tseparator.style.bar_color = 'GAINSBORO'\n",
    "\t\treturn separator\n",
    "\n",
    "\tdef addPreviousNext(self, show_previous, show_next):\n",
    "\t\tmy_buttons = []\n",
    "\t\tif show_previous:\n",
    "\t\t\tprevious_button = widgets.Button(description='Previous', layout=widgets.Layout(width='90px'))\n",
    "\t\t\tprevious_button.style.button_color = 'SILVER'\n",
    "\t\t\tprevious_button.on_click(self.goBack())\n",
    "\t\t\tmy_buttons.append(previous_button)\n",
    "\n",
    "\t\tif show_next:\n",
    "\t\t\tnext_button = widgets.Button(description='Next', layout=widgets.Layout(width='90px', left='100px'))\n",
    "\t\t\tnext_button.style.button_color = 'SANDYBROWN'\n",
    "\t\t\tnext_button.on_click(self.complete())\n",
    "\t\t\tmy_buttons.append(next_button)\n",
    "\t\treturn widgets.HBox(my_buttons, layout=widgets.Layout(left='10%', width='80%'))\n"
   ]
  },
  {
   "cell_type": "code",
   "execution_count": 4,
   "metadata": {
    "nbpresent": {
     "id": "d28f546d-4f94-4e9d-ade4-6b467b734deb"
    }
   },
   "outputs": [],
   "source": [
    "# from gui.CustomWidgets import PreviousNext\n",
    "b=PreviousNext()\n",
    "b.start()"
   ]
  },
  {
   "cell_type": "code",
   "execution_count": 9,
   "metadata": {
    "nbpresent": {
     "id": "82c881b9-131a-42a5-a3ad-37757bf11f76"
    }
   },
   "outputs": [],
   "source": [
    "import ipywidgets as widgets\n",
    "from traitlets import Unicode, validate\n",
    "\n",
    "\n",
    "class HelloWidget(widgets.DOMWidget):\n",
    "    _view_name = Unicode('HelloView').tag(sync=True)\n",
    "    _view_module = Unicode('hello').tag(sync=True)\n",
    "    _view_module_version = Unicode('0.1.0').tag(sync=True)\n",
    "    value = Unicode('Hello World!').tag(sync=True)"
   ]
  },
  {
   "cell_type": "code",
   "execution_count": 10,
   "metadata": {
    "nbpresent": {
     "id": "821846c0-087b-4b82-9db2-3a49389bb101"
    }
   },
   "outputs": [
    {
     "data": {
      "application/javascript": [
       "require.undef('hello');\n",
       "\n",
       "define('hello', [\"@jupyter-widgets/base\"], function(widgets) {\n",
       "\n",
       "    var HelloView = widgets.DOMWidgetView.extend({\n",
       "\n",
       "        render: function() {\n",
       "            this.value_changed();\n",
       "            this.model.on('change:value', this.value_changed, this);\n",
       "        },\n",
       "\n",
       "        value_changed: function() {\n",
       "            this.el.textContent = this.model.get('value');\n",
       "        },\n",
       "    });\n",
       "\n",
       "    return {\n",
       "        HelloView : HelloView\n",
       "    };\n",
       "});"
      ],
      "text/plain": [
       "<IPython.core.display.Javascript object>"
      ]
     },
     "metadata": {},
     "output_type": "display_data"
    }
   ],
   "source": [
    "%%javascript\n",
    "require.undef('hello');\n",
    "\n",
    "define('hello', [\"@jupyter-widgets/base\"], function(widgets) {\n",
    "\n",
    "    var HelloView = widgets.DOMWidgetView.extend({\n",
    "\n",
    "        render: function() {\n",
    "            this.value_changed();\n",
    "            this.model.on('change:value', this.value_changed, this);\n",
    "        },\n",
    "\n",
    "        value_changed: function() {\n",
    "            this.el.textContent = this.model.get('value');\n",
    "        },\n",
    "    });\n",
    "\n",
    "    return {\n",
    "        HelloView : HelloView\n",
    "    };\n",
    "});"
   ]
  },
  {
   "cell_type": "code",
   "execution_count": 11,
   "metadata": {
    "nbpresent": {
     "id": "18ea21fc-7c82-4418-a02d-7c284efcbd21"
    }
   },
   "outputs": [
    {
     "data": {
      "application/vnd.jupyter.widget-view+json": {
       "model_id": "90af6eef24f243ba90ae8732403ef952",
       "version_major": 2,
       "version_minor": 0
      },
      "text/html": [
       "<p>Failed to display Jupyter Widget of type <code>HelloWidget</code>.</p>\n",
       "<p>\n",
       "  If you're reading this message in the Jupyter Notebook or JupyterLab Notebook, it may mean\n",
       "  that the widgets JavaScript is still loading. If this message persists, it\n",
       "  likely means that the widgets JavaScript library is either not installed or\n",
       "  not enabled. See the <a href=\"https://ipywidgets.readthedocs.io/en/stable/user_install.html\">Jupyter\n",
       "  Widgets Documentation</a> for setup instructions.\n",
       "</p>\n",
       "<p>\n",
       "  If you're reading this message in another frontend (for example, a static\n",
       "  rendering on GitHub or <a href=\"https://nbviewer.jupyter.org/\">NBViewer</a>),\n",
       "  it may mean that your frontend doesn't currently support widgets.\n",
       "</p>\n"
      ],
      "text/plain": [
       "HelloWidget()"
      ]
     },
     "metadata": {},
     "output_type": "display_data"
    }
   ],
   "source": [
    "w = HelloWidget()\n",
    "w"
   ]
  },
  {
   "cell_type": "code",
   "execution_count": 15,
   "metadata": {
    "nbpresent": {
     "id": "07b364c2-c5d8-402f-b398-99ccee0c37d0"
    }
   },
   "outputs": [],
   "source": [
    "w.value = 'dao'"
   ]
  },
  {
   "cell_type": "code",
   "execution_count": 14,
   "metadata": {
    "nbpresent": {
     "id": "270d2285-faab-4f22-a98c-df75fd7353e4"
    }
   },
   "outputs": [
    {
     "data": {
      "application/vnd.jupyter.widget-view+json": {
       "model_id": "90af6eef24f243ba90ae8732403ef952",
       "version_major": 2,
       "version_minor": 0
      },
      "text/html": [
       "<p>Failed to display Jupyter Widget of type <code>HelloWidget</code>.</p>\n",
       "<p>\n",
       "  If you're reading this message in the Jupyter Notebook or JupyterLab Notebook, it may mean\n",
       "  that the widgets JavaScript is still loading. If this message persists, it\n",
       "  likely means that the widgets JavaScript library is either not installed or\n",
       "  not enabled. See the <a href=\"https://ipywidgets.readthedocs.io/en/stable/user_install.html\">Jupyter\n",
       "  Widgets Documentation</a> for setup instructions.\n",
       "</p>\n",
       "<p>\n",
       "  If you're reading this message in another frontend (for example, a static\n",
       "  rendering on GitHub or <a href=\"https://nbviewer.jupyter.org/\">NBViewer</a>),\n",
       "  it may mean that your frontend doesn't currently support widgets.\n",
       "</p>\n"
      ],
      "text/plain": [
       "HelloWidget(value='test')"
      ]
     },
     "metadata": {},
     "output_type": "display_data"
    }
   ],
   "source": [
    "w"
   ]
  },
  {
   "cell_type": "code",
   "execution_count": null,
   "metadata": {
    "nbpresent": {
     "id": "102c68c6-14b6-4175-a55e-143f520ac85b"
    }
   },
   "outputs": [],
   "source": []
  }
 ],
 "metadata": {
  "kernelspec": {
   "display_name": "Python [default]",
   "language": "python",
   "name": "python3"
  },
  "language_info": {
   "codemirror_mode": {
    "name": "ipython",
    "version": 3
   },
   "file_extension": ".py",
   "mimetype": "text/x-python",
   "name": "python",
   "nbconvert_exporter": "python",
   "pygments_lexer": "ipython3",
   "version": "3.6.3"
  }
 },
 "nbformat": 4,
 "nbformat_minor": 2
}
