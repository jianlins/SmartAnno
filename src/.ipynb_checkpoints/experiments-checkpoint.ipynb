{
 "cells": [
  {
   "cell_type": "code",
   "execution_count": 15,
   "metadata": {},
   "outputs": [
    {
     "ename": "SyntaxError",
     "evalue": "invalid syntax (<ipython-input-15-bc7ee87b5f5c>, line 15)",
     "output_type": "error",
     "traceback": [
      "\u001b[0;36m  File \u001b[0;32m\"<ipython-input-15-bc7ee87b5f5c>\"\u001b[0;36m, line \u001b[0;32m15\u001b[0m\n\u001b[0;31m    traitlets.link((self.'options'), (self._selection_obj, 'options'))\u001b[0m\n\u001b[0m                                 ^\u001b[0m\n\u001b[0;31mSyntaxError\u001b[0m\u001b[0;31m:\u001b[0m invalid syntax\n"
     ]
    }
   ],
   "source": [
    "import traitlets\n",
    "from traitlets import observe\n",
    "from IPython.core.display import display, clear_output, Javascript\n",
    "import ipywidgets as widgets\n",
    "class ToggleButtonsMulti(widgets.ToggleButton):\n",
    "\t\"\"\"adopted from\n",
    "\thttps://gist.github.com/aplavin/19f3607240c4c0a63cb1d223609ddc3b#file-mywidgets-py-L69\"\"\"\n",
    "\tdescription = traitlets.Unicode()\n",
    "\tvalue = traitlets.Tuple()\n",
    "\toptions = traitlets.Union([traitlets.List(), traitlets.Dict()])\n",
    "\n",
    "\tdef __init__(self, **kwargs):\n",
    "\t\tsuper().__init__(**kwargs)\n",
    "\t\tself._selection_obj = widgets.widget_selection._MultipleSelection()\n",
    "\t\ttraitlets.link((self.'options'), (self._selection_obj, 'options'))\n",
    "\t\ttraitlets.link((self. 'value'), (self._selection_obj, 'value'))\n",
    "\n",
    "\t\t@observe('options')\n",
    "\t\tdef _(*_):\n",
    "\t\t\tself.buttons = [widgets.ToggleButton(description=label,\n",
    "\t\t\t\t\t\t\t\t\t\t\t\t layout=widgets.Layout(margin='0', width='auto'))\n",
    "\t\t\t\t\t\t\tfor label in self._selection_obj._options_labels]\n",
    "\t\t\tself.children = self.buttons\n",
    "\n",
    "\t\t\t@observe('value')\n",
    "\t\t\tdef _(*_):\n",
    "\t\t\t\tfor btn in self.buttons:\n",
    "\t\t\t\t\tbtn.button_style = 'primary' if btn.value else ''\n",
    "\t\t\t\tself.value = tuple(value\n",
    "\t\t\t\t\t\t\t\t   for btn, value in zip(self.buttons, self._selection_obj._options_values)\n",
    "\t\t\t\t\t\t\t\t   if btn.value)\n",
    "\n",
    "\t\tself.add_class('btn-group')\n",
    "\n",
    "\tdef reset(self):\n",
    "\t\topts = self.options\n",
    "\t\tself.options = []\n",
    "\t\tself.options = opts\n"
   ]
  },
  {
   "cell_type": "code",
   "execution_count": 16,
   "metadata": {},
   "outputs": [
    {
     "ename": "TypeError",
     "evalue": "trait names to observe must be strings or All, not ToggleButtonsMulti(value=())",
     "output_type": "error",
     "traceback": [
      "\u001b[0;31m---------------------------------------------------------------------------\u001b[0m",
      "\u001b[0;31mTypeError\u001b[0m                                 Traceback (most recent call last)",
      "\u001b[0;32m<ipython-input-16-6434169a1ed9>\u001b[0m in \u001b[0;36m<module>\u001b[0;34m()\u001b[0m\n\u001b[1;32m      1\u001b[0m \u001b[0moptions\u001b[0m\u001b[0;34m=\u001b[0m\u001b[0;34m[\u001b[0m\u001b[0;34m'a'\u001b[0m\u001b[0;34m,\u001b[0m\u001b[0;34m'b'\u001b[0m\u001b[0;34m,\u001b[0m\u001b[0;34m'c'\u001b[0m\u001b[0;34m,\u001b[0m\u001b[0;34m'd'\u001b[0m\u001b[0;34m,\u001b[0m\u001b[0;34m'e'\u001b[0m\u001b[0;34m,\u001b[0m\u001b[0;34m'f'\u001b[0m\u001b[0;34m,\u001b[0m\u001b[0;34m'g'\u001b[0m\u001b[0;34m,\u001b[0m\u001b[0;34m'h'\u001b[0m\u001b[0;34m,\u001b[0m\u001b[0;34m'i'\u001b[0m\u001b[0;34m]\u001b[0m\u001b[0;34m\u001b[0m\u001b[0m\n\u001b[0;32m----> 2\u001b[0;31m \u001b[0mToggleButtonsMulti\u001b[0m\u001b[0;34m(\u001b[0m\u001b[0moptions\u001b[0m\u001b[0;34m=\u001b[0m\u001b[0moptions\u001b[0m\u001b[0;34m)\u001b[0m\u001b[0;34m\u001b[0m\u001b[0m\n\u001b[0m",
      "\u001b[0;32m<ipython-input-13-fddfa9fc99be>\u001b[0m in \u001b[0;36m__init__\u001b[0;34m(self, **kwargs)\u001b[0m\n\u001b[1;32m     16\u001b[0m                 \u001b[0mtraitlets\u001b[0m\u001b[0;34m.\u001b[0m\u001b[0mlink\u001b[0m\u001b[0;34m(\u001b[0m\u001b[0;34m(\u001b[0m\u001b[0mself\u001b[0m\u001b[0;34m,\u001b[0m \u001b[0;34m'value'\u001b[0m\u001b[0;34m)\u001b[0m\u001b[0;34m,\u001b[0m \u001b[0;34m(\u001b[0m\u001b[0mself\u001b[0m\u001b[0;34m.\u001b[0m\u001b[0m_selection_obj\u001b[0m\u001b[0;34m,\u001b[0m \u001b[0;34m'value'\u001b[0m\u001b[0;34m)\u001b[0m\u001b[0;34m)\u001b[0m\u001b[0;34m\u001b[0m\u001b[0m\n\u001b[1;32m     17\u001b[0m \u001b[0;34m\u001b[0m\u001b[0m\n\u001b[0;32m---> 18\u001b[0;31m                 \u001b[0;34m@\u001b[0m\u001b[0mobserve\u001b[0m\u001b[0;34m(\u001b[0m\u001b[0mself\u001b[0m\u001b[0;34m,\u001b[0m\u001b[0;34m'options'\u001b[0m\u001b[0;34m)\u001b[0m\u001b[0;34m\u001b[0m\u001b[0m\n\u001b[0m\u001b[1;32m     19\u001b[0m                 \u001b[0;32mdef\u001b[0m \u001b[0m_\u001b[0m\u001b[0;34m(\u001b[0m\u001b[0;34m*\u001b[0m\u001b[0m_\u001b[0m\u001b[0;34m)\u001b[0m\u001b[0;34m:\u001b[0m\u001b[0;34m\u001b[0m\u001b[0m\n\u001b[1;32m     20\u001b[0m \t\t\tself.buttons = [widgets.ToggleButton(description=label,\n",
      "\u001b[0;32m~/local/software/anaconda3/envs/keras/lib/python3.6/site-packages/traitlets/traitlets.py\u001b[0m in \u001b[0;36mobserve\u001b[0;34m(*names, **kwargs)\u001b[0m\n\u001b[1;32m    786\u001b[0m     \u001b[0;32mfor\u001b[0m \u001b[0mname\u001b[0m \u001b[0;32min\u001b[0m \u001b[0mnames\u001b[0m\u001b[0;34m:\u001b[0m\u001b[0;34m\u001b[0m\u001b[0m\n\u001b[1;32m    787\u001b[0m         \u001b[0;32mif\u001b[0m \u001b[0mname\u001b[0m \u001b[0;32mis\u001b[0m \u001b[0;32mnot\u001b[0m \u001b[0mAll\u001b[0m \u001b[0;32mand\u001b[0m \u001b[0;32mnot\u001b[0m \u001b[0misinstance\u001b[0m\u001b[0;34m(\u001b[0m\u001b[0mname\u001b[0m\u001b[0;34m,\u001b[0m \u001b[0msix\u001b[0m\u001b[0;34m.\u001b[0m\u001b[0mstring_types\u001b[0m\u001b[0;34m)\u001b[0m\u001b[0;34m:\u001b[0m\u001b[0;34m\u001b[0m\u001b[0m\n\u001b[0;32m--> 788\u001b[0;31m             \u001b[0;32mraise\u001b[0m \u001b[0mTypeError\u001b[0m\u001b[0;34m(\u001b[0m\u001b[0;34m\"trait names to observe must be strings or All, not %r\"\u001b[0m \u001b[0;34m%\u001b[0m \u001b[0mname\u001b[0m\u001b[0;34m)\u001b[0m\u001b[0;34m\u001b[0m\u001b[0m\n\u001b[0m\u001b[1;32m    789\u001b[0m     \u001b[0;32mreturn\u001b[0m \u001b[0mObserveHandler\u001b[0m\u001b[0;34m(\u001b[0m\u001b[0mnames\u001b[0m\u001b[0;34m,\u001b[0m \u001b[0mtype\u001b[0m\u001b[0;34m=\u001b[0m\u001b[0mkwargs\u001b[0m\u001b[0;34m.\u001b[0m\u001b[0mget\u001b[0m\u001b[0;34m(\u001b[0m\u001b[0;34m'type'\u001b[0m\u001b[0;34m,\u001b[0m \u001b[0;34m'change'\u001b[0m\u001b[0;34m)\u001b[0m\u001b[0;34m)\u001b[0m\u001b[0;34m\u001b[0m\u001b[0m\n\u001b[1;32m    790\u001b[0m \u001b[0;34m\u001b[0m\u001b[0m\n",
      "\u001b[0;31mTypeError\u001b[0m: trait names to observe must be strings or All, not ToggleButtonsMulti(value=())"
     ]
    }
   ],
   "source": [
    "options=['a','b','c','d','e','f','g','h','i']\n",
    "ToggleButtonsMulti(options=options)"
   ]
  },
  {
   "cell_type": "code",
   "execution_count": null,
   "metadata": {},
   "outputs": [],
   "source": [
    "from tkinter import filedialog\n",
    "from tkinter import *\n",
    " \n",
    "root = Tk()\n",
    "root.filename =  filedialog.askdirectory(initialdir = \"./\",title = \"Select import data direcotry\")\n",
    "print (root.filename)\n"
   ]
  },
  {
   "cell_type": "code",
   "execution_count": null,
   "metadata": {},
   "outputs": [],
   "source": [
    "import ipywidgets as widgets\n",
    "toggle=widgets.ToggleButtons(\n",
    "    options=['Slow', 'Regular', 'Fast'],\n",
    "    description='Speed:',\n",
    "    disabled=False,\n",
    "    button_style='', # 'success', 'info', 'warning', 'danger' or ''\n",
    "    tooltips=['Description of slow', 'Description of regular', 'Description of fast'],\n",
    "#     icons=['check'] * 3\n",
    ")\n",
    "\n"
   ]
  },
  {
   "cell_type": "code",
   "execution_count": null,
   "metadata": {
    "scrolled": true
   },
   "outputs": [],
   "source": [
    "display(toggle)\n",
    "def on_click(change):\n",
    "    print(change['new'])\n",
    "\n",
    "a=toggle.observe(on_click, 'value')\n"
   ]
  },
  {
   "cell_type": "code",
   "execution_count": null,
   "metadata": {},
   "outputs": [],
   "source": [
    "a"
   ]
  },
  {
   "cell_type": "code",
   "execution_count": 3,
   "metadata": {},
   "outputs": [],
   "source": [
    "from gui.Workflow import Step\n",
    "import ipywidgets as widgets\n",
    "from IPython.core.display import display, clear_output\n",
    "class PreviousNext(Step):\n",
    "\tdef __init__(self, show_previous=True, show_next=True):\n",
    "\t\tsuper().__init__()\n",
    "\t\tself.show_previous = show_previous\n",
    "\t\tself.show_next = show_next\n",
    "\t\tself.box = self.createBox()\n",
    "\t\tpass\n",
    "\n",
    "\tdef start(self):\n",
    "\t\tclear_output()\n",
    "\t\tdisplay(self.box)\n",
    "\t\tpass\n",
    "\n",
    "\tdef createBox(self):\n",
    "\t\trows = [widgets.Label(value=' ', layout=widgets.Layout(height='10px')),\n",
    "\t\t\t\tself.addSeparator(),\n",
    "\t\t\t\tself.addPreviousNext(self.show_previous, self.show_next)]\n",
    "\t\treturn widgets.VBox(rows)\n",
    "\n",
    "\tdef addSeparator(self):\n",
    "\t\tseparator = widgets.IntProgress(min=0, max=1, value=1, layout=widgets.Layout(left='1%', width='98%', height='10px'))\n",
    "\t\tseparator.style.bar_color = 'GAINSBORO'\n",
    "\t\treturn separator\n",
    "\n",
    "\tdef addPreviousNext(self, show_previous, show_next):\n",
    "\t\tmy_buttons = []\n",
    "\t\tif show_previous:\n",
    "\t\t\tprevious_button = widgets.Button(description='Previous', layout=widgets.Layout(width='90px'))\n",
    "\t\t\tprevious_button.style.button_color = 'SILVER'\n",
    "\t\t\tprevious_button.on_click(self.goBack())\n",
    "\t\t\tmy_buttons.append(previous_button)\n",
    "\n",
    "\t\tif show_next:\n",
    "\t\t\tnext_button = widgets.Button(description='Next', layout=widgets.Layout(width='90px', left='100px'))\n",
    "\t\t\tnext_button.style.button_color = 'SANDYBROWN'\n",
    "\t\t\tnext_button.on_click(self.complete())\n",
    "\t\t\tmy_buttons.append(next_button)\n",
    "\t\treturn widgets.HBox(my_buttons, layout=widgets.Layout(left='10%', width='80%'))\n"
   ]
  },
  {
   "cell_type": "code",
   "execution_count": 4,
   "metadata": {},
   "outputs": [],
   "source": [
    "# from gui.CustomWidgets import PreviousNext\n",
    "b=PreviousNext()\n",
    "b.start()"
   ]
  }
 ],
 "metadata": {
  "kernelspec": {
   "display_name": "Python 3",
   "language": "python",
   "name": "python3"
  },
  "language_info": {
   "codemirror_mode": {
    "name": "ipython",
    "version": 3
   },
   "file_extension": ".py",
   "mimetype": "text/x-python",
   "name": "python",
   "nbconvert_exporter": "python",
   "pygments_lexer": "ipython3",
   "version": "3.6.3"
  }
 },
 "nbformat": 4,
 "nbformat_minor": 2
}
