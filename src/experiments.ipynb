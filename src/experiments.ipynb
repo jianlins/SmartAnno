{
 "cells": [
  {
   "cell_type": "code",
   "execution_count": 25,
   "metadata": {},
   "outputs": [],
   "source": [
    "import traitlets\n",
    "from traitlets import observe\n",
    "from IPython.core.display import display, clear_output, Javascript\n",
    "import ipywidgets as widgets\n",
    "class ToggleButtonsMulti(widgets.ToggleButton):\n",
    "    \"\"\"adopted from\n",
    "    https://gist.github.com/aplavin/19f3607240c4c0a63cb1d223609ddc3b#file-mywidgets-py-L69\"\"\"\n",
    "    description = traitlets.Unicode()\n",
    "    value = traitlets.Tuple()\n",
    "    options = traitlets.Union([traitlets.List(), traitlets.Dict()])\n",
    "\n",
    "    def __init__(self, **kwargs):\n",
    "        super().__init__(**kwargs)\n",
    "        self._selection_obj = widgets.widget_selection._MultipleSelection()\n",
    "        traitlets.link((self,'options'), (self._selection_obj, 'options'))\n",
    "        traitlets.link((self, 'value'), (self._selection_obj, 'value'))\n",
    "        print(self._selection_obj)\n",
    "\n",
    "        @observe('options')\n",
    "        def _(*_):            \n",
    "            self.buttons = [widgets.ToggleButton(description=label,\n",
    "                                                 layout=widgets.Layout(margin='0', width='auto'))\n",
    "                            for label in self._selection_obj.options]\n",
    "            self.children = self.buttons\n",
    "\n",
    "        @observe('value')\n",
    "        def _(*_):\n",
    "            for btn in self.buttons:\n",
    "                btn.button_style = 'primary' if btn.value else ''\n",
    "            self.value = tuple(value\n",
    "                               for btn, value in zip(self.buttons, self._selection_obj._options_values)\n",
    "                               if btn.value)\n",
    "\n",
    "        self.add_class('btn-group')\n",
    "\n",
    "    def reset(self):\n",
    "        opts = self.options\n",
    "        self.options = []\n",
    "        self.options = opts\n"
   ]
  },
  {
   "cell_type": "code",
   "execution_count": 26,
   "metadata": {},
   "outputs": [
    {
     "name": "stdout",
     "output_type": "stream",
     "text": [
      "_MultipleSelection(options=('a', 'b', 'c', 'd', 'e', 'f', 'g', 'h', 'i'), value=())\n"
     ]
    },
    {
     "data": {
      "application/vnd.jupyter.widget-view+json": {
       "model_id": "aa8d65c3d6f340bbba97616cafe9ed9c",
       "version_major": 2,
       "version_minor": 0
      },
      "text/html": [
       "<p>Failed to display Jupyter Widget of type <code>ToggleButtonsMulti</code>.</p>\n",
       "<p>\n",
       "  If you're reading this message in the Jupyter Notebook or JupyterLab Notebook, it may mean\n",
       "  that the widgets JavaScript is still loading. If this message persists, it\n",
       "  likely means that the widgets JavaScript library is either not installed or\n",
       "  not enabled. See the <a href=\"https://ipywidgets.readthedocs.io/en/stable/user_install.html\">Jupyter\n",
       "  Widgets Documentation</a> for setup instructions.\n",
       "</p>\n",
       "<p>\n",
       "  If you're reading this message in another frontend (for example, a static\n",
       "  rendering on GitHub or <a href=\"https://nbviewer.jupyter.org/\">NBViewer</a>),\n",
       "  it may mean that your frontend doesn't currently support widgets.\n",
       "</p>\n"
      ],
      "text/plain": [
       "ToggleButtonsMulti(value=(), _dom_classes=('btn-group',))"
      ]
     },
     "metadata": {},
     "output_type": "display_data"
    }
   ],
   "source": [
    "options=['a','b','c','d','e','f','g','h','i']\n",
    "ToggleButtonsMulti(options=options)"
   ]
  },
  {
   "cell_type": "code",
   "execution_count": null,
   "metadata": {},
   "outputs": [],
   "source": [
    "from tkinter import filedialog\n",
    "from tkinter import *\n",
    " \n",
    "root = Tk()\n",
    "root.filename =  filedialog.askdirectory(initialdir = \"./\",title = \"Select import data direcotry\")\n",
    "print (root.filename)\n"
   ]
  },
  {
   "cell_type": "code",
   "execution_count": null,
   "metadata": {},
   "outputs": [],
   "source": [
    "import ipywidgets as widgets\n",
    "toggle=widgets.ToggleButtons(\n",
    "    options=['Slow', 'Regular', 'Fast'],\n",
    "    description='Speed:',\n",
    "    disabled=False,\n",
    "    button_style='', # 'success', 'info', 'warning', 'danger' or ''\n",
    "    tooltips=['Description of slow', 'Description of regular', 'Description of fast'],\n",
    "#     icons=['check'] * 3\n",
    ")\n",
    "\n"
   ]
  },
  {
   "cell_type": "code",
   "execution_count": null,
   "metadata": {
    "scrolled": true
   },
   "outputs": [],
   "source": [
    "display(toggle)\n",
    "def on_click(change):\n",
    "    print(change['new'])\n",
    "\n",
    "a=toggle.observe(on_click, 'value')\n"
   ]
  },
  {
   "cell_type": "code",
   "execution_count": null,
   "metadata": {},
   "outputs": [],
   "source": [
    "a"
   ]
  },
  {
   "cell_type": "code",
   "execution_count": 3,
   "metadata": {},
   "outputs": [],
   "source": [
    "from gui.Workflow import Step\n",
    "import ipywidgets as widgets\n",
    "from IPython.core.display import display, clear_output\n",
    "class PreviousNext(Step):\n",
    "\tdef __init__(self, show_previous=True, show_next=True):\n",
    "\t\tsuper().__init__()\n",
    "\t\tself.show_previous = show_previous\n",
    "\t\tself.show_next = show_next\n",
    "\t\tself.box = self.createBox()\n",
    "\t\tpass\n",
    "\n",
    "\tdef start(self):\n",
    "\t\tclear_output()\n",
    "\t\tdisplay(self.box)\n",
    "\t\tpass\n",
    "\n",
    "\tdef createBox(self):\n",
    "\t\trows = [widgets.Label(value=' ', layout=widgets.Layout(height='10px')),\n",
    "\t\t\t\tself.addSeparator(),\n",
    "\t\t\t\tself.addPreviousNext(self.show_previous, self.show_next)]\n",
    "\t\treturn widgets.VBox(rows)\n",
    "\n",
    "\tdef addSeparator(self):\n",
    "\t\tseparator = widgets.IntProgress(min=0, max=1, value=1, layout=widgets.Layout(left='1%', width='98%', height='10px'))\n",
    "\t\tseparator.style.bar_color = 'GAINSBORO'\n",
    "\t\treturn separator\n",
    "\n",
    "\tdef addPreviousNext(self, show_previous, show_next):\n",
    "\t\tmy_buttons = []\n",
    "\t\tif show_previous:\n",
    "\t\t\tprevious_button = widgets.Button(description='Previous', layout=widgets.Layout(width='90px'))\n",
    "\t\t\tprevious_button.style.button_color = 'SILVER'\n",
    "\t\t\tprevious_button.on_click(self.goBack())\n",
    "\t\t\tmy_buttons.append(previous_button)\n",
    "\n",
    "\t\tif show_next:\n",
    "\t\t\tnext_button = widgets.Button(description='Next', layout=widgets.Layout(width='90px', left='100px'))\n",
    "\t\t\tnext_button.style.button_color = 'SANDYBROWN'\n",
    "\t\t\tnext_button.on_click(self.complete())\n",
    "\t\t\tmy_buttons.append(next_button)\n",
    "\t\treturn widgets.HBox(my_buttons, layout=widgets.Layout(left='10%', width='80%'))\n"
   ]
  },
  {
   "cell_type": "code",
   "execution_count": 4,
   "metadata": {},
   "outputs": [],
   "source": [
    "# from gui.CustomWidgets import PreviousNext\n",
    "b=PreviousNext()\n",
    "b.start()"
   ]
  }
 ],
 "metadata": {
  "kernelspec": {
   "display_name": "Python 3",
   "language": "python",
   "name": "python3"
  },
  "language_info": {
   "codemirror_mode": {
    "name": "ipython",
    "version": 3
   },
   "file_extension": ".py",
   "mimetype": "text/x-python",
   "name": "python",
   "nbconvert_exporter": "python",
   "pygments_lexer": "ipython3",
   "version": "3.6.3"
  }
 },
 "nbformat": 4,
 "nbformat_minor": 2
}
