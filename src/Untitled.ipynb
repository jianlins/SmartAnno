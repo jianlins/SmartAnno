{
 "cells": [
  {
   "cell_type": "code",
   "execution_count": 6,
   "metadata": {},
   "outputs": [],
   "source": [
    "from gui.GUI import GUI\n",
    "gui=GUI()\n"
   ]
  },
  {
   "cell_type": "code",
   "execution_count": 7,
   "metadata": {
    "scrolled": true
   },
   "outputs": [
    {
     "data": {
      "application/vnd.jupyter.widget-view+json": {
       "model_id": "7fb3d82fcf084f78a63e30b241ff8781",
       "version_major": 2,
       "version_minor": 0
      },
      "text/html": [
       "<p>Failed to display Jupyter Widget of type <code>VBox</code>.</p>\n",
       "<p>\n",
       "  If you're reading this message in the Jupyter Notebook or JupyterLab Notebook, it may mean\n",
       "  that the widgets JavaScript is still loading. If this message persists, it\n",
       "  likely means that the widgets JavaScript library is either not installed or\n",
       "  not enabled. See the <a href=\"https://ipywidgets.readthedocs.io/en/stable/user_install.html\">Jupyter\n",
       "  Widgets Documentation</a> for setup instructions.\n",
       "</p>\n",
       "<p>\n",
       "  If you're reading this message in another frontend (for example, a static\n",
       "  rendering on GitHub or <a href=\"https://nbviewer.jupyter.org/\">NBViewer</a>),\n",
       "  it may mean that your frontend doesn't currently support widgets.\n",
       "</p>\n"
      ],
      "text/plain": [
       "VBox(children=(HTML(value=\"<p><b>Welcome to SmartAnno!<br/>First let's import txt data from a directory. </p><br/>\"), Label(value='', layout=Layout(height='10px')), IntProgress(value=1, layout=Layout(height='10px', left='1%', width='98%'), max=1, style=ProgressStyle(bar_color='GAINSBORO')), Label(value='', layout=Layout(height='1px')), HBox(children=(Button(description='Next', layout=Layout(left='100px', width='90px'), style=ButtonStyle(button_color='SANDYBROWN')),), layout=Layout(left='10%', width='80%'))), layout=Layout(display='flex'))"
      ]
     },
     "metadata": {},
     "output_type": "display_data"
    }
   ],
   "source": [
    "gui.start()"
   ]
  },
  {
   "cell_type": "code",
   "execution_count": 3,
   "metadata": {},
   "outputs": [],
   "source": [
    "from gui.CustomWidgets import PreviousNext\n",
    "from IPython.core.display import display, clear_output\n",
    "import ipywidgets as widgets\n",
    "class PreviousNextTextArea(PreviousNext):\n",
    "\t\"\"\"display a input text field, with optional button: 'submit', 'cancel', and 'finish'\"\"\"\n",
    "\n",
    "\tdef __init__(self, description='Type your words/phrases below', value='', placeholder='each phrase/word per line', width='500px', height='300px',\n",
    "\t\t\t\t show_previous=True,\n",
    "\t\t\t\t show_next=True):\n",
    "\t\tself.data = value.split(\"\\n\")\n",
    "\t\tself.text_area = widgets.Textarea(\n",
    "\t\t\tvalue=value,\n",
    "\t\t\tplaceholder='Type your word',\n",
    "\t\t\tdescription='String:',\n",
    "\t\t\tdisabled=False,\n",
    "\t\t\tlayout=widgets.Layout(width=width, height=height))\n",
    "\t\tself.next_step = None\n",
    "\t\tself.previous_step = None\n",
    "\t\tself.name = ''\n",
    "\t\tself.data = None\n",
    "\t\tself.workflow = None\n",
    "\t\tself.show_previous = show_previous\n",
    "\t\tself.show_next = show_next\n",
    "\t\tself.box=self.createBox()\n",
    "\t\tself.resetParameters()\n",
    "\t\tpass\n",
    "\n",
    "\tdef createBox(self):\n",
    "\t\trows = [self.text_area] + self.addSeparator(top='10px') + [self.addPreviousNext(self.show_previous, self.show_next)]\n",
    "\t\tvbox = widgets.VBox(rows, layout=widgets.Layout(display='flex', flex_grown='column'))\n",
    "\t\treturn vbox\n",
    "\n",
    "\tdef resetParameters(self):\n",
    "\t\tsuper().resetParameters()\n",
    "\t\tself.text_area.value = ''\n",
    "\t\tpass\n",
    "\n",
    "\tdef complete(self):\n",
    "\t\tself.data = [item.strip() for item in self.text_area.value.split(\"\\n\")]\n",
    "\t\tsuper().complete()\n",
    "\t\tpass"
   ]
  },
  {
   "cell_type": "code",
   "execution_count": 4,
   "metadata": {},
   "outputs": [],
   "source": [
    "t=PreviousNextTextArea(\"Type your words below\")"
   ]
  },
  {
   "cell_type": "code",
   "execution_count": 16,
   "metadata": {},
   "outputs": [
    {
     "data": {
      "application/vnd.jupyter.widget-view+json": {
       "model_id": "7716ae57cd304dae8574be2de4471b2c",
       "version_major": 2,
       "version_minor": 0
      },
      "text/html": [
       "<p>Failed to display Jupyter Widget of type <code>VBox</code>.</p>\n",
       "<p>\n",
       "  If you're reading this message in the Jupyter Notebook or JupyterLab Notebook, it may mean\n",
       "  that the widgets JavaScript is still loading. If this message persists, it\n",
       "  likely means that the widgets JavaScript library is either not installed or\n",
       "  not enabled. See the <a href=\"https://ipywidgets.readthedocs.io/en/stable/user_install.html\">Jupyter\n",
       "  Widgets Documentation</a> for setup instructions.\n",
       "</p>\n",
       "<p>\n",
       "  If you're reading this message in another frontend (for example, a static\n",
       "  rendering on GitHub or <a href=\"https://nbviewer.jupyter.org/\">NBViewer</a>),\n",
       "  it may mean that your frontend doesn't currently support widgets.\n",
       "</p>\n"
      ],
      "text/plain": [
       "VBox(children=(Textarea(value='', description='String:', layout=Layout(height='300px', width='500px'), placeholder='Type your word'), Label(value='', layout=Layout(height='10px')), IntProgress(value=1, layout=Layout(height='10px', left='1%', width='98%'), max=1, style=ProgressStyle(bar_color='GAINSBORO')), Label(value='', layout=Layout(height='1px')), HBox(children=(Button(description='Previous', layout=Layout(width='90px'), style=ButtonStyle(button_color='SILVER')), Button(description='Next', layout=Layout(left='100px', width='90px'), style=ButtonStyle(button_color='SANDYBROWN'))), layout=Layout(left='10%', width='80%'))), layout=Layout(display='flex'))"
      ]
     },
     "metadata": {},
     "output_type": "display_data"
    }
   ],
   "source": [
    "t.start()"
   ]
  },
  {
   "cell_type": "code",
   "execution_count": null,
   "metadata": {},
   "outputs": [],
   "source": []
  }
 ],
 "metadata": {
  "kernelspec": {
   "display_name": "Python 3",
   "language": "python",
   "name": "python3"
  },
  "language_info": {
   "codemirror_mode": {
    "name": "ipython",
    "version": 3
   },
   "file_extension": ".py",
   "mimetype": "text/x-python",
   "name": "python",
   "nbconvert_exporter": "python",
   "pygments_lexer": "ipython3",
   "version": "3.6.3"
  }
 },
 "nbformat": 4,
 "nbformat_minor": 2
}
